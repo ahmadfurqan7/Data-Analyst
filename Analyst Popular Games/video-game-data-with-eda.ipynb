{
 "cells": [
  {
   "cell_type": "code",
   "execution_count": 40,
   "id": "2dda23f4",
   "metadata": {},
   "outputs": [],
   "source": [
    "# import modul\n",
    "import pandas as pd\n",
    "import numpy as np"
   ]
  },
  {
   "cell_type": "code",
   "execution_count": 3,
   "id": "1719e5c4",
   "metadata": {
    "execution": {
     "iopub.execute_input": "2024-02-13T14:32:28.446444Z",
     "iopub.status.busy": "2024-02-13T14:32:28.445668Z",
     "iopub.status.idle": "2024-02-13T14:32:28.695466Z",
     "shell.execute_reply": "2024-02-13T14:32:28.694605Z"
    },
    "papermill": {
     "duration": 0.265319,
     "end_time": "2024-02-13T14:32:28.698202",
     "exception": false,
     "start_time": "2024-02-13T14:32:28.432883",
     "status": "completed"
    },
    "tags": []
   },
   "outputs": [
    {
     "data": {
      "text/html": [
       "<div>\n",
       "<style scoped>\n",
       "    .dataframe tbody tr th:only-of-type {\n",
       "        vertical-align: middle;\n",
       "    }\n",
       "\n",
       "    .dataframe tbody tr th {\n",
       "        vertical-align: top;\n",
       "    }\n",
       "\n",
       "    .dataframe thead th {\n",
       "        text-align: right;\n",
       "    }\n",
       "</style>\n",
       "<table border=\"1\" class=\"dataframe\">\n",
       "  <thead>\n",
       "    <tr style=\"text-align: right;\">\n",
       "      <th></th>\n",
       "      <th>Title</th>\n",
       "      <th>Release Date</th>\n",
       "      <th>Developer</th>\n",
       "      <th>Publisher</th>\n",
       "      <th>Genres</th>\n",
       "      <th>Genres Splitted</th>\n",
       "      <th>Product Rating</th>\n",
       "      <th>User Score</th>\n",
       "      <th>User Ratings Count</th>\n",
       "      <th>Platforms Info</th>\n",
       "    </tr>\n",
       "  </thead>\n",
       "  <tbody>\n",
       "    <tr>\n",
       "      <th>0</th>\n",
       "      <td>Ziggurat (2012)</td>\n",
       "      <td>2/17/2012</td>\n",
       "      <td>Action Button Entertainment</td>\n",
       "      <td>Freshuu Inc.</td>\n",
       "      <td>Action</td>\n",
       "      <td>['Action']</td>\n",
       "      <td>NaN</td>\n",
       "      <td>6.9</td>\n",
       "      <td>14.0</td>\n",
       "      <td>[{'Platform': 'iOS (iPhone/iPad)', 'Platform M...</td>\n",
       "    </tr>\n",
       "    <tr>\n",
       "      <th>1</th>\n",
       "      <td>4X4 EVO 2</td>\n",
       "      <td>11/15/2001</td>\n",
       "      <td>Terminal Reality</td>\n",
       "      <td>Gathering</td>\n",
       "      <td>Auto Racing Sim</td>\n",
       "      <td>['Auto', 'Racing', 'Sim']</td>\n",
       "      <td>Rated E For Everyone</td>\n",
       "      <td>NaN</td>\n",
       "      <td>NaN</td>\n",
       "      <td>[{'Platform': 'Xbox', 'Platform Metascore': '5...</td>\n",
       "    </tr>\n",
       "    <tr>\n",
       "      <th>2</th>\n",
       "      <td>MotoGP 2 (2001)</td>\n",
       "      <td>1/22/2002</td>\n",
       "      <td>Namco</td>\n",
       "      <td>Namco</td>\n",
       "      <td>Auto Racing Sim</td>\n",
       "      <td>['Auto', 'Racing', 'Sim']</td>\n",
       "      <td>Rated E For Everyone</td>\n",
       "      <td>5.8</td>\n",
       "      <td>NaN</td>\n",
       "      <td>[{'Platform': 'PlayStation 2', 'Platform Metas...</td>\n",
       "    </tr>\n",
       "    <tr>\n",
       "      <th>3</th>\n",
       "      <td>Gothic 3</td>\n",
       "      <td>11/14/2006</td>\n",
       "      <td>Piranha Bytes</td>\n",
       "      <td>Aspyr</td>\n",
       "      <td>Western RPG</td>\n",
       "      <td>['Western', 'RPG']</td>\n",
       "      <td>Rated T For Teen</td>\n",
       "      <td>7.5</td>\n",
       "      <td>832.0</td>\n",
       "      <td>[{'Platform': 'PC', 'Platform Metascore': '63'...</td>\n",
       "    </tr>\n",
       "    <tr>\n",
       "      <th>4</th>\n",
       "      <td>Siege Survival: Gloria Victis</td>\n",
       "      <td>5/18/2021</td>\n",
       "      <td>FishTankStudio</td>\n",
       "      <td>Black Eye Games</td>\n",
       "      <td>RPG</td>\n",
       "      <td>['RPG']</td>\n",
       "      <td>NaN</td>\n",
       "      <td>6.5</td>\n",
       "      <td>10.0</td>\n",
       "      <td>[{'Platform': 'PC', 'Platform Metascore': '69'...</td>\n",
       "    </tr>\n",
       "    <tr>\n",
       "      <th>...</th>\n",
       "      <td>...</td>\n",
       "      <td>...</td>\n",
       "      <td>...</td>\n",
       "      <td>...</td>\n",
       "      <td>...</td>\n",
       "      <td>...</td>\n",
       "      <td>...</td>\n",
       "      <td>...</td>\n",
       "      <td>...</td>\n",
       "      <td>...</td>\n",
       "    </tr>\n",
       "    <tr>\n",
       "      <th>14050</th>\n",
       "      <td>Dragon Age: Origins - Awakening</td>\n",
       "      <td>3/16/2010</td>\n",
       "      <td>BioWare</td>\n",
       "      <td>Electronic Arts</td>\n",
       "      <td>Western RPG</td>\n",
       "      <td>['Western', 'RPG']</td>\n",
       "      <td>Rated M For Mature</td>\n",
       "      <td>8.0</td>\n",
       "      <td>516.0</td>\n",
       "      <td>[{'Platform': 'PlayStation 3', 'Platform Metas...</td>\n",
       "    </tr>\n",
       "    <tr>\n",
       "      <th>14051</th>\n",
       "      <td>Lover Pretend</td>\n",
       "      <td>12/1/2022</td>\n",
       "      <td>Idea Factory</td>\n",
       "      <td>Aksys Games</td>\n",
       "      <td>Visual Novel</td>\n",
       "      <td>['Visual', 'Novel']</td>\n",
       "      <td>Rated T For Teen</td>\n",
       "      <td>NaN</td>\n",
       "      <td>NaN</td>\n",
       "      <td>[{'Platform': 'Nintendo Switch', 'Platform Met...</td>\n",
       "    </tr>\n",
       "    <tr>\n",
       "      <th>14052</th>\n",
       "      <td>Alice: Madness Returns</td>\n",
       "      <td>6/14/2011</td>\n",
       "      <td>Spicy Horse</td>\n",
       "      <td>Electronic Arts</td>\n",
       "      <td>Survival</td>\n",
       "      <td>['Survival']</td>\n",
       "      <td>Rated M For Mature</td>\n",
       "      <td>8.3</td>\n",
       "      <td>276.0</td>\n",
       "      <td>[{'Platform': 'PC', 'Platform Metascore': '75'...</td>\n",
       "    </tr>\n",
       "    <tr>\n",
       "      <th>14053</th>\n",
       "      <td>Concrete Genie</td>\n",
       "      <td>10/8/2019</td>\n",
       "      <td>Pixel Opus</td>\n",
       "      <td>Sony Interactive Entertainment</td>\n",
       "      <td>Third-Person Adventure</td>\n",
       "      <td>['Third-Person', 'Adventure']</td>\n",
       "      <td>Rated E +10 For Everyone +10</td>\n",
       "      <td>8.1</td>\n",
       "      <td>480.0</td>\n",
       "      <td>[{'Platform': 'PlayStation 4', 'Platform Metas...</td>\n",
       "    </tr>\n",
       "    <tr>\n",
       "      <th>14054</th>\n",
       "      <td>Lemony Snicket's A Series of Unfortunate Event...</td>\n",
       "      <td>11/10/2004</td>\n",
       "      <td>Griptonite Games</td>\n",
       "      <td>Activision</td>\n",
       "      <td>3D Platformer</td>\n",
       "      <td>['3D', 'Platformer']</td>\n",
       "      <td>Rated E For Everyone</td>\n",
       "      <td>NaN</td>\n",
       "      <td>NaN</td>\n",
       "      <td>[{'Platform': 'Game Boy Advance', 'Platform Me...</td>\n",
       "    </tr>\n",
       "  </tbody>\n",
       "</table>\n",
       "<p>14055 rows × 10 columns</p>\n",
       "</div>"
      ],
      "text/plain": [
       "                                                   Title Release Date  \\\n",
       "0                                        Ziggurat (2012)    2/17/2012   \n",
       "1                                              4X4 EVO 2   11/15/2001   \n",
       "2                                        MotoGP 2 (2001)    1/22/2002   \n",
       "3                                               Gothic 3   11/14/2006   \n",
       "4                          Siege Survival: Gloria Victis    5/18/2021   \n",
       "...                                                  ...          ...   \n",
       "14050                    Dragon Age: Origins - Awakening    3/16/2010   \n",
       "14051                                      Lover Pretend    12/1/2022   \n",
       "14052                             Alice: Madness Returns    6/14/2011   \n",
       "14053                                     Concrete Genie    10/8/2019   \n",
       "14054  Lemony Snicket's A Series of Unfortunate Event...   11/10/2004   \n",
       "\n",
       "                         Developer                       Publisher  \\\n",
       "0      Action Button Entertainment                    Freshuu Inc.   \n",
       "1                 Terminal Reality                       Gathering   \n",
       "2                            Namco                           Namco   \n",
       "3                    Piranha Bytes                           Aspyr   \n",
       "4                   FishTankStudio                 Black Eye Games   \n",
       "...                            ...                             ...   \n",
       "14050                      BioWare                 Electronic Arts   \n",
       "14051                 Idea Factory                     Aksys Games   \n",
       "14052                  Spicy Horse                 Electronic Arts   \n",
       "14053                   Pixel Opus  Sony Interactive Entertainment   \n",
       "14054             Griptonite Games                      Activision   \n",
       "\n",
       "                       Genres                Genres Splitted  \\\n",
       "0                      Action                     ['Action']   \n",
       "1             Auto Racing Sim      ['Auto', 'Racing', 'Sim']   \n",
       "2             Auto Racing Sim      ['Auto', 'Racing', 'Sim']   \n",
       "3                 Western RPG             ['Western', 'RPG']   \n",
       "4                         RPG                        ['RPG']   \n",
       "...                       ...                            ...   \n",
       "14050             Western RPG             ['Western', 'RPG']   \n",
       "14051            Visual Novel            ['Visual', 'Novel']   \n",
       "14052                Survival                   ['Survival']   \n",
       "14053  Third-Person Adventure  ['Third-Person', 'Adventure']   \n",
       "14054           3D Platformer           ['3D', 'Platformer']   \n",
       "\n",
       "                     Product Rating  User Score  User Ratings Count  \\\n",
       "0                               NaN         6.9                14.0   \n",
       "1              Rated E For Everyone         NaN                 NaN   \n",
       "2              Rated E For Everyone         5.8                 NaN   \n",
       "3                  Rated T For Teen         7.5               832.0   \n",
       "4                               NaN         6.5                10.0   \n",
       "...                             ...         ...                 ...   \n",
       "14050            Rated M For Mature         8.0               516.0   \n",
       "14051              Rated T For Teen         NaN                 NaN   \n",
       "14052            Rated M For Mature         8.3               276.0   \n",
       "14053  Rated E +10 For Everyone +10         8.1               480.0   \n",
       "14054          Rated E For Everyone         NaN                 NaN   \n",
       "\n",
       "                                          Platforms Info  \n",
       "0      [{'Platform': 'iOS (iPhone/iPad)', 'Platform M...  \n",
       "1      [{'Platform': 'Xbox', 'Platform Metascore': '5...  \n",
       "2      [{'Platform': 'PlayStation 2', 'Platform Metas...  \n",
       "3      [{'Platform': 'PC', 'Platform Metascore': '63'...  \n",
       "4      [{'Platform': 'PC', 'Platform Metascore': '69'...  \n",
       "...                                                  ...  \n",
       "14050  [{'Platform': 'PlayStation 3', 'Platform Metas...  \n",
       "14051  [{'Platform': 'Nintendo Switch', 'Platform Met...  \n",
       "14052  [{'Platform': 'PC', 'Platform Metascore': '75'...  \n",
       "14053  [{'Platform': 'PlayStation 4', 'Platform Metas...  \n",
       "14054  [{'Platform': 'Game Boy Advance', 'Platform Me...  \n",
       "\n",
       "[14055 rows x 10 columns]"
      ]
     },
     "execution_count": 3,
     "metadata": {},
     "output_type": "execute_result"
    }
   ],
   "source": [
    "df=pd.read_csv(\"all_video_games(cleaned).csv\")\n",
    "df"
   ]
  },
  {
   "cell_type": "code",
   "execution_count": 8,
   "id": "f06b2469",
   "metadata": {},
   "outputs": [
    {
     "data": {
      "text/plain": [
       "(14055, 10)"
      ]
     },
     "execution_count": 8,
     "metadata": {},
     "output_type": "execute_result"
    }
   ],
   "source": [
    "## Shape of the dataset\n",
    "df.shape"
   ]
  },
  {
   "cell_type": "code",
   "execution_count": 9,
   "id": "95ebfea7",
   "metadata": {},
   "outputs": [
    {
     "data": {
      "text/plain": [
       "Index(['Title', 'Release Date', 'Developer', 'Publisher', 'Genres',\n",
       "       'Genres Splitted', 'Product Rating', 'User Score', 'User Ratings Count',\n",
       "       'Platforms Info'],\n",
       "      dtype='object')"
      ]
     },
     "execution_count": 9,
     "metadata": {},
     "output_type": "execute_result"
    }
   ],
   "source": [
    "## All the columns in the dataset\n",
    "df.columns"
   ]
  },
  {
   "cell_type": "code",
   "execution_count": 4,
   "id": "347d4a2c",
   "metadata": {
    "execution": {
     "iopub.execute_input": "2024-02-13T14:32:28.725988Z",
     "iopub.status.busy": "2024-02-13T14:32:28.725023Z",
     "iopub.status.idle": "2024-02-13T14:32:28.766906Z",
     "shell.execute_reply": "2024-02-13T14:32:28.765498Z"
    },
    "papermill": {
     "duration": 0.058907,
     "end_time": "2024-02-13T14:32:28.770268",
     "exception": false,
     "start_time": "2024-02-13T14:32:28.711361",
     "status": "completed"
    },
    "tags": []
   },
   "outputs": [
    {
     "name": "stdout",
     "output_type": "stream",
     "text": [
      "<class 'pandas.core.frame.DataFrame'>\n",
      "RangeIndex: 14055 entries, 0 to 14054\n",
      "Data columns (total 10 columns):\n",
      " #   Column              Non-Null Count  Dtype  \n",
      "---  ------              --------------  -----  \n",
      " 0   Title               14034 non-null  object \n",
      " 1   Release Date        13991 non-null  object \n",
      " 2   Developer           13917 non-null  object \n",
      " 3   Publisher           13917 non-null  object \n",
      " 4   Genres              14034 non-null  object \n",
      " 5   Genres Splitted     14034 non-null  object \n",
      " 6   Product Rating      11005 non-null  object \n",
      " 7   User Score          11714 non-null  float64\n",
      " 8   User Ratings Count  11299 non-null  float64\n",
      " 9   Platforms Info      14055 non-null  object \n",
      "dtypes: float64(2), object(8)\n",
      "memory usage: 1.1+ MB\n"
     ]
    }
   ],
   "source": [
    "df.info()"
   ]
  },
  {
   "cell_type": "code",
   "execution_count": 5,
   "id": "08ba7fb4",
   "metadata": {
    "execution": {
     "iopub.execute_input": "2024-02-13T14:32:28.798786Z",
     "iopub.status.busy": "2024-02-13T14:32:28.797997Z",
     "iopub.status.idle": "2024-02-13T14:32:28.820781Z",
     "shell.execute_reply": "2024-02-13T14:32:28.819572Z"
    },
    "papermill": {
     "duration": 0.03886,
     "end_time": "2024-02-13T14:32:28.823259",
     "exception": false,
     "start_time": "2024-02-13T14:32:28.784399",
     "status": "completed"
    },
    "tags": []
   },
   "outputs": [
    {
     "data": {
      "text/html": [
       "<div>\n",
       "<style scoped>\n",
       "    .dataframe tbody tr th:only-of-type {\n",
       "        vertical-align: middle;\n",
       "    }\n",
       "\n",
       "    .dataframe tbody tr th {\n",
       "        vertical-align: top;\n",
       "    }\n",
       "\n",
       "    .dataframe thead th {\n",
       "        text-align: right;\n",
       "    }\n",
       "</style>\n",
       "<table border=\"1\" class=\"dataframe\">\n",
       "  <thead>\n",
       "    <tr style=\"text-align: right;\">\n",
       "      <th></th>\n",
       "      <th>User Score</th>\n",
       "      <th>User Ratings Count</th>\n",
       "    </tr>\n",
       "  </thead>\n",
       "  <tbody>\n",
       "    <tr>\n",
       "      <th>count</th>\n",
       "      <td>11714.000000</td>\n",
       "      <td>11299.000000</td>\n",
       "    </tr>\n",
       "    <tr>\n",
       "      <th>mean</th>\n",
       "      <td>6.894852</td>\n",
       "      <td>245.642977</td>\n",
       "    </tr>\n",
       "    <tr>\n",
       "      <th>std</th>\n",
       "      <td>1.392213</td>\n",
       "      <td>1847.895353</td>\n",
       "    </tr>\n",
       "    <tr>\n",
       "      <th>min</th>\n",
       "      <td>0.300000</td>\n",
       "      <td>5.000000</td>\n",
       "    </tr>\n",
       "    <tr>\n",
       "      <th>25%</th>\n",
       "      <td>6.200000</td>\n",
       "      <td>14.000000</td>\n",
       "    </tr>\n",
       "    <tr>\n",
       "      <th>50%</th>\n",
       "      <td>7.200000</td>\n",
       "      <td>34.000000</td>\n",
       "    </tr>\n",
       "    <tr>\n",
       "      <th>75%</th>\n",
       "      <td>7.900000</td>\n",
       "      <td>111.000000</td>\n",
       "    </tr>\n",
       "    <tr>\n",
       "      <th>max</th>\n",
       "      <td>10.000000</td>\n",
       "      <td>163419.000000</td>\n",
       "    </tr>\n",
       "  </tbody>\n",
       "</table>\n",
       "</div>"
      ],
      "text/plain": [
       "         User Score  User Ratings Count\n",
       "count  11714.000000        11299.000000\n",
       "mean       6.894852          245.642977\n",
       "std        1.392213         1847.895353\n",
       "min        0.300000            5.000000\n",
       "25%        6.200000           14.000000\n",
       "50%        7.200000           34.000000\n",
       "75%        7.900000          111.000000\n",
       "max       10.000000       163419.000000"
      ]
     },
     "execution_count": 5,
     "metadata": {},
     "output_type": "execute_result"
    }
   ],
   "source": [
    "df.describe()"
   ]
  },
  {
   "cell_type": "code",
   "execution_count": 7,
   "id": "9a9332d2",
   "metadata": {
    "execution": {
     "iopub.execute_input": "2024-02-13T14:32:28.850895Z",
     "iopub.status.busy": "2024-02-13T14:32:28.849946Z",
     "iopub.status.idle": "2024-02-13T14:32:28.871740Z",
     "shell.execute_reply": "2024-02-13T14:32:28.870585Z"
    },
    "papermill": {
     "duration": 0.038411,
     "end_time": "2024-02-13T14:32:28.874252",
     "exception": false,
     "start_time": "2024-02-13T14:32:28.835841",
     "status": "completed"
    },
    "tags": []
   },
   "outputs": [
    {
     "data": {
      "text/plain": [
       "Title                   21\n",
       "Release Date            64\n",
       "Developer              138\n",
       "Publisher              138\n",
       "Genres                  21\n",
       "Genres Splitted         21\n",
       "Product Rating        3050\n",
       "User Score            2341\n",
       "User Ratings Count    2756\n",
       "Platforms Info           0\n",
       "dtype: int64"
      ]
     },
     "execution_count": 7,
     "metadata": {},
     "output_type": "execute_result"
    }
   ],
   "source": [
    "## checking for missing values\n",
    "df.isnull().sum()"
   ]
  },
  {
   "cell_type": "code",
   "execution_count": 10,
   "id": "8c9d74d1",
   "metadata": {
    "execution": {
     "iopub.execute_input": "2024-02-13T14:32:28.902110Z",
     "iopub.status.busy": "2024-02-13T14:32:28.901668Z",
     "iopub.status.idle": "2024-02-13T14:32:28.946017Z",
     "shell.execute_reply": "2024-02-13T14:32:28.944783Z"
    },
    "papermill": {
     "duration": 0.061586,
     "end_time": "2024-02-13T14:32:28.948681",
     "exception": false,
     "start_time": "2024-02-13T14:32:28.887095",
     "status": "completed"
    },
    "tags": []
   },
   "outputs": [
    {
     "data": {
      "text/plain": [
       "20"
      ]
     },
     "execution_count": 10,
     "metadata": {},
     "output_type": "execute_result"
    }
   ],
   "source": [
    "df.duplicated().sum()"
   ]
  },
  {
   "cell_type": "code",
   "execution_count": 11,
   "id": "41ebacb3",
   "metadata": {
    "execution": {
     "iopub.execute_input": "2024-02-13T14:32:28.976802Z",
     "iopub.status.busy": "2024-02-13T14:32:28.976368Z",
     "iopub.status.idle": "2024-02-13T14:32:29.016708Z",
     "shell.execute_reply": "2024-02-13T14:32:29.015672Z"
    },
    "papermill": {
     "duration": 0.057529,
     "end_time": "2024-02-13T14:32:29.019535",
     "exception": false,
     "start_time": "2024-02-13T14:32:28.962006",
     "status": "completed"
    },
    "tags": []
   },
   "outputs": [],
   "source": [
    "df.drop_duplicates(inplace=True)"
   ]
  },
  {
   "cell_type": "code",
   "execution_count": 14,
   "id": "16723871",
   "metadata": {},
   "outputs": [
    {
     "data": {
      "text/plain": [
       "array([nan, 'Rated E For Everyone', 'Rated T For Teen',\n",
       "       'Rated E +10 For Everyone +10', 'Rated M For Mature',\n",
       "       'Rated RP For Rate Pending', 'Rated AO For Adults Only'],\n",
       "      dtype=object)"
      ]
     },
     "execution_count": 14,
     "metadata": {},
     "output_type": "execute_result"
    }
   ],
   "source": [
    "# unique values in column Product Rating\n",
    "df['Product Rating'].unique()"
   ]
  },
  {
   "cell_type": "code",
   "execution_count": 15,
   "id": "c0450616",
   "metadata": {},
   "outputs": [
    {
     "data": {
      "text/plain": [
       "array(['Action', 'Auto Racing Sim', 'Western RPG', 'RPG', 'Rhythm',\n",
       "       'Action Puzzle', \"Vertical Shoot-'Em-Up\", 'Virtual Life', 'FPS',\n",
       "       'Turn-Based Strategy', 'Third Person Shooter', 'Action Adventure',\n",
       "       'Open-World Action', '2D Platformer', 'JRPG', 'Command RTS',\n",
       "       'Matching Puzzle', 'Vehicle Combat Sim', 'Skiing', 'Strategy',\n",
       "       'Trivia', '2D Fighting', 'Survival', 'Arcade Racing',\n",
       "       'Marine Combat Sim', \"2D Beat-'Em-Up\", 'Wrestling', 'Visual Novel',\n",
       "       '3D Platformer', 'Action RPG', 'Real-Time Strategy',\n",
       "       'Baseball Sim', 'Adventure', 'Management', 'Dancing',\n",
       "       'Tactical Third Person Shooter', 'Logic Puzzle', 'Sports',\n",
       "       'Card Battle', 'Golf', 'Tactical FPS', 'Space Combat Sim',\n",
       "       'First-Person Adventure', 'MOBA', 'Arcade', 'Hidden Object',\n",
       "       'Turn-Based Tactics', 'Train Sim', 'Trainer RPG',\n",
       "       'Individual Sports', 'Third-Person Adventure', 'Auto Racing',\n",
       "       'Golf Sim', 'Puzzle', \"Top-Down Shoot-'Em-Up\",\n",
       "       \"Horizontal Shoot-'Em-Up\", 'Real-Time Tactics', 'Future Racing',\n",
       "       'Application', 'Virtual Pet', 'Party', 'MMORPG', 'Point-and-Click',\n",
       "       'Soccer Sim', 'Future Sport', 'Sandbox', 'Linear Action Adventure',\n",
       "       'Metroidvania', \"3D Beat-'Em-Up\", 'Compilation', 'Combat Sport',\n",
       "       'Tycoon', 'Board', 'Simulation', 'Hockey Sim', '3D Fighting',\n",
       "       'Roguelike', 'Football Sim', 'Stacking Puzzle', 'Billiards',\n",
       "       'Aircraft Sim', 'Soccer Management', 'Light Gun', 'Tennis',\n",
       "       'Rugby', 'Football', 'Pinball', 'Vehicle Sim', 'Rail Shooter',\n",
       "       'Defense', 'Soccer', 'Basketball Sim', 'Fishing', 'Edutainment',\n",
       "       'Athletics', 'Surfing', 'Virtual Career', 'Biking', '4X Strategy',\n",
       "       'Exercise', 'Artillery', 'Aircraft Combat Sim', 'Hunting',\n",
       "       'Skating', 'Space Sim', 'Gambling', 'Hockey', 'Baseball',\n",
       "       'Team Sports', 'Basketball', 'Miscellaneous', 'Text Adventure',\n",
       "       'Racing', 'Bowling', 'Volleyball', 'Horse Racing', nan,\n",
       "       'Marine Sim', 'Racing Sim', 'Cricket'], dtype=object)"
      ]
     },
     "execution_count": 15,
     "metadata": {},
     "output_type": "execute_result"
    }
   ],
   "source": [
    "# unique values in column Genres\n",
    "len(df['Genres'].unique())\n",
    "df['Genres'].unique()"
   ]
  },
  {
   "cell_type": "markdown",
   "id": "b28df5a9",
   "metadata": {
    "papermill": {
     "duration": 0.012534,
     "end_time": "2024-02-13T14:32:29.072360",
     "exception": false,
     "start_time": "2024-02-13T14:32:29.059826",
     "status": "completed"
    },
    "tags": []
   },
   "source": [
    "***In certain cases, popular games might have a low user score due to a large number of ratings. To mitigate this, we can calculate the total rating, which is the product of the average score and the rating count. This provides a more comprehensive measure of user engagement with the game***"
   ]
  },
  {
   "cell_type": "code",
   "execution_count": 13,
   "id": "25a8f266",
   "metadata": {
    "execution": {
     "iopub.execute_input": "2024-02-13T14:32:29.101551Z",
     "iopub.status.busy": "2024-02-13T14:32:29.100843Z",
     "iopub.status.idle": "2024-02-13T14:32:29.124723Z",
     "shell.execute_reply": "2024-02-13T14:32:29.123452Z"
    },
    "papermill": {
     "duration": 0.041297,
     "end_time": "2024-02-13T14:32:29.127383",
     "exception": false,
     "start_time": "2024-02-13T14:32:29.086086",
     "status": "completed"
    },
    "tags": []
   },
   "outputs": [
    {
     "data": {
      "text/html": [
       "<div>\n",
       "<style scoped>\n",
       "    .dataframe tbody tr th:only-of-type {\n",
       "        vertical-align: middle;\n",
       "    }\n",
       "\n",
       "    .dataframe tbody tr th {\n",
       "        vertical-align: top;\n",
       "    }\n",
       "\n",
       "    .dataframe thead th {\n",
       "        text-align: right;\n",
       "    }\n",
       "</style>\n",
       "<table border=\"1\" class=\"dataframe\">\n",
       "  <thead>\n",
       "    <tr style=\"text-align: right;\">\n",
       "      <th></th>\n",
       "      <th>Title</th>\n",
       "      <th>Release Date</th>\n",
       "      <th>Developer</th>\n",
       "      <th>Publisher</th>\n",
       "      <th>Genres</th>\n",
       "      <th>Genres Splitted</th>\n",
       "      <th>Product Rating</th>\n",
       "      <th>User Score</th>\n",
       "      <th>User Ratings Count</th>\n",
       "      <th>Platforms Info</th>\n",
       "      <th>Total rating</th>\n",
       "    </tr>\n",
       "  </thead>\n",
       "  <tbody>\n",
       "    <tr>\n",
       "      <th>0</th>\n",
       "      <td>Ziggurat (2012)</td>\n",
       "      <td>2/17/2012</td>\n",
       "      <td>Action Button Entertainment</td>\n",
       "      <td>Freshuu Inc.</td>\n",
       "      <td>Action</td>\n",
       "      <td>['Action']</td>\n",
       "      <td>NaN</td>\n",
       "      <td>6.9</td>\n",
       "      <td>14.0</td>\n",
       "      <td>[{'Platform': 'iOS (iPhone/iPad)', 'Platform M...</td>\n",
       "      <td>96.6</td>\n",
       "    </tr>\n",
       "    <tr>\n",
       "      <th>1</th>\n",
       "      <td>4X4 EVO 2</td>\n",
       "      <td>11/15/2001</td>\n",
       "      <td>Terminal Reality</td>\n",
       "      <td>Gathering</td>\n",
       "      <td>Auto Racing Sim</td>\n",
       "      <td>['Auto', 'Racing', 'Sim']</td>\n",
       "      <td>Rated E For Everyone</td>\n",
       "      <td>NaN</td>\n",
       "      <td>NaN</td>\n",
       "      <td>[{'Platform': 'Xbox', 'Platform Metascore': '5...</td>\n",
       "      <td>NaN</td>\n",
       "    </tr>\n",
       "    <tr>\n",
       "      <th>2</th>\n",
       "      <td>MotoGP 2 (2001)</td>\n",
       "      <td>1/22/2002</td>\n",
       "      <td>Namco</td>\n",
       "      <td>Namco</td>\n",
       "      <td>Auto Racing Sim</td>\n",
       "      <td>['Auto', 'Racing', 'Sim']</td>\n",
       "      <td>Rated E For Everyone</td>\n",
       "      <td>5.8</td>\n",
       "      <td>NaN</td>\n",
       "      <td>[{'Platform': 'PlayStation 2', 'Platform Metas...</td>\n",
       "      <td>NaN</td>\n",
       "    </tr>\n",
       "    <tr>\n",
       "      <th>3</th>\n",
       "      <td>Gothic 3</td>\n",
       "      <td>11/14/2006</td>\n",
       "      <td>Piranha Bytes</td>\n",
       "      <td>Aspyr</td>\n",
       "      <td>Western RPG</td>\n",
       "      <td>['Western', 'RPG']</td>\n",
       "      <td>Rated T For Teen</td>\n",
       "      <td>7.5</td>\n",
       "      <td>832.0</td>\n",
       "      <td>[{'Platform': 'PC', 'Platform Metascore': '63'...</td>\n",
       "      <td>6240.0</td>\n",
       "    </tr>\n",
       "    <tr>\n",
       "      <th>4</th>\n",
       "      <td>Siege Survival: Gloria Victis</td>\n",
       "      <td>5/18/2021</td>\n",
       "      <td>FishTankStudio</td>\n",
       "      <td>Black Eye Games</td>\n",
       "      <td>RPG</td>\n",
       "      <td>['RPG']</td>\n",
       "      <td>NaN</td>\n",
       "      <td>6.5</td>\n",
       "      <td>10.0</td>\n",
       "      <td>[{'Platform': 'PC', 'Platform Metascore': '69'...</td>\n",
       "      <td>65.0</td>\n",
       "    </tr>\n",
       "    <tr>\n",
       "      <th>...</th>\n",
       "      <td>...</td>\n",
       "      <td>...</td>\n",
       "      <td>...</td>\n",
       "      <td>...</td>\n",
       "      <td>...</td>\n",
       "      <td>...</td>\n",
       "      <td>...</td>\n",
       "      <td>...</td>\n",
       "      <td>...</td>\n",
       "      <td>...</td>\n",
       "      <td>...</td>\n",
       "    </tr>\n",
       "    <tr>\n",
       "      <th>14050</th>\n",
       "      <td>Dragon Age: Origins - Awakening</td>\n",
       "      <td>3/16/2010</td>\n",
       "      <td>BioWare</td>\n",
       "      <td>Electronic Arts</td>\n",
       "      <td>Western RPG</td>\n",
       "      <td>['Western', 'RPG']</td>\n",
       "      <td>Rated M For Mature</td>\n",
       "      <td>8.0</td>\n",
       "      <td>516.0</td>\n",
       "      <td>[{'Platform': 'PlayStation 3', 'Platform Metas...</td>\n",
       "      <td>4128.0</td>\n",
       "    </tr>\n",
       "    <tr>\n",
       "      <th>14051</th>\n",
       "      <td>Lover Pretend</td>\n",
       "      <td>12/1/2022</td>\n",
       "      <td>Idea Factory</td>\n",
       "      <td>Aksys Games</td>\n",
       "      <td>Visual Novel</td>\n",
       "      <td>['Visual', 'Novel']</td>\n",
       "      <td>Rated T For Teen</td>\n",
       "      <td>NaN</td>\n",
       "      <td>NaN</td>\n",
       "      <td>[{'Platform': 'Nintendo Switch', 'Platform Met...</td>\n",
       "      <td>NaN</td>\n",
       "    </tr>\n",
       "    <tr>\n",
       "      <th>14052</th>\n",
       "      <td>Alice: Madness Returns</td>\n",
       "      <td>6/14/2011</td>\n",
       "      <td>Spicy Horse</td>\n",
       "      <td>Electronic Arts</td>\n",
       "      <td>Survival</td>\n",
       "      <td>['Survival']</td>\n",
       "      <td>Rated M For Mature</td>\n",
       "      <td>8.3</td>\n",
       "      <td>276.0</td>\n",
       "      <td>[{'Platform': 'PC', 'Platform Metascore': '75'...</td>\n",
       "      <td>2290.8</td>\n",
       "    </tr>\n",
       "    <tr>\n",
       "      <th>14053</th>\n",
       "      <td>Concrete Genie</td>\n",
       "      <td>10/8/2019</td>\n",
       "      <td>Pixel Opus</td>\n",
       "      <td>Sony Interactive Entertainment</td>\n",
       "      <td>Third-Person Adventure</td>\n",
       "      <td>['Third-Person', 'Adventure']</td>\n",
       "      <td>Rated E +10 For Everyone +10</td>\n",
       "      <td>8.1</td>\n",
       "      <td>480.0</td>\n",
       "      <td>[{'Platform': 'PlayStation 4', 'Platform Metas...</td>\n",
       "      <td>3888.0</td>\n",
       "    </tr>\n",
       "    <tr>\n",
       "      <th>14054</th>\n",
       "      <td>Lemony Snicket's A Series of Unfortunate Event...</td>\n",
       "      <td>11/10/2004</td>\n",
       "      <td>Griptonite Games</td>\n",
       "      <td>Activision</td>\n",
       "      <td>3D Platformer</td>\n",
       "      <td>['3D', 'Platformer']</td>\n",
       "      <td>Rated E For Everyone</td>\n",
       "      <td>NaN</td>\n",
       "      <td>NaN</td>\n",
       "      <td>[{'Platform': 'Game Boy Advance', 'Platform Me...</td>\n",
       "      <td>NaN</td>\n",
       "    </tr>\n",
       "  </tbody>\n",
       "</table>\n",
       "<p>14035 rows × 11 columns</p>\n",
       "</div>"
      ],
      "text/plain": [
       "                                                   Title Release Date  \\\n",
       "0                                        Ziggurat (2012)    2/17/2012   \n",
       "1                                              4X4 EVO 2   11/15/2001   \n",
       "2                                        MotoGP 2 (2001)    1/22/2002   \n",
       "3                                               Gothic 3   11/14/2006   \n",
       "4                          Siege Survival: Gloria Victis    5/18/2021   \n",
       "...                                                  ...          ...   \n",
       "14050                    Dragon Age: Origins - Awakening    3/16/2010   \n",
       "14051                                      Lover Pretend    12/1/2022   \n",
       "14052                             Alice: Madness Returns    6/14/2011   \n",
       "14053                                     Concrete Genie    10/8/2019   \n",
       "14054  Lemony Snicket's A Series of Unfortunate Event...   11/10/2004   \n",
       "\n",
       "                         Developer                       Publisher  \\\n",
       "0      Action Button Entertainment                    Freshuu Inc.   \n",
       "1                 Terminal Reality                       Gathering   \n",
       "2                            Namco                           Namco   \n",
       "3                    Piranha Bytes                           Aspyr   \n",
       "4                   FishTankStudio                 Black Eye Games   \n",
       "...                            ...                             ...   \n",
       "14050                      BioWare                 Electronic Arts   \n",
       "14051                 Idea Factory                     Aksys Games   \n",
       "14052                  Spicy Horse                 Electronic Arts   \n",
       "14053                   Pixel Opus  Sony Interactive Entertainment   \n",
       "14054             Griptonite Games                      Activision   \n",
       "\n",
       "                       Genres                Genres Splitted  \\\n",
       "0                      Action                     ['Action']   \n",
       "1             Auto Racing Sim      ['Auto', 'Racing', 'Sim']   \n",
       "2             Auto Racing Sim      ['Auto', 'Racing', 'Sim']   \n",
       "3                 Western RPG             ['Western', 'RPG']   \n",
       "4                         RPG                        ['RPG']   \n",
       "...                       ...                            ...   \n",
       "14050             Western RPG             ['Western', 'RPG']   \n",
       "14051            Visual Novel            ['Visual', 'Novel']   \n",
       "14052                Survival                   ['Survival']   \n",
       "14053  Third-Person Adventure  ['Third-Person', 'Adventure']   \n",
       "14054           3D Platformer           ['3D', 'Platformer']   \n",
       "\n",
       "                     Product Rating  User Score  User Ratings Count  \\\n",
       "0                               NaN         6.9                14.0   \n",
       "1              Rated E For Everyone         NaN                 NaN   \n",
       "2              Rated E For Everyone         5.8                 NaN   \n",
       "3                  Rated T For Teen         7.5               832.0   \n",
       "4                               NaN         6.5                10.0   \n",
       "...                             ...         ...                 ...   \n",
       "14050            Rated M For Mature         8.0               516.0   \n",
       "14051              Rated T For Teen         NaN                 NaN   \n",
       "14052            Rated M For Mature         8.3               276.0   \n",
       "14053  Rated E +10 For Everyone +10         8.1               480.0   \n",
       "14054          Rated E For Everyone         NaN                 NaN   \n",
       "\n",
       "                                          Platforms Info  Total rating  \n",
       "0      [{'Platform': 'iOS (iPhone/iPad)', 'Platform M...          96.6  \n",
       "1      [{'Platform': 'Xbox', 'Platform Metascore': '5...           NaN  \n",
       "2      [{'Platform': 'PlayStation 2', 'Platform Metas...           NaN  \n",
       "3      [{'Platform': 'PC', 'Platform Metascore': '63'...        6240.0  \n",
       "4      [{'Platform': 'PC', 'Platform Metascore': '69'...          65.0  \n",
       "...                                                  ...           ...  \n",
       "14050  [{'Platform': 'PlayStation 3', 'Platform Metas...        4128.0  \n",
       "14051  [{'Platform': 'Nintendo Switch', 'Platform Met...           NaN  \n",
       "14052  [{'Platform': 'PC', 'Platform Metascore': '75'...        2290.8  \n",
       "14053  [{'Platform': 'PlayStation 4', 'Platform Metas...        3888.0  \n",
       "14054  [{'Platform': 'Game Boy Advance', 'Platform Me...           NaN  \n",
       "\n",
       "[14035 rows x 11 columns]"
      ]
     },
     "execution_count": 13,
     "metadata": {},
     "output_type": "execute_result"
    }
   ],
   "source": [
    "df['Total rating']=df['User Score']*df['User Ratings Count']\n",
    "df"
   ]
  },
  {
   "cell_type": "code",
   "execution_count": 16,
   "id": "4a36cb99",
   "metadata": {
    "execution": {
     "iopub.execute_input": "2024-02-13T14:32:29.157429Z",
     "iopub.status.busy": "2024-02-13T14:32:29.156406Z",
     "iopub.status.idle": "2024-02-13T14:32:29.232701Z",
     "shell.execute_reply": "2024-02-13T14:32:29.231318Z"
    },
    "papermill": {
     "duration": 0.094037,
     "end_time": "2024-02-13T14:32:29.235393",
     "exception": false,
     "start_time": "2024-02-13T14:32:29.141356",
     "status": "completed"
    },
    "tags": []
   },
   "outputs": [],
   "source": [
    "df['Release Date']=pd.to_datetime(df['Release Date'])"
   ]
  },
  {
   "cell_type": "code",
   "execution_count": 17,
   "id": "44213110",
   "metadata": {
    "execution": {
     "iopub.execute_input": "2024-02-13T14:32:29.265048Z",
     "iopub.status.busy": "2024-02-13T14:32:29.264046Z",
     "iopub.status.idle": "2024-02-13T14:32:29.293089Z",
     "shell.execute_reply": "2024-02-13T14:32:29.291925Z"
    },
    "papermill": {
     "duration": 0.046626,
     "end_time": "2024-02-13T14:32:29.295715",
     "exception": false,
     "start_time": "2024-02-13T14:32:29.249089",
     "status": "completed"
    },
    "tags": []
   },
   "outputs": [
    {
     "data": {
      "text/html": [
       "<div>\n",
       "<style scoped>\n",
       "    .dataframe tbody tr th:only-of-type {\n",
       "        vertical-align: middle;\n",
       "    }\n",
       "\n",
       "    .dataframe tbody tr th {\n",
       "        vertical-align: top;\n",
       "    }\n",
       "\n",
       "    .dataframe thead th {\n",
       "        text-align: right;\n",
       "    }\n",
       "</style>\n",
       "<table border=\"1\" class=\"dataframe\">\n",
       "  <thead>\n",
       "    <tr style=\"text-align: right;\">\n",
       "      <th></th>\n",
       "      <th>Title</th>\n",
       "      <th>Release Date</th>\n",
       "      <th>Developer</th>\n",
       "      <th>Publisher</th>\n",
       "      <th>Genres</th>\n",
       "      <th>Genres Splitted</th>\n",
       "      <th>Product Rating</th>\n",
       "      <th>User Score</th>\n",
       "      <th>User Ratings Count</th>\n",
       "      <th>Platforms Info</th>\n",
       "      <th>Total rating</th>\n",
       "      <th>Release Year</th>\n",
       "    </tr>\n",
       "  </thead>\n",
       "  <tbody>\n",
       "    <tr>\n",
       "      <th>0</th>\n",
       "      <td>Ziggurat (2012)</td>\n",
       "      <td>2012-02-17</td>\n",
       "      <td>Action Button Entertainment</td>\n",
       "      <td>Freshuu Inc.</td>\n",
       "      <td>Action</td>\n",
       "      <td>['Action']</td>\n",
       "      <td>NaN</td>\n",
       "      <td>6.9</td>\n",
       "      <td>14.0</td>\n",
       "      <td>[{'Platform': 'iOS (iPhone/iPad)', 'Platform M...</td>\n",
       "      <td>96.6</td>\n",
       "      <td>2012.0</td>\n",
       "    </tr>\n",
       "    <tr>\n",
       "      <th>1</th>\n",
       "      <td>4X4 EVO 2</td>\n",
       "      <td>2001-11-15</td>\n",
       "      <td>Terminal Reality</td>\n",
       "      <td>Gathering</td>\n",
       "      <td>Auto Racing Sim</td>\n",
       "      <td>['Auto', 'Racing', 'Sim']</td>\n",
       "      <td>Rated E For Everyone</td>\n",
       "      <td>NaN</td>\n",
       "      <td>NaN</td>\n",
       "      <td>[{'Platform': 'Xbox', 'Platform Metascore': '5...</td>\n",
       "      <td>NaN</td>\n",
       "      <td>2001.0</td>\n",
       "    </tr>\n",
       "    <tr>\n",
       "      <th>2</th>\n",
       "      <td>MotoGP 2 (2001)</td>\n",
       "      <td>2002-01-22</td>\n",
       "      <td>Namco</td>\n",
       "      <td>Namco</td>\n",
       "      <td>Auto Racing Sim</td>\n",
       "      <td>['Auto', 'Racing', 'Sim']</td>\n",
       "      <td>Rated E For Everyone</td>\n",
       "      <td>5.8</td>\n",
       "      <td>NaN</td>\n",
       "      <td>[{'Platform': 'PlayStation 2', 'Platform Metas...</td>\n",
       "      <td>NaN</td>\n",
       "      <td>2002.0</td>\n",
       "    </tr>\n",
       "    <tr>\n",
       "      <th>3</th>\n",
       "      <td>Gothic 3</td>\n",
       "      <td>2006-11-14</td>\n",
       "      <td>Piranha Bytes</td>\n",
       "      <td>Aspyr</td>\n",
       "      <td>Western RPG</td>\n",
       "      <td>['Western', 'RPG']</td>\n",
       "      <td>Rated T For Teen</td>\n",
       "      <td>7.5</td>\n",
       "      <td>832.0</td>\n",
       "      <td>[{'Platform': 'PC', 'Platform Metascore': '63'...</td>\n",
       "      <td>6240.0</td>\n",
       "      <td>2006.0</td>\n",
       "    </tr>\n",
       "    <tr>\n",
       "      <th>4</th>\n",
       "      <td>Siege Survival: Gloria Victis</td>\n",
       "      <td>2021-05-18</td>\n",
       "      <td>FishTankStudio</td>\n",
       "      <td>Black Eye Games</td>\n",
       "      <td>RPG</td>\n",
       "      <td>['RPG']</td>\n",
       "      <td>NaN</td>\n",
       "      <td>6.5</td>\n",
       "      <td>10.0</td>\n",
       "      <td>[{'Platform': 'PC', 'Platform Metascore': '69'...</td>\n",
       "      <td>65.0</td>\n",
       "      <td>2021.0</td>\n",
       "    </tr>\n",
       "    <tr>\n",
       "      <th>...</th>\n",
       "      <td>...</td>\n",
       "      <td>...</td>\n",
       "      <td>...</td>\n",
       "      <td>...</td>\n",
       "      <td>...</td>\n",
       "      <td>...</td>\n",
       "      <td>...</td>\n",
       "      <td>...</td>\n",
       "      <td>...</td>\n",
       "      <td>...</td>\n",
       "      <td>...</td>\n",
       "      <td>...</td>\n",
       "    </tr>\n",
       "    <tr>\n",
       "      <th>14050</th>\n",
       "      <td>Dragon Age: Origins - Awakening</td>\n",
       "      <td>2010-03-16</td>\n",
       "      <td>BioWare</td>\n",
       "      <td>Electronic Arts</td>\n",
       "      <td>Western RPG</td>\n",
       "      <td>['Western', 'RPG']</td>\n",
       "      <td>Rated M For Mature</td>\n",
       "      <td>8.0</td>\n",
       "      <td>516.0</td>\n",
       "      <td>[{'Platform': 'PlayStation 3', 'Platform Metas...</td>\n",
       "      <td>4128.0</td>\n",
       "      <td>2010.0</td>\n",
       "    </tr>\n",
       "    <tr>\n",
       "      <th>14051</th>\n",
       "      <td>Lover Pretend</td>\n",
       "      <td>2022-12-01</td>\n",
       "      <td>Idea Factory</td>\n",
       "      <td>Aksys Games</td>\n",
       "      <td>Visual Novel</td>\n",
       "      <td>['Visual', 'Novel']</td>\n",
       "      <td>Rated T For Teen</td>\n",
       "      <td>NaN</td>\n",
       "      <td>NaN</td>\n",
       "      <td>[{'Platform': 'Nintendo Switch', 'Platform Met...</td>\n",
       "      <td>NaN</td>\n",
       "      <td>2022.0</td>\n",
       "    </tr>\n",
       "    <tr>\n",
       "      <th>14052</th>\n",
       "      <td>Alice: Madness Returns</td>\n",
       "      <td>2011-06-14</td>\n",
       "      <td>Spicy Horse</td>\n",
       "      <td>Electronic Arts</td>\n",
       "      <td>Survival</td>\n",
       "      <td>['Survival']</td>\n",
       "      <td>Rated M For Mature</td>\n",
       "      <td>8.3</td>\n",
       "      <td>276.0</td>\n",
       "      <td>[{'Platform': 'PC', 'Platform Metascore': '75'...</td>\n",
       "      <td>2290.8</td>\n",
       "      <td>2011.0</td>\n",
       "    </tr>\n",
       "    <tr>\n",
       "      <th>14053</th>\n",
       "      <td>Concrete Genie</td>\n",
       "      <td>2019-10-08</td>\n",
       "      <td>Pixel Opus</td>\n",
       "      <td>Sony Interactive Entertainment</td>\n",
       "      <td>Third-Person Adventure</td>\n",
       "      <td>['Third-Person', 'Adventure']</td>\n",
       "      <td>Rated E +10 For Everyone +10</td>\n",
       "      <td>8.1</td>\n",
       "      <td>480.0</td>\n",
       "      <td>[{'Platform': 'PlayStation 4', 'Platform Metas...</td>\n",
       "      <td>3888.0</td>\n",
       "      <td>2019.0</td>\n",
       "    </tr>\n",
       "    <tr>\n",
       "      <th>14054</th>\n",
       "      <td>Lemony Snicket's A Series of Unfortunate Event...</td>\n",
       "      <td>2004-11-10</td>\n",
       "      <td>Griptonite Games</td>\n",
       "      <td>Activision</td>\n",
       "      <td>3D Platformer</td>\n",
       "      <td>['3D', 'Platformer']</td>\n",
       "      <td>Rated E For Everyone</td>\n",
       "      <td>NaN</td>\n",
       "      <td>NaN</td>\n",
       "      <td>[{'Platform': 'Game Boy Advance', 'Platform Me...</td>\n",
       "      <td>NaN</td>\n",
       "      <td>2004.0</td>\n",
       "    </tr>\n",
       "  </tbody>\n",
       "</table>\n",
       "<p>14035 rows × 12 columns</p>\n",
       "</div>"
      ],
      "text/plain": [
       "                                                   Title Release Date  \\\n",
       "0                                        Ziggurat (2012)   2012-02-17   \n",
       "1                                              4X4 EVO 2   2001-11-15   \n",
       "2                                        MotoGP 2 (2001)   2002-01-22   \n",
       "3                                               Gothic 3   2006-11-14   \n",
       "4                          Siege Survival: Gloria Victis   2021-05-18   \n",
       "...                                                  ...          ...   \n",
       "14050                    Dragon Age: Origins - Awakening   2010-03-16   \n",
       "14051                                      Lover Pretend   2022-12-01   \n",
       "14052                             Alice: Madness Returns   2011-06-14   \n",
       "14053                                     Concrete Genie   2019-10-08   \n",
       "14054  Lemony Snicket's A Series of Unfortunate Event...   2004-11-10   \n",
       "\n",
       "                         Developer                       Publisher  \\\n",
       "0      Action Button Entertainment                    Freshuu Inc.   \n",
       "1                 Terminal Reality                       Gathering   \n",
       "2                            Namco                           Namco   \n",
       "3                    Piranha Bytes                           Aspyr   \n",
       "4                   FishTankStudio                 Black Eye Games   \n",
       "...                            ...                             ...   \n",
       "14050                      BioWare                 Electronic Arts   \n",
       "14051                 Idea Factory                     Aksys Games   \n",
       "14052                  Spicy Horse                 Electronic Arts   \n",
       "14053                   Pixel Opus  Sony Interactive Entertainment   \n",
       "14054             Griptonite Games                      Activision   \n",
       "\n",
       "                       Genres                Genres Splitted  \\\n",
       "0                      Action                     ['Action']   \n",
       "1             Auto Racing Sim      ['Auto', 'Racing', 'Sim']   \n",
       "2             Auto Racing Sim      ['Auto', 'Racing', 'Sim']   \n",
       "3                 Western RPG             ['Western', 'RPG']   \n",
       "4                         RPG                        ['RPG']   \n",
       "...                       ...                            ...   \n",
       "14050             Western RPG             ['Western', 'RPG']   \n",
       "14051            Visual Novel            ['Visual', 'Novel']   \n",
       "14052                Survival                   ['Survival']   \n",
       "14053  Third-Person Adventure  ['Third-Person', 'Adventure']   \n",
       "14054           3D Platformer           ['3D', 'Platformer']   \n",
       "\n",
       "                     Product Rating  User Score  User Ratings Count  \\\n",
       "0                               NaN         6.9                14.0   \n",
       "1              Rated E For Everyone         NaN                 NaN   \n",
       "2              Rated E For Everyone         5.8                 NaN   \n",
       "3                  Rated T For Teen         7.5               832.0   \n",
       "4                               NaN         6.5                10.0   \n",
       "...                             ...         ...                 ...   \n",
       "14050            Rated M For Mature         8.0               516.0   \n",
       "14051              Rated T For Teen         NaN                 NaN   \n",
       "14052            Rated M For Mature         8.3               276.0   \n",
       "14053  Rated E +10 For Everyone +10         8.1               480.0   \n",
       "14054          Rated E For Everyone         NaN                 NaN   \n",
       "\n",
       "                                          Platforms Info  Total rating  \\\n",
       "0      [{'Platform': 'iOS (iPhone/iPad)', 'Platform M...          96.6   \n",
       "1      [{'Platform': 'Xbox', 'Platform Metascore': '5...           NaN   \n",
       "2      [{'Platform': 'PlayStation 2', 'Platform Metas...           NaN   \n",
       "3      [{'Platform': 'PC', 'Platform Metascore': '63'...        6240.0   \n",
       "4      [{'Platform': 'PC', 'Platform Metascore': '69'...          65.0   \n",
       "...                                                  ...           ...   \n",
       "14050  [{'Platform': 'PlayStation 3', 'Platform Metas...        4128.0   \n",
       "14051  [{'Platform': 'Nintendo Switch', 'Platform Met...           NaN   \n",
       "14052  [{'Platform': 'PC', 'Platform Metascore': '75'...        2290.8   \n",
       "14053  [{'Platform': 'PlayStation 4', 'Platform Metas...        3888.0   \n",
       "14054  [{'Platform': 'Game Boy Advance', 'Platform Me...           NaN   \n",
       "\n",
       "       Release Year  \n",
       "0            2012.0  \n",
       "1            2001.0  \n",
       "2            2002.0  \n",
       "3            2006.0  \n",
       "4            2021.0  \n",
       "...             ...  \n",
       "14050        2010.0  \n",
       "14051        2022.0  \n",
       "14052        2011.0  \n",
       "14053        2019.0  \n",
       "14054        2004.0  \n",
       "\n",
       "[14035 rows x 12 columns]"
      ]
     },
     "execution_count": 17,
     "metadata": {},
     "output_type": "execute_result"
    }
   ],
   "source": [
    "df['Release Year']=df['Release Date'].dt.year\n",
    "df"
   ]
  },
  {
   "cell_type": "code",
   "execution_count": null,
   "id": "5c1e199d",
   "metadata": {
    "papermill": {
     "duration": 0.013918,
     "end_time": "2024-02-13T14:32:29.352813",
     "exception": false,
     "start_time": "2024-02-13T14:32:29.338895",
     "status": "completed"
    },
    "tags": []
   },
   "outputs": [],
   "source": []
  },
  {
   "cell_type": "markdown",
   "id": "3a58e5a8",
   "metadata": {
    "papermill": {
     "duration": 0.013501,
     "end_time": "2024-02-13T14:32:29.380373",
     "exception": false,
     "start_time": "2024-02-13T14:32:29.366872",
     "status": "completed"
    },
    "tags": []
   },
   "source": [
    "# ***EDA***"
   ]
  },
  {
   "cell_type": "markdown",
   "id": "157b931d",
   "metadata": {
    "papermill": {
     "duration": 0.013642,
     "end_time": "2024-02-13T14:32:29.407949",
     "exception": false,
     "start_time": "2024-02-13T14:32:29.394307",
     "status": "completed"
    },
    "tags": []
   },
   "source": [
    "* ***I will use plotly for most of the plots .***\n",
    "\n",
    "* ***Plotly is a data visualization library that allows users to create interactive and dynamic plots in Python, R, and Julia. It provides a high-level interface for creating a wide variety of charts and graphs, including line charts, bar charts, scatter plots, heatmaps, and more.***\n",
    "\n",
    "* ***You can interact with the plot by using the tools shown in top right corner of each plot. Just head to the top right corner of the plot to explore and play around with it. Note- use reset axes to bring back the plot in normal form***"
   ]
  },
  {
   "cell_type": "code",
   "execution_count": 18,
   "id": "3fdcd132",
   "metadata": {
    "execution": {
     "iopub.execute_input": "2024-02-13T14:32:29.439033Z",
     "iopub.status.busy": "2024-02-13T14:32:29.438646Z",
     "iopub.status.idle": "2024-02-13T14:32:31.825204Z",
     "shell.execute_reply": "2024-02-13T14:32:31.823793Z"
    },
    "papermill": {
     "duration": 2.404773,
     "end_time": "2024-02-13T14:32:31.828314",
     "exception": false,
     "start_time": "2024-02-13T14:32:29.423541",
     "status": "completed"
    },
    "tags": []
   },
   "outputs": [],
   "source": [
    "import matplotlib.pyplot as plt\n",
    "import seaborn as sns\n",
    "import plotly.express as px\n",
    "import plotly.graph_objects as go"
   ]
  },
  {
   "cell_type": "code",
   "execution_count": 19,
   "id": "d8933040",
   "metadata": {
    "execution": {
     "iopub.execute_input": "2024-02-13T14:32:31.859590Z",
     "iopub.status.busy": "2024-02-13T14:32:31.859055Z",
     "iopub.status.idle": "2024-02-13T14:32:31.900031Z",
     "shell.execute_reply": "2024-02-13T14:32:31.898738Z"
    },
    "papermill": {
     "duration": 0.059506,
     "end_time": "2024-02-13T14:32:31.902877",
     "exception": false,
     "start_time": "2024-02-13T14:32:31.843371",
     "status": "completed"
    },
    "tags": []
   },
   "outputs": [
    {
     "data": {
      "text/html": [
       "<div>\n",
       "<style scoped>\n",
       "    .dataframe tbody tr th:only-of-type {\n",
       "        vertical-align: middle;\n",
       "    }\n",
       "\n",
       "    .dataframe tbody tr th {\n",
       "        vertical-align: top;\n",
       "    }\n",
       "\n",
       "    .dataframe thead th {\n",
       "        text-align: right;\n",
       "    }\n",
       "</style>\n",
       "<table border=\"1\" class=\"dataframe\">\n",
       "  <thead>\n",
       "    <tr style=\"text-align: right;\">\n",
       "      <th></th>\n",
       "      <th>Title</th>\n",
       "      <th>Release Date</th>\n",
       "      <th>Developer</th>\n",
       "      <th>Publisher</th>\n",
       "      <th>Genres</th>\n",
       "      <th>Genres Splitted</th>\n",
       "      <th>Product Rating</th>\n",
       "      <th>User Score</th>\n",
       "      <th>User Ratings Count</th>\n",
       "      <th>Platforms Info</th>\n",
       "      <th>Total rating</th>\n",
       "      <th>Release Year</th>\n",
       "    </tr>\n",
       "  </thead>\n",
       "  <tbody>\n",
       "    <tr>\n",
       "      <th>10941</th>\n",
       "      <td>The Last of Us Part II</td>\n",
       "      <td>2020-06-19</td>\n",
       "      <td>Naughty Dog</td>\n",
       "      <td>Sony Interactive Entertainment</td>\n",
       "      <td>Survival</td>\n",
       "      <td>['Survival']</td>\n",
       "      <td>Rated M For Mature</td>\n",
       "      <td>5.8</td>\n",
       "      <td>163419.0</td>\n",
       "      <td>[{'Platform': 'PlayStation 4', 'Platform Metas...</td>\n",
       "      <td>947830.2</td>\n",
       "      <td>2020.0</td>\n",
       "    </tr>\n",
       "    <tr>\n",
       "      <th>13678</th>\n",
       "      <td>Cyberpunk 2077</td>\n",
       "      <td>2020-12-10</td>\n",
       "      <td>CD Projekt Red Studio</td>\n",
       "      <td>CD Projekt Red Studio</td>\n",
       "      <td>Action RPG</td>\n",
       "      <td>['Action', 'RPG']</td>\n",
       "      <td>Rated M For Mature</td>\n",
       "      <td>7.1</td>\n",
       "      <td>35194.0</td>\n",
       "      <td>[{'Platform': 'PC', 'Platform Metascore': '86'...</td>\n",
       "      <td>249877.4</td>\n",
       "      <td>2020.0</td>\n",
       "    </tr>\n",
       "    <tr>\n",
       "      <th>7377</th>\n",
       "      <td>God of War</td>\n",
       "      <td>2018-04-20</td>\n",
       "      <td>SCE Santa Monica</td>\n",
       "      <td>Sony Interactive Entertainment</td>\n",
       "      <td>Linear Action Adventure</td>\n",
       "      <td>['Linear', 'Action', 'Adventure']</td>\n",
       "      <td>Rated M For Mature</td>\n",
       "      <td>9.1</td>\n",
       "      <td>24855.0</td>\n",
       "      <td>[{'Platform': 'PlayStation 4', 'Platform Metas...</td>\n",
       "      <td>226180.5</td>\n",
       "      <td>2018.0</td>\n",
       "    </tr>\n",
       "    <tr>\n",
       "      <th>7591</th>\n",
       "      <td>Red Dead Redemption 2</td>\n",
       "      <td>2018-10-26</td>\n",
       "      <td>Rockstar Games</td>\n",
       "      <td>Rockstar Games</td>\n",
       "      <td>Open-World Action</td>\n",
       "      <td>['Open-World', 'Action']</td>\n",
       "      <td>Rated M For Mature</td>\n",
       "      <td>8.8</td>\n",
       "      <td>23875.0</td>\n",
       "      <td>[{'Platform': 'Xbox One', 'Platform Metascore'...</td>\n",
       "      <td>210100.0</td>\n",
       "      <td>2018.0</td>\n",
       "    </tr>\n",
       "    <tr>\n",
       "      <th>13391</th>\n",
       "      <td>Ghost of Tsushima</td>\n",
       "      <td>2020-07-17</td>\n",
       "      <td>Sucker Punch</td>\n",
       "      <td>Sony Interactive Entertainment</td>\n",
       "      <td>Open-World Action</td>\n",
       "      <td>['Open-World', 'Action']</td>\n",
       "      <td>Rated M For Mature</td>\n",
       "      <td>9.1</td>\n",
       "      <td>21863.0</td>\n",
       "      <td>[{'Platform': 'PlayStation 4', 'Platform Metas...</td>\n",
       "      <td>198953.3</td>\n",
       "      <td>2020.0</td>\n",
       "    </tr>\n",
       "    <tr>\n",
       "      <th>6075</th>\n",
       "      <td>The Legend of Zelda: Breath of the Wild</td>\n",
       "      <td>2017-03-03</td>\n",
       "      <td>Nintendo</td>\n",
       "      <td>Nintendo</td>\n",
       "      <td>Open-World Action</td>\n",
       "      <td>['Open-World', 'Action']</td>\n",
       "      <td>Rated E +10 For Everyone +10</td>\n",
       "      <td>8.8</td>\n",
       "      <td>22216.0</td>\n",
       "      <td>[{'Platform': 'Wii U', 'Platform Metascore': '...</td>\n",
       "      <td>195500.8</td>\n",
       "      <td>2017.0</td>\n",
       "    </tr>\n",
       "    <tr>\n",
       "      <th>2930</th>\n",
       "      <td>The Last of Us Remastered</td>\n",
       "      <td>2014-07-29</td>\n",
       "      <td>Naughty Dog</td>\n",
       "      <td>SCEA</td>\n",
       "      <td>Linear Action Adventure</td>\n",
       "      <td>['Linear', 'Action', 'Adventure']</td>\n",
       "      <td>Rated M For Mature</td>\n",
       "      <td>9.2</td>\n",
       "      <td>20141.0</td>\n",
       "      <td>[{'Platform': 'PlayStation 4', 'Platform Metas...</td>\n",
       "      <td>185297.2</td>\n",
       "      <td>2014.0</td>\n",
       "    </tr>\n",
       "    <tr>\n",
       "      <th>7612</th>\n",
       "      <td>The Witcher 3: Wild Hunt</td>\n",
       "      <td>2015-05-19</td>\n",
       "      <td>CD Projekt Red Studio</td>\n",
       "      <td>Warner Bros. Interactive Entertainment</td>\n",
       "      <td>Action RPG</td>\n",
       "      <td>['Action', 'RPG']</td>\n",
       "      <td>Rated M For Mature</td>\n",
       "      <td>9.2</td>\n",
       "      <td>19581.0</td>\n",
       "      <td>[{'Platform': 'PC', 'Platform Metascore': '93'...</td>\n",
       "      <td>180145.2</td>\n",
       "      <td>2015.0</td>\n",
       "    </tr>\n",
       "    <tr>\n",
       "      <th>3368</th>\n",
       "      <td>Uncharted 4: A Thief's End</td>\n",
       "      <td>2016-05-10</td>\n",
       "      <td>Naughty Dog</td>\n",
       "      <td>Sony Interactive Entertainment</td>\n",
       "      <td>Linear Action Adventure</td>\n",
       "      <td>['Linear', 'Action', 'Adventure']</td>\n",
       "      <td>Rated T For Teen</td>\n",
       "      <td>8.8</td>\n",
       "      <td>17412.0</td>\n",
       "      <td>[{'Platform': 'PlayStation 4', 'Platform Metas...</td>\n",
       "      <td>153225.6</td>\n",
       "      <td>2016.0</td>\n",
       "    </tr>\n",
       "    <tr>\n",
       "      <th>3212</th>\n",
       "      <td>Death Stranding</td>\n",
       "      <td>2019-11-08</td>\n",
       "      <td>Kojima Productions</td>\n",
       "      <td>Sony Interactive Entertainment</td>\n",
       "      <td>Open-World Action</td>\n",
       "      <td>['Open-World', 'Action']</td>\n",
       "      <td>Rated M For Mature</td>\n",
       "      <td>7.4</td>\n",
       "      <td>18746.0</td>\n",
       "      <td>[{'Platform': 'PlayStation 4', 'Platform Metas...</td>\n",
       "      <td>138720.4</td>\n",
       "      <td>2019.0</td>\n",
       "    </tr>\n",
       "    <tr>\n",
       "      <th>12387</th>\n",
       "      <td>Baldur's Gate 3</td>\n",
       "      <td>2023-08-03</td>\n",
       "      <td>Larian Studios Games</td>\n",
       "      <td>Larian Studios Games</td>\n",
       "      <td>Western RPG</td>\n",
       "      <td>['Western', 'RPG']</td>\n",
       "      <td>Rated M For Mature</td>\n",
       "      <td>8.9</td>\n",
       "      <td>15511.0</td>\n",
       "      <td>[{'Platform': 'PC', 'Platform Metascore': '96'...</td>\n",
       "      <td>138047.9</td>\n",
       "      <td>2023.0</td>\n",
       "    </tr>\n",
       "    <tr>\n",
       "      <th>8097</th>\n",
       "      <td>The Last of Us</td>\n",
       "      <td>2013-06-14</td>\n",
       "      <td>Naughty Dog</td>\n",
       "      <td>SCEA</td>\n",
       "      <td>Linear Action Adventure</td>\n",
       "      <td>['Linear', 'Action', 'Adventure']</td>\n",
       "      <td>Rated M For Mature</td>\n",
       "      <td>9.2</td>\n",
       "      <td>14920.0</td>\n",
       "      <td>[{'Platform': 'PlayStation 3', 'Platform Metas...</td>\n",
       "      <td>137264.0</td>\n",
       "      <td>2013.0</td>\n",
       "    </tr>\n",
       "    <tr>\n",
       "      <th>3006</th>\n",
       "      <td>Bloodborne</td>\n",
       "      <td>2015-03-24</td>\n",
       "      <td>From Software</td>\n",
       "      <td>SCEA</td>\n",
       "      <td>Action RPG</td>\n",
       "      <td>['Action', 'RPG']</td>\n",
       "      <td>Rated M For Mature</td>\n",
       "      <td>9.0</td>\n",
       "      <td>13633.0</td>\n",
       "      <td>[{'Platform': 'PlayStation 4', 'Platform Metas...</td>\n",
       "      <td>122697.0</td>\n",
       "      <td>2015.0</td>\n",
       "    </tr>\n",
       "    <tr>\n",
       "      <th>6017</th>\n",
       "      <td>Elden Ring</td>\n",
       "      <td>2022-02-25</td>\n",
       "      <td>From Software</td>\n",
       "      <td>Bandai Namco Games</td>\n",
       "      <td>Action RPG</td>\n",
       "      <td>['Action', 'RPG']</td>\n",
       "      <td>Rated M For Mature</td>\n",
       "      <td>8.0</td>\n",
       "      <td>14265.0</td>\n",
       "      <td>[{'Platform': 'PC', 'Platform Metascore': '94'...</td>\n",
       "      <td>114120.0</td>\n",
       "      <td>2022.0</td>\n",
       "    </tr>\n",
       "    <tr>\n",
       "      <th>4852</th>\n",
       "      <td>Horizon Zero Dawn</td>\n",
       "      <td>2017-02-28</td>\n",
       "      <td>Guerrilla</td>\n",
       "      <td>Sony Interactive Entertainment</td>\n",
       "      <td>Open-World Action</td>\n",
       "      <td>['Open-World', 'Action']</td>\n",
       "      <td>Rated T For Teen</td>\n",
       "      <td>8.4</td>\n",
       "      <td>12815.0</td>\n",
       "      <td>[{'Platform': 'PlayStation 4', 'Platform Metas...</td>\n",
       "      <td>107646.0</td>\n",
       "      <td>2017.0</td>\n",
       "    </tr>\n",
       "    <tr>\n",
       "      <th>8315</th>\n",
       "      <td>The Legend of Zelda: Tears of the Kingdom</td>\n",
       "      <td>2023-05-12</td>\n",
       "      <td>Nintendo</td>\n",
       "      <td>Nintendo</td>\n",
       "      <td>Open-World Action</td>\n",
       "      <td>['Open-World', 'Action']</td>\n",
       "      <td>NaN</td>\n",
       "      <td>8.4</td>\n",
       "      <td>11825.0</td>\n",
       "      <td>[{'Platform': 'Nintendo Switch', 'Platform Met...</td>\n",
       "      <td>99330.0</td>\n",
       "      <td>2023.0</td>\n",
       "    </tr>\n",
       "    <tr>\n",
       "      <th>8773</th>\n",
       "      <td>Days Gone</td>\n",
       "      <td>2019-04-26</td>\n",
       "      <td>Sony Bend</td>\n",
       "      <td>Sony Interactive Entertainment</td>\n",
       "      <td>Open-World Action</td>\n",
       "      <td>['Open-World', 'Action']</td>\n",
       "      <td>Rated M For Mature</td>\n",
       "      <td>8.4</td>\n",
       "      <td>11156.0</td>\n",
       "      <td>[{'Platform': 'PlayStation 4', 'Platform Metas...</td>\n",
       "      <td>93710.4</td>\n",
       "      <td>2019.0</td>\n",
       "    </tr>\n",
       "    <tr>\n",
       "      <th>2798</th>\n",
       "      <td>BioShock Infinite</td>\n",
       "      <td>2013-03-25</td>\n",
       "      <td>Irrational Games</td>\n",
       "      <td>2K Games</td>\n",
       "      <td>FPS</td>\n",
       "      <td>['FPS']</td>\n",
       "      <td>Rated M For Mature</td>\n",
       "      <td>8.6</td>\n",
       "      <td>10242.0</td>\n",
       "      <td>[{'Platform': 'Xbox 360', 'Platform Metascore'...</td>\n",
       "      <td>88081.2</td>\n",
       "      <td>2013.0</td>\n",
       "    </tr>\n",
       "    <tr>\n",
       "      <th>12062</th>\n",
       "      <td>Marvel's Spider-Man</td>\n",
       "      <td>2018-09-07</td>\n",
       "      <td>Insomniac Games</td>\n",
       "      <td>Sony Interactive Entertainment</td>\n",
       "      <td>Open-World Action</td>\n",
       "      <td>['Open-World', 'Action']</td>\n",
       "      <td>Rated T For Teen</td>\n",
       "      <td>8.7</td>\n",
       "      <td>10063.0</td>\n",
       "      <td>[{'Platform': 'PlayStation 4', 'Platform Metas...</td>\n",
       "      <td>87548.1</td>\n",
       "      <td>2018.0</td>\n",
       "    </tr>\n",
       "    <tr>\n",
       "      <th>9616</th>\n",
       "      <td>God of War: Ragnarok</td>\n",
       "      <td>2022-11-09</td>\n",
       "      <td>SCE Santa Monica</td>\n",
       "      <td>PlayStation Studios</td>\n",
       "      <td>Action Adventure</td>\n",
       "      <td>['Action', 'Adventure']</td>\n",
       "      <td>Rated M For Mature</td>\n",
       "      <td>8.1</td>\n",
       "      <td>10678.0</td>\n",
       "      <td>[{'Platform': 'PlayStation 5', 'Platform Metas...</td>\n",
       "      <td>86491.8</td>\n",
       "      <td>2022.0</td>\n",
       "    </tr>\n",
       "    <tr>\n",
       "      <th>774</th>\n",
       "      <td>Horizon Forbidden West</td>\n",
       "      <td>2022-02-18</td>\n",
       "      <td>Guerrilla</td>\n",
       "      <td>Sony Interactive Entertainment</td>\n",
       "      <td>Open-World Action</td>\n",
       "      <td>['Open-World', 'Action']</td>\n",
       "      <td>Rated T For Teen</td>\n",
       "      <td>7.9</td>\n",
       "      <td>10826.0</td>\n",
       "      <td>[{'Platform': 'PlayStation 5', 'Platform Metas...</td>\n",
       "      <td>85525.4</td>\n",
       "      <td>2022.0</td>\n",
       "    </tr>\n",
       "    <tr>\n",
       "      <th>5500</th>\n",
       "      <td>Final Fantasy XVI</td>\n",
       "      <td>2023-06-22</td>\n",
       "      <td>Creative Business Unit III</td>\n",
       "      <td>Square Enix</td>\n",
       "      <td>Action RPG</td>\n",
       "      <td>['Action', 'RPG']</td>\n",
       "      <td>Rated M For Mature</td>\n",
       "      <td>8.1</td>\n",
       "      <td>10234.0</td>\n",
       "      <td>[{'Platform': 'PlayStation 5', 'Platform Metas...</td>\n",
       "      <td>82895.4</td>\n",
       "      <td>2023.0</td>\n",
       "    </tr>\n",
       "    <tr>\n",
       "      <th>6884</th>\n",
       "      <td>Half-Life 2</td>\n",
       "      <td>2004-11-16</td>\n",
       "      <td>Valve Software</td>\n",
       "      <td>VU Games</td>\n",
       "      <td>FPS</td>\n",
       "      <td>['FPS']</td>\n",
       "      <td>Rated M For Mature</td>\n",
       "      <td>9.1</td>\n",
       "      <td>9098.0</td>\n",
       "      <td>[{'Platform': 'PC', 'Platform Metascore': '96'...</td>\n",
       "      <td>82791.8</td>\n",
       "      <td>2004.0</td>\n",
       "    </tr>\n",
       "    <tr>\n",
       "      <th>11494</th>\n",
       "      <td>Grand Theft Auto V</td>\n",
       "      <td>2014-11-18</td>\n",
       "      <td>Rockstar North</td>\n",
       "      <td>Rockstar Games</td>\n",
       "      <td>Open-World Action</td>\n",
       "      <td>['Open-World', 'Action']</td>\n",
       "      <td>Rated M For Mature</td>\n",
       "      <td>8.4</td>\n",
       "      <td>9576.0</td>\n",
       "      <td>[{'Platform': 'PlayStation 3', 'Platform Metas...</td>\n",
       "      <td>80438.4</td>\n",
       "      <td>2014.0</td>\n",
       "    </tr>\n",
       "    <tr>\n",
       "      <th>1045</th>\n",
       "      <td>Starfield</td>\n",
       "      <td>2023-09-06</td>\n",
       "      <td>Bethesda Game Studios</td>\n",
       "      <td>Bethesda Softworks</td>\n",
       "      <td>Western RPG</td>\n",
       "      <td>['Western', 'RPG']</td>\n",
       "      <td>Rated M For Mature</td>\n",
       "      <td>6.9</td>\n",
       "      <td>11654.0</td>\n",
       "      <td>[{'Platform': 'PC', 'Platform Metascore': '85'...</td>\n",
       "      <td>80412.6</td>\n",
       "      <td>2023.0</td>\n",
       "    </tr>\n",
       "  </tbody>\n",
       "</table>\n",
       "</div>"
      ],
      "text/plain": [
       "                                           Title Release Date  \\\n",
       "10941                     The Last of Us Part II   2020-06-19   \n",
       "13678                             Cyberpunk 2077   2020-12-10   \n",
       "7377                                  God of War   2018-04-20   \n",
       "7591                       Red Dead Redemption 2   2018-10-26   \n",
       "13391                          Ghost of Tsushima   2020-07-17   \n",
       "6075     The Legend of Zelda: Breath of the Wild   2017-03-03   \n",
       "2930                   The Last of Us Remastered   2014-07-29   \n",
       "7612                    The Witcher 3: Wild Hunt   2015-05-19   \n",
       "3368                  Uncharted 4: A Thief's End   2016-05-10   \n",
       "3212                             Death Stranding   2019-11-08   \n",
       "12387                            Baldur's Gate 3   2023-08-03   \n",
       "8097                              The Last of Us   2013-06-14   \n",
       "3006                                  Bloodborne   2015-03-24   \n",
       "6017                                  Elden Ring   2022-02-25   \n",
       "4852                           Horizon Zero Dawn   2017-02-28   \n",
       "8315   The Legend of Zelda: Tears of the Kingdom   2023-05-12   \n",
       "8773                                   Days Gone   2019-04-26   \n",
       "2798                           BioShock Infinite   2013-03-25   \n",
       "12062                        Marvel's Spider-Man   2018-09-07   \n",
       "9616                        God of War: Ragnarok   2022-11-09   \n",
       "774                       Horizon Forbidden West   2022-02-18   \n",
       "5500                           Final Fantasy XVI   2023-06-22   \n",
       "6884                                 Half-Life 2   2004-11-16   \n",
       "11494                         Grand Theft Auto V   2014-11-18   \n",
       "1045                                   Starfield   2023-09-06   \n",
       "\n",
       "                        Developer                               Publisher  \\\n",
       "10941                 Naughty Dog          Sony Interactive Entertainment   \n",
       "13678       CD Projekt Red Studio                   CD Projekt Red Studio   \n",
       "7377             SCE Santa Monica          Sony Interactive Entertainment   \n",
       "7591               Rockstar Games                          Rockstar Games   \n",
       "13391                Sucker Punch          Sony Interactive Entertainment   \n",
       "6075                     Nintendo                                Nintendo   \n",
       "2930                  Naughty Dog                                    SCEA   \n",
       "7612        CD Projekt Red Studio  Warner Bros. Interactive Entertainment   \n",
       "3368                  Naughty Dog          Sony Interactive Entertainment   \n",
       "3212           Kojima Productions          Sony Interactive Entertainment   \n",
       "12387        Larian Studios Games                    Larian Studios Games   \n",
       "8097                  Naughty Dog                                    SCEA   \n",
       "3006                From Software                                    SCEA   \n",
       "6017                From Software                      Bandai Namco Games   \n",
       "4852                    Guerrilla          Sony Interactive Entertainment   \n",
       "8315                     Nintendo                                Nintendo   \n",
       "8773                    Sony Bend          Sony Interactive Entertainment   \n",
       "2798             Irrational Games                                2K Games   \n",
       "12062             Insomniac Games          Sony Interactive Entertainment   \n",
       "9616             SCE Santa Monica                     PlayStation Studios   \n",
       "774                     Guerrilla          Sony Interactive Entertainment   \n",
       "5500   Creative Business Unit III                             Square Enix   \n",
       "6884               Valve Software                                VU Games   \n",
       "11494              Rockstar North                          Rockstar Games   \n",
       "1045        Bethesda Game Studios                      Bethesda Softworks   \n",
       "\n",
       "                        Genres                    Genres Splitted  \\\n",
       "10941                 Survival                       ['Survival']   \n",
       "13678               Action RPG                  ['Action', 'RPG']   \n",
       "7377   Linear Action Adventure  ['Linear', 'Action', 'Adventure']   \n",
       "7591         Open-World Action           ['Open-World', 'Action']   \n",
       "13391        Open-World Action           ['Open-World', 'Action']   \n",
       "6075         Open-World Action           ['Open-World', 'Action']   \n",
       "2930   Linear Action Adventure  ['Linear', 'Action', 'Adventure']   \n",
       "7612                Action RPG                  ['Action', 'RPG']   \n",
       "3368   Linear Action Adventure  ['Linear', 'Action', 'Adventure']   \n",
       "3212         Open-World Action           ['Open-World', 'Action']   \n",
       "12387              Western RPG                 ['Western', 'RPG']   \n",
       "8097   Linear Action Adventure  ['Linear', 'Action', 'Adventure']   \n",
       "3006                Action RPG                  ['Action', 'RPG']   \n",
       "6017                Action RPG                  ['Action', 'RPG']   \n",
       "4852         Open-World Action           ['Open-World', 'Action']   \n",
       "8315         Open-World Action           ['Open-World', 'Action']   \n",
       "8773         Open-World Action           ['Open-World', 'Action']   \n",
       "2798                       FPS                            ['FPS']   \n",
       "12062        Open-World Action           ['Open-World', 'Action']   \n",
       "9616          Action Adventure            ['Action', 'Adventure']   \n",
       "774          Open-World Action           ['Open-World', 'Action']   \n",
       "5500                Action RPG                  ['Action', 'RPG']   \n",
       "6884                       FPS                            ['FPS']   \n",
       "11494        Open-World Action           ['Open-World', 'Action']   \n",
       "1045               Western RPG                 ['Western', 'RPG']   \n",
       "\n",
       "                     Product Rating  User Score  User Ratings Count  \\\n",
       "10941            Rated M For Mature         5.8            163419.0   \n",
       "13678            Rated M For Mature         7.1             35194.0   \n",
       "7377             Rated M For Mature         9.1             24855.0   \n",
       "7591             Rated M For Mature         8.8             23875.0   \n",
       "13391            Rated M For Mature         9.1             21863.0   \n",
       "6075   Rated E +10 For Everyone +10         8.8             22216.0   \n",
       "2930             Rated M For Mature         9.2             20141.0   \n",
       "7612             Rated M For Mature         9.2             19581.0   \n",
       "3368               Rated T For Teen         8.8             17412.0   \n",
       "3212             Rated M For Mature         7.4             18746.0   \n",
       "12387            Rated M For Mature         8.9             15511.0   \n",
       "8097             Rated M For Mature         9.2             14920.0   \n",
       "3006             Rated M For Mature         9.0             13633.0   \n",
       "6017             Rated M For Mature         8.0             14265.0   \n",
       "4852               Rated T For Teen         8.4             12815.0   \n",
       "8315                            NaN         8.4             11825.0   \n",
       "8773             Rated M For Mature         8.4             11156.0   \n",
       "2798             Rated M For Mature         8.6             10242.0   \n",
       "12062              Rated T For Teen         8.7             10063.0   \n",
       "9616             Rated M For Mature         8.1             10678.0   \n",
       "774                Rated T For Teen         7.9             10826.0   \n",
       "5500             Rated M For Mature         8.1             10234.0   \n",
       "6884             Rated M For Mature         9.1              9098.0   \n",
       "11494            Rated M For Mature         8.4              9576.0   \n",
       "1045             Rated M For Mature         6.9             11654.0   \n",
       "\n",
       "                                          Platforms Info  Total rating  \\\n",
       "10941  [{'Platform': 'PlayStation 4', 'Platform Metas...      947830.2   \n",
       "13678  [{'Platform': 'PC', 'Platform Metascore': '86'...      249877.4   \n",
       "7377   [{'Platform': 'PlayStation 4', 'Platform Metas...      226180.5   \n",
       "7591   [{'Platform': 'Xbox One', 'Platform Metascore'...      210100.0   \n",
       "13391  [{'Platform': 'PlayStation 4', 'Platform Metas...      198953.3   \n",
       "6075   [{'Platform': 'Wii U', 'Platform Metascore': '...      195500.8   \n",
       "2930   [{'Platform': 'PlayStation 4', 'Platform Metas...      185297.2   \n",
       "7612   [{'Platform': 'PC', 'Platform Metascore': '93'...      180145.2   \n",
       "3368   [{'Platform': 'PlayStation 4', 'Platform Metas...      153225.6   \n",
       "3212   [{'Platform': 'PlayStation 4', 'Platform Metas...      138720.4   \n",
       "12387  [{'Platform': 'PC', 'Platform Metascore': '96'...      138047.9   \n",
       "8097   [{'Platform': 'PlayStation 3', 'Platform Metas...      137264.0   \n",
       "3006   [{'Platform': 'PlayStation 4', 'Platform Metas...      122697.0   \n",
       "6017   [{'Platform': 'PC', 'Platform Metascore': '94'...      114120.0   \n",
       "4852   [{'Platform': 'PlayStation 4', 'Platform Metas...      107646.0   \n",
       "8315   [{'Platform': 'Nintendo Switch', 'Platform Met...       99330.0   \n",
       "8773   [{'Platform': 'PlayStation 4', 'Platform Metas...       93710.4   \n",
       "2798   [{'Platform': 'Xbox 360', 'Platform Metascore'...       88081.2   \n",
       "12062  [{'Platform': 'PlayStation 4', 'Platform Metas...       87548.1   \n",
       "9616   [{'Platform': 'PlayStation 5', 'Platform Metas...       86491.8   \n",
       "774    [{'Platform': 'PlayStation 5', 'Platform Metas...       85525.4   \n",
       "5500   [{'Platform': 'PlayStation 5', 'Platform Metas...       82895.4   \n",
       "6884   [{'Platform': 'PC', 'Platform Metascore': '96'...       82791.8   \n",
       "11494  [{'Platform': 'PlayStation 3', 'Platform Metas...       80438.4   \n",
       "1045   [{'Platform': 'PC', 'Platform Metascore': '85'...       80412.6   \n",
       "\n",
       "       Release Year  \n",
       "10941        2020.0  \n",
       "13678        2020.0  \n",
       "7377         2018.0  \n",
       "7591         2018.0  \n",
       "13391        2020.0  \n",
       "6075         2017.0  \n",
       "2930         2014.0  \n",
       "7612         2015.0  \n",
       "3368         2016.0  \n",
       "3212         2019.0  \n",
       "12387        2023.0  \n",
       "8097         2013.0  \n",
       "3006         2015.0  \n",
       "6017         2022.0  \n",
       "4852         2017.0  \n",
       "8315         2023.0  \n",
       "8773         2019.0  \n",
       "2798         2013.0  \n",
       "12062        2018.0  \n",
       "9616         2022.0  \n",
       "774          2022.0  \n",
       "5500         2023.0  \n",
       "6884         2004.0  \n",
       "11494        2014.0  \n",
       "1045         2023.0  "
      ]
     },
     "execution_count": 19,
     "metadata": {},
     "output_type": "execute_result"
    }
   ],
   "source": [
    "Most_Famous_Games_of_all_time=df.sort_values(by='Total rating',ascending=False).head(25)\n",
    "Most_Famous_Games_of_all_time"
   ]
  },
  {
   "cell_type": "code",
   "execution_count": 20,
   "id": "93723b73",
   "metadata": {
    "execution": {
     "iopub.execute_input": "2024-02-13T14:32:31.935654Z",
     "iopub.status.busy": "2024-02-13T14:32:31.935218Z",
     "iopub.status.idle": "2024-02-13T14:32:34.255730Z",
     "shell.execute_reply": "2024-02-13T14:32:34.254830Z"
    },
    "papermill": {
     "duration": 2.340046,
     "end_time": "2024-02-13T14:32:34.257888",
     "exception": false,
     "start_time": "2024-02-13T14:32:31.917842",
     "status": "completed"
    },
    "tags": []
   },
   "outputs": [
    {
     "data": {
      "application/vnd.plotly.v1+json": {
       "config": {
        "plotlyServerURL": "https://plot.ly"
       },
       "data": [
        {
         "hovertemplate": "Title=The Last of Us Part II<br>Release Year=%{x}<br>Total rating=%{marker.size}<extra></extra>",
         "legendgroup": "The Last of Us Part II",
         "marker": {
          "color": "#636efa",
          "size": [
           947830.2
          ],
          "sizemode": "area",
          "sizeref": 263.28616666666665,
          "symbol": "circle"
         },
         "mode": "markers",
         "name": "The Last of Us Part II",
         "orientation": "v",
         "showlegend": true,
         "type": "scatter",
         "x": [
          2020
         ],
         "xaxis": "x",
         "y": [
          947830.2
         ],
         "yaxis": "y"
        },
        {
         "hovertemplate": "Title=Cyberpunk 2077<br>Release Year=%{x}<br>Total rating=%{marker.size}<extra></extra>",
         "legendgroup": "Cyberpunk 2077",
         "marker": {
          "color": "#EF553B",
          "size": [
           249877.4
          ],
          "sizemode": "area",
          "sizeref": 263.28616666666665,
          "symbol": "circle"
         },
         "mode": "markers",
         "name": "Cyberpunk 2077",
         "orientation": "v",
         "showlegend": true,
         "type": "scatter",
         "x": [
          2020
         ],
         "xaxis": "x",
         "y": [
          249877.4
         ],
         "yaxis": "y"
        },
        {
         "hovertemplate": "Title=God of War<br>Release Year=%{x}<br>Total rating=%{marker.size}<extra></extra>",
         "legendgroup": "God of War",
         "marker": {
          "color": "#00cc96",
          "size": [
           226180.5
          ],
          "sizemode": "area",
          "sizeref": 263.28616666666665,
          "symbol": "circle"
         },
         "mode": "markers",
         "name": "God of War",
         "orientation": "v",
         "showlegend": true,
         "type": "scatter",
         "x": [
          2018
         ],
         "xaxis": "x",
         "y": [
          226180.5
         ],
         "yaxis": "y"
        },
        {
         "hovertemplate": "Title=Red Dead Redemption 2<br>Release Year=%{x}<br>Total rating=%{marker.size}<extra></extra>",
         "legendgroup": "Red Dead Redemption 2",
         "marker": {
          "color": "#ab63fa",
          "size": [
           210100.00000000003
          ],
          "sizemode": "area",
          "sizeref": 263.28616666666665,
          "symbol": "circle"
         },
         "mode": "markers",
         "name": "Red Dead Redemption 2",
         "orientation": "v",
         "showlegend": true,
         "type": "scatter",
         "x": [
          2018
         ],
         "xaxis": "x",
         "y": [
          210100.00000000003
         ],
         "yaxis": "y"
        },
        {
         "hovertemplate": "Title=Ghost of Tsushima<br>Release Year=%{x}<br>Total rating=%{marker.size}<extra></extra>",
         "legendgroup": "Ghost of Tsushima",
         "marker": {
          "color": "#FFA15A",
          "size": [
           198953.3
          ],
          "sizemode": "area",
          "sizeref": 263.28616666666665,
          "symbol": "circle"
         },
         "mode": "markers",
         "name": "Ghost of Tsushima",
         "orientation": "v",
         "showlegend": true,
         "type": "scatter",
         "x": [
          2020
         ],
         "xaxis": "x",
         "y": [
          198953.3
         ],
         "yaxis": "y"
        },
        {
         "hovertemplate": "Title=The Legend of Zelda: Breath of the Wild<br>Release Year=%{x}<br>Total rating=%{marker.size}<extra></extra>",
         "legendgroup": "The Legend of Zelda: Breath of the Wild",
         "marker": {
          "color": "#19d3f3",
          "size": [
           195500.80000000002
          ],
          "sizemode": "area",
          "sizeref": 263.28616666666665,
          "symbol": "circle"
         },
         "mode": "markers",
         "name": "The Legend of Zelda: Breath of the Wild",
         "orientation": "v",
         "showlegend": true,
         "type": "scatter",
         "x": [
          2017
         ],
         "xaxis": "x",
         "y": [
          195500.80000000002
         ],
         "yaxis": "y"
        },
        {
         "hovertemplate": "Title=The Last of Us Remastered<br>Release Year=%{x}<br>Total rating=%{marker.size}<extra></extra>",
         "legendgroup": "The Last of Us Remastered",
         "marker": {
          "color": "#FF6692",
          "size": [
           185297.19999999998
          ],
          "sizemode": "area",
          "sizeref": 263.28616666666665,
          "symbol": "circle"
         },
         "mode": "markers",
         "name": "The Last of Us Remastered",
         "orientation": "v",
         "showlegend": true,
         "type": "scatter",
         "x": [
          2014
         ],
         "xaxis": "x",
         "y": [
          185297.19999999998
         ],
         "yaxis": "y"
        },
        {
         "hovertemplate": "Title=The Witcher 3: Wild Hunt<br>Release Year=%{x}<br>Total rating=%{marker.size}<extra></extra>",
         "legendgroup": "The Witcher 3: Wild Hunt",
         "marker": {
          "color": "#B6E880",
          "size": [
           180145.19999999998
          ],
          "sizemode": "area",
          "sizeref": 263.28616666666665,
          "symbol": "circle"
         },
         "mode": "markers",
         "name": "The Witcher 3: Wild Hunt",
         "orientation": "v",
         "showlegend": true,
         "type": "scatter",
         "x": [
          2015
         ],
         "xaxis": "x",
         "y": [
          180145.19999999998
         ],
         "yaxis": "y"
        },
        {
         "hovertemplate": "Title=Uncharted 4: A Thief's End<br>Release Year=%{x}<br>Total rating=%{marker.size}<extra></extra>",
         "legendgroup": "Uncharted 4: A Thief's End",
         "marker": {
          "color": "#FF97FF",
          "size": [
           153225.6
          ],
          "sizemode": "area",
          "sizeref": 263.28616666666665,
          "symbol": "circle"
         },
         "mode": "markers",
         "name": "Uncharted 4: A Thief's End",
         "orientation": "v",
         "showlegend": true,
         "type": "scatter",
         "x": [
          2016
         ],
         "xaxis": "x",
         "y": [
          153225.6
         ],
         "yaxis": "y"
        },
        {
         "hovertemplate": "Title=Death Stranding<br>Release Year=%{x}<br>Total rating=%{marker.size}<extra></extra>",
         "legendgroup": "Death Stranding",
         "marker": {
          "color": "#FECB52",
          "size": [
           138720.4
          ],
          "sizemode": "area",
          "sizeref": 263.28616666666665,
          "symbol": "circle"
         },
         "mode": "markers",
         "name": "Death Stranding",
         "orientation": "v",
         "showlegend": true,
         "type": "scatter",
         "x": [
          2019
         ],
         "xaxis": "x",
         "y": [
          138720.4
         ],
         "yaxis": "y"
        },
        {
         "hovertemplate": "Title=Baldur's Gate 3<br>Release Year=%{x}<br>Total rating=%{marker.size}<extra></extra>",
         "legendgroup": "Baldur's Gate 3",
         "marker": {
          "color": "#636efa",
          "size": [
           138047.9
          ],
          "sizemode": "area",
          "sizeref": 263.28616666666665,
          "symbol": "circle"
         },
         "mode": "markers",
         "name": "Baldur's Gate 3",
         "orientation": "v",
         "showlegend": true,
         "type": "scatter",
         "x": [
          2023
         ],
         "xaxis": "x",
         "y": [
          138047.9
         ],
         "yaxis": "y"
        },
        {
         "hovertemplate": "Title=The Last of Us<br>Release Year=%{x}<br>Total rating=%{marker.size}<extra></extra>",
         "legendgroup": "The Last of Us",
         "marker": {
          "color": "#EF553B",
          "size": [
           137264
          ],
          "sizemode": "area",
          "sizeref": 263.28616666666665,
          "symbol": "circle"
         },
         "mode": "markers",
         "name": "The Last of Us",
         "orientation": "v",
         "showlegend": true,
         "type": "scatter",
         "x": [
          2013
         ],
         "xaxis": "x",
         "y": [
          137264
         ],
         "yaxis": "y"
        },
        {
         "hovertemplate": "Title=Bloodborne<br>Release Year=%{x}<br>Total rating=%{marker.size}<extra></extra>",
         "legendgroup": "Bloodborne",
         "marker": {
          "color": "#00cc96",
          "size": [
           122697
          ],
          "sizemode": "area",
          "sizeref": 263.28616666666665,
          "symbol": "circle"
         },
         "mode": "markers",
         "name": "Bloodborne",
         "orientation": "v",
         "showlegend": true,
         "type": "scatter",
         "x": [
          2015
         ],
         "xaxis": "x",
         "y": [
          122697
         ],
         "yaxis": "y"
        },
        {
         "hovertemplate": "Title=Elden Ring<br>Release Year=%{x}<br>Total rating=%{marker.size}<extra></extra>",
         "legendgroup": "Elden Ring",
         "marker": {
          "color": "#ab63fa",
          "size": [
           114120
          ],
          "sizemode": "area",
          "sizeref": 263.28616666666665,
          "symbol": "circle"
         },
         "mode": "markers",
         "name": "Elden Ring",
         "orientation": "v",
         "showlegend": true,
         "type": "scatter",
         "x": [
          2022
         ],
         "xaxis": "x",
         "y": [
          114120
         ],
         "yaxis": "y"
        },
        {
         "hovertemplate": "Title=Horizon Zero Dawn<br>Release Year=%{x}<br>Total rating=%{marker.size}<extra></extra>",
         "legendgroup": "Horizon Zero Dawn",
         "marker": {
          "color": "#FFA15A",
          "size": [
           107646
          ],
          "sizemode": "area",
          "sizeref": 263.28616666666665,
          "symbol": "circle"
         },
         "mode": "markers",
         "name": "Horizon Zero Dawn",
         "orientation": "v",
         "showlegend": true,
         "type": "scatter",
         "x": [
          2017
         ],
         "xaxis": "x",
         "y": [
          107646
         ],
         "yaxis": "y"
        },
        {
         "hovertemplate": "Title=The Legend of Zelda: Tears of the Kingdom<br>Release Year=%{x}<br>Total rating=%{marker.size}<extra></extra>",
         "legendgroup": "The Legend of Zelda: Tears of the Kingdom",
         "marker": {
          "color": "#19d3f3",
          "size": [
           99330
          ],
          "sizemode": "area",
          "sizeref": 263.28616666666665,
          "symbol": "circle"
         },
         "mode": "markers",
         "name": "The Legend of Zelda: Tears of the Kingdom",
         "orientation": "v",
         "showlegend": true,
         "type": "scatter",
         "x": [
          2023
         ],
         "xaxis": "x",
         "y": [
          99330
         ],
         "yaxis": "y"
        },
        {
         "hovertemplate": "Title=Days Gone<br>Release Year=%{x}<br>Total rating=%{marker.size}<extra></extra>",
         "legendgroup": "Days Gone",
         "marker": {
          "color": "#FF6692",
          "size": [
           93710.40000000001
          ],
          "sizemode": "area",
          "sizeref": 263.28616666666665,
          "symbol": "circle"
         },
         "mode": "markers",
         "name": "Days Gone",
         "orientation": "v",
         "showlegend": true,
         "type": "scatter",
         "x": [
          2019
         ],
         "xaxis": "x",
         "y": [
          93710.40000000001
         ],
         "yaxis": "y"
        },
        {
         "hovertemplate": "Title=BioShock Infinite<br>Release Year=%{x}<br>Total rating=%{marker.size}<extra></extra>",
         "legendgroup": "BioShock Infinite",
         "marker": {
          "color": "#B6E880",
          "size": [
           88081.2
          ],
          "sizemode": "area",
          "sizeref": 263.28616666666665,
          "symbol": "circle"
         },
         "mode": "markers",
         "name": "BioShock Infinite",
         "orientation": "v",
         "showlegend": true,
         "type": "scatter",
         "x": [
          2013
         ],
         "xaxis": "x",
         "y": [
          88081.2
         ],
         "yaxis": "y"
        },
        {
         "hovertemplate": "Title=Marvel's Spider-Man<br>Release Year=%{x}<br>Total rating=%{marker.size}<extra></extra>",
         "legendgroup": "Marvel's Spider-Man",
         "marker": {
          "color": "#FF97FF",
          "size": [
           87548.09999999999
          ],
          "sizemode": "area",
          "sizeref": 263.28616666666665,
          "symbol": "circle"
         },
         "mode": "markers",
         "name": "Marvel's Spider-Man",
         "orientation": "v",
         "showlegend": true,
         "type": "scatter",
         "x": [
          2018
         ],
         "xaxis": "x",
         "y": [
          87548.09999999999
         ],
         "yaxis": "y"
        },
        {
         "hovertemplate": "Title=God of War: Ragnarok<br>Release Year=%{x}<br>Total rating=%{marker.size}<extra></extra>",
         "legendgroup": "God of War: Ragnarok",
         "marker": {
          "color": "#FECB52",
          "size": [
           86491.8
          ],
          "sizemode": "area",
          "sizeref": 263.28616666666665,
          "symbol": "circle"
         },
         "mode": "markers",
         "name": "God of War: Ragnarok",
         "orientation": "v",
         "showlegend": true,
         "type": "scatter",
         "x": [
          2022
         ],
         "xaxis": "x",
         "y": [
          86491.8
         ],
         "yaxis": "y"
        },
        {
         "hovertemplate": "Title=Horizon Forbidden West<br>Release Year=%{x}<br>Total rating=%{marker.size}<extra></extra>",
         "legendgroup": "Horizon Forbidden West",
         "marker": {
          "color": "#636efa",
          "size": [
           85525.40000000001
          ],
          "sizemode": "area",
          "sizeref": 263.28616666666665,
          "symbol": "circle"
         },
         "mode": "markers",
         "name": "Horizon Forbidden West",
         "orientation": "v",
         "showlegend": true,
         "type": "scatter",
         "x": [
          2022
         ],
         "xaxis": "x",
         "y": [
          85525.40000000001
         ],
         "yaxis": "y"
        },
        {
         "hovertemplate": "Title=Final Fantasy XVI<br>Release Year=%{x}<br>Total rating=%{marker.size}<extra></extra>",
         "legendgroup": "Final Fantasy XVI",
         "marker": {
          "color": "#EF553B",
          "size": [
           82895.4
          ],
          "sizemode": "area",
          "sizeref": 263.28616666666665,
          "symbol": "circle"
         },
         "mode": "markers",
         "name": "Final Fantasy XVI",
         "orientation": "v",
         "showlegend": true,
         "type": "scatter",
         "x": [
          2023
         ],
         "xaxis": "x",
         "y": [
          82895.4
         ],
         "yaxis": "y"
        },
        {
         "hovertemplate": "Title=Half-Life 2<br>Release Year=%{x}<br>Total rating=%{marker.size}<extra></extra>",
         "legendgroup": "Half-Life 2",
         "marker": {
          "color": "#00cc96",
          "size": [
           82791.8
          ],
          "sizemode": "area",
          "sizeref": 263.28616666666665,
          "symbol": "circle"
         },
         "mode": "markers",
         "name": "Half-Life 2",
         "orientation": "v",
         "showlegend": true,
         "type": "scatter",
         "x": [
          2004
         ],
         "xaxis": "x",
         "y": [
          82791.8
         ],
         "yaxis": "y"
        },
        {
         "hovertemplate": "Title=Grand Theft Auto V<br>Release Year=%{x}<br>Total rating=%{marker.size}<extra></extra>",
         "legendgroup": "Grand Theft Auto V",
         "marker": {
          "color": "#ab63fa",
          "size": [
           80438.40000000001
          ],
          "sizemode": "area",
          "sizeref": 263.28616666666665,
          "symbol": "circle"
         },
         "mode": "markers",
         "name": "Grand Theft Auto V",
         "orientation": "v",
         "showlegend": true,
         "type": "scatter",
         "x": [
          2014
         ],
         "xaxis": "x",
         "y": [
          80438.40000000001
         ],
         "yaxis": "y"
        },
        {
         "hovertemplate": "Title=Starfield<br>Release Year=%{x}<br>Total rating=%{marker.size}<extra></extra>",
         "legendgroup": "Starfield",
         "marker": {
          "color": "#FFA15A",
          "size": [
           80412.6
          ],
          "sizemode": "area",
          "sizeref": 263.28616666666665,
          "symbol": "circle"
         },
         "mode": "markers",
         "name": "Starfield",
         "orientation": "v",
         "showlegend": true,
         "type": "scatter",
         "x": [
          2023
         ],
         "xaxis": "x",
         "y": [
          80412.6
         ],
         "yaxis": "y"
        }
       ],
       "layout": {
        "legend": {
         "itemsizing": "constant",
         "title": {
          "text": "Title"
         },
         "tracegroupgap": 0
        },
        "template": {
         "data": {
          "bar": [
           {
            "error_x": {
             "color": "#2a3f5f"
            },
            "error_y": {
             "color": "#2a3f5f"
            },
            "marker": {
             "line": {
              "color": "#E5ECF6",
              "width": 0.5
             },
             "pattern": {
              "fillmode": "overlay",
              "size": 10,
              "solidity": 0.2
             }
            },
            "type": "bar"
           }
          ],
          "barpolar": [
           {
            "marker": {
             "line": {
              "color": "#E5ECF6",
              "width": 0.5
             },
             "pattern": {
              "fillmode": "overlay",
              "size": 10,
              "solidity": 0.2
             }
            },
            "type": "barpolar"
           }
          ],
          "carpet": [
           {
            "aaxis": {
             "endlinecolor": "#2a3f5f",
             "gridcolor": "white",
             "linecolor": "white",
             "minorgridcolor": "white",
             "startlinecolor": "#2a3f5f"
            },
            "baxis": {
             "endlinecolor": "#2a3f5f",
             "gridcolor": "white",
             "linecolor": "white",
             "minorgridcolor": "white",
             "startlinecolor": "#2a3f5f"
            },
            "type": "carpet"
           }
          ],
          "choropleth": [
           {
            "colorbar": {
             "outlinewidth": 0,
             "ticks": ""
            },
            "type": "choropleth"
           }
          ],
          "contour": [
           {
            "colorbar": {
             "outlinewidth": 0,
             "ticks": ""
            },
            "colorscale": [
             [
              0,
              "#0d0887"
             ],
             [
              0.1111111111111111,
              "#46039f"
             ],
             [
              0.2222222222222222,
              "#7201a8"
             ],
             [
              0.3333333333333333,
              "#9c179e"
             ],
             [
              0.4444444444444444,
              "#bd3786"
             ],
             [
              0.5555555555555556,
              "#d8576b"
             ],
             [
              0.6666666666666666,
              "#ed7953"
             ],
             [
              0.7777777777777778,
              "#fb9f3a"
             ],
             [
              0.8888888888888888,
              "#fdca26"
             ],
             [
              1,
              "#f0f921"
             ]
            ],
            "type": "contour"
           }
          ],
          "contourcarpet": [
           {
            "colorbar": {
             "outlinewidth": 0,
             "ticks": ""
            },
            "type": "contourcarpet"
           }
          ],
          "heatmap": [
           {
            "colorbar": {
             "outlinewidth": 0,
             "ticks": ""
            },
            "colorscale": [
             [
              0,
              "#0d0887"
             ],
             [
              0.1111111111111111,
              "#46039f"
             ],
             [
              0.2222222222222222,
              "#7201a8"
             ],
             [
              0.3333333333333333,
              "#9c179e"
             ],
             [
              0.4444444444444444,
              "#bd3786"
             ],
             [
              0.5555555555555556,
              "#d8576b"
             ],
             [
              0.6666666666666666,
              "#ed7953"
             ],
             [
              0.7777777777777778,
              "#fb9f3a"
             ],
             [
              0.8888888888888888,
              "#fdca26"
             ],
             [
              1,
              "#f0f921"
             ]
            ],
            "type": "heatmap"
           }
          ],
          "heatmapgl": [
           {
            "colorbar": {
             "outlinewidth": 0,
             "ticks": ""
            },
            "colorscale": [
             [
              0,
              "#0d0887"
             ],
             [
              0.1111111111111111,
              "#46039f"
             ],
             [
              0.2222222222222222,
              "#7201a8"
             ],
             [
              0.3333333333333333,
              "#9c179e"
             ],
             [
              0.4444444444444444,
              "#bd3786"
             ],
             [
              0.5555555555555556,
              "#d8576b"
             ],
             [
              0.6666666666666666,
              "#ed7953"
             ],
             [
              0.7777777777777778,
              "#fb9f3a"
             ],
             [
              0.8888888888888888,
              "#fdca26"
             ],
             [
              1,
              "#f0f921"
             ]
            ],
            "type": "heatmapgl"
           }
          ],
          "histogram": [
           {
            "marker": {
             "pattern": {
              "fillmode": "overlay",
              "size": 10,
              "solidity": 0.2
             }
            },
            "type": "histogram"
           }
          ],
          "histogram2d": [
           {
            "colorbar": {
             "outlinewidth": 0,
             "ticks": ""
            },
            "colorscale": [
             [
              0,
              "#0d0887"
             ],
             [
              0.1111111111111111,
              "#46039f"
             ],
             [
              0.2222222222222222,
              "#7201a8"
             ],
             [
              0.3333333333333333,
              "#9c179e"
             ],
             [
              0.4444444444444444,
              "#bd3786"
             ],
             [
              0.5555555555555556,
              "#d8576b"
             ],
             [
              0.6666666666666666,
              "#ed7953"
             ],
             [
              0.7777777777777778,
              "#fb9f3a"
             ],
             [
              0.8888888888888888,
              "#fdca26"
             ],
             [
              1,
              "#f0f921"
             ]
            ],
            "type": "histogram2d"
           }
          ],
          "histogram2dcontour": [
           {
            "colorbar": {
             "outlinewidth": 0,
             "ticks": ""
            },
            "colorscale": [
             [
              0,
              "#0d0887"
             ],
             [
              0.1111111111111111,
              "#46039f"
             ],
             [
              0.2222222222222222,
              "#7201a8"
             ],
             [
              0.3333333333333333,
              "#9c179e"
             ],
             [
              0.4444444444444444,
              "#bd3786"
             ],
             [
              0.5555555555555556,
              "#d8576b"
             ],
             [
              0.6666666666666666,
              "#ed7953"
             ],
             [
              0.7777777777777778,
              "#fb9f3a"
             ],
             [
              0.8888888888888888,
              "#fdca26"
             ],
             [
              1,
              "#f0f921"
             ]
            ],
            "type": "histogram2dcontour"
           }
          ],
          "mesh3d": [
           {
            "colorbar": {
             "outlinewidth": 0,
             "ticks": ""
            },
            "type": "mesh3d"
           }
          ],
          "parcoords": [
           {
            "line": {
             "colorbar": {
              "outlinewidth": 0,
              "ticks": ""
             }
            },
            "type": "parcoords"
           }
          ],
          "pie": [
           {
            "automargin": true,
            "type": "pie"
           }
          ],
          "scatter": [
           {
            "fillpattern": {
             "fillmode": "overlay",
             "size": 10,
             "solidity": 0.2
            },
            "type": "scatter"
           }
          ],
          "scatter3d": [
           {
            "line": {
             "colorbar": {
              "outlinewidth": 0,
              "ticks": ""
             }
            },
            "marker": {
             "colorbar": {
              "outlinewidth": 0,
              "ticks": ""
             }
            },
            "type": "scatter3d"
           }
          ],
          "scattercarpet": [
           {
            "marker": {
             "colorbar": {
              "outlinewidth": 0,
              "ticks": ""
             }
            },
            "type": "scattercarpet"
           }
          ],
          "scattergeo": [
           {
            "marker": {
             "colorbar": {
              "outlinewidth": 0,
              "ticks": ""
             }
            },
            "type": "scattergeo"
           }
          ],
          "scattergl": [
           {
            "marker": {
             "colorbar": {
              "outlinewidth": 0,
              "ticks": ""
             }
            },
            "type": "scattergl"
           }
          ],
          "scattermapbox": [
           {
            "marker": {
             "colorbar": {
              "outlinewidth": 0,
              "ticks": ""
             }
            },
            "type": "scattermapbox"
           }
          ],
          "scatterpolar": [
           {
            "marker": {
             "colorbar": {
              "outlinewidth": 0,
              "ticks": ""
             }
            },
            "type": "scatterpolar"
           }
          ],
          "scatterpolargl": [
           {
            "marker": {
             "colorbar": {
              "outlinewidth": 0,
              "ticks": ""
             }
            },
            "type": "scatterpolargl"
           }
          ],
          "scatterternary": [
           {
            "marker": {
             "colorbar": {
              "outlinewidth": 0,
              "ticks": ""
             }
            },
            "type": "scatterternary"
           }
          ],
          "surface": [
           {
            "colorbar": {
             "outlinewidth": 0,
             "ticks": ""
            },
            "colorscale": [
             [
              0,
              "#0d0887"
             ],
             [
              0.1111111111111111,
              "#46039f"
             ],
             [
              0.2222222222222222,
              "#7201a8"
             ],
             [
              0.3333333333333333,
              "#9c179e"
             ],
             [
              0.4444444444444444,
              "#bd3786"
             ],
             [
              0.5555555555555556,
              "#d8576b"
             ],
             [
              0.6666666666666666,
              "#ed7953"
             ],
             [
              0.7777777777777778,
              "#fb9f3a"
             ],
             [
              0.8888888888888888,
              "#fdca26"
             ],
             [
              1,
              "#f0f921"
             ]
            ],
            "type": "surface"
           }
          ],
          "table": [
           {
            "cells": {
             "fill": {
              "color": "#EBF0F8"
             },
             "line": {
              "color": "white"
             }
            },
            "header": {
             "fill": {
              "color": "#C8D4E3"
             },
             "line": {
              "color": "white"
             }
            },
            "type": "table"
           }
          ]
         },
         "layout": {
          "annotationdefaults": {
           "arrowcolor": "#2a3f5f",
           "arrowhead": 0,
           "arrowwidth": 1
          },
          "autotypenumbers": "strict",
          "coloraxis": {
           "colorbar": {
            "outlinewidth": 0,
            "ticks": ""
           }
          },
          "colorscale": {
           "diverging": [
            [
             0,
             "#8e0152"
            ],
            [
             0.1,
             "#c51b7d"
            ],
            [
             0.2,
             "#de77ae"
            ],
            [
             0.3,
             "#f1b6da"
            ],
            [
             0.4,
             "#fde0ef"
            ],
            [
             0.5,
             "#f7f7f7"
            ],
            [
             0.6,
             "#e6f5d0"
            ],
            [
             0.7,
             "#b8e186"
            ],
            [
             0.8,
             "#7fbc41"
            ],
            [
             0.9,
             "#4d9221"
            ],
            [
             1,
             "#276419"
            ]
           ],
           "sequential": [
            [
             0,
             "#0d0887"
            ],
            [
             0.1111111111111111,
             "#46039f"
            ],
            [
             0.2222222222222222,
             "#7201a8"
            ],
            [
             0.3333333333333333,
             "#9c179e"
            ],
            [
             0.4444444444444444,
             "#bd3786"
            ],
            [
             0.5555555555555556,
             "#d8576b"
            ],
            [
             0.6666666666666666,
             "#ed7953"
            ],
            [
             0.7777777777777778,
             "#fb9f3a"
            ],
            [
             0.8888888888888888,
             "#fdca26"
            ],
            [
             1,
             "#f0f921"
            ]
           ],
           "sequentialminus": [
            [
             0,
             "#0d0887"
            ],
            [
             0.1111111111111111,
             "#46039f"
            ],
            [
             0.2222222222222222,
             "#7201a8"
            ],
            [
             0.3333333333333333,
             "#9c179e"
            ],
            [
             0.4444444444444444,
             "#bd3786"
            ],
            [
             0.5555555555555556,
             "#d8576b"
            ],
            [
             0.6666666666666666,
             "#ed7953"
            ],
            [
             0.7777777777777778,
             "#fb9f3a"
            ],
            [
             0.8888888888888888,
             "#fdca26"
            ],
            [
             1,
             "#f0f921"
            ]
           ]
          },
          "colorway": [
           "#636efa",
           "#EF553B",
           "#00cc96",
           "#ab63fa",
           "#FFA15A",
           "#19d3f3",
           "#FF6692",
           "#B6E880",
           "#FF97FF",
           "#FECB52"
          ],
          "font": {
           "color": "#2a3f5f"
          },
          "geo": {
           "bgcolor": "white",
           "lakecolor": "white",
           "landcolor": "#E5ECF6",
           "showlakes": true,
           "showland": true,
           "subunitcolor": "white"
          },
          "hoverlabel": {
           "align": "left"
          },
          "hovermode": "closest",
          "mapbox": {
           "style": "light"
          },
          "paper_bgcolor": "white",
          "plot_bgcolor": "#E5ECF6",
          "polar": {
           "angularaxis": {
            "gridcolor": "white",
            "linecolor": "white",
            "ticks": ""
           },
           "bgcolor": "#E5ECF6",
           "radialaxis": {
            "gridcolor": "white",
            "linecolor": "white",
            "ticks": ""
           }
          },
          "scene": {
           "xaxis": {
            "backgroundcolor": "#E5ECF6",
            "gridcolor": "white",
            "gridwidth": 2,
            "linecolor": "white",
            "showbackground": true,
            "ticks": "",
            "zerolinecolor": "white"
           },
           "yaxis": {
            "backgroundcolor": "#E5ECF6",
            "gridcolor": "white",
            "gridwidth": 2,
            "linecolor": "white",
            "showbackground": true,
            "ticks": "",
            "zerolinecolor": "white"
           },
           "zaxis": {
            "backgroundcolor": "#E5ECF6",
            "gridcolor": "white",
            "gridwidth": 2,
            "linecolor": "white",
            "showbackground": true,
            "ticks": "",
            "zerolinecolor": "white"
           }
          },
          "shapedefaults": {
           "line": {
            "color": "#2a3f5f"
           }
          },
          "ternary": {
           "aaxis": {
            "gridcolor": "white",
            "linecolor": "white",
            "ticks": ""
           },
           "baxis": {
            "gridcolor": "white",
            "linecolor": "white",
            "ticks": ""
           },
           "bgcolor": "#E5ECF6",
           "caxis": {
            "gridcolor": "white",
            "linecolor": "white",
            "ticks": ""
           }
          },
          "title": {
           "x": 0.05
          },
          "xaxis": {
           "automargin": true,
           "gridcolor": "white",
           "linecolor": "white",
           "ticks": "",
           "title": {
            "standoff": 15
           },
           "zerolinecolor": "white",
           "zerolinewidth": 2
          },
          "yaxis": {
           "automargin": true,
           "gridcolor": "white",
           "linecolor": "white",
           "ticks": "",
           "title": {
            "standoff": 15
           },
           "zerolinecolor": "white",
           "zerolinewidth": 2
          }
         }
        },
        "title": {
         "text": "Most Famous Games of All time "
        },
        "xaxis": {
         "anchor": "y",
         "domain": [
          0,
          1
         ],
         "title": {
          "text": "Release Year"
         },
         "type": "log"
        },
        "yaxis": {
         "anchor": "x",
         "domain": [
          0,
          1
         ],
         "title": {
          "text": "Total rating"
         }
        }
       }
      }
     },
     "metadata": {},
     "output_type": "display_data"
    }
   ],
   "source": [
    "fig = px.scatter(Most_Famous_Games_of_all_time, x='Release Year', y='Total rating', size='Total rating', color='Title',title='Most Famous Games of All time ',log_x=True, size_max=60)\n",
    "fig.show(render='iframe')"
   ]
  },
  {
   "cell_type": "code",
   "execution_count": 21,
   "id": "89eefeff",
   "metadata": {
    "execution": {
     "iopub.execute_input": "2024-02-13T14:32:34.292297Z",
     "iopub.status.busy": "2024-02-13T14:32:34.291095Z",
     "iopub.status.idle": "2024-02-13T14:32:34.424848Z",
     "shell.execute_reply": "2024-02-13T14:32:34.423692Z"
    },
    "papermill": {
     "duration": 0.154,
     "end_time": "2024-02-13T14:32:34.427635",
     "exception": false,
     "start_time": "2024-02-13T14:32:34.273635",
     "status": "completed"
    },
    "tags": []
   },
   "outputs": [
    {
     "data": {
      "application/vnd.plotly.v1+json": {
       "config": {
        "plotlyServerURL": "https://plot.ly"
       },
       "data": [
        {
         "alignmentgroup": "True",
         "hovertemplate": "Title=%{x}<br>Total rating=%{marker.color}<extra></extra>",
         "legendgroup": "",
         "marker": {
          "color": [
           947830.2,
           249877.4,
           226180.5,
           210100.00000000003,
           198953.3,
           195500.80000000002,
           185297.19999999998,
           180145.19999999998,
           153225.6,
           138720.4,
           138047.9,
           137264,
           122697,
           114120,
           107646,
           99330,
           93710.40000000001,
           88081.2,
           87548.09999999999,
           86491.8,
           85525.40000000001,
           82895.4,
           82791.8,
           80438.40000000001,
           80412.6
          ],
          "coloraxis": "coloraxis",
          "pattern": {
           "shape": ""
          }
         },
         "name": "",
         "offsetgroup": "",
         "orientation": "v",
         "showlegend": false,
         "textposition": "auto",
         "type": "bar",
         "x": [
          "The Last of Us Part II",
          "Cyberpunk 2077",
          "God of War",
          "Red Dead Redemption 2",
          "Ghost of Tsushima",
          "The Legend of Zelda: Breath of the Wild",
          "The Last of Us Remastered",
          "The Witcher 3: Wild Hunt",
          "Uncharted 4: A Thief's End",
          "Death Stranding",
          "Baldur's Gate 3",
          "The Last of Us",
          "Bloodborne",
          "Elden Ring",
          "Horizon Zero Dawn",
          "The Legend of Zelda: Tears of the Kingdom",
          "Days Gone",
          "BioShock Infinite",
          "Marvel's Spider-Man",
          "God of War: Ragnarok",
          "Horizon Forbidden West",
          "Final Fantasy XVI",
          "Half-Life 2",
          "Grand Theft Auto V",
          "Starfield"
         ],
         "xaxis": "x",
         "y": [
          947830.2,
          249877.4,
          226180.5,
          210100.00000000003,
          198953.3,
          195500.80000000002,
          185297.19999999998,
          180145.19999999998,
          153225.6,
          138720.4,
          138047.9,
          137264,
          122697,
          114120,
          107646,
          99330,
          93710.40000000001,
          88081.2,
          87548.09999999999,
          86491.8,
          85525.40000000001,
          82895.4,
          82791.8,
          80438.40000000001,
          80412.6
         ],
         "yaxis": "y"
        }
       ],
       "layout": {
        "barmode": "relative",
        "coloraxis": {
         "colorbar": {
          "title": {
           "text": "Total rating"
          }
         },
         "colorscale": [
          [
           0,
           "#0d0887"
          ],
          [
           0.1111111111111111,
           "#46039f"
          ],
          [
           0.2222222222222222,
           "#7201a8"
          ],
          [
           0.3333333333333333,
           "#9c179e"
          ],
          [
           0.4444444444444444,
           "#bd3786"
          ],
          [
           0.5555555555555556,
           "#d8576b"
          ],
          [
           0.6666666666666666,
           "#ed7953"
          ],
          [
           0.7777777777777778,
           "#fb9f3a"
          ],
          [
           0.8888888888888888,
           "#fdca26"
          ],
          [
           1,
           "#f0f921"
          ]
         ]
        },
        "legend": {
         "tracegroupgap": 0
        },
        "template": {
         "data": {
          "bar": [
           {
            "error_x": {
             "color": "#2a3f5f"
            },
            "error_y": {
             "color": "#2a3f5f"
            },
            "marker": {
             "line": {
              "color": "#E5ECF6",
              "width": 0.5
             },
             "pattern": {
              "fillmode": "overlay",
              "size": 10,
              "solidity": 0.2
             }
            },
            "type": "bar"
           }
          ],
          "barpolar": [
           {
            "marker": {
             "line": {
              "color": "#E5ECF6",
              "width": 0.5
             },
             "pattern": {
              "fillmode": "overlay",
              "size": 10,
              "solidity": 0.2
             }
            },
            "type": "barpolar"
           }
          ],
          "carpet": [
           {
            "aaxis": {
             "endlinecolor": "#2a3f5f",
             "gridcolor": "white",
             "linecolor": "white",
             "minorgridcolor": "white",
             "startlinecolor": "#2a3f5f"
            },
            "baxis": {
             "endlinecolor": "#2a3f5f",
             "gridcolor": "white",
             "linecolor": "white",
             "minorgridcolor": "white",
             "startlinecolor": "#2a3f5f"
            },
            "type": "carpet"
           }
          ],
          "choropleth": [
           {
            "colorbar": {
             "outlinewidth": 0,
             "ticks": ""
            },
            "type": "choropleth"
           }
          ],
          "contour": [
           {
            "colorbar": {
             "outlinewidth": 0,
             "ticks": ""
            },
            "colorscale": [
             [
              0,
              "#0d0887"
             ],
             [
              0.1111111111111111,
              "#46039f"
             ],
             [
              0.2222222222222222,
              "#7201a8"
             ],
             [
              0.3333333333333333,
              "#9c179e"
             ],
             [
              0.4444444444444444,
              "#bd3786"
             ],
             [
              0.5555555555555556,
              "#d8576b"
             ],
             [
              0.6666666666666666,
              "#ed7953"
             ],
             [
              0.7777777777777778,
              "#fb9f3a"
             ],
             [
              0.8888888888888888,
              "#fdca26"
             ],
             [
              1,
              "#f0f921"
             ]
            ],
            "type": "contour"
           }
          ],
          "contourcarpet": [
           {
            "colorbar": {
             "outlinewidth": 0,
             "ticks": ""
            },
            "type": "contourcarpet"
           }
          ],
          "heatmap": [
           {
            "colorbar": {
             "outlinewidth": 0,
             "ticks": ""
            },
            "colorscale": [
             [
              0,
              "#0d0887"
             ],
             [
              0.1111111111111111,
              "#46039f"
             ],
             [
              0.2222222222222222,
              "#7201a8"
             ],
             [
              0.3333333333333333,
              "#9c179e"
             ],
             [
              0.4444444444444444,
              "#bd3786"
             ],
             [
              0.5555555555555556,
              "#d8576b"
             ],
             [
              0.6666666666666666,
              "#ed7953"
             ],
             [
              0.7777777777777778,
              "#fb9f3a"
             ],
             [
              0.8888888888888888,
              "#fdca26"
             ],
             [
              1,
              "#f0f921"
             ]
            ],
            "type": "heatmap"
           }
          ],
          "heatmapgl": [
           {
            "colorbar": {
             "outlinewidth": 0,
             "ticks": ""
            },
            "colorscale": [
             [
              0,
              "#0d0887"
             ],
             [
              0.1111111111111111,
              "#46039f"
             ],
             [
              0.2222222222222222,
              "#7201a8"
             ],
             [
              0.3333333333333333,
              "#9c179e"
             ],
             [
              0.4444444444444444,
              "#bd3786"
             ],
             [
              0.5555555555555556,
              "#d8576b"
             ],
             [
              0.6666666666666666,
              "#ed7953"
             ],
             [
              0.7777777777777778,
              "#fb9f3a"
             ],
             [
              0.8888888888888888,
              "#fdca26"
             ],
             [
              1,
              "#f0f921"
             ]
            ],
            "type": "heatmapgl"
           }
          ],
          "histogram": [
           {
            "marker": {
             "pattern": {
              "fillmode": "overlay",
              "size": 10,
              "solidity": 0.2
             }
            },
            "type": "histogram"
           }
          ],
          "histogram2d": [
           {
            "colorbar": {
             "outlinewidth": 0,
             "ticks": ""
            },
            "colorscale": [
             [
              0,
              "#0d0887"
             ],
             [
              0.1111111111111111,
              "#46039f"
             ],
             [
              0.2222222222222222,
              "#7201a8"
             ],
             [
              0.3333333333333333,
              "#9c179e"
             ],
             [
              0.4444444444444444,
              "#bd3786"
             ],
             [
              0.5555555555555556,
              "#d8576b"
             ],
             [
              0.6666666666666666,
              "#ed7953"
             ],
             [
              0.7777777777777778,
              "#fb9f3a"
             ],
             [
              0.8888888888888888,
              "#fdca26"
             ],
             [
              1,
              "#f0f921"
             ]
            ],
            "type": "histogram2d"
           }
          ],
          "histogram2dcontour": [
           {
            "colorbar": {
             "outlinewidth": 0,
             "ticks": ""
            },
            "colorscale": [
             [
              0,
              "#0d0887"
             ],
             [
              0.1111111111111111,
              "#46039f"
             ],
             [
              0.2222222222222222,
              "#7201a8"
             ],
             [
              0.3333333333333333,
              "#9c179e"
             ],
             [
              0.4444444444444444,
              "#bd3786"
             ],
             [
              0.5555555555555556,
              "#d8576b"
             ],
             [
              0.6666666666666666,
              "#ed7953"
             ],
             [
              0.7777777777777778,
              "#fb9f3a"
             ],
             [
              0.8888888888888888,
              "#fdca26"
             ],
             [
              1,
              "#f0f921"
             ]
            ],
            "type": "histogram2dcontour"
           }
          ],
          "mesh3d": [
           {
            "colorbar": {
             "outlinewidth": 0,
             "ticks": ""
            },
            "type": "mesh3d"
           }
          ],
          "parcoords": [
           {
            "line": {
             "colorbar": {
              "outlinewidth": 0,
              "ticks": ""
             }
            },
            "type": "parcoords"
           }
          ],
          "pie": [
           {
            "automargin": true,
            "type": "pie"
           }
          ],
          "scatter": [
           {
            "fillpattern": {
             "fillmode": "overlay",
             "size": 10,
             "solidity": 0.2
            },
            "type": "scatter"
           }
          ],
          "scatter3d": [
           {
            "line": {
             "colorbar": {
              "outlinewidth": 0,
              "ticks": ""
             }
            },
            "marker": {
             "colorbar": {
              "outlinewidth": 0,
              "ticks": ""
             }
            },
            "type": "scatter3d"
           }
          ],
          "scattercarpet": [
           {
            "marker": {
             "colorbar": {
              "outlinewidth": 0,
              "ticks": ""
             }
            },
            "type": "scattercarpet"
           }
          ],
          "scattergeo": [
           {
            "marker": {
             "colorbar": {
              "outlinewidth": 0,
              "ticks": ""
             }
            },
            "type": "scattergeo"
           }
          ],
          "scattergl": [
           {
            "marker": {
             "colorbar": {
              "outlinewidth": 0,
              "ticks": ""
             }
            },
            "type": "scattergl"
           }
          ],
          "scattermapbox": [
           {
            "marker": {
             "colorbar": {
              "outlinewidth": 0,
              "ticks": ""
             }
            },
            "type": "scattermapbox"
           }
          ],
          "scatterpolar": [
           {
            "marker": {
             "colorbar": {
              "outlinewidth": 0,
              "ticks": ""
             }
            },
            "type": "scatterpolar"
           }
          ],
          "scatterpolargl": [
           {
            "marker": {
             "colorbar": {
              "outlinewidth": 0,
              "ticks": ""
             }
            },
            "type": "scatterpolargl"
           }
          ],
          "scatterternary": [
           {
            "marker": {
             "colorbar": {
              "outlinewidth": 0,
              "ticks": ""
             }
            },
            "type": "scatterternary"
           }
          ],
          "surface": [
           {
            "colorbar": {
             "outlinewidth": 0,
             "ticks": ""
            },
            "colorscale": [
             [
              0,
              "#0d0887"
             ],
             [
              0.1111111111111111,
              "#46039f"
             ],
             [
              0.2222222222222222,
              "#7201a8"
             ],
             [
              0.3333333333333333,
              "#9c179e"
             ],
             [
              0.4444444444444444,
              "#bd3786"
             ],
             [
              0.5555555555555556,
              "#d8576b"
             ],
             [
              0.6666666666666666,
              "#ed7953"
             ],
             [
              0.7777777777777778,
              "#fb9f3a"
             ],
             [
              0.8888888888888888,
              "#fdca26"
             ],
             [
              1,
              "#f0f921"
             ]
            ],
            "type": "surface"
           }
          ],
          "table": [
           {
            "cells": {
             "fill": {
              "color": "#EBF0F8"
             },
             "line": {
              "color": "white"
             }
            },
            "header": {
             "fill": {
              "color": "#C8D4E3"
             },
             "line": {
              "color": "white"
             }
            },
            "type": "table"
           }
          ]
         },
         "layout": {
          "annotationdefaults": {
           "arrowcolor": "#2a3f5f",
           "arrowhead": 0,
           "arrowwidth": 1
          },
          "autotypenumbers": "strict",
          "coloraxis": {
           "colorbar": {
            "outlinewidth": 0,
            "ticks": ""
           }
          },
          "colorscale": {
           "diverging": [
            [
             0,
             "#8e0152"
            ],
            [
             0.1,
             "#c51b7d"
            ],
            [
             0.2,
             "#de77ae"
            ],
            [
             0.3,
             "#f1b6da"
            ],
            [
             0.4,
             "#fde0ef"
            ],
            [
             0.5,
             "#f7f7f7"
            ],
            [
             0.6,
             "#e6f5d0"
            ],
            [
             0.7,
             "#b8e186"
            ],
            [
             0.8,
             "#7fbc41"
            ],
            [
             0.9,
             "#4d9221"
            ],
            [
             1,
             "#276419"
            ]
           ],
           "sequential": [
            [
             0,
             "#0d0887"
            ],
            [
             0.1111111111111111,
             "#46039f"
            ],
            [
             0.2222222222222222,
             "#7201a8"
            ],
            [
             0.3333333333333333,
             "#9c179e"
            ],
            [
             0.4444444444444444,
             "#bd3786"
            ],
            [
             0.5555555555555556,
             "#d8576b"
            ],
            [
             0.6666666666666666,
             "#ed7953"
            ],
            [
             0.7777777777777778,
             "#fb9f3a"
            ],
            [
             0.8888888888888888,
             "#fdca26"
            ],
            [
             1,
             "#f0f921"
            ]
           ],
           "sequentialminus": [
            [
             0,
             "#0d0887"
            ],
            [
             0.1111111111111111,
             "#46039f"
            ],
            [
             0.2222222222222222,
             "#7201a8"
            ],
            [
             0.3333333333333333,
             "#9c179e"
            ],
            [
             0.4444444444444444,
             "#bd3786"
            ],
            [
             0.5555555555555556,
             "#d8576b"
            ],
            [
             0.6666666666666666,
             "#ed7953"
            ],
            [
             0.7777777777777778,
             "#fb9f3a"
            ],
            [
             0.8888888888888888,
             "#fdca26"
            ],
            [
             1,
             "#f0f921"
            ]
           ]
          },
          "colorway": [
           "#636efa",
           "#EF553B",
           "#00cc96",
           "#ab63fa",
           "#FFA15A",
           "#19d3f3",
           "#FF6692",
           "#B6E880",
           "#FF97FF",
           "#FECB52"
          ],
          "font": {
           "color": "#2a3f5f"
          },
          "geo": {
           "bgcolor": "white",
           "lakecolor": "white",
           "landcolor": "#E5ECF6",
           "showlakes": true,
           "showland": true,
           "subunitcolor": "white"
          },
          "hoverlabel": {
           "align": "left"
          },
          "hovermode": "closest",
          "mapbox": {
           "style": "light"
          },
          "paper_bgcolor": "white",
          "plot_bgcolor": "#E5ECF6",
          "polar": {
           "angularaxis": {
            "gridcolor": "white",
            "linecolor": "white",
            "ticks": ""
           },
           "bgcolor": "#E5ECF6",
           "radialaxis": {
            "gridcolor": "white",
            "linecolor": "white",
            "ticks": ""
           }
          },
          "scene": {
           "xaxis": {
            "backgroundcolor": "#E5ECF6",
            "gridcolor": "white",
            "gridwidth": 2,
            "linecolor": "white",
            "showbackground": true,
            "ticks": "",
            "zerolinecolor": "white"
           },
           "yaxis": {
            "backgroundcolor": "#E5ECF6",
            "gridcolor": "white",
            "gridwidth": 2,
            "linecolor": "white",
            "showbackground": true,
            "ticks": "",
            "zerolinecolor": "white"
           },
           "zaxis": {
            "backgroundcolor": "#E5ECF6",
            "gridcolor": "white",
            "gridwidth": 2,
            "linecolor": "white",
            "showbackground": true,
            "ticks": "",
            "zerolinecolor": "white"
           }
          },
          "shapedefaults": {
           "line": {
            "color": "#2a3f5f"
           }
          },
          "ternary": {
           "aaxis": {
            "gridcolor": "white",
            "linecolor": "white",
            "ticks": ""
           },
           "baxis": {
            "gridcolor": "white",
            "linecolor": "white",
            "ticks": ""
           },
           "bgcolor": "#E5ECF6",
           "caxis": {
            "gridcolor": "white",
            "linecolor": "white",
            "ticks": ""
           }
          },
          "title": {
           "x": 0.05
          },
          "xaxis": {
           "automargin": true,
           "gridcolor": "white",
           "linecolor": "white",
           "ticks": "",
           "title": {
            "standoff": 15
           },
           "zerolinecolor": "white",
           "zerolinewidth": 2
          },
          "yaxis": {
           "automargin": true,
           "gridcolor": "white",
           "linecolor": "white",
           "ticks": "",
           "title": {
            "standoff": 15
           },
           "zerolinecolor": "white",
           "zerolinewidth": 2
          }
         }
        },
        "title": {
         "text": "Most Famous Games of All time "
        },
        "xaxis": {
         "anchor": "y",
         "domain": [
          0,
          1
         ],
         "title": {
          "text": "Title"
         }
        },
        "yaxis": {
         "anchor": "x",
         "domain": [
          0,
          1
         ],
         "title": {
          "text": "Total rating"
         }
        }
       }
      }
     },
     "metadata": {},
     "output_type": "display_data"
    }
   ],
   "source": [
    "fig=px.bar(Most_Famous_Games_of_all_time,x='Title',y='Total rating',color='Total rating',title='Most Famous Games of All time ')\n",
    "fig.show(render='iframe')"
   ]
  },
  {
   "cell_type": "code",
   "execution_count": 25,
   "id": "071d7f6c",
   "metadata": {
    "execution": {
     "iopub.execute_input": "2024-02-13T14:32:34.461867Z",
     "iopub.status.busy": "2024-02-13T14:32:34.461417Z",
     "iopub.status.idle": "2024-02-13T14:32:34.575830Z",
     "shell.execute_reply": "2024-02-13T14:32:34.574359Z"
    },
    "papermill": {
     "duration": 0.134575,
     "end_time": "2024-02-13T14:32:34.578458",
     "exception": false,
     "start_time": "2024-02-13T14:32:34.443883",
     "status": "completed"
    },
    "tags": []
   },
   "outputs": [
    {
     "data": {
      "text/html": [
       "<style type=\"text/css\">\n",
       "#T_a0d9c_row0_col1 {\n",
       "  background-color: #08306b;\n",
       "  color: #f1f1f1;\n",
       "}\n",
       "#T_a0d9c_row1_col1 {\n",
       "  background-color: #1e6db2;\n",
       "  color: #f1f1f1;\n",
       "}\n",
       "#T_a0d9c_row2_col1 {\n",
       "  background-color: #6dafd7;\n",
       "  color: #f1f1f1;\n",
       "}\n",
       "#T_a0d9c_row3_col1 {\n",
       "  background-color: #8cc0dd;\n",
       "  color: #000000;\n",
       "}\n",
       "#T_a0d9c_row4_col1 {\n",
       "  background-color: #c2d9ee;\n",
       "  color: #000000;\n",
       "}\n",
       "#T_a0d9c_row5_col1 {\n",
       "  background-color: #cfe1f2;\n",
       "  color: #000000;\n",
       "}\n",
       "#T_a0d9c_row6_col1, #T_a0d9c_row7_col1 {\n",
       "  background-color: #d4e4f4;\n",
       "  color: #000000;\n",
       "}\n",
       "#T_a0d9c_row8_col1 {\n",
       "  background-color: #d6e5f4;\n",
       "  color: #000000;\n",
       "}\n",
       "#T_a0d9c_row9_col1 {\n",
       "  background-color: #dce9f6;\n",
       "  color: #000000;\n",
       "}\n",
       "#T_a0d9c_row10_col1 {\n",
       "  background-color: #deebf7;\n",
       "  color: #000000;\n",
       "}\n",
       "#T_a0d9c_row11_col1 {\n",
       "  background-color: #e1edf8;\n",
       "  color: #000000;\n",
       "}\n",
       "#T_a0d9c_row12_col1 {\n",
       "  background-color: #e9f2fa;\n",
       "  color: #000000;\n",
       "}\n",
       "#T_a0d9c_row13_col1, #T_a0d9c_row14_col1 {\n",
       "  background-color: #eaf3fb;\n",
       "  color: #000000;\n",
       "}\n",
       "#T_a0d9c_row15_col1 {\n",
       "  background-color: #f0f6fd;\n",
       "  color: #000000;\n",
       "}\n",
       "#T_a0d9c_row16_col1 {\n",
       "  background-color: #f3f8fe;\n",
       "  color: #000000;\n",
       "}\n",
       "#T_a0d9c_row17_col1 {\n",
       "  background-color: #f5f9fe;\n",
       "  color: #000000;\n",
       "}\n",
       "#T_a0d9c_row18_col1, #T_a0d9c_row19_col1 {\n",
       "  background-color: #f7fbff;\n",
       "  color: #000000;\n",
       "}\n",
       "</style>\n",
       "<table id=\"T_a0d9c\">\n",
       "  <thead>\n",
       "    <tr>\n",
       "      <th class=\"blank level0\" >&nbsp;</th>\n",
       "      <th id=\"T_a0d9c_level0_col0\" class=\"col_heading level0 col0\" >Developer</th>\n",
       "      <th id=\"T_a0d9c_level0_col1\" class=\"col_heading level0 col1\" >count</th>\n",
       "    </tr>\n",
       "  </thead>\n",
       "  <tbody>\n",
       "    <tr>\n",
       "      <th id=\"T_a0d9c_level0_row0\" class=\"row_heading level0 row0\" >0</th>\n",
       "      <td id=\"T_a0d9c_row0_col0\" class=\"data row0 col0\" >Capcom</td>\n",
       "      <td id=\"T_a0d9c_row0_col1\" class=\"data row0 col1\" >184</td>\n",
       "    </tr>\n",
       "    <tr>\n",
       "      <th id=\"T_a0d9c_level0_row1\" class=\"row_heading level0 row1\" >1</th>\n",
       "      <td id=\"T_a0d9c_row1_col0\" class=\"data row1 col0\" >Nintendo</td>\n",
       "      <td id=\"T_a0d9c_row1_col1\" class=\"data row1 col1\" >152</td>\n",
       "    </tr>\n",
       "    <tr>\n",
       "      <th id=\"T_a0d9c_level0_row2\" class=\"row_heading level0 row2\" >2</th>\n",
       "      <td id=\"T_a0d9c_row2_col0\" class=\"data row2 col0\" >Telltale Games</td>\n",
       "      <td id=\"T_a0d9c_row2_col1\" class=\"data row2 col1\" >115</td>\n",
       "    </tr>\n",
       "    <tr>\n",
       "      <th id=\"T_a0d9c_level0_row3\" class=\"row_heading level0 row3\" >3</th>\n",
       "      <td id=\"T_a0d9c_row3_col0\" class=\"data row3 col0\" >Konami</td>\n",
       "      <td id=\"T_a0d9c_row3_col1\" class=\"data row3 col1\" >105</td>\n",
       "    </tr>\n",
       "    <tr>\n",
       "      <th id=\"T_a0d9c_level0_row4\" class=\"row_heading level0 row4\" >4</th>\n",
       "      <td id=\"T_a0d9c_row4_col0\" class=\"data row4 col0\" >Square Enix</td>\n",
       "      <td id=\"T_a0d9c_row4_col1\" class=\"data row4 col1\" >84</td>\n",
       "    </tr>\n",
       "    <tr>\n",
       "      <th id=\"T_a0d9c_level0_row5\" class=\"row_heading level0 row5\" >5</th>\n",
       "      <td id=\"T_a0d9c_row5_col0\" class=\"data row5 col0\" >Ubisoft</td>\n",
       "      <td id=\"T_a0d9c_row5_col1\" class=\"data row5 col1\" >76</td>\n",
       "    </tr>\n",
       "    <tr>\n",
       "      <th id=\"T_a0d9c_level0_row6\" class=\"row_heading level0 row6\" >6</th>\n",
       "      <td id=\"T_a0d9c_row6_col0\" class=\"data row6 col0\" >Electronic Arts</td>\n",
       "      <td id=\"T_a0d9c_row6_col1\" class=\"data row6 col1\" >72</td>\n",
       "    </tr>\n",
       "    <tr>\n",
       "      <th id=\"T_a0d9c_level0_row7\" class=\"row_heading level0 row7\" >7</th>\n",
       "      <td id=\"T_a0d9c_row7_col0\" class=\"data row7 col0\" >Gameloft</td>\n",
       "      <td id=\"T_a0d9c_row7_col1\" class=\"data row7 col1\" >72</td>\n",
       "    </tr>\n",
       "    <tr>\n",
       "      <th id=\"T_a0d9c_level0_row8\" class=\"row_heading level0 row8\" >8</th>\n",
       "      <td id=\"T_a0d9c_row8_col0\" class=\"data row8 col0\" >Omega Force</td>\n",
       "      <td id=\"T_a0d9c_row8_col1\" class=\"data row8 col1\" >71</td>\n",
       "    </tr>\n",
       "    <tr>\n",
       "      <th id=\"T_a0d9c_level0_row9\" class=\"row_heading level0 row9\" >9</th>\n",
       "      <td id=\"T_a0d9c_row9_col0\" class=\"data row9 col0\" >EA Sports</td>\n",
       "      <td id=\"T_a0d9c_row9_col1\" class=\"data row9 col1\" >67</td>\n",
       "    </tr>\n",
       "    <tr>\n",
       "      <th id=\"T_a0d9c_level0_row10\" class=\"row_heading level0 row10\" >10</th>\n",
       "      <td id=\"T_a0d9c_row10_col0\" class=\"data row10 col0\" >EA Canada</td>\n",
       "      <td id=\"T_a0d9c_row10_col1\" class=\"data row10 col1\" >65</td>\n",
       "    </tr>\n",
       "    <tr>\n",
       "      <th id=\"T_a0d9c_level0_row11\" class=\"row_heading level0 row11\" >11</th>\n",
       "      <td id=\"T_a0d9c_row11_col0\" class=\"data row11 col0\" >Ubisoft Montreal</td>\n",
       "      <td id=\"T_a0d9c_row11_col1\" class=\"data row11 col1\" >63</td>\n",
       "    </tr>\n",
       "    <tr>\n",
       "      <th id=\"T_a0d9c_level0_row12\" class=\"row_heading level0 row12\" >12</th>\n",
       "      <td id=\"T_a0d9c_row12_col0\" class=\"data row12 col0\" >TOSE</td>\n",
       "      <td id=\"T_a0d9c_row12_col1\" class=\"data row12 col1\" >58</td>\n",
       "    </tr>\n",
       "    <tr>\n",
       "      <th id=\"T_a0d9c_level0_row13\" class=\"row_heading level0 row13\" >13</th>\n",
       "      <td id=\"T_a0d9c_row13_col0\" class=\"data row13 col0\" >Bandai Namco Games</td>\n",
       "      <td id=\"T_a0d9c_row13_col1\" class=\"data row13 col1\" >57</td>\n",
       "    </tr>\n",
       "    <tr>\n",
       "      <th id=\"T_a0d9c_level0_row14\" class=\"row_heading level0 row14\" >14</th>\n",
       "      <td id=\"T_a0d9c_row14_col0\" class=\"data row14 col0\" >Sega</td>\n",
       "      <td id=\"T_a0d9c_row14_col1\" class=\"data row14 col1\" >57</td>\n",
       "    </tr>\n",
       "    <tr>\n",
       "      <th id=\"T_a0d9c_level0_row15\" class=\"row_heading level0 row15\" >15</th>\n",
       "      <td id=\"T_a0d9c_row15_col0\" class=\"data row15 col0\" >Chillingo</td>\n",
       "      <td id=\"T_a0d9c_row15_col1\" class=\"data row15 col1\" >53</td>\n",
       "    </tr>\n",
       "    <tr>\n",
       "      <th id=\"T_a0d9c_level0_row16\" class=\"row_heading level0 row16\" >16</th>\n",
       "      <td id=\"T_a0d9c_row16_col0\" class=\"data row16 col0\" >Nippon Ichi Software</td>\n",
       "      <td id=\"T_a0d9c_row16_col1\" class=\"data row16 col1\" >51</td>\n",
       "    </tr>\n",
       "    <tr>\n",
       "      <th id=\"T_a0d9c_level0_row17\" class=\"row_heading level0 row17\" >17</th>\n",
       "      <td id=\"T_a0d9c_row17_col0\" class=\"data row17 col0\" >Maxis</td>\n",
       "      <td id=\"T_a0d9c_row17_col1\" class=\"data row17 col1\" >50</td>\n",
       "    </tr>\n",
       "    <tr>\n",
       "      <th id=\"T_a0d9c_level0_row18\" class=\"row_heading level0 row18\" >18</th>\n",
       "      <td id=\"T_a0d9c_row18_col0\" class=\"data row18 col0\" >Visual Concepts</td>\n",
       "      <td id=\"T_a0d9c_row18_col1\" class=\"data row18 col1\" >48</td>\n",
       "    </tr>\n",
       "    <tr>\n",
       "      <th id=\"T_a0d9c_level0_row19\" class=\"row_heading level0 row19\" >19</th>\n",
       "      <td id=\"T_a0d9c_row19_col0\" class=\"data row19 col0\" >Atlus</td>\n",
       "      <td id=\"T_a0d9c_row19_col1\" class=\"data row19 col1\" >48</td>\n",
       "    </tr>\n",
       "  </tbody>\n",
       "</table>\n"
      ],
      "text/plain": [
       "<pandas.io.formats.style.Styler at 0x1cf2acbcb10>"
      ]
     },
     "execution_count": 25,
     "metadata": {},
     "output_type": "execute_result"
    }
   ],
   "source": [
    "Top_20_Game_Developers=df['Developer'].value_counts().reset_index().head(20)\n",
    "Top_20_Game_Developers.style.background_gradient(cmap='Blues',subset='count')"
   ]
  },
  {
   "cell_type": "markdown",
   "id": "fba2e7e8",
   "metadata": {
    "papermill": {
     "duration": 0.016092,
     "end_time": "2024-02-13T14:32:34.611335",
     "exception": false,
     "start_time": "2024-02-13T14:32:34.595243",
     "status": "completed"
    },
    "tags": []
   },
   "source": [
    "In the gaming industry, the terms \"publisher\" and \"developer\" refer to different roles and responsibilities within the process of creating and distributing video games\\\n",
    "\n",
    "***Developer:***\n",
    "\n",
    "* The developer is the entity or team responsible for creating the actual content of the game, including its design, programming, art, audio, and other creative elements.\n",
    "* Developers are primarily focused on the creative and technical aspects of game creation. They may include game designers, programmers, artists, sound designers, writers, and other creative professionals.\n",
    "\n",
    "***Publisher:***\n",
    "\n",
    "* The publisher is the entity responsible for financing, marketing, and distributing the game.\n",
    "* Publishers often provide funding to developers in exchange for the rights to distribute and market the game.\n",
    "* Publishers handle various aspects of the game's release, including distribution to retail stores, digital storefronts, and online platforms, as well as marketing campaigns, advertising, and public relations."
   ]
  },
  {
   "cell_type": "code",
   "execution_count": 23,
   "id": "ca64cc94",
   "metadata": {
    "execution": {
     "iopub.execute_input": "2024-02-13T14:32:34.646355Z",
     "iopub.status.busy": "2024-02-13T14:32:34.645777Z",
     "iopub.status.idle": "2024-02-13T14:32:34.829151Z",
     "shell.execute_reply": "2024-02-13T14:32:34.827953Z"
    },
    "papermill": {
     "duration": 0.203978,
     "end_time": "2024-02-13T14:32:34.831760",
     "exception": false,
     "start_time": "2024-02-13T14:32:34.627782",
     "status": "completed"
    },
    "tags": []
   },
   "outputs": [
    {
     "data": {
      "application/vnd.plotly.v1+json": {
       "config": {
        "plotlyServerURL": "https://plot.ly"
       },
       "data": [
        {
         "alignmentgroup": "True",
         "hovertemplate": "Developer=%{x}<br>count=%{marker.color}<extra></extra>",
         "legendgroup": "",
         "marker": {
          "color": [
           184,
           152,
           115,
           105,
           84,
           76,
           72,
           72,
           71,
           67,
           65,
           63,
           58,
           57,
           57,
           53,
           51,
           50,
           48,
           48
          ],
          "coloraxis": "coloraxis",
          "pattern": {
           "shape": ""
          }
         },
         "name": "",
         "offsetgroup": "",
         "orientation": "v",
         "showlegend": false,
         "textposition": "auto",
         "type": "bar",
         "x": [
          "Capcom",
          "Nintendo",
          "Telltale Games",
          "Konami",
          "Square Enix",
          "Ubisoft",
          "Electronic Arts",
          "Gameloft",
          "Omega Force",
          "EA Sports",
          "EA Canada",
          "Ubisoft Montreal",
          "TOSE",
          "Bandai Namco Games",
          "Sega",
          "Chillingo",
          "Nippon Ichi Software",
          "Maxis",
          "Visual Concepts",
          "Atlus"
         ],
         "xaxis": "x",
         "y": [
          184,
          152,
          115,
          105,
          84,
          76,
          72,
          72,
          71,
          67,
          65,
          63,
          58,
          57,
          57,
          53,
          51,
          50,
          48,
          48
         ],
         "yaxis": "y"
        }
       ],
       "layout": {
        "barmode": "relative",
        "coloraxis": {
         "colorbar": {
          "title": {
           "text": "count"
          }
         },
         "colorscale": [
          [
           0,
           "#0d0887"
          ],
          [
           0.1111111111111111,
           "#46039f"
          ],
          [
           0.2222222222222222,
           "#7201a8"
          ],
          [
           0.3333333333333333,
           "#9c179e"
          ],
          [
           0.4444444444444444,
           "#bd3786"
          ],
          [
           0.5555555555555556,
           "#d8576b"
          ],
          [
           0.6666666666666666,
           "#ed7953"
          ],
          [
           0.7777777777777778,
           "#fb9f3a"
          ],
          [
           0.8888888888888888,
           "#fdca26"
          ],
          [
           1,
           "#f0f921"
          ]
         ]
        },
        "legend": {
         "tracegroupgap": 0
        },
        "template": {
         "data": {
          "bar": [
           {
            "error_x": {
             "color": "#2a3f5f"
            },
            "error_y": {
             "color": "#2a3f5f"
            },
            "marker": {
             "line": {
              "color": "#E5ECF6",
              "width": 0.5
             },
             "pattern": {
              "fillmode": "overlay",
              "size": 10,
              "solidity": 0.2
             }
            },
            "type": "bar"
           }
          ],
          "barpolar": [
           {
            "marker": {
             "line": {
              "color": "#E5ECF6",
              "width": 0.5
             },
             "pattern": {
              "fillmode": "overlay",
              "size": 10,
              "solidity": 0.2
             }
            },
            "type": "barpolar"
           }
          ],
          "carpet": [
           {
            "aaxis": {
             "endlinecolor": "#2a3f5f",
             "gridcolor": "white",
             "linecolor": "white",
             "minorgridcolor": "white",
             "startlinecolor": "#2a3f5f"
            },
            "baxis": {
             "endlinecolor": "#2a3f5f",
             "gridcolor": "white",
             "linecolor": "white",
             "minorgridcolor": "white",
             "startlinecolor": "#2a3f5f"
            },
            "type": "carpet"
           }
          ],
          "choropleth": [
           {
            "colorbar": {
             "outlinewidth": 0,
             "ticks": ""
            },
            "type": "choropleth"
           }
          ],
          "contour": [
           {
            "colorbar": {
             "outlinewidth": 0,
             "ticks": ""
            },
            "colorscale": [
             [
              0,
              "#0d0887"
             ],
             [
              0.1111111111111111,
              "#46039f"
             ],
             [
              0.2222222222222222,
              "#7201a8"
             ],
             [
              0.3333333333333333,
              "#9c179e"
             ],
             [
              0.4444444444444444,
              "#bd3786"
             ],
             [
              0.5555555555555556,
              "#d8576b"
             ],
             [
              0.6666666666666666,
              "#ed7953"
             ],
             [
              0.7777777777777778,
              "#fb9f3a"
             ],
             [
              0.8888888888888888,
              "#fdca26"
             ],
             [
              1,
              "#f0f921"
             ]
            ],
            "type": "contour"
           }
          ],
          "contourcarpet": [
           {
            "colorbar": {
             "outlinewidth": 0,
             "ticks": ""
            },
            "type": "contourcarpet"
           }
          ],
          "heatmap": [
           {
            "colorbar": {
             "outlinewidth": 0,
             "ticks": ""
            },
            "colorscale": [
             [
              0,
              "#0d0887"
             ],
             [
              0.1111111111111111,
              "#46039f"
             ],
             [
              0.2222222222222222,
              "#7201a8"
             ],
             [
              0.3333333333333333,
              "#9c179e"
             ],
             [
              0.4444444444444444,
              "#bd3786"
             ],
             [
              0.5555555555555556,
              "#d8576b"
             ],
             [
              0.6666666666666666,
              "#ed7953"
             ],
             [
              0.7777777777777778,
              "#fb9f3a"
             ],
             [
              0.8888888888888888,
              "#fdca26"
             ],
             [
              1,
              "#f0f921"
             ]
            ],
            "type": "heatmap"
           }
          ],
          "heatmapgl": [
           {
            "colorbar": {
             "outlinewidth": 0,
             "ticks": ""
            },
            "colorscale": [
             [
              0,
              "#0d0887"
             ],
             [
              0.1111111111111111,
              "#46039f"
             ],
             [
              0.2222222222222222,
              "#7201a8"
             ],
             [
              0.3333333333333333,
              "#9c179e"
             ],
             [
              0.4444444444444444,
              "#bd3786"
             ],
             [
              0.5555555555555556,
              "#d8576b"
             ],
             [
              0.6666666666666666,
              "#ed7953"
             ],
             [
              0.7777777777777778,
              "#fb9f3a"
             ],
             [
              0.8888888888888888,
              "#fdca26"
             ],
             [
              1,
              "#f0f921"
             ]
            ],
            "type": "heatmapgl"
           }
          ],
          "histogram": [
           {
            "marker": {
             "pattern": {
              "fillmode": "overlay",
              "size": 10,
              "solidity": 0.2
             }
            },
            "type": "histogram"
           }
          ],
          "histogram2d": [
           {
            "colorbar": {
             "outlinewidth": 0,
             "ticks": ""
            },
            "colorscale": [
             [
              0,
              "#0d0887"
             ],
             [
              0.1111111111111111,
              "#46039f"
             ],
             [
              0.2222222222222222,
              "#7201a8"
             ],
             [
              0.3333333333333333,
              "#9c179e"
             ],
             [
              0.4444444444444444,
              "#bd3786"
             ],
             [
              0.5555555555555556,
              "#d8576b"
             ],
             [
              0.6666666666666666,
              "#ed7953"
             ],
             [
              0.7777777777777778,
              "#fb9f3a"
             ],
             [
              0.8888888888888888,
              "#fdca26"
             ],
             [
              1,
              "#f0f921"
             ]
            ],
            "type": "histogram2d"
           }
          ],
          "histogram2dcontour": [
           {
            "colorbar": {
             "outlinewidth": 0,
             "ticks": ""
            },
            "colorscale": [
             [
              0,
              "#0d0887"
             ],
             [
              0.1111111111111111,
              "#46039f"
             ],
             [
              0.2222222222222222,
              "#7201a8"
             ],
             [
              0.3333333333333333,
              "#9c179e"
             ],
             [
              0.4444444444444444,
              "#bd3786"
             ],
             [
              0.5555555555555556,
              "#d8576b"
             ],
             [
              0.6666666666666666,
              "#ed7953"
             ],
             [
              0.7777777777777778,
              "#fb9f3a"
             ],
             [
              0.8888888888888888,
              "#fdca26"
             ],
             [
              1,
              "#f0f921"
             ]
            ],
            "type": "histogram2dcontour"
           }
          ],
          "mesh3d": [
           {
            "colorbar": {
             "outlinewidth": 0,
             "ticks": ""
            },
            "type": "mesh3d"
           }
          ],
          "parcoords": [
           {
            "line": {
             "colorbar": {
              "outlinewidth": 0,
              "ticks": ""
             }
            },
            "type": "parcoords"
           }
          ],
          "pie": [
           {
            "automargin": true,
            "type": "pie"
           }
          ],
          "scatter": [
           {
            "fillpattern": {
             "fillmode": "overlay",
             "size": 10,
             "solidity": 0.2
            },
            "type": "scatter"
           }
          ],
          "scatter3d": [
           {
            "line": {
             "colorbar": {
              "outlinewidth": 0,
              "ticks": ""
             }
            },
            "marker": {
             "colorbar": {
              "outlinewidth": 0,
              "ticks": ""
             }
            },
            "type": "scatter3d"
           }
          ],
          "scattercarpet": [
           {
            "marker": {
             "colorbar": {
              "outlinewidth": 0,
              "ticks": ""
             }
            },
            "type": "scattercarpet"
           }
          ],
          "scattergeo": [
           {
            "marker": {
             "colorbar": {
              "outlinewidth": 0,
              "ticks": ""
             }
            },
            "type": "scattergeo"
           }
          ],
          "scattergl": [
           {
            "marker": {
             "colorbar": {
              "outlinewidth": 0,
              "ticks": ""
             }
            },
            "type": "scattergl"
           }
          ],
          "scattermapbox": [
           {
            "marker": {
             "colorbar": {
              "outlinewidth": 0,
              "ticks": ""
             }
            },
            "type": "scattermapbox"
           }
          ],
          "scatterpolar": [
           {
            "marker": {
             "colorbar": {
              "outlinewidth": 0,
              "ticks": ""
             }
            },
            "type": "scatterpolar"
           }
          ],
          "scatterpolargl": [
           {
            "marker": {
             "colorbar": {
              "outlinewidth": 0,
              "ticks": ""
             }
            },
            "type": "scatterpolargl"
           }
          ],
          "scatterternary": [
           {
            "marker": {
             "colorbar": {
              "outlinewidth": 0,
              "ticks": ""
             }
            },
            "type": "scatterternary"
           }
          ],
          "surface": [
           {
            "colorbar": {
             "outlinewidth": 0,
             "ticks": ""
            },
            "colorscale": [
             [
              0,
              "#0d0887"
             ],
             [
              0.1111111111111111,
              "#46039f"
             ],
             [
              0.2222222222222222,
              "#7201a8"
             ],
             [
              0.3333333333333333,
              "#9c179e"
             ],
             [
              0.4444444444444444,
              "#bd3786"
             ],
             [
              0.5555555555555556,
              "#d8576b"
             ],
             [
              0.6666666666666666,
              "#ed7953"
             ],
             [
              0.7777777777777778,
              "#fb9f3a"
             ],
             [
              0.8888888888888888,
              "#fdca26"
             ],
             [
              1,
              "#f0f921"
             ]
            ],
            "type": "surface"
           }
          ],
          "table": [
           {
            "cells": {
             "fill": {
              "color": "#EBF0F8"
             },
             "line": {
              "color": "white"
             }
            },
            "header": {
             "fill": {
              "color": "#C8D4E3"
             },
             "line": {
              "color": "white"
             }
            },
            "type": "table"
           }
          ]
         },
         "layout": {
          "annotationdefaults": {
           "arrowcolor": "#2a3f5f",
           "arrowhead": 0,
           "arrowwidth": 1
          },
          "autotypenumbers": "strict",
          "coloraxis": {
           "colorbar": {
            "outlinewidth": 0,
            "ticks": ""
           }
          },
          "colorscale": {
           "diverging": [
            [
             0,
             "#8e0152"
            ],
            [
             0.1,
             "#c51b7d"
            ],
            [
             0.2,
             "#de77ae"
            ],
            [
             0.3,
             "#f1b6da"
            ],
            [
             0.4,
             "#fde0ef"
            ],
            [
             0.5,
             "#f7f7f7"
            ],
            [
             0.6,
             "#e6f5d0"
            ],
            [
             0.7,
             "#b8e186"
            ],
            [
             0.8,
             "#7fbc41"
            ],
            [
             0.9,
             "#4d9221"
            ],
            [
             1,
             "#276419"
            ]
           ],
           "sequential": [
            [
             0,
             "#0d0887"
            ],
            [
             0.1111111111111111,
             "#46039f"
            ],
            [
             0.2222222222222222,
             "#7201a8"
            ],
            [
             0.3333333333333333,
             "#9c179e"
            ],
            [
             0.4444444444444444,
             "#bd3786"
            ],
            [
             0.5555555555555556,
             "#d8576b"
            ],
            [
             0.6666666666666666,
             "#ed7953"
            ],
            [
             0.7777777777777778,
             "#fb9f3a"
            ],
            [
             0.8888888888888888,
             "#fdca26"
            ],
            [
             1,
             "#f0f921"
            ]
           ],
           "sequentialminus": [
            [
             0,
             "#0d0887"
            ],
            [
             0.1111111111111111,
             "#46039f"
            ],
            [
             0.2222222222222222,
             "#7201a8"
            ],
            [
             0.3333333333333333,
             "#9c179e"
            ],
            [
             0.4444444444444444,
             "#bd3786"
            ],
            [
             0.5555555555555556,
             "#d8576b"
            ],
            [
             0.6666666666666666,
             "#ed7953"
            ],
            [
             0.7777777777777778,
             "#fb9f3a"
            ],
            [
             0.8888888888888888,
             "#fdca26"
            ],
            [
             1,
             "#f0f921"
            ]
           ]
          },
          "colorway": [
           "#636efa",
           "#EF553B",
           "#00cc96",
           "#ab63fa",
           "#FFA15A",
           "#19d3f3",
           "#FF6692",
           "#B6E880",
           "#FF97FF",
           "#FECB52"
          ],
          "font": {
           "color": "#2a3f5f"
          },
          "geo": {
           "bgcolor": "white",
           "lakecolor": "white",
           "landcolor": "#E5ECF6",
           "showlakes": true,
           "showland": true,
           "subunitcolor": "white"
          },
          "hoverlabel": {
           "align": "left"
          },
          "hovermode": "closest",
          "mapbox": {
           "style": "light"
          },
          "paper_bgcolor": "white",
          "plot_bgcolor": "#E5ECF6",
          "polar": {
           "angularaxis": {
            "gridcolor": "white",
            "linecolor": "white",
            "ticks": ""
           },
           "bgcolor": "#E5ECF6",
           "radialaxis": {
            "gridcolor": "white",
            "linecolor": "white",
            "ticks": ""
           }
          },
          "scene": {
           "xaxis": {
            "backgroundcolor": "#E5ECF6",
            "gridcolor": "white",
            "gridwidth": 2,
            "linecolor": "white",
            "showbackground": true,
            "ticks": "",
            "zerolinecolor": "white"
           },
           "yaxis": {
            "backgroundcolor": "#E5ECF6",
            "gridcolor": "white",
            "gridwidth": 2,
            "linecolor": "white",
            "showbackground": true,
            "ticks": "",
            "zerolinecolor": "white"
           },
           "zaxis": {
            "backgroundcolor": "#E5ECF6",
            "gridcolor": "white",
            "gridwidth": 2,
            "linecolor": "white",
            "showbackground": true,
            "ticks": "",
            "zerolinecolor": "white"
           }
          },
          "shapedefaults": {
           "line": {
            "color": "#2a3f5f"
           }
          },
          "ternary": {
           "aaxis": {
            "gridcolor": "white",
            "linecolor": "white",
            "ticks": ""
           },
           "baxis": {
            "gridcolor": "white",
            "linecolor": "white",
            "ticks": ""
           },
           "bgcolor": "#E5ECF6",
           "caxis": {
            "gridcolor": "white",
            "linecolor": "white",
            "ticks": ""
           }
          },
          "title": {
           "x": 0.05
          },
          "xaxis": {
           "automargin": true,
           "gridcolor": "white",
           "linecolor": "white",
           "ticks": "",
           "title": {
            "standoff": 15
           },
           "zerolinecolor": "white",
           "zerolinewidth": 2
          },
          "yaxis": {
           "automargin": true,
           "gridcolor": "white",
           "linecolor": "white",
           "ticks": "",
           "title": {
            "standoff": 15
           },
           "zerolinecolor": "white",
           "zerolinewidth": 2
          }
         }
        },
        "title": {
         "text": "Top 20 Game Developers by Total Number of Games Released"
        },
        "xaxis": {
         "anchor": "y",
         "domain": [
          0,
          1
         ],
         "title": {
          "text": "Developer"
         }
        },
        "yaxis": {
         "anchor": "x",
         "domain": [
          0,
          1
         ],
         "title": {
          "text": "count"
         }
        }
       }
      }
     },
     "metadata": {},
     "output_type": "display_data"
    },
    {
     "data": {
      "application/vnd.plotly.v1+json": {
       "config": {
        "plotlyServerURL": "https://plot.ly"
       },
       "data": [
        {
         "customdata": [
          [
           184
          ],
          [
           152
          ],
          [
           115
          ],
          [
           105
          ],
          [
           84
          ],
          [
           76
          ],
          [
           72
          ],
          [
           72
          ],
          [
           71
          ],
          [
           67
          ],
          [
           65
          ],
          [
           63
          ],
          [
           58
          ],
          [
           57
          ],
          [
           57
          ],
          [
           53
          ],
          [
           51
          ],
          [
           50
          ],
          [
           48
          ],
          [
           48
          ]
         ],
         "domain": {
          "x": [
           0,
           1
          ],
          "y": [
           0,
           1
          ]
         },
         "hole": 0.3,
         "hovertemplate": "Developer=%{label}<br>count=%{customdata[0]}<extra></extra>",
         "labels": [
          "Capcom",
          "Nintendo",
          "Telltale Games",
          "Konami",
          "Square Enix",
          "Ubisoft",
          "Electronic Arts",
          "Gameloft",
          "Omega Force",
          "EA Sports",
          "EA Canada",
          "Ubisoft Montreal",
          "TOSE",
          "Bandai Namco Games",
          "Sega",
          "Chillingo",
          "Nippon Ichi Software",
          "Maxis",
          "Visual Concepts",
          "Atlus"
         ],
         "legendgroup": "",
         "marker": {
          "colors": [
           "#636efa",
           "#EF553B",
           "#00cc96",
           "#ab63fa",
           "#FFA15A",
           "#19d3f3",
           "#FF6692",
           "#FF6692",
           "#B6E880",
           "#FF97FF",
           "#FECB52",
           "#636efa",
           "#EF553B",
           "#00cc96",
           "#00cc96",
           "#ab63fa",
           "#FFA15A",
           "#19d3f3",
           "#FF6692",
           "#FF6692"
          ]
         },
         "name": "",
         "showlegend": true,
         "textposition": "inside",
         "type": "pie",
         "values": [
          184,
          152,
          115,
          105,
          84,
          76,
          72,
          72,
          71,
          67,
          65,
          63,
          58,
          57,
          57,
          53,
          51,
          50,
          48,
          48
         ]
        }
       ],
       "layout": {
        "legend": {
         "tracegroupgap": 0
        },
        "margin": {
         "t": 60
        },
        "template": {
         "data": {
          "bar": [
           {
            "error_x": {
             "color": "#2a3f5f"
            },
            "error_y": {
             "color": "#2a3f5f"
            },
            "marker": {
             "line": {
              "color": "#E5ECF6",
              "width": 0.5
             },
             "pattern": {
              "fillmode": "overlay",
              "size": 10,
              "solidity": 0.2
             }
            },
            "type": "bar"
           }
          ],
          "barpolar": [
           {
            "marker": {
             "line": {
              "color": "#E5ECF6",
              "width": 0.5
             },
             "pattern": {
              "fillmode": "overlay",
              "size": 10,
              "solidity": 0.2
             }
            },
            "type": "barpolar"
           }
          ],
          "carpet": [
           {
            "aaxis": {
             "endlinecolor": "#2a3f5f",
             "gridcolor": "white",
             "linecolor": "white",
             "minorgridcolor": "white",
             "startlinecolor": "#2a3f5f"
            },
            "baxis": {
             "endlinecolor": "#2a3f5f",
             "gridcolor": "white",
             "linecolor": "white",
             "minorgridcolor": "white",
             "startlinecolor": "#2a3f5f"
            },
            "type": "carpet"
           }
          ],
          "choropleth": [
           {
            "colorbar": {
             "outlinewidth": 0,
             "ticks": ""
            },
            "type": "choropleth"
           }
          ],
          "contour": [
           {
            "colorbar": {
             "outlinewidth": 0,
             "ticks": ""
            },
            "colorscale": [
             [
              0,
              "#0d0887"
             ],
             [
              0.1111111111111111,
              "#46039f"
             ],
             [
              0.2222222222222222,
              "#7201a8"
             ],
             [
              0.3333333333333333,
              "#9c179e"
             ],
             [
              0.4444444444444444,
              "#bd3786"
             ],
             [
              0.5555555555555556,
              "#d8576b"
             ],
             [
              0.6666666666666666,
              "#ed7953"
             ],
             [
              0.7777777777777778,
              "#fb9f3a"
             ],
             [
              0.8888888888888888,
              "#fdca26"
             ],
             [
              1,
              "#f0f921"
             ]
            ],
            "type": "contour"
           }
          ],
          "contourcarpet": [
           {
            "colorbar": {
             "outlinewidth": 0,
             "ticks": ""
            },
            "type": "contourcarpet"
           }
          ],
          "heatmap": [
           {
            "colorbar": {
             "outlinewidth": 0,
             "ticks": ""
            },
            "colorscale": [
             [
              0,
              "#0d0887"
             ],
             [
              0.1111111111111111,
              "#46039f"
             ],
             [
              0.2222222222222222,
              "#7201a8"
             ],
             [
              0.3333333333333333,
              "#9c179e"
             ],
             [
              0.4444444444444444,
              "#bd3786"
             ],
             [
              0.5555555555555556,
              "#d8576b"
             ],
             [
              0.6666666666666666,
              "#ed7953"
             ],
             [
              0.7777777777777778,
              "#fb9f3a"
             ],
             [
              0.8888888888888888,
              "#fdca26"
             ],
             [
              1,
              "#f0f921"
             ]
            ],
            "type": "heatmap"
           }
          ],
          "heatmapgl": [
           {
            "colorbar": {
             "outlinewidth": 0,
             "ticks": ""
            },
            "colorscale": [
             [
              0,
              "#0d0887"
             ],
             [
              0.1111111111111111,
              "#46039f"
             ],
             [
              0.2222222222222222,
              "#7201a8"
             ],
             [
              0.3333333333333333,
              "#9c179e"
             ],
             [
              0.4444444444444444,
              "#bd3786"
             ],
             [
              0.5555555555555556,
              "#d8576b"
             ],
             [
              0.6666666666666666,
              "#ed7953"
             ],
             [
              0.7777777777777778,
              "#fb9f3a"
             ],
             [
              0.8888888888888888,
              "#fdca26"
             ],
             [
              1,
              "#f0f921"
             ]
            ],
            "type": "heatmapgl"
           }
          ],
          "histogram": [
           {
            "marker": {
             "pattern": {
              "fillmode": "overlay",
              "size": 10,
              "solidity": 0.2
             }
            },
            "type": "histogram"
           }
          ],
          "histogram2d": [
           {
            "colorbar": {
             "outlinewidth": 0,
             "ticks": ""
            },
            "colorscale": [
             [
              0,
              "#0d0887"
             ],
             [
              0.1111111111111111,
              "#46039f"
             ],
             [
              0.2222222222222222,
              "#7201a8"
             ],
             [
              0.3333333333333333,
              "#9c179e"
             ],
             [
              0.4444444444444444,
              "#bd3786"
             ],
             [
              0.5555555555555556,
              "#d8576b"
             ],
             [
              0.6666666666666666,
              "#ed7953"
             ],
             [
              0.7777777777777778,
              "#fb9f3a"
             ],
             [
              0.8888888888888888,
              "#fdca26"
             ],
             [
              1,
              "#f0f921"
             ]
            ],
            "type": "histogram2d"
           }
          ],
          "histogram2dcontour": [
           {
            "colorbar": {
             "outlinewidth": 0,
             "ticks": ""
            },
            "colorscale": [
             [
              0,
              "#0d0887"
             ],
             [
              0.1111111111111111,
              "#46039f"
             ],
             [
              0.2222222222222222,
              "#7201a8"
             ],
             [
              0.3333333333333333,
              "#9c179e"
             ],
             [
              0.4444444444444444,
              "#bd3786"
             ],
             [
              0.5555555555555556,
              "#d8576b"
             ],
             [
              0.6666666666666666,
              "#ed7953"
             ],
             [
              0.7777777777777778,
              "#fb9f3a"
             ],
             [
              0.8888888888888888,
              "#fdca26"
             ],
             [
              1,
              "#f0f921"
             ]
            ],
            "type": "histogram2dcontour"
           }
          ],
          "mesh3d": [
           {
            "colorbar": {
             "outlinewidth": 0,
             "ticks": ""
            },
            "type": "mesh3d"
           }
          ],
          "parcoords": [
           {
            "line": {
             "colorbar": {
              "outlinewidth": 0,
              "ticks": ""
             }
            },
            "type": "parcoords"
           }
          ],
          "pie": [
           {
            "automargin": true,
            "type": "pie"
           }
          ],
          "scatter": [
           {
            "fillpattern": {
             "fillmode": "overlay",
             "size": 10,
             "solidity": 0.2
            },
            "type": "scatter"
           }
          ],
          "scatter3d": [
           {
            "line": {
             "colorbar": {
              "outlinewidth": 0,
              "ticks": ""
             }
            },
            "marker": {
             "colorbar": {
              "outlinewidth": 0,
              "ticks": ""
             }
            },
            "type": "scatter3d"
           }
          ],
          "scattercarpet": [
           {
            "marker": {
             "colorbar": {
              "outlinewidth": 0,
              "ticks": ""
             }
            },
            "type": "scattercarpet"
           }
          ],
          "scattergeo": [
           {
            "marker": {
             "colorbar": {
              "outlinewidth": 0,
              "ticks": ""
             }
            },
            "type": "scattergeo"
           }
          ],
          "scattergl": [
           {
            "marker": {
             "colorbar": {
              "outlinewidth": 0,
              "ticks": ""
             }
            },
            "type": "scattergl"
           }
          ],
          "scattermapbox": [
           {
            "marker": {
             "colorbar": {
              "outlinewidth": 0,
              "ticks": ""
             }
            },
            "type": "scattermapbox"
           }
          ],
          "scatterpolar": [
           {
            "marker": {
             "colorbar": {
              "outlinewidth": 0,
              "ticks": ""
             }
            },
            "type": "scatterpolar"
           }
          ],
          "scatterpolargl": [
           {
            "marker": {
             "colorbar": {
              "outlinewidth": 0,
              "ticks": ""
             }
            },
            "type": "scatterpolargl"
           }
          ],
          "scatterternary": [
           {
            "marker": {
             "colorbar": {
              "outlinewidth": 0,
              "ticks": ""
             }
            },
            "type": "scatterternary"
           }
          ],
          "surface": [
           {
            "colorbar": {
             "outlinewidth": 0,
             "ticks": ""
            },
            "colorscale": [
             [
              0,
              "#0d0887"
             ],
             [
              0.1111111111111111,
              "#46039f"
             ],
             [
              0.2222222222222222,
              "#7201a8"
             ],
             [
              0.3333333333333333,
              "#9c179e"
             ],
             [
              0.4444444444444444,
              "#bd3786"
             ],
             [
              0.5555555555555556,
              "#d8576b"
             ],
             [
              0.6666666666666666,
              "#ed7953"
             ],
             [
              0.7777777777777778,
              "#fb9f3a"
             ],
             [
              0.8888888888888888,
              "#fdca26"
             ],
             [
              1,
              "#f0f921"
             ]
            ],
            "type": "surface"
           }
          ],
          "table": [
           {
            "cells": {
             "fill": {
              "color": "#EBF0F8"
             },
             "line": {
              "color": "white"
             }
            },
            "header": {
             "fill": {
              "color": "#C8D4E3"
             },
             "line": {
              "color": "white"
             }
            },
            "type": "table"
           }
          ]
         },
         "layout": {
          "annotationdefaults": {
           "arrowcolor": "#2a3f5f",
           "arrowhead": 0,
           "arrowwidth": 1
          },
          "autotypenumbers": "strict",
          "coloraxis": {
           "colorbar": {
            "outlinewidth": 0,
            "ticks": ""
           }
          },
          "colorscale": {
           "diverging": [
            [
             0,
             "#8e0152"
            ],
            [
             0.1,
             "#c51b7d"
            ],
            [
             0.2,
             "#de77ae"
            ],
            [
             0.3,
             "#f1b6da"
            ],
            [
             0.4,
             "#fde0ef"
            ],
            [
             0.5,
             "#f7f7f7"
            ],
            [
             0.6,
             "#e6f5d0"
            ],
            [
             0.7,
             "#b8e186"
            ],
            [
             0.8,
             "#7fbc41"
            ],
            [
             0.9,
             "#4d9221"
            ],
            [
             1,
             "#276419"
            ]
           ],
           "sequential": [
            [
             0,
             "#0d0887"
            ],
            [
             0.1111111111111111,
             "#46039f"
            ],
            [
             0.2222222222222222,
             "#7201a8"
            ],
            [
             0.3333333333333333,
             "#9c179e"
            ],
            [
             0.4444444444444444,
             "#bd3786"
            ],
            [
             0.5555555555555556,
             "#d8576b"
            ],
            [
             0.6666666666666666,
             "#ed7953"
            ],
            [
             0.7777777777777778,
             "#fb9f3a"
            ],
            [
             0.8888888888888888,
             "#fdca26"
            ],
            [
             1,
             "#f0f921"
            ]
           ],
           "sequentialminus": [
            [
             0,
             "#0d0887"
            ],
            [
             0.1111111111111111,
             "#46039f"
            ],
            [
             0.2222222222222222,
             "#7201a8"
            ],
            [
             0.3333333333333333,
             "#9c179e"
            ],
            [
             0.4444444444444444,
             "#bd3786"
            ],
            [
             0.5555555555555556,
             "#d8576b"
            ],
            [
             0.6666666666666666,
             "#ed7953"
            ],
            [
             0.7777777777777778,
             "#fb9f3a"
            ],
            [
             0.8888888888888888,
             "#fdca26"
            ],
            [
             1,
             "#f0f921"
            ]
           ]
          },
          "colorway": [
           "#636efa",
           "#EF553B",
           "#00cc96",
           "#ab63fa",
           "#FFA15A",
           "#19d3f3",
           "#FF6692",
           "#B6E880",
           "#FF97FF",
           "#FECB52"
          ],
          "font": {
           "color": "#2a3f5f"
          },
          "geo": {
           "bgcolor": "white",
           "lakecolor": "white",
           "landcolor": "#E5ECF6",
           "showlakes": true,
           "showland": true,
           "subunitcolor": "white"
          },
          "hoverlabel": {
           "align": "left"
          },
          "hovermode": "closest",
          "mapbox": {
           "style": "light"
          },
          "paper_bgcolor": "white",
          "plot_bgcolor": "#E5ECF6",
          "polar": {
           "angularaxis": {
            "gridcolor": "white",
            "linecolor": "white",
            "ticks": ""
           },
           "bgcolor": "#E5ECF6",
           "radialaxis": {
            "gridcolor": "white",
            "linecolor": "white",
            "ticks": ""
           }
          },
          "scene": {
           "xaxis": {
            "backgroundcolor": "#E5ECF6",
            "gridcolor": "white",
            "gridwidth": 2,
            "linecolor": "white",
            "showbackground": true,
            "ticks": "",
            "zerolinecolor": "white"
           },
           "yaxis": {
            "backgroundcolor": "#E5ECF6",
            "gridcolor": "white",
            "gridwidth": 2,
            "linecolor": "white",
            "showbackground": true,
            "ticks": "",
            "zerolinecolor": "white"
           },
           "zaxis": {
            "backgroundcolor": "#E5ECF6",
            "gridcolor": "white",
            "gridwidth": 2,
            "linecolor": "white",
            "showbackground": true,
            "ticks": "",
            "zerolinecolor": "white"
           }
          },
          "shapedefaults": {
           "line": {
            "color": "#2a3f5f"
           }
          },
          "ternary": {
           "aaxis": {
            "gridcolor": "white",
            "linecolor": "white",
            "ticks": ""
           },
           "baxis": {
            "gridcolor": "white",
            "linecolor": "white",
            "ticks": ""
           },
           "bgcolor": "#E5ECF6",
           "caxis": {
            "gridcolor": "white",
            "linecolor": "white",
            "ticks": ""
           }
          },
          "title": {
           "x": 0.05
          },
          "xaxis": {
           "automargin": true,
           "gridcolor": "white",
           "linecolor": "white",
           "ticks": "",
           "title": {
            "standoff": 15
           },
           "zerolinecolor": "white",
           "zerolinewidth": 2
          },
          "yaxis": {
           "automargin": true,
           "gridcolor": "white",
           "linecolor": "white",
           "ticks": "",
           "title": {
            "standoff": 15
           },
           "zerolinecolor": "white",
           "zerolinewidth": 2
          }
         }
        },
        "uniformtext": {
         "minsize": 12,
         "mode": "hide"
        }
       }
      }
     },
     "metadata": {},
     "output_type": "display_data"
    }
   ],
   "source": [
    "fig=px.bar(Top_20_Game_Developers,\n",
    "           x='Developer',y='count',\n",
    "           color='count',\n",
    "           title=\"Top 20 Game Developers by Total Number of Games Released\")\n",
    "fig.show(render='iframe')\n",
    "\n",
    "\n",
    "fig=px.pie(Top_20_Game_Developers,names='Developer',values='count',color='count',hole=0.3)\n",
    "fig.update_traces(textposition='inside')\n",
    "fig.update_layout(uniformtext_minsize=12, uniformtext_mode='hide')\n",
    "fig.show(render='iframe')"
   ]
  },
  {
   "cell_type": "code",
   "execution_count": 26,
   "id": "476be53c",
   "metadata": {
    "execution": {
     "iopub.execute_input": "2024-02-13T14:32:34.868445Z",
     "iopub.status.busy": "2024-02-13T14:32:34.868055Z",
     "iopub.status.idle": "2024-02-13T14:32:34.890840Z",
     "shell.execute_reply": "2024-02-13T14:32:34.889477Z"
    },
    "papermill": {
     "duration": 0.044206,
     "end_time": "2024-02-13T14:32:34.893568",
     "exception": false,
     "start_time": "2024-02-13T14:32:34.849362",
     "status": "completed"
    },
    "tags": []
   },
   "outputs": [
    {
     "data": {
      "text/html": [
       "<style type=\"text/css\">\n",
       "#T_be5c6_row0_col1 {\n",
       "  background-color: #08306b;\n",
       "  color: #f1f1f1;\n",
       "}\n",
       "#T_be5c6_row1_col1 {\n",
       "  background-color: #3787c0;\n",
       "  color: #f1f1f1;\n",
       "}\n",
       "#T_be5c6_row2_col1 {\n",
       "  background-color: #4e9acb;\n",
       "  color: #f1f1f1;\n",
       "}\n",
       "#T_be5c6_row3_col1 {\n",
       "  background-color: #4f9bcb;\n",
       "  color: #f1f1f1;\n",
       "}\n",
       "#T_be5c6_row4_col1 {\n",
       "  background-color: #5ca4d0;\n",
       "  color: #f1f1f1;\n",
       "}\n",
       "#T_be5c6_row5_col1 {\n",
       "  background-color: #94c4df;\n",
       "  color: #000000;\n",
       "}\n",
       "#T_be5c6_row6_col1 {\n",
       "  background-color: #97c6df;\n",
       "  color: #000000;\n",
       "}\n",
       "#T_be5c6_row7_col1 {\n",
       "  background-color: #99c7e0;\n",
       "  color: #000000;\n",
       "}\n",
       "#T_be5c6_row8_col1 {\n",
       "  background-color: #9cc9e1;\n",
       "  color: #000000;\n",
       "}\n",
       "#T_be5c6_row9_col1 {\n",
       "  background-color: #9fcae1;\n",
       "  color: #000000;\n",
       "}\n",
       "#T_be5c6_row10_col1 {\n",
       "  background-color: #c9ddf0;\n",
       "  color: #000000;\n",
       "}\n",
       "#T_be5c6_row11_col1 {\n",
       "  background-color: #deebf7;\n",
       "  color: #000000;\n",
       "}\n",
       "#T_be5c6_row12_col1 {\n",
       "  background-color: #e2edf8;\n",
       "  color: #000000;\n",
       "}\n",
       "#T_be5c6_row13_col1 {\n",
       "  background-color: #e6f0f9;\n",
       "  color: #000000;\n",
       "}\n",
       "#T_be5c6_row14_col1 {\n",
       "  background-color: #e7f1fa;\n",
       "  color: #000000;\n",
       "}\n",
       "#T_be5c6_row15_col1 {\n",
       "  background-color: #ebf3fb;\n",
       "  color: #000000;\n",
       "}\n",
       "#T_be5c6_row16_col1 {\n",
       "  background-color: #f5f9fe;\n",
       "  color: #000000;\n",
       "}\n",
       "#T_be5c6_row17_col1, #T_be5c6_row18_col1, #T_be5c6_row19_col1 {\n",
       "  background-color: #f7fbff;\n",
       "  color: #000000;\n",
       "}\n",
       "</style>\n",
       "<table id=\"T_be5c6\">\n",
       "  <thead>\n",
       "    <tr>\n",
       "      <th class=\"blank level0\" >&nbsp;</th>\n",
       "      <th id=\"T_be5c6_level0_col0\" class=\"col_heading level0 col0\" >Publisher</th>\n",
       "      <th id=\"T_be5c6_level0_col1\" class=\"col_heading level0 col1\" >count</th>\n",
       "    </tr>\n",
       "  </thead>\n",
       "  <tbody>\n",
       "    <tr>\n",
       "      <th id=\"T_be5c6_level0_row0\" class=\"row_heading level0 row0\" >0</th>\n",
       "      <td id=\"T_be5c6_row0_col0\" class=\"data row0 col0\" >Nintendo</td>\n",
       "      <td id=\"T_be5c6_row0_col1\" class=\"data row0 col1\" >617</td>\n",
       "    </tr>\n",
       "    <tr>\n",
       "      <th id=\"T_be5c6_level0_row1\" class=\"row_heading level0 row1\" >1</th>\n",
       "      <td id=\"T_be5c6_row1_col0\" class=\"data row1 col0\" >Ubisoft</td>\n",
       "      <td id=\"T_be5c6_row1_col1\" class=\"data row1 col1\" >449</td>\n",
       "    </tr>\n",
       "    <tr>\n",
       "      <th id=\"T_be5c6_level0_row2\" class=\"row_heading level0 row2\" >2</th>\n",
       "      <td id=\"T_be5c6_row2_col0\" class=\"data row2 col0\" >Sega</td>\n",
       "      <td id=\"T_be5c6_row2_col1\" class=\"data row2 col1\" >409</td>\n",
       "    </tr>\n",
       "    <tr>\n",
       "      <th id=\"T_be5c6_level0_row3\" class=\"row_heading level0 row3\" >3</th>\n",
       "      <td id=\"T_be5c6_row3_col0\" class=\"data row3 col0\" >SCEA</td>\n",
       "      <td id=\"T_be5c6_row3_col1\" class=\"data row3 col1\" >407</td>\n",
       "    </tr>\n",
       "    <tr>\n",
       "      <th id=\"T_be5c6_level0_row4\" class=\"row_heading level0 row4\" >4</th>\n",
       "      <td id=\"T_be5c6_row4_col0\" class=\"data row4 col0\" >Electronic Arts</td>\n",
       "      <td id=\"T_be5c6_row4_col1\" class=\"data row4 col1\" >388</td>\n",
       "    </tr>\n",
       "    <tr>\n",
       "      <th id=\"T_be5c6_level0_row5\" class=\"row_heading level0 row5\" >5</th>\n",
       "      <td id=\"T_be5c6_row5_col0\" class=\"data row5 col0\" >Activision</td>\n",
       "      <td id=\"T_be5c6_row5_col1\" class=\"data row5 col1\" >315</td>\n",
       "    </tr>\n",
       "    <tr>\n",
       "      <th id=\"T_be5c6_level0_row6\" class=\"row_heading level0 row6\" >6</th>\n",
       "      <td id=\"T_be5c6_row6_col0\" class=\"data row6 col0\" >Konami</td>\n",
       "      <td id=\"T_be5c6_row6_col1\" class=\"data row6 col1\" >311</td>\n",
       "    </tr>\n",
       "    <tr>\n",
       "      <th id=\"T_be5c6_level0_row7\" class=\"row_heading level0 row7\" >7</th>\n",
       "      <td id=\"T_be5c6_row7_col0\" class=\"data row7 col0\" >Square Enix</td>\n",
       "      <td id=\"T_be5c6_row7_col1\" class=\"data row7 col1\" >309</td>\n",
       "    </tr>\n",
       "    <tr>\n",
       "      <th id=\"T_be5c6_level0_row8\" class=\"row_heading level0 row8\" >8</th>\n",
       "      <td id=\"T_be5c6_row8_col0\" class=\"data row8 col0\" >Microsoft Game Studios</td>\n",
       "      <td id=\"T_be5c6_row8_col1\" class=\"data row8 col1\" >304</td>\n",
       "    </tr>\n",
       "    <tr>\n",
       "      <th id=\"T_be5c6_level0_row9\" class=\"row_heading level0 row9\" >9</th>\n",
       "      <td id=\"T_be5c6_row9_col0\" class=\"data row9 col0\" >Capcom</td>\n",
       "      <td id=\"T_be5c6_row9_col1\" class=\"data row9 col1\" >301</td>\n",
       "    </tr>\n",
       "    <tr>\n",
       "      <th id=\"T_be5c6_level0_row10\" class=\"row_heading level0 row10\" >10</th>\n",
       "      <td id=\"T_be5c6_row10_col0\" class=\"data row10 col0\" >THQ</td>\n",
       "      <td id=\"T_be5c6_row10_col1\" class=\"data row10 col1\" >232</td>\n",
       "    </tr>\n",
       "    <tr>\n",
       "      <th id=\"T_be5c6_level0_row11\" class=\"row_heading level0 row11\" >11</th>\n",
       "      <td id=\"T_be5c6_row11_col0\" class=\"data row11 col0\" >Namco Bandai Games</td>\n",
       "      <td id=\"T_be5c6_row11_col1\" class=\"data row11 col1\" >176</td>\n",
       "    </tr>\n",
       "    <tr>\n",
       "      <th id=\"T_be5c6_level0_row12\" class=\"row_heading level0 row12\" >12</th>\n",
       "      <td id=\"T_be5c6_row12_col0\" class=\"data row12 col0\" >Atlus</td>\n",
       "      <td id=\"T_be5c6_row12_col1\" class=\"data row12 col1\" >168</td>\n",
       "    </tr>\n",
       "    <tr>\n",
       "      <th id=\"T_be5c6_level0_row13\" class=\"row_heading level0 row13\" >13</th>\n",
       "      <td id=\"T_be5c6_row13_col0\" class=\"data row13 col0\" >Bandai Namco Games</td>\n",
       "      <td id=\"T_be5c6_row13_col1\" class=\"data row13 col1\" >157</td>\n",
       "    </tr>\n",
       "    <tr>\n",
       "      <th id=\"T_be5c6_level0_row14\" class=\"row_heading level0 row14\" >14</th>\n",
       "      <td id=\"T_be5c6_row14_col0\" class=\"data row14 col0\" >NIS America</td>\n",
       "      <td id=\"T_be5c6_row14_col1\" class=\"data row14 col1\" >153</td>\n",
       "    </tr>\n",
       "    <tr>\n",
       "      <th id=\"T_be5c6_level0_row15\" class=\"row_heading level0 row15\" >15</th>\n",
       "      <td id=\"T_be5c6_row15_col0\" class=\"data row15 col0\" >Atari SA</td>\n",
       "      <td id=\"T_be5c6_row15_col1\" class=\"data row15 col1\" >143</td>\n",
       "    </tr>\n",
       "    <tr>\n",
       "      <th id=\"T_be5c6_level0_row16\" class=\"row_heading level0 row16\" >16</th>\n",
       "      <td id=\"T_be5c6_row16_col0\" class=\"data row16 col0\" >EA Games</td>\n",
       "      <td id=\"T_be5c6_row16_col1\" class=\"data row16 col1\" >119</td>\n",
       "    </tr>\n",
       "    <tr>\n",
       "      <th id=\"T_be5c6_level0_row17\" class=\"row_heading level0 row17\" >17</th>\n",
       "      <td id=\"T_be5c6_row17_col0\" class=\"data row17 col0\" >Telltale Games</td>\n",
       "      <td id=\"T_be5c6_row17_col1\" class=\"data row17 col1\" >114</td>\n",
       "    </tr>\n",
       "    <tr>\n",
       "      <th id=\"T_be5c6_level0_row18\" class=\"row_heading level0 row18\" >18</th>\n",
       "      <td id=\"T_be5c6_row18_col0\" class=\"data row18 col0\" >Warner Bros. Interactive Entertainment</td>\n",
       "      <td id=\"T_be5c6_row18_col1\" class=\"data row18 col1\" >113</td>\n",
       "    </tr>\n",
       "    <tr>\n",
       "      <th id=\"T_be5c6_level0_row19\" class=\"row_heading level0 row19\" >19</th>\n",
       "      <td id=\"T_be5c6_row19_col0\" class=\"data row19 col0\" >EA Sports</td>\n",
       "      <td id=\"T_be5c6_row19_col1\" class=\"data row19 col1\" >113</td>\n",
       "    </tr>\n",
       "  </tbody>\n",
       "</table>\n"
      ],
      "text/plain": [
       "<pandas.io.formats.style.Styler at 0x1cf2d341b50>"
      ]
     },
     "execution_count": 26,
     "metadata": {},
     "output_type": "execute_result"
    }
   ],
   "source": [
    "Top_20_Game_Publishers=df['Publisher'].value_counts().reset_index().head(20)\n",
    "Top_20_Game_Publishers.style.background_gradient(cmap='Blues',subset='count')"
   ]
  },
  {
   "cell_type": "code",
   "execution_count": 27,
   "id": "5edf2a1a",
   "metadata": {
    "execution": {
     "iopub.execute_input": "2024-02-13T14:32:34.929994Z",
     "iopub.status.busy": "2024-02-13T14:32:34.929605Z",
     "iopub.status.idle": "2024-02-13T14:32:35.071421Z",
     "shell.execute_reply": "2024-02-13T14:32:35.070384Z"
    },
    "papermill": {
     "duration": 0.163148,
     "end_time": "2024-02-13T14:32:35.074065",
     "exception": false,
     "start_time": "2024-02-13T14:32:34.910917",
     "status": "completed"
    },
    "tags": []
   },
   "outputs": [
    {
     "data": {
      "application/vnd.plotly.v1+json": {
       "config": {
        "plotlyServerURL": "https://plot.ly"
       },
       "data": [
        {
         "alignmentgroup": "True",
         "hovertemplate": "Publisher=%{x}<br>count=%{marker.color}<extra></extra>",
         "legendgroup": "",
         "marker": {
          "color": [
           617,
           449,
           409,
           407,
           388,
           315,
           311,
           309,
           304,
           301,
           232,
           176,
           168,
           157,
           153,
           143,
           119,
           114,
           113,
           113
          ],
          "coloraxis": "coloraxis",
          "pattern": {
           "shape": ""
          }
         },
         "name": "",
         "offsetgroup": "",
         "orientation": "v",
         "showlegend": false,
         "textposition": "auto",
         "type": "bar",
         "x": [
          "Nintendo",
          "Ubisoft",
          "Sega",
          "SCEA",
          "Electronic Arts",
          "Activision",
          "Konami",
          "Square Enix",
          "Microsoft Game Studios",
          "Capcom",
          "THQ",
          "Namco Bandai Games",
          "Atlus",
          "Bandai Namco Games",
          "NIS America",
          "Atari SA",
          "EA Games",
          "Telltale Games",
          "Warner Bros. Interactive Entertainment",
          "EA Sports"
         ],
         "xaxis": "x",
         "y": [
          617,
          449,
          409,
          407,
          388,
          315,
          311,
          309,
          304,
          301,
          232,
          176,
          168,
          157,
          153,
          143,
          119,
          114,
          113,
          113
         ],
         "yaxis": "y"
        }
       ],
       "layout": {
        "barmode": "relative",
        "coloraxis": {
         "colorbar": {
          "title": {
           "text": "count"
          }
         },
         "colorscale": [
          [
           0,
           "#0d0887"
          ],
          [
           0.1111111111111111,
           "#46039f"
          ],
          [
           0.2222222222222222,
           "#7201a8"
          ],
          [
           0.3333333333333333,
           "#9c179e"
          ],
          [
           0.4444444444444444,
           "#bd3786"
          ],
          [
           0.5555555555555556,
           "#d8576b"
          ],
          [
           0.6666666666666666,
           "#ed7953"
          ],
          [
           0.7777777777777778,
           "#fb9f3a"
          ],
          [
           0.8888888888888888,
           "#fdca26"
          ],
          [
           1,
           "#f0f921"
          ]
         ]
        },
        "legend": {
         "tracegroupgap": 0
        },
        "template": {
         "data": {
          "bar": [
           {
            "error_x": {
             "color": "#2a3f5f"
            },
            "error_y": {
             "color": "#2a3f5f"
            },
            "marker": {
             "line": {
              "color": "#E5ECF6",
              "width": 0.5
             },
             "pattern": {
              "fillmode": "overlay",
              "size": 10,
              "solidity": 0.2
             }
            },
            "type": "bar"
           }
          ],
          "barpolar": [
           {
            "marker": {
             "line": {
              "color": "#E5ECF6",
              "width": 0.5
             },
             "pattern": {
              "fillmode": "overlay",
              "size": 10,
              "solidity": 0.2
             }
            },
            "type": "barpolar"
           }
          ],
          "carpet": [
           {
            "aaxis": {
             "endlinecolor": "#2a3f5f",
             "gridcolor": "white",
             "linecolor": "white",
             "minorgridcolor": "white",
             "startlinecolor": "#2a3f5f"
            },
            "baxis": {
             "endlinecolor": "#2a3f5f",
             "gridcolor": "white",
             "linecolor": "white",
             "minorgridcolor": "white",
             "startlinecolor": "#2a3f5f"
            },
            "type": "carpet"
           }
          ],
          "choropleth": [
           {
            "colorbar": {
             "outlinewidth": 0,
             "ticks": ""
            },
            "type": "choropleth"
           }
          ],
          "contour": [
           {
            "colorbar": {
             "outlinewidth": 0,
             "ticks": ""
            },
            "colorscale": [
             [
              0,
              "#0d0887"
             ],
             [
              0.1111111111111111,
              "#46039f"
             ],
             [
              0.2222222222222222,
              "#7201a8"
             ],
             [
              0.3333333333333333,
              "#9c179e"
             ],
             [
              0.4444444444444444,
              "#bd3786"
             ],
             [
              0.5555555555555556,
              "#d8576b"
             ],
             [
              0.6666666666666666,
              "#ed7953"
             ],
             [
              0.7777777777777778,
              "#fb9f3a"
             ],
             [
              0.8888888888888888,
              "#fdca26"
             ],
             [
              1,
              "#f0f921"
             ]
            ],
            "type": "contour"
           }
          ],
          "contourcarpet": [
           {
            "colorbar": {
             "outlinewidth": 0,
             "ticks": ""
            },
            "type": "contourcarpet"
           }
          ],
          "heatmap": [
           {
            "colorbar": {
             "outlinewidth": 0,
             "ticks": ""
            },
            "colorscale": [
             [
              0,
              "#0d0887"
             ],
             [
              0.1111111111111111,
              "#46039f"
             ],
             [
              0.2222222222222222,
              "#7201a8"
             ],
             [
              0.3333333333333333,
              "#9c179e"
             ],
             [
              0.4444444444444444,
              "#bd3786"
             ],
             [
              0.5555555555555556,
              "#d8576b"
             ],
             [
              0.6666666666666666,
              "#ed7953"
             ],
             [
              0.7777777777777778,
              "#fb9f3a"
             ],
             [
              0.8888888888888888,
              "#fdca26"
             ],
             [
              1,
              "#f0f921"
             ]
            ],
            "type": "heatmap"
           }
          ],
          "heatmapgl": [
           {
            "colorbar": {
             "outlinewidth": 0,
             "ticks": ""
            },
            "colorscale": [
             [
              0,
              "#0d0887"
             ],
             [
              0.1111111111111111,
              "#46039f"
             ],
             [
              0.2222222222222222,
              "#7201a8"
             ],
             [
              0.3333333333333333,
              "#9c179e"
             ],
             [
              0.4444444444444444,
              "#bd3786"
             ],
             [
              0.5555555555555556,
              "#d8576b"
             ],
             [
              0.6666666666666666,
              "#ed7953"
             ],
             [
              0.7777777777777778,
              "#fb9f3a"
             ],
             [
              0.8888888888888888,
              "#fdca26"
             ],
             [
              1,
              "#f0f921"
             ]
            ],
            "type": "heatmapgl"
           }
          ],
          "histogram": [
           {
            "marker": {
             "pattern": {
              "fillmode": "overlay",
              "size": 10,
              "solidity": 0.2
             }
            },
            "type": "histogram"
           }
          ],
          "histogram2d": [
           {
            "colorbar": {
             "outlinewidth": 0,
             "ticks": ""
            },
            "colorscale": [
             [
              0,
              "#0d0887"
             ],
             [
              0.1111111111111111,
              "#46039f"
             ],
             [
              0.2222222222222222,
              "#7201a8"
             ],
             [
              0.3333333333333333,
              "#9c179e"
             ],
             [
              0.4444444444444444,
              "#bd3786"
             ],
             [
              0.5555555555555556,
              "#d8576b"
             ],
             [
              0.6666666666666666,
              "#ed7953"
             ],
             [
              0.7777777777777778,
              "#fb9f3a"
             ],
             [
              0.8888888888888888,
              "#fdca26"
             ],
             [
              1,
              "#f0f921"
             ]
            ],
            "type": "histogram2d"
           }
          ],
          "histogram2dcontour": [
           {
            "colorbar": {
             "outlinewidth": 0,
             "ticks": ""
            },
            "colorscale": [
             [
              0,
              "#0d0887"
             ],
             [
              0.1111111111111111,
              "#46039f"
             ],
             [
              0.2222222222222222,
              "#7201a8"
             ],
             [
              0.3333333333333333,
              "#9c179e"
             ],
             [
              0.4444444444444444,
              "#bd3786"
             ],
             [
              0.5555555555555556,
              "#d8576b"
             ],
             [
              0.6666666666666666,
              "#ed7953"
             ],
             [
              0.7777777777777778,
              "#fb9f3a"
             ],
             [
              0.8888888888888888,
              "#fdca26"
             ],
             [
              1,
              "#f0f921"
             ]
            ],
            "type": "histogram2dcontour"
           }
          ],
          "mesh3d": [
           {
            "colorbar": {
             "outlinewidth": 0,
             "ticks": ""
            },
            "type": "mesh3d"
           }
          ],
          "parcoords": [
           {
            "line": {
             "colorbar": {
              "outlinewidth": 0,
              "ticks": ""
             }
            },
            "type": "parcoords"
           }
          ],
          "pie": [
           {
            "automargin": true,
            "type": "pie"
           }
          ],
          "scatter": [
           {
            "fillpattern": {
             "fillmode": "overlay",
             "size": 10,
             "solidity": 0.2
            },
            "type": "scatter"
           }
          ],
          "scatter3d": [
           {
            "line": {
             "colorbar": {
              "outlinewidth": 0,
              "ticks": ""
             }
            },
            "marker": {
             "colorbar": {
              "outlinewidth": 0,
              "ticks": ""
             }
            },
            "type": "scatter3d"
           }
          ],
          "scattercarpet": [
           {
            "marker": {
             "colorbar": {
              "outlinewidth": 0,
              "ticks": ""
             }
            },
            "type": "scattercarpet"
           }
          ],
          "scattergeo": [
           {
            "marker": {
             "colorbar": {
              "outlinewidth": 0,
              "ticks": ""
             }
            },
            "type": "scattergeo"
           }
          ],
          "scattergl": [
           {
            "marker": {
             "colorbar": {
              "outlinewidth": 0,
              "ticks": ""
             }
            },
            "type": "scattergl"
           }
          ],
          "scattermapbox": [
           {
            "marker": {
             "colorbar": {
              "outlinewidth": 0,
              "ticks": ""
             }
            },
            "type": "scattermapbox"
           }
          ],
          "scatterpolar": [
           {
            "marker": {
             "colorbar": {
              "outlinewidth": 0,
              "ticks": ""
             }
            },
            "type": "scatterpolar"
           }
          ],
          "scatterpolargl": [
           {
            "marker": {
             "colorbar": {
              "outlinewidth": 0,
              "ticks": ""
             }
            },
            "type": "scatterpolargl"
           }
          ],
          "scatterternary": [
           {
            "marker": {
             "colorbar": {
              "outlinewidth": 0,
              "ticks": ""
             }
            },
            "type": "scatterternary"
           }
          ],
          "surface": [
           {
            "colorbar": {
             "outlinewidth": 0,
             "ticks": ""
            },
            "colorscale": [
             [
              0,
              "#0d0887"
             ],
             [
              0.1111111111111111,
              "#46039f"
             ],
             [
              0.2222222222222222,
              "#7201a8"
             ],
             [
              0.3333333333333333,
              "#9c179e"
             ],
             [
              0.4444444444444444,
              "#bd3786"
             ],
             [
              0.5555555555555556,
              "#d8576b"
             ],
             [
              0.6666666666666666,
              "#ed7953"
             ],
             [
              0.7777777777777778,
              "#fb9f3a"
             ],
             [
              0.8888888888888888,
              "#fdca26"
             ],
             [
              1,
              "#f0f921"
             ]
            ],
            "type": "surface"
           }
          ],
          "table": [
           {
            "cells": {
             "fill": {
              "color": "#EBF0F8"
             },
             "line": {
              "color": "white"
             }
            },
            "header": {
             "fill": {
              "color": "#C8D4E3"
             },
             "line": {
              "color": "white"
             }
            },
            "type": "table"
           }
          ]
         },
         "layout": {
          "annotationdefaults": {
           "arrowcolor": "#2a3f5f",
           "arrowhead": 0,
           "arrowwidth": 1
          },
          "autotypenumbers": "strict",
          "coloraxis": {
           "colorbar": {
            "outlinewidth": 0,
            "ticks": ""
           }
          },
          "colorscale": {
           "diverging": [
            [
             0,
             "#8e0152"
            ],
            [
             0.1,
             "#c51b7d"
            ],
            [
             0.2,
             "#de77ae"
            ],
            [
             0.3,
             "#f1b6da"
            ],
            [
             0.4,
             "#fde0ef"
            ],
            [
             0.5,
             "#f7f7f7"
            ],
            [
             0.6,
             "#e6f5d0"
            ],
            [
             0.7,
             "#b8e186"
            ],
            [
             0.8,
             "#7fbc41"
            ],
            [
             0.9,
             "#4d9221"
            ],
            [
             1,
             "#276419"
            ]
           ],
           "sequential": [
            [
             0,
             "#0d0887"
            ],
            [
             0.1111111111111111,
             "#46039f"
            ],
            [
             0.2222222222222222,
             "#7201a8"
            ],
            [
             0.3333333333333333,
             "#9c179e"
            ],
            [
             0.4444444444444444,
             "#bd3786"
            ],
            [
             0.5555555555555556,
             "#d8576b"
            ],
            [
             0.6666666666666666,
             "#ed7953"
            ],
            [
             0.7777777777777778,
             "#fb9f3a"
            ],
            [
             0.8888888888888888,
             "#fdca26"
            ],
            [
             1,
             "#f0f921"
            ]
           ],
           "sequentialminus": [
            [
             0,
             "#0d0887"
            ],
            [
             0.1111111111111111,
             "#46039f"
            ],
            [
             0.2222222222222222,
             "#7201a8"
            ],
            [
             0.3333333333333333,
             "#9c179e"
            ],
            [
             0.4444444444444444,
             "#bd3786"
            ],
            [
             0.5555555555555556,
             "#d8576b"
            ],
            [
             0.6666666666666666,
             "#ed7953"
            ],
            [
             0.7777777777777778,
             "#fb9f3a"
            ],
            [
             0.8888888888888888,
             "#fdca26"
            ],
            [
             1,
             "#f0f921"
            ]
           ]
          },
          "colorway": [
           "#636efa",
           "#EF553B",
           "#00cc96",
           "#ab63fa",
           "#FFA15A",
           "#19d3f3",
           "#FF6692",
           "#B6E880",
           "#FF97FF",
           "#FECB52"
          ],
          "font": {
           "color": "#2a3f5f"
          },
          "geo": {
           "bgcolor": "white",
           "lakecolor": "white",
           "landcolor": "#E5ECF6",
           "showlakes": true,
           "showland": true,
           "subunitcolor": "white"
          },
          "hoverlabel": {
           "align": "left"
          },
          "hovermode": "closest",
          "mapbox": {
           "style": "light"
          },
          "paper_bgcolor": "white",
          "plot_bgcolor": "#E5ECF6",
          "polar": {
           "angularaxis": {
            "gridcolor": "white",
            "linecolor": "white",
            "ticks": ""
           },
           "bgcolor": "#E5ECF6",
           "radialaxis": {
            "gridcolor": "white",
            "linecolor": "white",
            "ticks": ""
           }
          },
          "scene": {
           "xaxis": {
            "backgroundcolor": "#E5ECF6",
            "gridcolor": "white",
            "gridwidth": 2,
            "linecolor": "white",
            "showbackground": true,
            "ticks": "",
            "zerolinecolor": "white"
           },
           "yaxis": {
            "backgroundcolor": "#E5ECF6",
            "gridcolor": "white",
            "gridwidth": 2,
            "linecolor": "white",
            "showbackground": true,
            "ticks": "",
            "zerolinecolor": "white"
           },
           "zaxis": {
            "backgroundcolor": "#E5ECF6",
            "gridcolor": "white",
            "gridwidth": 2,
            "linecolor": "white",
            "showbackground": true,
            "ticks": "",
            "zerolinecolor": "white"
           }
          },
          "shapedefaults": {
           "line": {
            "color": "#2a3f5f"
           }
          },
          "ternary": {
           "aaxis": {
            "gridcolor": "white",
            "linecolor": "white",
            "ticks": ""
           },
           "baxis": {
            "gridcolor": "white",
            "linecolor": "white",
            "ticks": ""
           },
           "bgcolor": "#E5ECF6",
           "caxis": {
            "gridcolor": "white",
            "linecolor": "white",
            "ticks": ""
           }
          },
          "title": {
           "x": 0.05
          },
          "xaxis": {
           "automargin": true,
           "gridcolor": "white",
           "linecolor": "white",
           "ticks": "",
           "title": {
            "standoff": 15
           },
           "zerolinecolor": "white",
           "zerolinewidth": 2
          },
          "yaxis": {
           "automargin": true,
           "gridcolor": "white",
           "linecolor": "white",
           "ticks": "",
           "title": {
            "standoff": 15
           },
           "zerolinecolor": "white",
           "zerolinewidth": 2
          }
         }
        },
        "title": {
         "text": "Top 20 Game Publisher companies by Total Number of Games Published"
        },
        "xaxis": {
         "anchor": "y",
         "domain": [
          0,
          1
         ],
         "title": {
          "text": "Publisher"
         }
        },
        "yaxis": {
         "anchor": "x",
         "domain": [
          0,
          1
         ],
         "title": {
          "text": "count"
         }
        }
       }
      }
     },
     "metadata": {},
     "output_type": "display_data"
    },
    {
     "data": {
      "application/vnd.plotly.v1+json": {
       "config": {
        "plotlyServerURL": "https://plot.ly"
       },
       "data": [
        {
         "customdata": [
          [
           617
          ],
          [
           449
          ],
          [
           409
          ],
          [
           407
          ],
          [
           388
          ],
          [
           315
          ],
          [
           311
          ],
          [
           309
          ],
          [
           304
          ],
          [
           301
          ],
          [
           232
          ],
          [
           176
          ],
          [
           168
          ],
          [
           157
          ],
          [
           153
          ],
          [
           143
          ],
          [
           119
          ],
          [
           114
          ],
          [
           113
          ],
          [
           113
          ]
         ],
         "domain": {
          "x": [
           0,
           1
          ],
          "y": [
           0,
           1
          ]
         },
         "hole": 0.3,
         "hovertemplate": "Publisher=%{label}<br>count=%{customdata[0]}<extra></extra>",
         "labels": [
          "Nintendo",
          "Ubisoft",
          "Sega",
          "SCEA",
          "Electronic Arts",
          "Activision",
          "Konami",
          "Square Enix",
          "Microsoft Game Studios",
          "Capcom",
          "THQ",
          "Namco Bandai Games",
          "Atlus",
          "Bandai Namco Games",
          "NIS America",
          "Atari SA",
          "EA Games",
          "Telltale Games",
          "Warner Bros. Interactive Entertainment",
          "EA Sports"
         ],
         "legendgroup": "",
         "marker": {
          "colors": [
           "#636efa",
           "#EF553B",
           "#00cc96",
           "#ab63fa",
           "#FFA15A",
           "#19d3f3",
           "#FF6692",
           "#B6E880",
           "#FF97FF",
           "#FECB52",
           "#636efa",
           "#EF553B",
           "#00cc96",
           "#ab63fa",
           "#FFA15A",
           "#19d3f3",
           "#FF6692",
           "#B6E880",
           "#FF97FF",
           "#FF97FF"
          ]
         },
         "name": "",
         "showlegend": true,
         "textposition": "inside",
         "type": "pie",
         "values": [
          617,
          449,
          409,
          407,
          388,
          315,
          311,
          309,
          304,
          301,
          232,
          176,
          168,
          157,
          153,
          143,
          119,
          114,
          113,
          113
         ]
        }
       ],
       "layout": {
        "legend": {
         "tracegroupgap": 0
        },
        "margin": {
         "t": 60
        },
        "template": {
         "data": {
          "bar": [
           {
            "error_x": {
             "color": "#2a3f5f"
            },
            "error_y": {
             "color": "#2a3f5f"
            },
            "marker": {
             "line": {
              "color": "#E5ECF6",
              "width": 0.5
             },
             "pattern": {
              "fillmode": "overlay",
              "size": 10,
              "solidity": 0.2
             }
            },
            "type": "bar"
           }
          ],
          "barpolar": [
           {
            "marker": {
             "line": {
              "color": "#E5ECF6",
              "width": 0.5
             },
             "pattern": {
              "fillmode": "overlay",
              "size": 10,
              "solidity": 0.2
             }
            },
            "type": "barpolar"
           }
          ],
          "carpet": [
           {
            "aaxis": {
             "endlinecolor": "#2a3f5f",
             "gridcolor": "white",
             "linecolor": "white",
             "minorgridcolor": "white",
             "startlinecolor": "#2a3f5f"
            },
            "baxis": {
             "endlinecolor": "#2a3f5f",
             "gridcolor": "white",
             "linecolor": "white",
             "minorgridcolor": "white",
             "startlinecolor": "#2a3f5f"
            },
            "type": "carpet"
           }
          ],
          "choropleth": [
           {
            "colorbar": {
             "outlinewidth": 0,
             "ticks": ""
            },
            "type": "choropleth"
           }
          ],
          "contour": [
           {
            "colorbar": {
             "outlinewidth": 0,
             "ticks": ""
            },
            "colorscale": [
             [
              0,
              "#0d0887"
             ],
             [
              0.1111111111111111,
              "#46039f"
             ],
             [
              0.2222222222222222,
              "#7201a8"
             ],
             [
              0.3333333333333333,
              "#9c179e"
             ],
             [
              0.4444444444444444,
              "#bd3786"
             ],
             [
              0.5555555555555556,
              "#d8576b"
             ],
             [
              0.6666666666666666,
              "#ed7953"
             ],
             [
              0.7777777777777778,
              "#fb9f3a"
             ],
             [
              0.8888888888888888,
              "#fdca26"
             ],
             [
              1,
              "#f0f921"
             ]
            ],
            "type": "contour"
           }
          ],
          "contourcarpet": [
           {
            "colorbar": {
             "outlinewidth": 0,
             "ticks": ""
            },
            "type": "contourcarpet"
           }
          ],
          "heatmap": [
           {
            "colorbar": {
             "outlinewidth": 0,
             "ticks": ""
            },
            "colorscale": [
             [
              0,
              "#0d0887"
             ],
             [
              0.1111111111111111,
              "#46039f"
             ],
             [
              0.2222222222222222,
              "#7201a8"
             ],
             [
              0.3333333333333333,
              "#9c179e"
             ],
             [
              0.4444444444444444,
              "#bd3786"
             ],
             [
              0.5555555555555556,
              "#d8576b"
             ],
             [
              0.6666666666666666,
              "#ed7953"
             ],
             [
              0.7777777777777778,
              "#fb9f3a"
             ],
             [
              0.8888888888888888,
              "#fdca26"
             ],
             [
              1,
              "#f0f921"
             ]
            ],
            "type": "heatmap"
           }
          ],
          "heatmapgl": [
           {
            "colorbar": {
             "outlinewidth": 0,
             "ticks": ""
            },
            "colorscale": [
             [
              0,
              "#0d0887"
             ],
             [
              0.1111111111111111,
              "#46039f"
             ],
             [
              0.2222222222222222,
              "#7201a8"
             ],
             [
              0.3333333333333333,
              "#9c179e"
             ],
             [
              0.4444444444444444,
              "#bd3786"
             ],
             [
              0.5555555555555556,
              "#d8576b"
             ],
             [
              0.6666666666666666,
              "#ed7953"
             ],
             [
              0.7777777777777778,
              "#fb9f3a"
             ],
             [
              0.8888888888888888,
              "#fdca26"
             ],
             [
              1,
              "#f0f921"
             ]
            ],
            "type": "heatmapgl"
           }
          ],
          "histogram": [
           {
            "marker": {
             "pattern": {
              "fillmode": "overlay",
              "size": 10,
              "solidity": 0.2
             }
            },
            "type": "histogram"
           }
          ],
          "histogram2d": [
           {
            "colorbar": {
             "outlinewidth": 0,
             "ticks": ""
            },
            "colorscale": [
             [
              0,
              "#0d0887"
             ],
             [
              0.1111111111111111,
              "#46039f"
             ],
             [
              0.2222222222222222,
              "#7201a8"
             ],
             [
              0.3333333333333333,
              "#9c179e"
             ],
             [
              0.4444444444444444,
              "#bd3786"
             ],
             [
              0.5555555555555556,
              "#d8576b"
             ],
             [
              0.6666666666666666,
              "#ed7953"
             ],
             [
              0.7777777777777778,
              "#fb9f3a"
             ],
             [
              0.8888888888888888,
              "#fdca26"
             ],
             [
              1,
              "#f0f921"
             ]
            ],
            "type": "histogram2d"
           }
          ],
          "histogram2dcontour": [
           {
            "colorbar": {
             "outlinewidth": 0,
             "ticks": ""
            },
            "colorscale": [
             [
              0,
              "#0d0887"
             ],
             [
              0.1111111111111111,
              "#46039f"
             ],
             [
              0.2222222222222222,
              "#7201a8"
             ],
             [
              0.3333333333333333,
              "#9c179e"
             ],
             [
              0.4444444444444444,
              "#bd3786"
             ],
             [
              0.5555555555555556,
              "#d8576b"
             ],
             [
              0.6666666666666666,
              "#ed7953"
             ],
             [
              0.7777777777777778,
              "#fb9f3a"
             ],
             [
              0.8888888888888888,
              "#fdca26"
             ],
             [
              1,
              "#f0f921"
             ]
            ],
            "type": "histogram2dcontour"
           }
          ],
          "mesh3d": [
           {
            "colorbar": {
             "outlinewidth": 0,
             "ticks": ""
            },
            "type": "mesh3d"
           }
          ],
          "parcoords": [
           {
            "line": {
             "colorbar": {
              "outlinewidth": 0,
              "ticks": ""
             }
            },
            "type": "parcoords"
           }
          ],
          "pie": [
           {
            "automargin": true,
            "type": "pie"
           }
          ],
          "scatter": [
           {
            "fillpattern": {
             "fillmode": "overlay",
             "size": 10,
             "solidity": 0.2
            },
            "type": "scatter"
           }
          ],
          "scatter3d": [
           {
            "line": {
             "colorbar": {
              "outlinewidth": 0,
              "ticks": ""
             }
            },
            "marker": {
             "colorbar": {
              "outlinewidth": 0,
              "ticks": ""
             }
            },
            "type": "scatter3d"
           }
          ],
          "scattercarpet": [
           {
            "marker": {
             "colorbar": {
              "outlinewidth": 0,
              "ticks": ""
             }
            },
            "type": "scattercarpet"
           }
          ],
          "scattergeo": [
           {
            "marker": {
             "colorbar": {
              "outlinewidth": 0,
              "ticks": ""
             }
            },
            "type": "scattergeo"
           }
          ],
          "scattergl": [
           {
            "marker": {
             "colorbar": {
              "outlinewidth": 0,
              "ticks": ""
             }
            },
            "type": "scattergl"
           }
          ],
          "scattermapbox": [
           {
            "marker": {
             "colorbar": {
              "outlinewidth": 0,
              "ticks": ""
             }
            },
            "type": "scattermapbox"
           }
          ],
          "scatterpolar": [
           {
            "marker": {
             "colorbar": {
              "outlinewidth": 0,
              "ticks": ""
             }
            },
            "type": "scatterpolar"
           }
          ],
          "scatterpolargl": [
           {
            "marker": {
             "colorbar": {
              "outlinewidth": 0,
              "ticks": ""
             }
            },
            "type": "scatterpolargl"
           }
          ],
          "scatterternary": [
           {
            "marker": {
             "colorbar": {
              "outlinewidth": 0,
              "ticks": ""
             }
            },
            "type": "scatterternary"
           }
          ],
          "surface": [
           {
            "colorbar": {
             "outlinewidth": 0,
             "ticks": ""
            },
            "colorscale": [
             [
              0,
              "#0d0887"
             ],
             [
              0.1111111111111111,
              "#46039f"
             ],
             [
              0.2222222222222222,
              "#7201a8"
             ],
             [
              0.3333333333333333,
              "#9c179e"
             ],
             [
              0.4444444444444444,
              "#bd3786"
             ],
             [
              0.5555555555555556,
              "#d8576b"
             ],
             [
              0.6666666666666666,
              "#ed7953"
             ],
             [
              0.7777777777777778,
              "#fb9f3a"
             ],
             [
              0.8888888888888888,
              "#fdca26"
             ],
             [
              1,
              "#f0f921"
             ]
            ],
            "type": "surface"
           }
          ],
          "table": [
           {
            "cells": {
             "fill": {
              "color": "#EBF0F8"
             },
             "line": {
              "color": "white"
             }
            },
            "header": {
             "fill": {
              "color": "#C8D4E3"
             },
             "line": {
              "color": "white"
             }
            },
            "type": "table"
           }
          ]
         },
         "layout": {
          "annotationdefaults": {
           "arrowcolor": "#2a3f5f",
           "arrowhead": 0,
           "arrowwidth": 1
          },
          "autotypenumbers": "strict",
          "coloraxis": {
           "colorbar": {
            "outlinewidth": 0,
            "ticks": ""
           }
          },
          "colorscale": {
           "diverging": [
            [
             0,
             "#8e0152"
            ],
            [
             0.1,
             "#c51b7d"
            ],
            [
             0.2,
             "#de77ae"
            ],
            [
             0.3,
             "#f1b6da"
            ],
            [
             0.4,
             "#fde0ef"
            ],
            [
             0.5,
             "#f7f7f7"
            ],
            [
             0.6,
             "#e6f5d0"
            ],
            [
             0.7,
             "#b8e186"
            ],
            [
             0.8,
             "#7fbc41"
            ],
            [
             0.9,
             "#4d9221"
            ],
            [
             1,
             "#276419"
            ]
           ],
           "sequential": [
            [
             0,
             "#0d0887"
            ],
            [
             0.1111111111111111,
             "#46039f"
            ],
            [
             0.2222222222222222,
             "#7201a8"
            ],
            [
             0.3333333333333333,
             "#9c179e"
            ],
            [
             0.4444444444444444,
             "#bd3786"
            ],
            [
             0.5555555555555556,
             "#d8576b"
            ],
            [
             0.6666666666666666,
             "#ed7953"
            ],
            [
             0.7777777777777778,
             "#fb9f3a"
            ],
            [
             0.8888888888888888,
             "#fdca26"
            ],
            [
             1,
             "#f0f921"
            ]
           ],
           "sequentialminus": [
            [
             0,
             "#0d0887"
            ],
            [
             0.1111111111111111,
             "#46039f"
            ],
            [
             0.2222222222222222,
             "#7201a8"
            ],
            [
             0.3333333333333333,
             "#9c179e"
            ],
            [
             0.4444444444444444,
             "#bd3786"
            ],
            [
             0.5555555555555556,
             "#d8576b"
            ],
            [
             0.6666666666666666,
             "#ed7953"
            ],
            [
             0.7777777777777778,
             "#fb9f3a"
            ],
            [
             0.8888888888888888,
             "#fdca26"
            ],
            [
             1,
             "#f0f921"
            ]
           ]
          },
          "colorway": [
           "#636efa",
           "#EF553B",
           "#00cc96",
           "#ab63fa",
           "#FFA15A",
           "#19d3f3",
           "#FF6692",
           "#B6E880",
           "#FF97FF",
           "#FECB52"
          ],
          "font": {
           "color": "#2a3f5f"
          },
          "geo": {
           "bgcolor": "white",
           "lakecolor": "white",
           "landcolor": "#E5ECF6",
           "showlakes": true,
           "showland": true,
           "subunitcolor": "white"
          },
          "hoverlabel": {
           "align": "left"
          },
          "hovermode": "closest",
          "mapbox": {
           "style": "light"
          },
          "paper_bgcolor": "white",
          "plot_bgcolor": "#E5ECF6",
          "polar": {
           "angularaxis": {
            "gridcolor": "white",
            "linecolor": "white",
            "ticks": ""
           },
           "bgcolor": "#E5ECF6",
           "radialaxis": {
            "gridcolor": "white",
            "linecolor": "white",
            "ticks": ""
           }
          },
          "scene": {
           "xaxis": {
            "backgroundcolor": "#E5ECF6",
            "gridcolor": "white",
            "gridwidth": 2,
            "linecolor": "white",
            "showbackground": true,
            "ticks": "",
            "zerolinecolor": "white"
           },
           "yaxis": {
            "backgroundcolor": "#E5ECF6",
            "gridcolor": "white",
            "gridwidth": 2,
            "linecolor": "white",
            "showbackground": true,
            "ticks": "",
            "zerolinecolor": "white"
           },
           "zaxis": {
            "backgroundcolor": "#E5ECF6",
            "gridcolor": "white",
            "gridwidth": 2,
            "linecolor": "white",
            "showbackground": true,
            "ticks": "",
            "zerolinecolor": "white"
           }
          },
          "shapedefaults": {
           "line": {
            "color": "#2a3f5f"
           }
          },
          "ternary": {
           "aaxis": {
            "gridcolor": "white",
            "linecolor": "white",
            "ticks": ""
           },
           "baxis": {
            "gridcolor": "white",
            "linecolor": "white",
            "ticks": ""
           },
           "bgcolor": "#E5ECF6",
           "caxis": {
            "gridcolor": "white",
            "linecolor": "white",
            "ticks": ""
           }
          },
          "title": {
           "x": 0.05
          },
          "xaxis": {
           "automargin": true,
           "gridcolor": "white",
           "linecolor": "white",
           "ticks": "",
           "title": {
            "standoff": 15
           },
           "zerolinecolor": "white",
           "zerolinewidth": 2
          },
          "yaxis": {
           "automargin": true,
           "gridcolor": "white",
           "linecolor": "white",
           "ticks": "",
           "title": {
            "standoff": 15
           },
           "zerolinecolor": "white",
           "zerolinewidth": 2
          }
         }
        },
        "uniformtext": {
         "minsize": 12,
         "mode": "hide"
        }
       }
      }
     },
     "metadata": {},
     "output_type": "display_data"
    }
   ],
   "source": [
    "fig=px.bar(Top_20_Game_Publishers,x='Publisher',y='count',color='count',\n",
    "           title=\"Top 20 Game Publisher companies by Total Number of Games Published\")\n",
    "fig.show(render='iframe')\n",
    "\n",
    "fig=px.pie(Top_20_Game_Publishers,names='Publisher',values='count',color='count',hole=0.3)\n",
    "fig.update_traces(textposition='inside')\n",
    "fig.update_layout(uniformtext_minsize=12, uniformtext_mode='hide')\n",
    "fig.show(render='iframe')"
   ]
  },
  {
   "cell_type": "code",
   "execution_count": 28,
   "id": "1e361604",
   "metadata": {
    "execution": {
     "iopub.execute_input": "2024-02-13T14:32:35.113259Z",
     "iopub.status.busy": "2024-02-13T14:32:35.112642Z",
     "iopub.status.idle": "2024-02-13T14:32:35.134377Z",
     "shell.execute_reply": "2024-02-13T14:32:35.133128Z"
    },
    "papermill": {
     "duration": 0.044566,
     "end_time": "2024-02-13T14:32:35.137028",
     "exception": false,
     "start_time": "2024-02-13T14:32:35.092462",
     "status": "completed"
    },
    "tags": []
   },
   "outputs": [
    {
     "data": {
      "text/html": [
       "<style type=\"text/css\">\n",
       "#T_69504_row0_col1 {\n",
       "  background-color: #fff7fb;\n",
       "  color: #000000;\n",
       "}\n",
       "#T_69504_row1_col1 {\n",
       "  background-color: #fdf5fa;\n",
       "  color: #000000;\n",
       "}\n",
       "#T_69504_row2_col1, #T_69504_row29_col1 {\n",
       "  background-color: #fbf3f9;\n",
       "  color: #000000;\n",
       "}\n",
       "#T_69504_row3_col1 {\n",
       "  background-color: #f7f0f7;\n",
       "  color: #000000;\n",
       "}\n",
       "#T_69504_row4_col1 {\n",
       "  background-color: #f6eff7;\n",
       "  color: #000000;\n",
       "}\n",
       "#T_69504_row5_col1 {\n",
       "  background-color: #a9bfdc;\n",
       "  color: #000000;\n",
       "}\n",
       "#T_69504_row6_col1 {\n",
       "  background-color: #5ea0ca;\n",
       "  color: #f1f1f1;\n",
       "}\n",
       "#T_69504_row7_col1, #T_69504_row8_col1 {\n",
       "  background-color: #2685bb;\n",
       "  color: #f1f1f1;\n",
       "}\n",
       "#T_69504_row9_col1 {\n",
       "  background-color: #3b92c1;\n",
       "  color: #f1f1f1;\n",
       "}\n",
       "#T_69504_row10_col1 {\n",
       "  background-color: #2383ba;\n",
       "  color: #f1f1f1;\n",
       "}\n",
       "#T_69504_row11_col1 {\n",
       "  background-color: #0f76b3;\n",
       "  color: #f1f1f1;\n",
       "}\n",
       "#T_69504_row12_col1 {\n",
       "  background-color: #056aa6;\n",
       "  color: #f1f1f1;\n",
       "}\n",
       "#T_69504_row13_col1, #T_69504_row20_col1 {\n",
       "  background-color: #056dab;\n",
       "  color: #f1f1f1;\n",
       "}\n",
       "#T_69504_row14_col1 {\n",
       "  background-color: #046096;\n",
       "  color: #f1f1f1;\n",
       "}\n",
       "#T_69504_row15_col1 {\n",
       "  background-color: #045f95;\n",
       "  color: #f1f1f1;\n",
       "}\n",
       "#T_69504_row16_col1 {\n",
       "  background-color: #023858;\n",
       "  color: #f1f1f1;\n",
       "}\n",
       "#T_69504_row17_col1 {\n",
       "  background-color: #023f64;\n",
       "  color: #f1f1f1;\n",
       "}\n",
       "#T_69504_row18_col1 {\n",
       "  background-color: #045687;\n",
       "  color: #f1f1f1;\n",
       "}\n",
       "#T_69504_row19_col1 {\n",
       "  background-color: #0569a5;\n",
       "  color: #f1f1f1;\n",
       "}\n",
       "#T_69504_row21_col1 {\n",
       "  background-color: #056caa;\n",
       "  color: #f1f1f1;\n",
       "}\n",
       "#T_69504_row22_col1 {\n",
       "  background-color: #04649d;\n",
       "  color: #f1f1f1;\n",
       "}\n",
       "#T_69504_row23_col1 {\n",
       "  background-color: #0566a0;\n",
       "  color: #f1f1f1;\n",
       "}\n",
       "#T_69504_row24_col1 {\n",
       "  background-color: #1b7eb7;\n",
       "  color: #f1f1f1;\n",
       "}\n",
       "#T_69504_row25_col1 {\n",
       "  background-color: #056ead;\n",
       "  color: #f1f1f1;\n",
       "}\n",
       "#T_69504_row26_col1 {\n",
       "  background-color: #1c7fb8;\n",
       "  color: #f1f1f1;\n",
       "}\n",
       "#T_69504_row27_col1 {\n",
       "  background-color: #4c99c5;\n",
       "  color: #f1f1f1;\n",
       "}\n",
       "#T_69504_row28_col1 {\n",
       "  background-color: #3f93c2;\n",
       "  color: #f1f1f1;\n",
       "}\n",
       "</style>\n",
       "<table id=\"T_69504\">\n",
       "  <thead>\n",
       "    <tr>\n",
       "      <th class=\"blank level0\" >&nbsp;</th>\n",
       "      <th id=\"T_69504_level0_col0\" class=\"col_heading level0 col0\" >Release Year</th>\n",
       "      <th id=\"T_69504_level0_col1\" class=\"col_heading level0 col1\" >count</th>\n",
       "    </tr>\n",
       "  </thead>\n",
       "  <tbody>\n",
       "    <tr>\n",
       "      <th id=\"T_69504_level0_row0\" class=\"row_heading level0 row0\" >29</th>\n",
       "      <td id=\"T_69504_row0_col0\" class=\"data row0 col0\" >1995.000000</td>\n",
       "      <td id=\"T_69504_row0_col1\" class=\"data row0 col1\" >1</td>\n",
       "    </tr>\n",
       "    <tr>\n",
       "      <th id=\"T_69504_level0_row1\" class=\"row_heading level0 row1\" >28</th>\n",
       "      <td id=\"T_69504_row1_col0\" class=\"data row1 col0\" >1996.000000</td>\n",
       "      <td id=\"T_69504_row1_col1\" class=\"data row1 col1\" >15</td>\n",
       "    </tr>\n",
       "    <tr>\n",
       "      <th id=\"T_69504_level0_row2\" class=\"row_heading level0 row2\" >26</th>\n",
       "      <td id=\"T_69504_row2_col0\" class=\"data row2 col0\" >1997.000000</td>\n",
       "      <td id=\"T_69504_row2_col1\" class=\"data row2 col1\" >23</td>\n",
       "    </tr>\n",
       "    <tr>\n",
       "      <th id=\"T_69504_level0_row3\" class=\"row_heading level0 row3\" >25</th>\n",
       "      <td id=\"T_69504_row3_col0\" class=\"data row3 col0\" >1998.000000</td>\n",
       "      <td id=\"T_69504_row3_col1\" class=\"data row3 col1\" >46</td>\n",
       "    </tr>\n",
       "    <tr>\n",
       "      <th id=\"T_69504_level0_row4\" class=\"row_heading level0 row4\" >24</th>\n",
       "      <td id=\"T_69504_row4_col0\" class=\"data row4 col0\" >1999.000000</td>\n",
       "      <td id=\"T_69504_row4_col1\" class=\"data row4 col1\" >47</td>\n",
       "    </tr>\n",
       "    <tr>\n",
       "      <th id=\"T_69504_level0_row5\" class=\"row_heading level0 row5\" >23</th>\n",
       "      <td id=\"T_69504_row5_col0\" class=\"data row5 col0\" >2000.000000</td>\n",
       "      <td id=\"T_69504_row5_col1\" class=\"data row5 col1\" >288</td>\n",
       "    </tr>\n",
       "    <tr>\n",
       "      <th id=\"T_69504_level0_row6\" class=\"row_heading level0 row6\" >22</th>\n",
       "      <td id=\"T_69504_row6_col0\" class=\"data row6 col0\" >2001.000000</td>\n",
       "      <td id=\"T_69504_row6_col1\" class=\"data row6 col1\" >428</td>\n",
       "    </tr>\n",
       "    <tr>\n",
       "      <th id=\"T_69504_level0_row7\" class=\"row_heading level0 row7\" >18</th>\n",
       "      <td id=\"T_69504_row7_col0\" class=\"data row7 col0\" >2002.000000</td>\n",
       "      <td id=\"T_69504_row7_col1\" class=\"data row7 col1\" >522</td>\n",
       "    </tr>\n",
       "    <tr>\n",
       "      <th id=\"T_69504_level0_row8\" class=\"row_heading level0 row8\" >17</th>\n",
       "      <td id=\"T_69504_row8_col0\" class=\"data row8 col0\" >2003.000000</td>\n",
       "      <td id=\"T_69504_row8_col1\" class=\"data row8 col1\" >524</td>\n",
       "    </tr>\n",
       "    <tr>\n",
       "      <th id=\"T_69504_level0_row9\" class=\"row_heading level0 row9\" >19</th>\n",
       "      <td id=\"T_69504_row9_col0\" class=\"data row9 col0\" >2004.000000</td>\n",
       "      <td id=\"T_69504_row9_col1\" class=\"data row9 col1\" >482</td>\n",
       "    </tr>\n",
       "    <tr>\n",
       "      <th id=\"T_69504_level0_row10\" class=\"row_heading level0 row10\" >16</th>\n",
       "      <td id=\"T_69504_row10_col0\" class=\"data row10 col0\" >2005.000000</td>\n",
       "      <td id=\"T_69504_row10_col1\" class=\"data row10 col1\" >528</td>\n",
       "    </tr>\n",
       "    <tr>\n",
       "      <th id=\"T_69504_level0_row11\" class=\"row_heading level0 row11\" >13</th>\n",
       "      <td id=\"T_69504_row11_col0\" class=\"data row11 col0\" >2006.000000</td>\n",
       "      <td id=\"T_69504_row11_col1\" class=\"data row11 col1\" >568</td>\n",
       "    </tr>\n",
       "    <tr>\n",
       "      <th id=\"T_69504_level0_row12\" class=\"row_heading level0 row12\" >8</th>\n",
       "      <td id=\"T_69504_row12_col0\" class=\"data row12 col0\" >2007.000000</td>\n",
       "      <td id=\"T_69504_row12_col1\" class=\"data row12 col1\" >615</td>\n",
       "    </tr>\n",
       "    <tr>\n",
       "      <th id=\"T_69504_level0_row13\" class=\"row_heading level0 row13\" >11</th>\n",
       "      <td id=\"T_69504_row13_col0\" class=\"data row13 col0\" >2008.000000</td>\n",
       "      <td id=\"T_69504_row13_col1\" class=\"data row13 col1\" >603</td>\n",
       "    </tr>\n",
       "    <tr>\n",
       "      <th id=\"T_69504_level0_row14\" class=\"row_heading level0 row14\" >4</th>\n",
       "      <td id=\"T_69504_row14_col0\" class=\"data row14 col0\" >2009.000000</td>\n",
       "      <td id=\"T_69504_row14_col1\" class=\"data row14 col1\" >659</td>\n",
       "    </tr>\n",
       "    <tr>\n",
       "      <th id=\"T_69504_level0_row15\" class=\"row_heading level0 row15\" >3</th>\n",
       "      <td id=\"T_69504_row15_col0\" class=\"data row15 col0\" >2010.000000</td>\n",
       "      <td id=\"T_69504_row15_col1\" class=\"data row15 col1\" >664</td>\n",
       "    </tr>\n",
       "    <tr>\n",
       "      <th id=\"T_69504_level0_row16\" class=\"row_heading level0 row16\" >0</th>\n",
       "      <td id=\"T_69504_row16_col0\" class=\"data row16 col0\" >2011.000000</td>\n",
       "      <td id=\"T_69504_row16_col1\" class=\"data row16 col1\" >784</td>\n",
       "    </tr>\n",
       "    <tr>\n",
       "      <th id=\"T_69504_level0_row17\" class=\"row_heading level0 row17\" >1</th>\n",
       "      <td id=\"T_69504_row17_col0\" class=\"data row17 col0\" >2012.000000</td>\n",
       "      <td id=\"T_69504_row17_col1\" class=\"data row17 col1\" >762</td>\n",
       "    </tr>\n",
       "    <tr>\n",
       "      <th id=\"T_69504_level0_row18\" class=\"row_heading level0 row18\" >2</th>\n",
       "      <td id=\"T_69504_row18_col0\" class=\"data row18 col0\" >2013.000000</td>\n",
       "      <td id=\"T_69504_row18_col1\" class=\"data row18 col1\" >696</td>\n",
       "    </tr>\n",
       "    <tr>\n",
       "      <th id=\"T_69504_level0_row19\" class=\"row_heading level0 row19\" >7</th>\n",
       "      <td id=\"T_69504_row19_col0\" class=\"data row19 col0\" >2014.000000</td>\n",
       "      <td id=\"T_69504_row19_col1\" class=\"data row19 col1\" >616</td>\n",
       "    </tr>\n",
       "    <tr>\n",
       "      <th id=\"T_69504_level0_row20\" class=\"row_heading level0 row20\" >10</th>\n",
       "      <td id=\"T_69504_row20_col0\" class=\"data row20 col0\" >2015.000000</td>\n",
       "      <td id=\"T_69504_row20_col1\" class=\"data row20 col1\" >603</td>\n",
       "    </tr>\n",
       "    <tr>\n",
       "      <th id=\"T_69504_level0_row21\" class=\"row_heading level0 row21\" >9</th>\n",
       "      <td id=\"T_69504_row21_col0\" class=\"data row21 col0\" >2016.000000</td>\n",
       "      <td id=\"T_69504_row21_col1\" class=\"data row21 col1\" >605</td>\n",
       "    </tr>\n",
       "    <tr>\n",
       "      <th id=\"T_69504_level0_row22\" class=\"row_heading level0 row22\" >5</th>\n",
       "      <td id=\"T_69504_row22_col0\" class=\"data row22 col0\" >2017.000000</td>\n",
       "      <td id=\"T_69504_row22_col1\" class=\"data row22 col1\" >643</td>\n",
       "    </tr>\n",
       "    <tr>\n",
       "      <th id=\"T_69504_level0_row23\" class=\"row_heading level0 row23\" >6</th>\n",
       "      <td id=\"T_69504_row23_col0\" class=\"data row23 col0\" >2018.000000</td>\n",
       "      <td id=\"T_69504_row23_col1\" class=\"data row23 col1\" >634</td>\n",
       "    </tr>\n",
       "    <tr>\n",
       "      <th id=\"T_69504_level0_row24\" class=\"row_heading level0 row24\" >14</th>\n",
       "      <td id=\"T_69504_row24_col0\" class=\"data row24 col0\" >2019.000000</td>\n",
       "      <td id=\"T_69504_row24_col1\" class=\"data row24 col1\" >544</td>\n",
       "    </tr>\n",
       "    <tr>\n",
       "      <th id=\"T_69504_level0_row25\" class=\"row_heading level0 row25\" >12</th>\n",
       "      <td id=\"T_69504_row25_col0\" class=\"data row25 col0\" >2020.000000</td>\n",
       "      <td id=\"T_69504_row25_col1\" class=\"data row25 col1\" >597</td>\n",
       "    </tr>\n",
       "    <tr>\n",
       "      <th id=\"T_69504_level0_row26\" class=\"row_heading level0 row26\" >15</th>\n",
       "      <td id=\"T_69504_row26_col0\" class=\"data row26 col0\" >2021.000000</td>\n",
       "      <td id=\"T_69504_row26_col1\" class=\"data row26 col1\" >541</td>\n",
       "    </tr>\n",
       "    <tr>\n",
       "      <th id=\"T_69504_level0_row27\" class=\"row_heading level0 row27\" >21</th>\n",
       "      <td id=\"T_69504_row27_col0\" class=\"data row27 col0\" >2022.000000</td>\n",
       "      <td id=\"T_69504_row27_col1\" class=\"data row27 col1\" >454</td>\n",
       "    </tr>\n",
       "    <tr>\n",
       "      <th id=\"T_69504_level0_row28\" class=\"row_heading level0 row28\" >20</th>\n",
       "      <td id=\"T_69504_row28_col0\" class=\"data row28 col0\" >2023.000000</td>\n",
       "      <td id=\"T_69504_row28_col1\" class=\"data row28 col1\" >476</td>\n",
       "    </tr>\n",
       "    <tr>\n",
       "      <th id=\"T_69504_level0_row29\" class=\"row_heading level0 row29\" >27</th>\n",
       "      <td id=\"T_69504_row29_col0\" class=\"data row29 col0\" >2024.000000</td>\n",
       "      <td id=\"T_69504_row29_col1\" class=\"data row29 col1\" >23</td>\n",
       "    </tr>\n",
       "  </tbody>\n",
       "</table>\n"
      ],
      "text/plain": [
       "<pandas.io.formats.style.Styler at 0x1cf15649a10>"
      ]
     },
     "execution_count": 28,
     "metadata": {},
     "output_type": "execute_result"
    }
   ],
   "source": [
    "Yearwise_game_count=df['Release Year'].value_counts().reset_index().sort_values(by='Release Year')\n",
    "Yearwise_game_count.style.background_gradient(cmap='PuBu',subset='count')"
   ]
  },
  {
   "cell_type": "code",
   "execution_count": 29,
   "id": "bf16702e",
   "metadata": {
    "execution": {
     "iopub.execute_input": "2024-02-13T14:32:35.178394Z",
     "iopub.status.busy": "2024-02-13T14:32:35.177980Z",
     "iopub.status.idle": "2024-02-13T14:32:35.263129Z",
     "shell.execute_reply": "2024-02-13T14:32:35.261643Z"
    },
    "papermill": {
     "duration": 0.108588,
     "end_time": "2024-02-13T14:32:35.266085",
     "exception": false,
     "start_time": "2024-02-13T14:32:35.157497",
     "status": "completed"
    },
    "tags": []
   },
   "outputs": [
    {
     "data": {
      "application/vnd.plotly.v1+json": {
       "config": {
        "plotlyServerURL": "https://plot.ly"
       },
       "data": [
        {
         "hovertemplate": "Release Year=%{x}<br>count=%{y}<extra></extra>",
         "legendgroup": "",
         "line": {
          "color": "#636efa",
          "dash": "solid"
         },
         "marker": {
          "symbol": "circle"
         },
         "mode": "lines+markers",
         "name": "",
         "orientation": "v",
         "showlegend": false,
         "type": "scatter",
         "x": [
          1995,
          1996,
          1997,
          1998,
          1999,
          2000,
          2001,
          2002,
          2003,
          2004,
          2005,
          2006,
          2007,
          2008,
          2009,
          2010,
          2011,
          2012,
          2013,
          2014,
          2015,
          2016,
          2017,
          2018,
          2019,
          2020,
          2021,
          2022,
          2023,
          2024
         ],
         "xaxis": "x",
         "y": [
          1,
          15,
          23,
          46,
          47,
          288,
          428,
          522,
          524,
          482,
          528,
          568,
          615,
          603,
          659,
          664,
          784,
          762,
          696,
          616,
          603,
          605,
          643,
          634,
          544,
          597,
          541,
          454,
          476,
          23
         ],
         "yaxis": "y"
        }
       ],
       "layout": {
        "legend": {
         "tracegroupgap": 0
        },
        "template": {
         "data": {
          "bar": [
           {
            "error_x": {
             "color": "#2a3f5f"
            },
            "error_y": {
             "color": "#2a3f5f"
            },
            "marker": {
             "line": {
              "color": "#E5ECF6",
              "width": 0.5
             },
             "pattern": {
              "fillmode": "overlay",
              "size": 10,
              "solidity": 0.2
             }
            },
            "type": "bar"
           }
          ],
          "barpolar": [
           {
            "marker": {
             "line": {
              "color": "#E5ECF6",
              "width": 0.5
             },
             "pattern": {
              "fillmode": "overlay",
              "size": 10,
              "solidity": 0.2
             }
            },
            "type": "barpolar"
           }
          ],
          "carpet": [
           {
            "aaxis": {
             "endlinecolor": "#2a3f5f",
             "gridcolor": "white",
             "linecolor": "white",
             "minorgridcolor": "white",
             "startlinecolor": "#2a3f5f"
            },
            "baxis": {
             "endlinecolor": "#2a3f5f",
             "gridcolor": "white",
             "linecolor": "white",
             "minorgridcolor": "white",
             "startlinecolor": "#2a3f5f"
            },
            "type": "carpet"
           }
          ],
          "choropleth": [
           {
            "colorbar": {
             "outlinewidth": 0,
             "ticks": ""
            },
            "type": "choropleth"
           }
          ],
          "contour": [
           {
            "colorbar": {
             "outlinewidth": 0,
             "ticks": ""
            },
            "colorscale": [
             [
              0,
              "#0d0887"
             ],
             [
              0.1111111111111111,
              "#46039f"
             ],
             [
              0.2222222222222222,
              "#7201a8"
             ],
             [
              0.3333333333333333,
              "#9c179e"
             ],
             [
              0.4444444444444444,
              "#bd3786"
             ],
             [
              0.5555555555555556,
              "#d8576b"
             ],
             [
              0.6666666666666666,
              "#ed7953"
             ],
             [
              0.7777777777777778,
              "#fb9f3a"
             ],
             [
              0.8888888888888888,
              "#fdca26"
             ],
             [
              1,
              "#f0f921"
             ]
            ],
            "type": "contour"
           }
          ],
          "contourcarpet": [
           {
            "colorbar": {
             "outlinewidth": 0,
             "ticks": ""
            },
            "type": "contourcarpet"
           }
          ],
          "heatmap": [
           {
            "colorbar": {
             "outlinewidth": 0,
             "ticks": ""
            },
            "colorscale": [
             [
              0,
              "#0d0887"
             ],
             [
              0.1111111111111111,
              "#46039f"
             ],
             [
              0.2222222222222222,
              "#7201a8"
             ],
             [
              0.3333333333333333,
              "#9c179e"
             ],
             [
              0.4444444444444444,
              "#bd3786"
             ],
             [
              0.5555555555555556,
              "#d8576b"
             ],
             [
              0.6666666666666666,
              "#ed7953"
             ],
             [
              0.7777777777777778,
              "#fb9f3a"
             ],
             [
              0.8888888888888888,
              "#fdca26"
             ],
             [
              1,
              "#f0f921"
             ]
            ],
            "type": "heatmap"
           }
          ],
          "heatmapgl": [
           {
            "colorbar": {
             "outlinewidth": 0,
             "ticks": ""
            },
            "colorscale": [
             [
              0,
              "#0d0887"
             ],
             [
              0.1111111111111111,
              "#46039f"
             ],
             [
              0.2222222222222222,
              "#7201a8"
             ],
             [
              0.3333333333333333,
              "#9c179e"
             ],
             [
              0.4444444444444444,
              "#bd3786"
             ],
             [
              0.5555555555555556,
              "#d8576b"
             ],
             [
              0.6666666666666666,
              "#ed7953"
             ],
             [
              0.7777777777777778,
              "#fb9f3a"
             ],
             [
              0.8888888888888888,
              "#fdca26"
             ],
             [
              1,
              "#f0f921"
             ]
            ],
            "type": "heatmapgl"
           }
          ],
          "histogram": [
           {
            "marker": {
             "pattern": {
              "fillmode": "overlay",
              "size": 10,
              "solidity": 0.2
             }
            },
            "type": "histogram"
           }
          ],
          "histogram2d": [
           {
            "colorbar": {
             "outlinewidth": 0,
             "ticks": ""
            },
            "colorscale": [
             [
              0,
              "#0d0887"
             ],
             [
              0.1111111111111111,
              "#46039f"
             ],
             [
              0.2222222222222222,
              "#7201a8"
             ],
             [
              0.3333333333333333,
              "#9c179e"
             ],
             [
              0.4444444444444444,
              "#bd3786"
             ],
             [
              0.5555555555555556,
              "#d8576b"
             ],
             [
              0.6666666666666666,
              "#ed7953"
             ],
             [
              0.7777777777777778,
              "#fb9f3a"
             ],
             [
              0.8888888888888888,
              "#fdca26"
             ],
             [
              1,
              "#f0f921"
             ]
            ],
            "type": "histogram2d"
           }
          ],
          "histogram2dcontour": [
           {
            "colorbar": {
             "outlinewidth": 0,
             "ticks": ""
            },
            "colorscale": [
             [
              0,
              "#0d0887"
             ],
             [
              0.1111111111111111,
              "#46039f"
             ],
             [
              0.2222222222222222,
              "#7201a8"
             ],
             [
              0.3333333333333333,
              "#9c179e"
             ],
             [
              0.4444444444444444,
              "#bd3786"
             ],
             [
              0.5555555555555556,
              "#d8576b"
             ],
             [
              0.6666666666666666,
              "#ed7953"
             ],
             [
              0.7777777777777778,
              "#fb9f3a"
             ],
             [
              0.8888888888888888,
              "#fdca26"
             ],
             [
              1,
              "#f0f921"
             ]
            ],
            "type": "histogram2dcontour"
           }
          ],
          "mesh3d": [
           {
            "colorbar": {
             "outlinewidth": 0,
             "ticks": ""
            },
            "type": "mesh3d"
           }
          ],
          "parcoords": [
           {
            "line": {
             "colorbar": {
              "outlinewidth": 0,
              "ticks": ""
             }
            },
            "type": "parcoords"
           }
          ],
          "pie": [
           {
            "automargin": true,
            "type": "pie"
           }
          ],
          "scatter": [
           {
            "fillpattern": {
             "fillmode": "overlay",
             "size": 10,
             "solidity": 0.2
            },
            "type": "scatter"
           }
          ],
          "scatter3d": [
           {
            "line": {
             "colorbar": {
              "outlinewidth": 0,
              "ticks": ""
             }
            },
            "marker": {
             "colorbar": {
              "outlinewidth": 0,
              "ticks": ""
             }
            },
            "type": "scatter3d"
           }
          ],
          "scattercarpet": [
           {
            "marker": {
             "colorbar": {
              "outlinewidth": 0,
              "ticks": ""
             }
            },
            "type": "scattercarpet"
           }
          ],
          "scattergeo": [
           {
            "marker": {
             "colorbar": {
              "outlinewidth": 0,
              "ticks": ""
             }
            },
            "type": "scattergeo"
           }
          ],
          "scattergl": [
           {
            "marker": {
             "colorbar": {
              "outlinewidth": 0,
              "ticks": ""
             }
            },
            "type": "scattergl"
           }
          ],
          "scattermapbox": [
           {
            "marker": {
             "colorbar": {
              "outlinewidth": 0,
              "ticks": ""
             }
            },
            "type": "scattermapbox"
           }
          ],
          "scatterpolar": [
           {
            "marker": {
             "colorbar": {
              "outlinewidth": 0,
              "ticks": ""
             }
            },
            "type": "scatterpolar"
           }
          ],
          "scatterpolargl": [
           {
            "marker": {
             "colorbar": {
              "outlinewidth": 0,
              "ticks": ""
             }
            },
            "type": "scatterpolargl"
           }
          ],
          "scatterternary": [
           {
            "marker": {
             "colorbar": {
              "outlinewidth": 0,
              "ticks": ""
             }
            },
            "type": "scatterternary"
           }
          ],
          "surface": [
           {
            "colorbar": {
             "outlinewidth": 0,
             "ticks": ""
            },
            "colorscale": [
             [
              0,
              "#0d0887"
             ],
             [
              0.1111111111111111,
              "#46039f"
             ],
             [
              0.2222222222222222,
              "#7201a8"
             ],
             [
              0.3333333333333333,
              "#9c179e"
             ],
             [
              0.4444444444444444,
              "#bd3786"
             ],
             [
              0.5555555555555556,
              "#d8576b"
             ],
             [
              0.6666666666666666,
              "#ed7953"
             ],
             [
              0.7777777777777778,
              "#fb9f3a"
             ],
             [
              0.8888888888888888,
              "#fdca26"
             ],
             [
              1,
              "#f0f921"
             ]
            ],
            "type": "surface"
           }
          ],
          "table": [
           {
            "cells": {
             "fill": {
              "color": "#EBF0F8"
             },
             "line": {
              "color": "white"
             }
            },
            "header": {
             "fill": {
              "color": "#C8D4E3"
             },
             "line": {
              "color": "white"
             }
            },
            "type": "table"
           }
          ]
         },
         "layout": {
          "annotationdefaults": {
           "arrowcolor": "#2a3f5f",
           "arrowhead": 0,
           "arrowwidth": 1
          },
          "autotypenumbers": "strict",
          "coloraxis": {
           "colorbar": {
            "outlinewidth": 0,
            "ticks": ""
           }
          },
          "colorscale": {
           "diverging": [
            [
             0,
             "#8e0152"
            ],
            [
             0.1,
             "#c51b7d"
            ],
            [
             0.2,
             "#de77ae"
            ],
            [
             0.3,
             "#f1b6da"
            ],
            [
             0.4,
             "#fde0ef"
            ],
            [
             0.5,
             "#f7f7f7"
            ],
            [
             0.6,
             "#e6f5d0"
            ],
            [
             0.7,
             "#b8e186"
            ],
            [
             0.8,
             "#7fbc41"
            ],
            [
             0.9,
             "#4d9221"
            ],
            [
             1,
             "#276419"
            ]
           ],
           "sequential": [
            [
             0,
             "#0d0887"
            ],
            [
             0.1111111111111111,
             "#46039f"
            ],
            [
             0.2222222222222222,
             "#7201a8"
            ],
            [
             0.3333333333333333,
             "#9c179e"
            ],
            [
             0.4444444444444444,
             "#bd3786"
            ],
            [
             0.5555555555555556,
             "#d8576b"
            ],
            [
             0.6666666666666666,
             "#ed7953"
            ],
            [
             0.7777777777777778,
             "#fb9f3a"
            ],
            [
             0.8888888888888888,
             "#fdca26"
            ],
            [
             1,
             "#f0f921"
            ]
           ],
           "sequentialminus": [
            [
             0,
             "#0d0887"
            ],
            [
             0.1111111111111111,
             "#46039f"
            ],
            [
             0.2222222222222222,
             "#7201a8"
            ],
            [
             0.3333333333333333,
             "#9c179e"
            ],
            [
             0.4444444444444444,
             "#bd3786"
            ],
            [
             0.5555555555555556,
             "#d8576b"
            ],
            [
             0.6666666666666666,
             "#ed7953"
            ],
            [
             0.7777777777777778,
             "#fb9f3a"
            ],
            [
             0.8888888888888888,
             "#fdca26"
            ],
            [
             1,
             "#f0f921"
            ]
           ]
          },
          "colorway": [
           "#636efa",
           "#EF553B",
           "#00cc96",
           "#ab63fa",
           "#FFA15A",
           "#19d3f3",
           "#FF6692",
           "#B6E880",
           "#FF97FF",
           "#FECB52"
          ],
          "font": {
           "color": "#2a3f5f"
          },
          "geo": {
           "bgcolor": "white",
           "lakecolor": "white",
           "landcolor": "#E5ECF6",
           "showlakes": true,
           "showland": true,
           "subunitcolor": "white"
          },
          "hoverlabel": {
           "align": "left"
          },
          "hovermode": "closest",
          "mapbox": {
           "style": "light"
          },
          "paper_bgcolor": "white",
          "plot_bgcolor": "#E5ECF6",
          "polar": {
           "angularaxis": {
            "gridcolor": "white",
            "linecolor": "white",
            "ticks": ""
           },
           "bgcolor": "#E5ECF6",
           "radialaxis": {
            "gridcolor": "white",
            "linecolor": "white",
            "ticks": ""
           }
          },
          "scene": {
           "xaxis": {
            "backgroundcolor": "#E5ECF6",
            "gridcolor": "white",
            "gridwidth": 2,
            "linecolor": "white",
            "showbackground": true,
            "ticks": "",
            "zerolinecolor": "white"
           },
           "yaxis": {
            "backgroundcolor": "#E5ECF6",
            "gridcolor": "white",
            "gridwidth": 2,
            "linecolor": "white",
            "showbackground": true,
            "ticks": "",
            "zerolinecolor": "white"
           },
           "zaxis": {
            "backgroundcolor": "#E5ECF6",
            "gridcolor": "white",
            "gridwidth": 2,
            "linecolor": "white",
            "showbackground": true,
            "ticks": "",
            "zerolinecolor": "white"
           }
          },
          "shapedefaults": {
           "line": {
            "color": "#2a3f5f"
           }
          },
          "ternary": {
           "aaxis": {
            "gridcolor": "white",
            "linecolor": "white",
            "ticks": ""
           },
           "baxis": {
            "gridcolor": "white",
            "linecolor": "white",
            "ticks": ""
           },
           "bgcolor": "#E5ECF6",
           "caxis": {
            "gridcolor": "white",
            "linecolor": "white",
            "ticks": ""
           }
          },
          "title": {
           "x": 0.05
          },
          "xaxis": {
           "automargin": true,
           "gridcolor": "white",
           "linecolor": "white",
           "ticks": "",
           "title": {
            "standoff": 15
           },
           "zerolinecolor": "white",
           "zerolinewidth": 2
          },
          "yaxis": {
           "automargin": true,
           "gridcolor": "white",
           "linecolor": "white",
           "ticks": "",
           "title": {
            "standoff": 15
           },
           "zerolinecolor": "white",
           "zerolinewidth": 2
          }
         }
        },
        "title": {
         "text": "Yearwise Total Game Released Count"
        },
        "xaxis": {
         "anchor": "y",
         "domain": [
          0,
          1
         ],
         "tickmode": "linear",
         "title": {
          "text": "Release Year"
         }
        },
        "yaxis": {
         "anchor": "x",
         "domain": [
          0,
          1
         ],
         "title": {
          "text": "count"
         }
        }
       }
      }
     },
     "metadata": {},
     "output_type": "display_data"
    }
   ],
   "source": [
    "fig=px.line(Yearwise_game_count,x='Release Year',y='count',markers=True,title='Yearwise Total Game Released Count')\n",
    "fig.update_layout(xaxis=dict(tickmode='linear'))\n",
    "fig.show(render='iframe')"
   ]
  },
  {
   "cell_type": "code",
   "execution_count": 30,
   "id": "a11a10f9",
   "metadata": {
    "execution": {
     "iopub.execute_input": "2024-02-13T14:32:35.308754Z",
     "iopub.status.busy": "2024-02-13T14:32:35.308296Z",
     "iopub.status.idle": "2024-02-13T14:32:35.348011Z",
     "shell.execute_reply": "2024-02-13T14:32:35.346692Z"
    },
    "papermill": {
     "duration": 0.064821,
     "end_time": "2024-02-13T14:32:35.350851",
     "exception": false,
     "start_time": "2024-02-13T14:32:35.286030",
     "status": "completed"
    },
    "tags": []
   },
   "outputs": [
    {
     "data": {
      "text/html": [
       "<style type=\"text/css\">\n",
       "#T_fead3_row0_col2, #T_fead3_row29_col2 {\n",
       "  background-color: #f7fbff;\n",
       "  color: #000000;\n",
       "}\n",
       "#T_fead3_row1_col2, #T_fead3_row4_col2 {\n",
       "  background-color: #ecf4fb;\n",
       "  color: #000000;\n",
       "}\n",
       "#T_fead3_row2_col2 {\n",
       "  background-color: #e1edf8;\n",
       "  color: #000000;\n",
       "}\n",
       "#T_fead3_row3_col2 {\n",
       "  background-color: #d6e6f4;\n",
       "  color: #000000;\n",
       "}\n",
       "#T_fead3_row5_col2, #T_fead3_row13_col2, #T_fead3_row25_col2 {\n",
       "  background-color: #99c7e0;\n",
       "  color: #000000;\n",
       "}\n",
       "#T_fead3_row6_col2, #T_fead3_row7_col2, #T_fead3_row18_col2, #T_fead3_row23_col2, #T_fead3_row24_col2 {\n",
       "  background-color: #82bbdb;\n",
       "  color: #000000;\n",
       "}\n",
       "#T_fead3_row8_col2 {\n",
       "  background-color: #1b69af;\n",
       "  color: #f1f1f1;\n",
       "}\n",
       "#T_fead3_row9_col2, #T_fead3_row10_col2, #T_fead3_row11_col2, #T_fead3_row21_col2 {\n",
       "  background-color: #3787c0;\n",
       "  color: #f1f1f1;\n",
       "}\n",
       "#T_fead3_row12_col2, #T_fead3_row14_col2 {\n",
       "  background-color: #4695c8;\n",
       "  color: #f1f1f1;\n",
       "}\n",
       "#T_fead3_row15_col2, #T_fead3_row16_col2 {\n",
       "  background-color: #08306b;\n",
       "  color: #f1f1f1;\n",
       "}\n",
       "#T_fead3_row17_col2 {\n",
       "  background-color: #083e81;\n",
       "  color: #f1f1f1;\n",
       "}\n",
       "#T_fead3_row19_col2 {\n",
       "  background-color: #6aaed6;\n",
       "  color: #f1f1f1;\n",
       "}\n",
       "#T_fead3_row20_col2 {\n",
       "  background-color: #2979b9;\n",
       "  color: #f1f1f1;\n",
       "}\n",
       "#T_fead3_row22_col2 {\n",
       "  background-color: #105ba4;\n",
       "  color: #f1f1f1;\n",
       "}\n",
       "#T_fead3_row26_col2, #T_fead3_row28_col2 {\n",
       "  background-color: #abd0e6;\n",
       "  color: #000000;\n",
       "}\n",
       "#T_fead3_row27_col2 {\n",
       "  background-color: #ccdff1;\n",
       "  color: #000000;\n",
       "}\n",
       "</style>\n",
       "<table id=\"T_fead3\">\n",
       "  <thead>\n",
       "    <tr>\n",
       "      <th class=\"blank level0\" >&nbsp;</th>\n",
       "      <th id=\"T_fead3_level0_col0\" class=\"col_heading level0 col0\" >Release Year</th>\n",
       "      <th id=\"T_fead3_level0_col1\" class=\"col_heading level0 col1\" >Developer</th>\n",
       "      <th id=\"T_fead3_level0_col2\" class=\"col_heading level0 col2\" >count</th>\n",
       "    </tr>\n",
       "  </thead>\n",
       "  <tbody>\n",
       "    <tr>\n",
       "      <th id=\"T_fead3_level0_row0\" class=\"row_heading level0 row0\" >0</th>\n",
       "      <td id=\"T_fead3_row0_col0\" class=\"data row0 col0\" >1995.000000</td>\n",
       "      <td id=\"T_fead3_row0_col1\" class=\"data row0 col1\" >LucasArts</td>\n",
       "      <td id=\"T_fead3_row0_col2\" class=\"data row0 col2\" >1</td>\n",
       "    </tr>\n",
       "    <tr>\n",
       "      <th id=\"T_fead3_level0_row1\" class=\"row_heading level0 row1\" >8</th>\n",
       "      <td id=\"T_fead3_row1_col0\" class=\"data row1 col0\" >1996.000000</td>\n",
       "      <td id=\"T_fead3_row1_col1\" class=\"data row1 col1\" >Nintendo</td>\n",
       "      <td id=\"T_fead3_row1_col2\" class=\"data row1 col2\" >2</td>\n",
       "    </tr>\n",
       "    <tr>\n",
       "      <th id=\"T_fead3_level0_row2\" class=\"row_heading level0 row2\" >30</th>\n",
       "      <td id=\"T_fead3_row2_col0\" class=\"data row2 col0\" >1997.000000</td>\n",
       "      <td id=\"T_fead3_row2_col1\" class=\"data row2 col1\" >Rare Ltd.</td>\n",
       "      <td id=\"T_fead3_row2_col2\" class=\"data row2 col2\" >3</td>\n",
       "    </tr>\n",
       "    <tr>\n",
       "      <th id=\"T_fead3_level0_row3\" class=\"row_heading level0 row3\" >57</th>\n",
       "      <td id=\"T_fead3_row3_col0\" class=\"data row3 col0\" >1998.000000</td>\n",
       "      <td id=\"T_fead3_row3_col1\" class=\"data row3 col1\" >Nintendo</td>\n",
       "      <td id=\"T_fead3_row3_col2\" class=\"data row3 col2\" >4</td>\n",
       "    </tr>\n",
       "    <tr>\n",
       "      <th id=\"T_fead3_level0_row4\" class=\"row_heading level0 row4\" >82</th>\n",
       "      <td id=\"T_fead3_row4_col0\" class=\"data row4 col0\" >1999.000000</td>\n",
       "      <td id=\"T_fead3_row4_col1\" class=\"data row4 col1\" >Firaxis Games</td>\n",
       "      <td id=\"T_fead3_row4_col2\" class=\"data row4 col2\" >2</td>\n",
       "    </tr>\n",
       "    <tr>\n",
       "      <th id=\"T_fead3_level0_row5\" class=\"row_heading level0 row5\" >152</th>\n",
       "      <td id=\"T_fead3_row5_col0\" class=\"data row5 col0\" >2000.000000</td>\n",
       "      <td id=\"T_fead3_row5_col1\" class=\"data row5 col1\" >Capcom</td>\n",
       "      <td id=\"T_fead3_row5_col2\" class=\"data row5 col2\" >8</td>\n",
       "    </tr>\n",
       "    <tr>\n",
       "      <th id=\"T_fead3_level0_row6\" class=\"row_heading level0 row6\" >331</th>\n",
       "      <td id=\"T_fead3_row6_col0\" class=\"data row6 col0\" >2001.000000</td>\n",
       "      <td id=\"T_fead3_row6_col1\" class=\"data row6 col1\" >3DO</td>\n",
       "      <td id=\"T_fead3_row6_col2\" class=\"data row6 col2\" >9</td>\n",
       "    </tr>\n",
       "    <tr>\n",
       "      <th id=\"T_fead3_level0_row7\" class=\"row_heading level0 row7\" >692</th>\n",
       "      <td id=\"T_fead3_row7_col0\" class=\"data row7 col0\" >2002.000000</td>\n",
       "      <td id=\"T_fead3_row7_col1\" class=\"data row7 col1\" >Capcom</td>\n",
       "      <td id=\"T_fead3_row7_col2\" class=\"data row7 col2\" >9</td>\n",
       "    </tr>\n",
       "    <tr>\n",
       "      <th id=\"T_fead3_level0_row8\" class=\"row_heading level0 row8\" >1032</th>\n",
       "      <td id=\"T_fead3_row8_col0\" class=\"data row8 col0\" >2003.000000</td>\n",
       "      <td id=\"T_fead3_row8_col1\" class=\"data row8 col1\" >Capcom</td>\n",
       "      <td id=\"T_fead3_row8_col2\" class=\"data row8 col2\" >15</td>\n",
       "    </tr>\n",
       "    <tr>\n",
       "      <th id=\"T_fead3_level0_row9\" class=\"row_heading level0 row9\" >1521</th>\n",
       "      <td id=\"T_fead3_row9_col0\" class=\"data row9 col0\" >2004.000000</td>\n",
       "      <td id=\"T_fead3_row9_col1\" class=\"data row9 col1\" >Nintendo</td>\n",
       "      <td id=\"T_fead3_row9_col2\" class=\"data row9 col2\" >13</td>\n",
       "    </tr>\n",
       "    <tr>\n",
       "      <th id=\"T_fead3_level0_row10\" class=\"row_heading level0 row10\" >1696</th>\n",
       "      <td id=\"T_fead3_row10_col0\" class=\"data row10 col0\" >2005.000000</td>\n",
       "      <td id=\"T_fead3_row10_col1\" class=\"data row10 col1\" >Capcom</td>\n",
       "      <td id=\"T_fead3_row10_col2\" class=\"data row10 col2\" >13</td>\n",
       "    </tr>\n",
       "    <tr>\n",
       "      <th id=\"T_fead3_level0_row11\" class=\"row_heading level0 row11\" >2050</th>\n",
       "      <td id=\"T_fead3_row11_col0\" class=\"data row11 col0\" >2006.000000</td>\n",
       "      <td id=\"T_fead3_row11_col1\" class=\"data row11 col1\" >Capcom</td>\n",
       "      <td id=\"T_fead3_row11_col2\" class=\"data row11 col2\" >13</td>\n",
       "    </tr>\n",
       "    <tr>\n",
       "      <th id=\"T_fead3_level0_row12\" class=\"row_heading level0 row12\" >2458</th>\n",
       "      <td id=\"T_fead3_row12_col0\" class=\"data row12 col0\" >2007.000000</td>\n",
       "      <td id=\"T_fead3_row12_col1\" class=\"data row12 col1\" >EA Canada</td>\n",
       "      <td id=\"T_fead3_row12_col2\" class=\"data row12 col2\" >12</td>\n",
       "    </tr>\n",
       "    <tr>\n",
       "      <th id=\"T_fead3_level0_row13\" class=\"row_heading level0 row13\" >2863</th>\n",
       "      <td id=\"T_fead3_row13_col0\" class=\"data row13 col0\" >2008.000000</td>\n",
       "      <td id=\"T_fead3_row13_col1\" class=\"data row13 col1\" >EA Canada</td>\n",
       "      <td id=\"T_fead3_row13_col2\" class=\"data row13 col2\" >8</td>\n",
       "    </tr>\n",
       "    <tr>\n",
       "      <th id=\"T_fead3_level0_row14\" class=\"row_heading level0 row14\" >3294</th>\n",
       "      <td id=\"T_fead3_row14_col0\" class=\"data row14 col0\" >2009.000000</td>\n",
       "      <td id=\"T_fead3_row14_col1\" class=\"data row14 col1\" >Electronic Arts</td>\n",
       "      <td id=\"T_fead3_row14_col2\" class=\"data row14 col2\" >12</td>\n",
       "    </tr>\n",
       "    <tr>\n",
       "      <th id=\"T_fead3_level0_row15\" class=\"row_heading level0 row15\" >3755</th>\n",
       "      <td id=\"T_fead3_row15_col0\" class=\"data row15 col0\" >2010.000000</td>\n",
       "      <td id=\"T_fead3_row15_col1\" class=\"data row15 col1\" >Gameloft</td>\n",
       "      <td id=\"T_fead3_row15_col2\" class=\"data row15 col2\" >19</td>\n",
       "    </tr>\n",
       "    <tr>\n",
       "      <th id=\"T_fead3_level0_row16\" class=\"row_heading level0 row16\" >4132</th>\n",
       "      <td id=\"T_fead3_row16_col0\" class=\"data row16 col0\" >2011.000000</td>\n",
       "      <td id=\"T_fead3_row16_col1\" class=\"data row16 col1\" >Chillingo</td>\n",
       "      <td id=\"T_fead3_row16_col2\" class=\"data row16 col2\" >19</td>\n",
       "    </tr>\n",
       "    <tr>\n",
       "      <th id=\"T_fead3_level0_row17\" class=\"row_heading level0 row17\" >4682</th>\n",
       "      <td id=\"T_fead3_row17_col0\" class=\"data row17 col0\" >2012.000000</td>\n",
       "      <td id=\"T_fead3_row17_col1\" class=\"data row17 col1\" >Chillingo</td>\n",
       "      <td id=\"T_fead3_row17_col2\" class=\"data row17 col2\" >18</td>\n",
       "    </tr>\n",
       "    <tr>\n",
       "      <th id=\"T_fead3_level0_row18\" class=\"row_heading level0 row18\" >5429</th>\n",
       "      <td id=\"T_fead3_row18_col0\" class=\"data row18 col0\" >2013.000000</td>\n",
       "      <td id=\"T_fead3_row18_col1\" class=\"data row18 col1\" >Nintendo</td>\n",
       "      <td id=\"T_fead3_row18_col2\" class=\"data row18 col2\" >9</td>\n",
       "    </tr>\n",
       "    <tr>\n",
       "      <th id=\"T_fead3_level0_row19\" class=\"row_heading level0 row19\" >6001</th>\n",
       "      <td id=\"T_fead3_row19_col0\" class=\"data row19 col0\" >2014.000000</td>\n",
       "      <td id=\"T_fead3_row19_col1\" class=\"data row19 col1\" >Telltale Games</td>\n",
       "      <td id=\"T_fead3_row19_col2\" class=\"data row19 col2\" >10</td>\n",
       "    </tr>\n",
       "    <tr>\n",
       "      <th id=\"T_fead3_level0_row20\" class=\"row_heading level0 row20\" >6467</th>\n",
       "      <td id=\"T_fead3_row20_col0\" class=\"data row20 col0\" >2015.000000</td>\n",
       "      <td id=\"T_fead3_row20_col1\" class=\"data row20 col1\" >Telltale Games</td>\n",
       "      <td id=\"T_fead3_row20_col2\" class=\"data row20 col2\" >14</td>\n",
       "    </tr>\n",
       "    <tr>\n",
       "      <th id=\"T_fead3_level0_row21\" class=\"row_heading level0 row21\" >6938</th>\n",
       "      <td id=\"T_fead3_row21_col0\" class=\"data row21 col0\" >2016.000000</td>\n",
       "      <td id=\"T_fead3_row21_col1\" class=\"data row21 col1\" >Telltale Games</td>\n",
       "      <td id=\"T_fead3_row21_col2\" class=\"data row21 col2\" >13</td>\n",
       "    </tr>\n",
       "    <tr>\n",
       "      <th id=\"T_fead3_level0_row22\" class=\"row_heading level0 row22\" >7425</th>\n",
       "      <td id=\"T_fead3_row22_col0\" class=\"data row22 col0\" >2017.000000</td>\n",
       "      <td id=\"T_fead3_row22_col1\" class=\"data row22 col1\" >Telltale Games</td>\n",
       "      <td id=\"T_fead3_row22_col2\" class=\"data row22 col2\" >16</td>\n",
       "    </tr>\n",
       "    <tr>\n",
       "      <th id=\"T_fead3_level0_row23\" class=\"row_heading level0 row23\" >7525</th>\n",
       "      <td id=\"T_fead3_row23_col0\" class=\"data row23 col0\" >2018.000000</td>\n",
       "      <td id=\"T_fead3_row23_col1\" class=\"data row23 col1\" >Bandai Namco Games</td>\n",
       "      <td id=\"T_fead3_row23_col2\" class=\"data row23 col2\" >9</td>\n",
       "    </tr>\n",
       "    <tr>\n",
       "      <th id=\"T_fead3_level0_row24\" class=\"row_heading level0 row24\" >8366</th>\n",
       "      <td id=\"T_fead3_row24_col0\" class=\"data row24 col0\" >2019.000000</td>\n",
       "      <td id=\"T_fead3_row24_col1\" class=\"data row24 col1\" >Square Enix</td>\n",
       "      <td id=\"T_fead3_row24_col2\" class=\"data row24 col2\" >9</td>\n",
       "    </tr>\n",
       "    <tr>\n",
       "      <th id=\"T_fead3_level0_row25\" class=\"row_heading level0 row25\" >8697</th>\n",
       "      <td id=\"T_fead3_row25_col0\" class=\"data row25 col0\" >2020.000000</td>\n",
       "      <td id=\"T_fead3_row25_col1\" class=\"data row25 col1\" >M2</td>\n",
       "      <td id=\"T_fead3_row25_col2\" class=\"data row25 col2\" >8</td>\n",
       "    </tr>\n",
       "    <tr>\n",
       "      <th id=\"T_fead3_level0_row26\" class=\"row_heading level0 row26\" >9231</th>\n",
       "      <td id=\"T_fead3_row26_col0\" class=\"data row26 col0\" >2021.000000</td>\n",
       "      <td id=\"T_fead3_row26_col1\" class=\"data row26 col1\" >Nintendo</td>\n",
       "      <td id=\"T_fead3_row26_col2\" class=\"data row26 col2\" >7</td>\n",
       "    </tr>\n",
       "    <tr>\n",
       "      <th id=\"T_fead3_level0_row27\" class=\"row_heading level0 row27\" >9465</th>\n",
       "      <td id=\"T_fead3_row27_col0\" class=\"data row27 col0\" >2022.000000</td>\n",
       "      <td id=\"T_fead3_row27_col1\" class=\"data row27 col1\" >Bandai Namco Games</td>\n",
       "      <td id=\"T_fead3_row27_col2\" class=\"data row27 col2\" >5</td>\n",
       "    </tr>\n",
       "    <tr>\n",
       "      <th id=\"T_fead3_level0_row28\" class=\"row_heading level0 row28\" >10075</th>\n",
       "      <td id=\"T_fead3_row28_col0\" class=\"data row28 col0\" >2023.000000</td>\n",
       "      <td id=\"T_fead3_row28_col1\" class=\"data row28 col1\" >Nintendo</td>\n",
       "      <td id=\"T_fead3_row28_col2\" class=\"data row28 col2\" >7</td>\n",
       "    </tr>\n",
       "    <tr>\n",
       "      <th id=\"T_fead3_level0_row29\" class=\"row_heading level0 row29\" >10240</th>\n",
       "      <td id=\"T_fead3_row29_col0\" class=\"data row29 col0\" >2024.000000</td>\n",
       "      <td id=\"T_fead3_row29_col1\" class=\"data row29 col1\" >Arc System Works</td>\n",
       "      <td id=\"T_fead3_row29_col2\" class=\"data row29 col2\" >1</td>\n",
       "    </tr>\n",
       "  </tbody>\n",
       "</table>\n"
      ],
      "text/plain": [
       "<pandas.io.formats.style.Styler at 0x1cf2adb8590>"
      ]
     },
     "execution_count": 30,
     "metadata": {},
     "output_type": "execute_result"
    }
   ],
   "source": [
    "x=df.groupby(by=['Release Year','Developer']).size().reset_index()\n",
    "max_games_per_year_dev=x.loc[x.groupby('Release Year')[0].idxmax()]\n",
    "max_games_per_year_dev.rename(columns={0:'count'},inplace=True)\n",
    "max_games_per_year_dev.style.background_gradient(cmap='Blues',subset='count')\n"
   ]
  },
  {
   "cell_type": "code",
   "execution_count": 31,
   "id": "6987fbfd",
   "metadata": {
    "execution": {
     "iopub.execute_input": "2024-02-13T14:32:35.393273Z",
     "iopub.status.busy": "2024-02-13T14:32:35.392815Z",
     "iopub.status.idle": "2024-02-13T14:32:35.542572Z",
     "shell.execute_reply": "2024-02-13T14:32:35.541428Z"
    },
    "papermill": {
     "duration": 0.174343,
     "end_time": "2024-02-13T14:32:35.545313",
     "exception": false,
     "start_time": "2024-02-13T14:32:35.370970",
     "status": "completed"
    },
    "tags": []
   },
   "outputs": [
    {
     "data": {
      "application/vnd.plotly.v1+json": {
       "config": {
        "plotlyServerURL": "https://plot.ly"
       },
       "data": [
        {
         "alignmentgroup": "True",
         "hovertemplate": "Developer=LucasArts<br>Release Year=%{x}<br>count=%{y}<extra></extra>",
         "legendgroup": "LucasArts",
         "marker": {
          "color": "#636efa",
          "pattern": {
           "shape": ""
          }
         },
         "name": "LucasArts",
         "offsetgroup": "LucasArts",
         "orientation": "v",
         "showlegend": true,
         "textposition": "auto",
         "type": "bar",
         "x": [
          1995
         ],
         "xaxis": "x",
         "y": [
          1
         ],
         "yaxis": "y"
        },
        {
         "alignmentgroup": "True",
         "hovertemplate": "Developer=Nintendo<br>Release Year=%{x}<br>count=%{y}<extra></extra>",
         "legendgroup": "Nintendo",
         "marker": {
          "color": "#EF553B",
          "pattern": {
           "shape": ""
          }
         },
         "name": "Nintendo",
         "offsetgroup": "Nintendo",
         "orientation": "v",
         "showlegend": true,
         "textposition": "auto",
         "type": "bar",
         "x": [
          1996,
          1998,
          2004,
          2013,
          2021,
          2023
         ],
         "xaxis": "x",
         "y": [
          2,
          4,
          13,
          9,
          7,
          7
         ],
         "yaxis": "y"
        },
        {
         "alignmentgroup": "True",
         "hovertemplate": "Developer=Rare Ltd.<br>Release Year=%{x}<br>count=%{y}<extra></extra>",
         "legendgroup": "Rare Ltd.",
         "marker": {
          "color": "#00cc96",
          "pattern": {
           "shape": ""
          }
         },
         "name": "Rare Ltd.",
         "offsetgroup": "Rare Ltd.",
         "orientation": "v",
         "showlegend": true,
         "textposition": "auto",
         "type": "bar",
         "x": [
          1997
         ],
         "xaxis": "x",
         "y": [
          3
         ],
         "yaxis": "y"
        },
        {
         "alignmentgroup": "True",
         "hovertemplate": "Developer=Firaxis Games<br>Release Year=%{x}<br>count=%{y}<extra></extra>",
         "legendgroup": "Firaxis Games",
         "marker": {
          "color": "#ab63fa",
          "pattern": {
           "shape": ""
          }
         },
         "name": "Firaxis Games",
         "offsetgroup": "Firaxis Games",
         "orientation": "v",
         "showlegend": true,
         "textposition": "auto",
         "type": "bar",
         "x": [
          1999
         ],
         "xaxis": "x",
         "y": [
          2
         ],
         "yaxis": "y"
        },
        {
         "alignmentgroup": "True",
         "hovertemplate": "Developer=Capcom<br>Release Year=%{x}<br>count=%{y}<extra></extra>",
         "legendgroup": "Capcom",
         "marker": {
          "color": "#FFA15A",
          "pattern": {
           "shape": ""
          }
         },
         "name": "Capcom",
         "offsetgroup": "Capcom",
         "orientation": "v",
         "showlegend": true,
         "textposition": "auto",
         "type": "bar",
         "x": [
          2000,
          2002,
          2003,
          2005,
          2006
         ],
         "xaxis": "x",
         "y": [
          8,
          9,
          15,
          13,
          13
         ],
         "yaxis": "y"
        },
        {
         "alignmentgroup": "True",
         "hovertemplate": "Developer=3DO<br>Release Year=%{x}<br>count=%{y}<extra></extra>",
         "legendgroup": "3DO",
         "marker": {
          "color": "#19d3f3",
          "pattern": {
           "shape": ""
          }
         },
         "name": "3DO",
         "offsetgroup": "3DO",
         "orientation": "v",
         "showlegend": true,
         "textposition": "auto",
         "type": "bar",
         "x": [
          2001
         ],
         "xaxis": "x",
         "y": [
          9
         ],
         "yaxis": "y"
        },
        {
         "alignmentgroup": "True",
         "hovertemplate": "Developer=EA Canada<br>Release Year=%{x}<br>count=%{y}<extra></extra>",
         "legendgroup": "EA Canada",
         "marker": {
          "color": "#FF6692",
          "pattern": {
           "shape": ""
          }
         },
         "name": "EA Canada",
         "offsetgroup": "EA Canada",
         "orientation": "v",
         "showlegend": true,
         "textposition": "auto",
         "type": "bar",
         "x": [
          2007,
          2008
         ],
         "xaxis": "x",
         "y": [
          12,
          8
         ],
         "yaxis": "y"
        },
        {
         "alignmentgroup": "True",
         "hovertemplate": "Developer=Electronic Arts<br>Release Year=%{x}<br>count=%{y}<extra></extra>",
         "legendgroup": "Electronic Arts",
         "marker": {
          "color": "#B6E880",
          "pattern": {
           "shape": ""
          }
         },
         "name": "Electronic Arts",
         "offsetgroup": "Electronic Arts",
         "orientation": "v",
         "showlegend": true,
         "textposition": "auto",
         "type": "bar",
         "x": [
          2009
         ],
         "xaxis": "x",
         "y": [
          12
         ],
         "yaxis": "y"
        },
        {
         "alignmentgroup": "True",
         "hovertemplate": "Developer=Gameloft<br>Release Year=%{x}<br>count=%{y}<extra></extra>",
         "legendgroup": "Gameloft",
         "marker": {
          "color": "#FF97FF",
          "pattern": {
           "shape": ""
          }
         },
         "name": "Gameloft",
         "offsetgroup": "Gameloft",
         "orientation": "v",
         "showlegend": true,
         "textposition": "auto",
         "type": "bar",
         "x": [
          2010
         ],
         "xaxis": "x",
         "y": [
          19
         ],
         "yaxis": "y"
        },
        {
         "alignmentgroup": "True",
         "hovertemplate": "Developer=Chillingo<br>Release Year=%{x}<br>count=%{y}<extra></extra>",
         "legendgroup": "Chillingo",
         "marker": {
          "color": "#FECB52",
          "pattern": {
           "shape": ""
          }
         },
         "name": "Chillingo",
         "offsetgroup": "Chillingo",
         "orientation": "v",
         "showlegend": true,
         "textposition": "auto",
         "type": "bar",
         "x": [
          2011,
          2012
         ],
         "xaxis": "x",
         "y": [
          19,
          18
         ],
         "yaxis": "y"
        },
        {
         "alignmentgroup": "True",
         "hovertemplate": "Developer=Telltale Games<br>Release Year=%{x}<br>count=%{y}<extra></extra>",
         "legendgroup": "Telltale Games",
         "marker": {
          "color": "#636efa",
          "pattern": {
           "shape": ""
          }
         },
         "name": "Telltale Games",
         "offsetgroup": "Telltale Games",
         "orientation": "v",
         "showlegend": true,
         "textposition": "auto",
         "type": "bar",
         "x": [
          2014,
          2015,
          2016,
          2017
         ],
         "xaxis": "x",
         "y": [
          10,
          14,
          13,
          16
         ],
         "yaxis": "y"
        },
        {
         "alignmentgroup": "True",
         "hovertemplate": "Developer=Bandai Namco Games<br>Release Year=%{x}<br>count=%{y}<extra></extra>",
         "legendgroup": "Bandai Namco Games",
         "marker": {
          "color": "#EF553B",
          "pattern": {
           "shape": ""
          }
         },
         "name": "Bandai Namco Games",
         "offsetgroup": "Bandai Namco Games",
         "orientation": "v",
         "showlegend": true,
         "textposition": "auto",
         "type": "bar",
         "x": [
          2018,
          2022
         ],
         "xaxis": "x",
         "y": [
          9,
          5
         ],
         "yaxis": "y"
        },
        {
         "alignmentgroup": "True",
         "hovertemplate": "Developer=Square Enix<br>Release Year=%{x}<br>count=%{y}<extra></extra>",
         "legendgroup": "Square Enix",
         "marker": {
          "color": "#00cc96",
          "pattern": {
           "shape": ""
          }
         },
         "name": "Square Enix",
         "offsetgroup": "Square Enix",
         "orientation": "v",
         "showlegend": true,
         "textposition": "auto",
         "type": "bar",
         "x": [
          2019
         ],
         "xaxis": "x",
         "y": [
          9
         ],
         "yaxis": "y"
        },
        {
         "alignmentgroup": "True",
         "hovertemplate": "Developer=M2<br>Release Year=%{x}<br>count=%{y}<extra></extra>",
         "legendgroup": "M2",
         "marker": {
          "color": "#ab63fa",
          "pattern": {
           "shape": ""
          }
         },
         "name": "M2",
         "offsetgroup": "M2",
         "orientation": "v",
         "showlegend": true,
         "textposition": "auto",
         "type": "bar",
         "x": [
          2020
         ],
         "xaxis": "x",
         "y": [
          8
         ],
         "yaxis": "y"
        },
        {
         "alignmentgroup": "True",
         "hovertemplate": "Developer=Arc System Works<br>Release Year=%{x}<br>count=%{y}<extra></extra>",
         "legendgroup": "Arc System Works",
         "marker": {
          "color": "#FFA15A",
          "pattern": {
           "shape": ""
          }
         },
         "name": "Arc System Works",
         "offsetgroup": "Arc System Works",
         "orientation": "v",
         "showlegend": true,
         "textposition": "auto",
         "type": "bar",
         "x": [
          2024
         ],
         "xaxis": "x",
         "y": [
          1
         ],
         "yaxis": "y"
        }
       ],
       "layout": {
        "barmode": "relative",
        "legend": {
         "title": {
          "text": "Developer"
         },
         "tracegroupgap": 0
        },
        "template": {
         "data": {
          "bar": [
           {
            "error_x": {
             "color": "#2a3f5f"
            },
            "error_y": {
             "color": "#2a3f5f"
            },
            "marker": {
             "line": {
              "color": "#E5ECF6",
              "width": 0.5
             },
             "pattern": {
              "fillmode": "overlay",
              "size": 10,
              "solidity": 0.2
             }
            },
            "type": "bar"
           }
          ],
          "barpolar": [
           {
            "marker": {
             "line": {
              "color": "#E5ECF6",
              "width": 0.5
             },
             "pattern": {
              "fillmode": "overlay",
              "size": 10,
              "solidity": 0.2
             }
            },
            "type": "barpolar"
           }
          ],
          "carpet": [
           {
            "aaxis": {
             "endlinecolor": "#2a3f5f",
             "gridcolor": "white",
             "linecolor": "white",
             "minorgridcolor": "white",
             "startlinecolor": "#2a3f5f"
            },
            "baxis": {
             "endlinecolor": "#2a3f5f",
             "gridcolor": "white",
             "linecolor": "white",
             "minorgridcolor": "white",
             "startlinecolor": "#2a3f5f"
            },
            "type": "carpet"
           }
          ],
          "choropleth": [
           {
            "colorbar": {
             "outlinewidth": 0,
             "ticks": ""
            },
            "type": "choropleth"
           }
          ],
          "contour": [
           {
            "colorbar": {
             "outlinewidth": 0,
             "ticks": ""
            },
            "colorscale": [
             [
              0,
              "#0d0887"
             ],
             [
              0.1111111111111111,
              "#46039f"
             ],
             [
              0.2222222222222222,
              "#7201a8"
             ],
             [
              0.3333333333333333,
              "#9c179e"
             ],
             [
              0.4444444444444444,
              "#bd3786"
             ],
             [
              0.5555555555555556,
              "#d8576b"
             ],
             [
              0.6666666666666666,
              "#ed7953"
             ],
             [
              0.7777777777777778,
              "#fb9f3a"
             ],
             [
              0.8888888888888888,
              "#fdca26"
             ],
             [
              1,
              "#f0f921"
             ]
            ],
            "type": "contour"
           }
          ],
          "contourcarpet": [
           {
            "colorbar": {
             "outlinewidth": 0,
             "ticks": ""
            },
            "type": "contourcarpet"
           }
          ],
          "heatmap": [
           {
            "colorbar": {
             "outlinewidth": 0,
             "ticks": ""
            },
            "colorscale": [
             [
              0,
              "#0d0887"
             ],
             [
              0.1111111111111111,
              "#46039f"
             ],
             [
              0.2222222222222222,
              "#7201a8"
             ],
             [
              0.3333333333333333,
              "#9c179e"
             ],
             [
              0.4444444444444444,
              "#bd3786"
             ],
             [
              0.5555555555555556,
              "#d8576b"
             ],
             [
              0.6666666666666666,
              "#ed7953"
             ],
             [
              0.7777777777777778,
              "#fb9f3a"
             ],
             [
              0.8888888888888888,
              "#fdca26"
             ],
             [
              1,
              "#f0f921"
             ]
            ],
            "type": "heatmap"
           }
          ],
          "heatmapgl": [
           {
            "colorbar": {
             "outlinewidth": 0,
             "ticks": ""
            },
            "colorscale": [
             [
              0,
              "#0d0887"
             ],
             [
              0.1111111111111111,
              "#46039f"
             ],
             [
              0.2222222222222222,
              "#7201a8"
             ],
             [
              0.3333333333333333,
              "#9c179e"
             ],
             [
              0.4444444444444444,
              "#bd3786"
             ],
             [
              0.5555555555555556,
              "#d8576b"
             ],
             [
              0.6666666666666666,
              "#ed7953"
             ],
             [
              0.7777777777777778,
              "#fb9f3a"
             ],
             [
              0.8888888888888888,
              "#fdca26"
             ],
             [
              1,
              "#f0f921"
             ]
            ],
            "type": "heatmapgl"
           }
          ],
          "histogram": [
           {
            "marker": {
             "pattern": {
              "fillmode": "overlay",
              "size": 10,
              "solidity": 0.2
             }
            },
            "type": "histogram"
           }
          ],
          "histogram2d": [
           {
            "colorbar": {
             "outlinewidth": 0,
             "ticks": ""
            },
            "colorscale": [
             [
              0,
              "#0d0887"
             ],
             [
              0.1111111111111111,
              "#46039f"
             ],
             [
              0.2222222222222222,
              "#7201a8"
             ],
             [
              0.3333333333333333,
              "#9c179e"
             ],
             [
              0.4444444444444444,
              "#bd3786"
             ],
             [
              0.5555555555555556,
              "#d8576b"
             ],
             [
              0.6666666666666666,
              "#ed7953"
             ],
             [
              0.7777777777777778,
              "#fb9f3a"
             ],
             [
              0.8888888888888888,
              "#fdca26"
             ],
             [
              1,
              "#f0f921"
             ]
            ],
            "type": "histogram2d"
           }
          ],
          "histogram2dcontour": [
           {
            "colorbar": {
             "outlinewidth": 0,
             "ticks": ""
            },
            "colorscale": [
             [
              0,
              "#0d0887"
             ],
             [
              0.1111111111111111,
              "#46039f"
             ],
             [
              0.2222222222222222,
              "#7201a8"
             ],
             [
              0.3333333333333333,
              "#9c179e"
             ],
             [
              0.4444444444444444,
              "#bd3786"
             ],
             [
              0.5555555555555556,
              "#d8576b"
             ],
             [
              0.6666666666666666,
              "#ed7953"
             ],
             [
              0.7777777777777778,
              "#fb9f3a"
             ],
             [
              0.8888888888888888,
              "#fdca26"
             ],
             [
              1,
              "#f0f921"
             ]
            ],
            "type": "histogram2dcontour"
           }
          ],
          "mesh3d": [
           {
            "colorbar": {
             "outlinewidth": 0,
             "ticks": ""
            },
            "type": "mesh3d"
           }
          ],
          "parcoords": [
           {
            "line": {
             "colorbar": {
              "outlinewidth": 0,
              "ticks": ""
             }
            },
            "type": "parcoords"
           }
          ],
          "pie": [
           {
            "automargin": true,
            "type": "pie"
           }
          ],
          "scatter": [
           {
            "fillpattern": {
             "fillmode": "overlay",
             "size": 10,
             "solidity": 0.2
            },
            "type": "scatter"
           }
          ],
          "scatter3d": [
           {
            "line": {
             "colorbar": {
              "outlinewidth": 0,
              "ticks": ""
             }
            },
            "marker": {
             "colorbar": {
              "outlinewidth": 0,
              "ticks": ""
             }
            },
            "type": "scatter3d"
           }
          ],
          "scattercarpet": [
           {
            "marker": {
             "colorbar": {
              "outlinewidth": 0,
              "ticks": ""
             }
            },
            "type": "scattercarpet"
           }
          ],
          "scattergeo": [
           {
            "marker": {
             "colorbar": {
              "outlinewidth": 0,
              "ticks": ""
             }
            },
            "type": "scattergeo"
           }
          ],
          "scattergl": [
           {
            "marker": {
             "colorbar": {
              "outlinewidth": 0,
              "ticks": ""
             }
            },
            "type": "scattergl"
           }
          ],
          "scattermapbox": [
           {
            "marker": {
             "colorbar": {
              "outlinewidth": 0,
              "ticks": ""
             }
            },
            "type": "scattermapbox"
           }
          ],
          "scatterpolar": [
           {
            "marker": {
             "colorbar": {
              "outlinewidth": 0,
              "ticks": ""
             }
            },
            "type": "scatterpolar"
           }
          ],
          "scatterpolargl": [
           {
            "marker": {
             "colorbar": {
              "outlinewidth": 0,
              "ticks": ""
             }
            },
            "type": "scatterpolargl"
           }
          ],
          "scatterternary": [
           {
            "marker": {
             "colorbar": {
              "outlinewidth": 0,
              "ticks": ""
             }
            },
            "type": "scatterternary"
           }
          ],
          "surface": [
           {
            "colorbar": {
             "outlinewidth": 0,
             "ticks": ""
            },
            "colorscale": [
             [
              0,
              "#0d0887"
             ],
             [
              0.1111111111111111,
              "#46039f"
             ],
             [
              0.2222222222222222,
              "#7201a8"
             ],
             [
              0.3333333333333333,
              "#9c179e"
             ],
             [
              0.4444444444444444,
              "#bd3786"
             ],
             [
              0.5555555555555556,
              "#d8576b"
             ],
             [
              0.6666666666666666,
              "#ed7953"
             ],
             [
              0.7777777777777778,
              "#fb9f3a"
             ],
             [
              0.8888888888888888,
              "#fdca26"
             ],
             [
              1,
              "#f0f921"
             ]
            ],
            "type": "surface"
           }
          ],
          "table": [
           {
            "cells": {
             "fill": {
              "color": "#EBF0F8"
             },
             "line": {
              "color": "white"
             }
            },
            "header": {
             "fill": {
              "color": "#C8D4E3"
             },
             "line": {
              "color": "white"
             }
            },
            "type": "table"
           }
          ]
         },
         "layout": {
          "annotationdefaults": {
           "arrowcolor": "#2a3f5f",
           "arrowhead": 0,
           "arrowwidth": 1
          },
          "autotypenumbers": "strict",
          "coloraxis": {
           "colorbar": {
            "outlinewidth": 0,
            "ticks": ""
           }
          },
          "colorscale": {
           "diverging": [
            [
             0,
             "#8e0152"
            ],
            [
             0.1,
             "#c51b7d"
            ],
            [
             0.2,
             "#de77ae"
            ],
            [
             0.3,
             "#f1b6da"
            ],
            [
             0.4,
             "#fde0ef"
            ],
            [
             0.5,
             "#f7f7f7"
            ],
            [
             0.6,
             "#e6f5d0"
            ],
            [
             0.7,
             "#b8e186"
            ],
            [
             0.8,
             "#7fbc41"
            ],
            [
             0.9,
             "#4d9221"
            ],
            [
             1,
             "#276419"
            ]
           ],
           "sequential": [
            [
             0,
             "#0d0887"
            ],
            [
             0.1111111111111111,
             "#46039f"
            ],
            [
             0.2222222222222222,
             "#7201a8"
            ],
            [
             0.3333333333333333,
             "#9c179e"
            ],
            [
             0.4444444444444444,
             "#bd3786"
            ],
            [
             0.5555555555555556,
             "#d8576b"
            ],
            [
             0.6666666666666666,
             "#ed7953"
            ],
            [
             0.7777777777777778,
             "#fb9f3a"
            ],
            [
             0.8888888888888888,
             "#fdca26"
            ],
            [
             1,
             "#f0f921"
            ]
           ],
           "sequentialminus": [
            [
             0,
             "#0d0887"
            ],
            [
             0.1111111111111111,
             "#46039f"
            ],
            [
             0.2222222222222222,
             "#7201a8"
            ],
            [
             0.3333333333333333,
             "#9c179e"
            ],
            [
             0.4444444444444444,
             "#bd3786"
            ],
            [
             0.5555555555555556,
             "#d8576b"
            ],
            [
             0.6666666666666666,
             "#ed7953"
            ],
            [
             0.7777777777777778,
             "#fb9f3a"
            ],
            [
             0.8888888888888888,
             "#fdca26"
            ],
            [
             1,
             "#f0f921"
            ]
           ]
          },
          "colorway": [
           "#636efa",
           "#EF553B",
           "#00cc96",
           "#ab63fa",
           "#FFA15A",
           "#19d3f3",
           "#FF6692",
           "#B6E880",
           "#FF97FF",
           "#FECB52"
          ],
          "font": {
           "color": "#2a3f5f"
          },
          "geo": {
           "bgcolor": "white",
           "lakecolor": "white",
           "landcolor": "#E5ECF6",
           "showlakes": true,
           "showland": true,
           "subunitcolor": "white"
          },
          "hoverlabel": {
           "align": "left"
          },
          "hovermode": "closest",
          "mapbox": {
           "style": "light"
          },
          "paper_bgcolor": "white",
          "plot_bgcolor": "#E5ECF6",
          "polar": {
           "angularaxis": {
            "gridcolor": "white",
            "linecolor": "white",
            "ticks": ""
           },
           "bgcolor": "#E5ECF6",
           "radialaxis": {
            "gridcolor": "white",
            "linecolor": "white",
            "ticks": ""
           }
          },
          "scene": {
           "xaxis": {
            "backgroundcolor": "#E5ECF6",
            "gridcolor": "white",
            "gridwidth": 2,
            "linecolor": "white",
            "showbackground": true,
            "ticks": "",
            "zerolinecolor": "white"
           },
           "yaxis": {
            "backgroundcolor": "#E5ECF6",
            "gridcolor": "white",
            "gridwidth": 2,
            "linecolor": "white",
            "showbackground": true,
            "ticks": "",
            "zerolinecolor": "white"
           },
           "zaxis": {
            "backgroundcolor": "#E5ECF6",
            "gridcolor": "white",
            "gridwidth": 2,
            "linecolor": "white",
            "showbackground": true,
            "ticks": "",
            "zerolinecolor": "white"
           }
          },
          "shapedefaults": {
           "line": {
            "color": "#2a3f5f"
           }
          },
          "ternary": {
           "aaxis": {
            "gridcolor": "white",
            "linecolor": "white",
            "ticks": ""
           },
           "baxis": {
            "gridcolor": "white",
            "linecolor": "white",
            "ticks": ""
           },
           "bgcolor": "#E5ECF6",
           "caxis": {
            "gridcolor": "white",
            "linecolor": "white",
            "ticks": ""
           }
          },
          "title": {
           "x": 0.05
          },
          "xaxis": {
           "automargin": true,
           "gridcolor": "white",
           "linecolor": "white",
           "ticks": "",
           "title": {
            "standoff": 15
           },
           "zerolinecolor": "white",
           "zerolinewidth": 2
          },
          "yaxis": {
           "automargin": true,
           "gridcolor": "white",
           "linecolor": "white",
           "ticks": "",
           "title": {
            "standoff": 15
           },
           "zerolinecolor": "white",
           "zerolinewidth": 2
          }
         }
        },
        "title": {
         "text": "Top Game Developers by Maximum Games Released per Year"
        },
        "xaxis": {
         "anchor": "y",
         "domain": [
          0,
          1
         ],
         "tickmode": "linear",
         "title": {
          "text": "Release Year"
         }
        },
        "yaxis": {
         "anchor": "x",
         "domain": [
          0,
          1
         ],
         "title": {
          "text": "count"
         }
        }
       }
      }
     },
     "metadata": {},
     "output_type": "display_data"
    }
   ],
   "source": [
    "fig=px.bar(max_games_per_year_dev,x='Release Year',y='count',color='Developer',title='Top Game Developers by Maximum Games Released per Year')\n",
    "fig.update_layout(xaxis=dict(tickmode='linear'))\n",
    "fig.show(render='iframe')"
   ]
  },
  {
   "cell_type": "code",
   "execution_count": 32,
   "id": "c0f9eb17",
   "metadata": {
    "execution": {
     "iopub.execute_input": "2024-02-13T14:32:35.588549Z",
     "iopub.status.busy": "2024-02-13T14:32:35.588129Z",
     "iopub.status.idle": "2024-02-13T14:32:35.621836Z",
     "shell.execute_reply": "2024-02-13T14:32:35.620650Z"
    },
    "papermill": {
     "duration": 0.058216,
     "end_time": "2024-02-13T14:32:35.624667",
     "exception": false,
     "start_time": "2024-02-13T14:32:35.566451",
     "status": "completed"
    },
    "tags": []
   },
   "outputs": [
    {
     "data": {
      "text/html": [
       "<style type=\"text/css\">\n",
       "#T_01b3a_row0_col2 {\n",
       "  background-color: #f7fbff;\n",
       "  color: #000000;\n",
       "}\n",
       "#T_01b3a_row1_col2, #T_01b3a_row29_col2 {\n",
       "  background-color: #f2f8fd;\n",
       "  color: #000000;\n",
       "}\n",
       "#T_01b3a_row2_col2 {\n",
       "  background-color: #e8f1fa;\n",
       "  color: #000000;\n",
       "}\n",
       "#T_01b3a_row3_col2, #T_01b3a_row4_col2 {\n",
       "  background-color: #e3eef9;\n",
       "  color: #000000;\n",
       "}\n",
       "#T_01b3a_row5_col2 {\n",
       "  background-color: #94c4df;\n",
       "  color: #000000;\n",
       "}\n",
       "#T_01b3a_row6_col2 {\n",
       "  background-color: #5ba3d0;\n",
       "  color: #f1f1f1;\n",
       "}\n",
       "#T_01b3a_row7_col2, #T_01b3a_row21_col2 {\n",
       "  background-color: #2777b8;\n",
       "  color: #f1f1f1;\n",
       "}\n",
       "#T_01b3a_row8_col2, #T_01b3a_row24_col2 {\n",
       "  background-color: #3b8bc2;\n",
       "  color: #f1f1f1;\n",
       "}\n",
       "#T_01b3a_row9_col2, #T_01b3a_row18_col2 {\n",
       "  background-color: #1c6ab0;\n",
       "  color: #f1f1f1;\n",
       "}\n",
       "#T_01b3a_row10_col2 {\n",
       "  background-color: #084488;\n",
       "  color: #f1f1f1;\n",
       "}\n",
       "#T_01b3a_row11_col2 {\n",
       "  background-color: #125da6;\n",
       "  color: #f1f1f1;\n",
       "}\n",
       "#T_01b3a_row12_col2 {\n",
       "  background-color: #08509b;\n",
       "  color: #f1f1f1;\n",
       "}\n",
       "#T_01b3a_row13_col2, #T_01b3a_row17_col2 {\n",
       "  background-color: #083c7d;\n",
       "  color: #f1f1f1;\n",
       "}\n",
       "#T_01b3a_row14_col2 {\n",
       "  background-color: #08306b;\n",
       "  color: #f1f1f1;\n",
       "}\n",
       "#T_01b3a_row15_col2 {\n",
       "  background-color: #084a91;\n",
       "  color: #f1f1f1;\n",
       "}\n",
       "#T_01b3a_row16_col2 {\n",
       "  background-color: #083674;\n",
       "  color: #f1f1f1;\n",
       "}\n",
       "#T_01b3a_row19_col2 {\n",
       "  background-color: #3585bf;\n",
       "  color: #f1f1f1;\n",
       "}\n",
       "#T_01b3a_row20_col2 {\n",
       "  background-color: #2e7ebc;\n",
       "  color: #f1f1f1;\n",
       "}\n",
       "#T_01b3a_row22_col2 {\n",
       "  background-color: #2070b4;\n",
       "  color: #f1f1f1;\n",
       "}\n",
       "#T_01b3a_row23_col2 {\n",
       "  background-color: #4a98c9;\n",
       "  color: #f1f1f1;\n",
       "}\n",
       "#T_01b3a_row25_col2 {\n",
       "  background-color: #8abfdd;\n",
       "  color: #000000;\n",
       "}\n",
       "#T_01b3a_row26_col2 {\n",
       "  background-color: #529dcc;\n",
       "  color: #f1f1f1;\n",
       "}\n",
       "#T_01b3a_row27_col2 {\n",
       "  background-color: #63a8d3;\n",
       "  color: #f1f1f1;\n",
       "}\n",
       "#T_01b3a_row28_col2 {\n",
       "  background-color: #9dcae1;\n",
       "  color: #000000;\n",
       "}\n",
       "</style>\n",
       "<table id=\"T_01b3a\">\n",
       "  <thead>\n",
       "    <tr>\n",
       "      <th class=\"blank level0\" >&nbsp;</th>\n",
       "      <th id=\"T_01b3a_level0_col0\" class=\"col_heading level0 col0\" >Release Year</th>\n",
       "      <th id=\"T_01b3a_level0_col1\" class=\"col_heading level0 col1\" >Publisher</th>\n",
       "      <th id=\"T_01b3a_level0_col2\" class=\"col_heading level0 col2\" >count</th>\n",
       "    </tr>\n",
       "  </thead>\n",
       "  <tbody>\n",
       "    <tr>\n",
       "      <th id=\"T_01b3a_level0_row0\" class=\"row_heading level0 row0\" >0</th>\n",
       "      <td id=\"T_01b3a_row0_col0\" class=\"data row0 col0\" >1995.000000</td>\n",
       "      <td id=\"T_01b3a_row0_col1\" class=\"data row0 col1\" >LucasArts</td>\n",
       "      <td id=\"T_01b3a_row0_col2\" class=\"data row0 col2\" >1</td>\n",
       "    </tr>\n",
       "    <tr>\n",
       "      <th id=\"T_01b3a_level0_row1\" class=\"row_heading level0 row1\" >7</th>\n",
       "      <td id=\"T_01b3a_row1_col0\" class=\"data row1 col0\" >1996.000000</td>\n",
       "      <td id=\"T_01b3a_row1_col1\" class=\"data row1 col1\" >MicroProse</td>\n",
       "      <td id=\"T_01b3a_row1_col2\" class=\"data row1 col2\" >2</td>\n",
       "    </tr>\n",
       "    <tr>\n",
       "      <th id=\"T_01b3a_level0_row2\" class=\"row_heading level0 row2\" >24</th>\n",
       "      <td id=\"T_01b3a_row2_col0\" class=\"data row2 col0\" >1997.000000</td>\n",
       "      <td id=\"T_01b3a_row2_col1\" class=\"data row2 col1\" >Nintendo</td>\n",
       "      <td id=\"T_01b3a_row2_col2\" class=\"data row2 col2\" >4</td>\n",
       "    </tr>\n",
       "    <tr>\n",
       "      <th id=\"T_01b3a_level0_row3\" class=\"row_heading level0 row3\" >48</th>\n",
       "      <td id=\"T_01b3a_row3_col0\" class=\"data row3 col0\" >1998.000000</td>\n",
       "      <td id=\"T_01b3a_row3_col1\" class=\"data row3 col1\" >Nintendo</td>\n",
       "      <td id=\"T_01b3a_row3_col2\" class=\"data row3 col2\" >5</td>\n",
       "    </tr>\n",
       "    <tr>\n",
       "      <th id=\"T_01b3a_level0_row4\" class=\"row_heading level0 row4\" >76</th>\n",
       "      <td id=\"T_01b3a_row4_col0\" class=\"data row4 col0\" >1999.000000</td>\n",
       "      <td id=\"T_01b3a_row4_col1\" class=\"data row4 col1\" >Nintendo</td>\n",
       "      <td id=\"T_01b3a_row4_col2\" class=\"data row4 col2\" >5</td>\n",
       "    </tr>\n",
       "    <tr>\n",
       "      <th id=\"T_01b3a_level0_row5\" class=\"row_heading level0 row5\" >88</th>\n",
       "      <td id=\"T_01b3a_row5_col0\" class=\"data row5 col0\" >2000.000000</td>\n",
       "      <td id=\"T_01b3a_row5_col1\" class=\"data row5 col1\" >Activision</td>\n",
       "      <td id=\"T_01b3a_row5_col2\" class=\"data row5 col2\" >17</td>\n",
       "    </tr>\n",
       "    <tr>\n",
       "      <th id=\"T_01b3a_level0_row6\" class=\"row_heading level0 row6\" >182</th>\n",
       "      <td id=\"T_01b3a_row6_col0\" class=\"data row6 col0\" >2001.000000</td>\n",
       "      <td id=\"T_01b3a_row6_col1\" class=\"data row6 col1\" >Konami</td>\n",
       "      <td id=\"T_01b3a_row6_col2\" class=\"data row6 col2\" >23</td>\n",
       "    </tr>\n",
       "    <tr>\n",
       "      <th id=\"T_01b3a_level0_row7\" class=\"row_heading level0 row7\" >259</th>\n",
       "      <td id=\"T_01b3a_row7_col0\" class=\"data row7 col0\" >2002.000000</td>\n",
       "      <td id=\"T_01b3a_row7_col1\" class=\"data row7 col1\" >Infogrames</td>\n",
       "      <td id=\"T_01b3a_row7_col2\" class=\"data row7 col2\" >30</td>\n",
       "    </tr>\n",
       "    <tr>\n",
       "      <th id=\"T_01b3a_level0_row8\" class=\"row_heading level0 row8\" >383</th>\n",
       "      <td id=\"T_01b3a_row8_col0\" class=\"data row8 col0\" >2003.000000</td>\n",
       "      <td id=\"T_01b3a_row8_col1\" class=\"data row8 col1\" >THQ</td>\n",
       "      <td id=\"T_01b3a_row8_col2\" class=\"data row8 col2\" >27</td>\n",
       "    </tr>\n",
       "    <tr>\n",
       "      <th id=\"T_01b3a_level0_row9\" class=\"row_heading level0 row9\" >460</th>\n",
       "      <td id=\"T_01b3a_row9_col0\" class=\"data row9 col0\" >2004.000000</td>\n",
       "      <td id=\"T_01b3a_row9_col1\" class=\"data row9 col1\" >Nintendo</td>\n",
       "      <td id=\"T_01b3a_row9_col2\" class=\"data row9 col2\" >32</td>\n",
       "    </tr>\n",
       "    <tr>\n",
       "      <th id=\"T_01b3a_level0_row10\" class=\"row_heading level0 row10\" >554</th>\n",
       "      <td id=\"T_01b3a_row10_col0\" class=\"data row10 col0\" >2005.000000</td>\n",
       "      <td id=\"T_01b3a_row10_col1\" class=\"data row10 col1\" >Nintendo</td>\n",
       "      <td id=\"T_01b3a_row10_col2\" class=\"data row10 col2\" >38</td>\n",
       "    </tr>\n",
       "    <tr>\n",
       "      <th id=\"T_01b3a_level0_row11\" class=\"row_heading level0 row11\" >660</th>\n",
       "      <td id=\"T_01b3a_row11_col0\" class=\"data row11 col0\" >2006.000000</td>\n",
       "      <td id=\"T_01b3a_row11_col1\" class=\"data row11 col1\" >Nintendo</td>\n",
       "      <td id=\"T_01b3a_row11_col2\" class=\"data row11 col2\" >34</td>\n",
       "    </tr>\n",
       "    <tr>\n",
       "      <th id=\"T_01b3a_level0_row12\" class=\"row_heading level0 row12\" >792</th>\n",
       "      <td id=\"T_01b3a_row12_col0\" class=\"data row12 col0\" >2007.000000</td>\n",
       "      <td id=\"T_01b3a_row12_col1\" class=\"data row12 col1\" >SCEA</td>\n",
       "      <td id=\"T_01b3a_row12_col2\" class=\"data row12 col2\" >36</td>\n",
       "    </tr>\n",
       "    <tr>\n",
       "      <th id=\"T_01b3a_level0_row13\" class=\"row_heading level0 row13\" >910</th>\n",
       "      <td id=\"T_01b3a_row13_col0\" class=\"data row13 col0\" >2008.000000</td>\n",
       "      <td id=\"T_01b3a_row13_col1\" class=\"data row13 col1\" >SCEA</td>\n",
       "      <td id=\"T_01b3a_row13_col2\" class=\"data row13 col2\" >39</td>\n",
       "    </tr>\n",
       "    <tr>\n",
       "      <th id=\"T_01b3a_level0_row14\" class=\"row_heading level0 row14\" >993</th>\n",
       "      <td id=\"T_01b3a_row14_col0\" class=\"data row14 col0\" >2009.000000</td>\n",
       "      <td id=\"T_01b3a_row14_col1\" class=\"data row14 col1\" >Electronic Arts</td>\n",
       "      <td id=\"T_01b3a_row14_col2\" class=\"data row14 col2\" >41</td>\n",
       "    </tr>\n",
       "    <tr>\n",
       "      <th id=\"T_01b3a_level0_row15\" class=\"row_heading level0 row15\" >1183</th>\n",
       "      <td id=\"T_01b3a_row15_col0\" class=\"data row15 col0\" >2010.000000</td>\n",
       "      <td id=\"T_01b3a_row15_col1\" class=\"data row15 col1\" >Electronic Arts</td>\n",
       "      <td id=\"T_01b3a_row15_col2\" class=\"data row15 col2\" >37</td>\n",
       "    </tr>\n",
       "    <tr>\n",
       "      <th id=\"T_01b3a_level0_row16\" class=\"row_heading level0 row16\" >1421</th>\n",
       "      <td id=\"T_01b3a_row16_col0\" class=\"data row16 col0\" >2011.000000</td>\n",
       "      <td id=\"T_01b3a_row16_col1\" class=\"data row16 col1\" >Electronic Arts</td>\n",
       "      <td id=\"T_01b3a_row16_col2\" class=\"data row16 col2\" >40</td>\n",
       "    </tr>\n",
       "    <tr>\n",
       "      <th id=\"T_01b3a_level0_row17\" class=\"row_heading level0 row17\" >1896</th>\n",
       "      <td id=\"T_01b3a_row17_col0\" class=\"data row17 col0\" >2012.000000</td>\n",
       "      <td id=\"T_01b3a_row17_col1\" class=\"data row17 col1\" >SCEA</td>\n",
       "      <td id=\"T_01b3a_row17_col2\" class=\"data row17 col2\" >39</td>\n",
       "    </tr>\n",
       "    <tr>\n",
       "      <th id=\"T_01b3a_level0_row18\" class=\"row_heading level0 row18\" >2157</th>\n",
       "      <td id=\"T_01b3a_row18_col0\" class=\"data row18 col0\" >2013.000000</td>\n",
       "      <td id=\"T_01b3a_row18_col1\" class=\"data row18 col1\" >Nintendo</td>\n",
       "      <td id=\"T_01b3a_row18_col2\" class=\"data row18 col2\" >32</td>\n",
       "    </tr>\n",
       "    <tr>\n",
       "      <th id=\"T_01b3a_level0_row19\" class=\"row_heading level0 row19\" >2450</th>\n",
       "      <td id=\"T_01b3a_row19_col0\" class=\"data row19 col0\" >2014.000000</td>\n",
       "      <td id=\"T_01b3a_row19_col1\" class=\"data row19 col1\" >Nintendo</td>\n",
       "      <td id=\"T_01b3a_row19_col2\" class=\"data row19 col2\" >28</td>\n",
       "    </tr>\n",
       "    <tr>\n",
       "      <th id=\"T_01b3a_level0_row20\" class=\"row_heading level0 row20\" >2729</th>\n",
       "      <td id=\"T_01b3a_row20_col0\" class=\"data row20 col0\" >2015.000000</td>\n",
       "      <td id=\"T_01b3a_row20_col1\" class=\"data row20 col1\" >Nintendo</td>\n",
       "      <td id=\"T_01b3a_row20_col2\" class=\"data row20 col2\" >29</td>\n",
       "    </tr>\n",
       "    <tr>\n",
       "      <th id=\"T_01b3a_level0_row21\" class=\"row_heading level0 row21\" >3020</th>\n",
       "      <td id=\"T_01b3a_row21_col0\" class=\"data row21 col0\" >2016.000000</td>\n",
       "      <td id=\"T_01b3a_row21_col1\" class=\"data row21 col1\" >Nintendo</td>\n",
       "      <td id=\"T_01b3a_row21_col2\" class=\"data row21 col2\" >30</td>\n",
       "    </tr>\n",
       "    <tr>\n",
       "      <th id=\"T_01b3a_level0_row22\" class=\"row_heading level0 row22\" >3326</th>\n",
       "      <td id=\"T_01b3a_row22_col0\" class=\"data row22 col0\" >2017.000000</td>\n",
       "      <td id=\"T_01b3a_row22_col1\" class=\"data row22 col1\" >Nintendo</td>\n",
       "      <td id=\"T_01b3a_row22_col2\" class=\"data row22 col2\" >31</td>\n",
       "    </tr>\n",
       "    <tr>\n",
       "      <th id=\"T_01b3a_level0_row23\" class=\"row_heading level0 row23\" >3664</th>\n",
       "      <td id=\"T_01b3a_row23_col0\" class=\"data row23 col0\" >2018.000000</td>\n",
       "      <td id=\"T_01b3a_row23_col1\" class=\"data row23 col1\" >Nintendo</td>\n",
       "      <td id=\"T_01b3a_row23_col2\" class=\"data row23 col2\" >25</td>\n",
       "    </tr>\n",
       "    <tr>\n",
       "      <th id=\"T_01b3a_level0_row24\" class=\"row_heading level0 row24\" >3943</th>\n",
       "      <td id=\"T_01b3a_row24_col0\" class=\"data row24 col0\" >2019.000000</td>\n",
       "      <td id=\"T_01b3a_row24_col1\" class=\"data row24 col1\" >Nintendo</td>\n",
       "      <td id=\"T_01b3a_row24_col2\" class=\"data row24 col2\" >27</td>\n",
       "    </tr>\n",
       "    <tr>\n",
       "      <th id=\"T_01b3a_level0_row25\" class=\"row_heading level0 row25\" >4265</th>\n",
       "      <td id=\"T_01b3a_row25_col0\" class=\"data row25 col0\" >2020.000000</td>\n",
       "      <td id=\"T_01b3a_row25_col1\" class=\"data row25 col1\" >Nintendo</td>\n",
       "      <td id=\"T_01b3a_row25_col2\" class=\"data row25 col2\" >18</td>\n",
       "    </tr>\n",
       "    <tr>\n",
       "      <th id=\"T_01b3a_level0_row26\" class=\"row_heading level0 row26\" >4627</th>\n",
       "      <td id=\"T_01b3a_row26_col0\" class=\"data row26 col0\" >2021.000000</td>\n",
       "      <td id=\"T_01b3a_row26_col1\" class=\"data row26 col1\" >Square Enix</td>\n",
       "      <td id=\"T_01b3a_row26_col2\" class=\"data row26 col2\" >24</td>\n",
       "    </tr>\n",
       "    <tr>\n",
       "      <th id=\"T_01b3a_level0_row27\" class=\"row_heading level0 row27\" >4876</th>\n",
       "      <td id=\"T_01b3a_row27_col0\" class=\"data row27 col0\" >2022.000000</td>\n",
       "      <td id=\"T_01b3a_row27_col1\" class=\"data row27 col1\" >Square Enix</td>\n",
       "      <td id=\"T_01b3a_row27_col2\" class=\"data row27 col2\" >22</td>\n",
       "    </tr>\n",
       "    <tr>\n",
       "      <th id=\"T_01b3a_level0_row28\" class=\"row_heading level0 row28\" >5045</th>\n",
       "      <td id=\"T_01b3a_row28_col0\" class=\"data row28 col0\" >2023.000000</td>\n",
       "      <td id=\"T_01b3a_row28_col1\" class=\"data row28 col1\" >Nintendo</td>\n",
       "      <td id=\"T_01b3a_row28_col2\" class=\"data row28 col2\" >16</td>\n",
       "    </tr>\n",
       "    <tr>\n",
       "      <th id=\"T_01b3a_level0_row29\" class=\"row_heading level0 row29\" >5164</th>\n",
       "      <td id=\"T_01b3a_row29_col0\" class=\"data row29 col0\" >2024.000000</td>\n",
       "      <td id=\"T_01b3a_row29_col1\" class=\"data row29 col1\" >Sega</td>\n",
       "      <td id=\"T_01b3a_row29_col2\" class=\"data row29 col2\" >2</td>\n",
       "    </tr>\n",
       "  </tbody>\n",
       "</table>\n"
      ],
      "text/plain": [
       "<pandas.io.formats.style.Styler at 0x1cf2ad9ff10>"
      ]
     },
     "execution_count": 32,
     "metadata": {},
     "output_type": "execute_result"
    }
   ],
   "source": [
    "x=df.groupby(by=['Release Year','Publisher']).size().reset_index()\n",
    "max_games_per_year_pub=x.loc[x.groupby('Release Year')[0].idxmax()]\n",
    "max_games_per_year_pub.rename(columns={0:'count'},inplace=True)\n",
    "max_games_per_year_pub.style.background_gradient(cmap='Blues',subset='count')\n"
   ]
  },
  {
   "cell_type": "code",
   "execution_count": 33,
   "id": "ad0baaed",
   "metadata": {
    "execution": {
     "iopub.execute_input": "2024-02-13T14:32:35.669060Z",
     "iopub.status.busy": "2024-02-13T14:32:35.668643Z",
     "iopub.status.idle": "2024-02-13T14:32:35.801255Z",
     "shell.execute_reply": "2024-02-13T14:32:35.799942Z"
    },
    "papermill": {
     "duration": 0.158073,
     "end_time": "2024-02-13T14:32:35.804246",
     "exception": false,
     "start_time": "2024-02-13T14:32:35.646173",
     "status": "completed"
    },
    "tags": []
   },
   "outputs": [
    {
     "data": {
      "application/vnd.plotly.v1+json": {
       "config": {
        "plotlyServerURL": "https://plot.ly"
       },
       "data": [
        {
         "alignmentgroup": "True",
         "hovertemplate": "Publisher=LucasArts<br>Release Year=%{x}<br>count=%{y}<extra></extra>",
         "legendgroup": "LucasArts",
         "marker": {
          "color": "#636efa",
          "pattern": {
           "shape": ""
          }
         },
         "name": "LucasArts",
         "offsetgroup": "LucasArts",
         "orientation": "v",
         "showlegend": true,
         "textposition": "auto",
         "type": "bar",
         "x": [
          1995
         ],
         "xaxis": "x",
         "y": [
          1
         ],
         "yaxis": "y"
        },
        {
         "alignmentgroup": "True",
         "hovertemplate": "Publisher=MicroProse<br>Release Year=%{x}<br>count=%{y}<extra></extra>",
         "legendgroup": "MicroProse",
         "marker": {
          "color": "#EF553B",
          "pattern": {
           "shape": ""
          }
         },
         "name": "MicroProse",
         "offsetgroup": "MicroProse",
         "orientation": "v",
         "showlegend": true,
         "textposition": "auto",
         "type": "bar",
         "x": [
          1996
         ],
         "xaxis": "x",
         "y": [
          2
         ],
         "yaxis": "y"
        },
        {
         "alignmentgroup": "True",
         "hovertemplate": "Publisher=Nintendo<br>Release Year=%{x}<br>count=%{y}<extra></extra>",
         "legendgroup": "Nintendo",
         "marker": {
          "color": "#00cc96",
          "pattern": {
           "shape": ""
          }
         },
         "name": "Nintendo",
         "offsetgroup": "Nintendo",
         "orientation": "v",
         "showlegend": true,
         "textposition": "auto",
         "type": "bar",
         "x": [
          1997,
          1998,
          1999,
          2004,
          2005,
          2006,
          2013,
          2014,
          2015,
          2016,
          2017,
          2018,
          2019,
          2020,
          2023
         ],
         "xaxis": "x",
         "y": [
          4,
          5,
          5,
          32,
          38,
          34,
          32,
          28,
          29,
          30,
          31,
          25,
          27,
          18,
          16
         ],
         "yaxis": "y"
        },
        {
         "alignmentgroup": "True",
         "hovertemplate": "Publisher=Activision<br>Release Year=%{x}<br>count=%{y}<extra></extra>",
         "legendgroup": "Activision",
         "marker": {
          "color": "#ab63fa",
          "pattern": {
           "shape": ""
          }
         },
         "name": "Activision",
         "offsetgroup": "Activision",
         "orientation": "v",
         "showlegend": true,
         "textposition": "auto",
         "type": "bar",
         "x": [
          2000
         ],
         "xaxis": "x",
         "y": [
          17
         ],
         "yaxis": "y"
        },
        {
         "alignmentgroup": "True",
         "hovertemplate": "Publisher=Konami<br>Release Year=%{x}<br>count=%{y}<extra></extra>",
         "legendgroup": "Konami",
         "marker": {
          "color": "#FFA15A",
          "pattern": {
           "shape": ""
          }
         },
         "name": "Konami",
         "offsetgroup": "Konami",
         "orientation": "v",
         "showlegend": true,
         "textposition": "auto",
         "type": "bar",
         "x": [
          2001
         ],
         "xaxis": "x",
         "y": [
          23
         ],
         "yaxis": "y"
        },
        {
         "alignmentgroup": "True",
         "hovertemplate": "Publisher=Infogrames<br>Release Year=%{x}<br>count=%{y}<extra></extra>",
         "legendgroup": "Infogrames",
         "marker": {
          "color": "#19d3f3",
          "pattern": {
           "shape": ""
          }
         },
         "name": "Infogrames",
         "offsetgroup": "Infogrames",
         "orientation": "v",
         "showlegend": true,
         "textposition": "auto",
         "type": "bar",
         "x": [
          2002
         ],
         "xaxis": "x",
         "y": [
          30
         ],
         "yaxis": "y"
        },
        {
         "alignmentgroup": "True",
         "hovertemplate": "Publisher=THQ<br>Release Year=%{x}<br>count=%{y}<extra></extra>",
         "legendgroup": "THQ",
         "marker": {
          "color": "#FF6692",
          "pattern": {
           "shape": ""
          }
         },
         "name": "THQ",
         "offsetgroup": "THQ",
         "orientation": "v",
         "showlegend": true,
         "textposition": "auto",
         "type": "bar",
         "x": [
          2003
         ],
         "xaxis": "x",
         "y": [
          27
         ],
         "yaxis": "y"
        },
        {
         "alignmentgroup": "True",
         "hovertemplate": "Publisher=SCEA<br>Release Year=%{x}<br>count=%{y}<extra></extra>",
         "legendgroup": "SCEA",
         "marker": {
          "color": "#B6E880",
          "pattern": {
           "shape": ""
          }
         },
         "name": "SCEA",
         "offsetgroup": "SCEA",
         "orientation": "v",
         "showlegend": true,
         "textposition": "auto",
         "type": "bar",
         "x": [
          2007,
          2008,
          2012
         ],
         "xaxis": "x",
         "y": [
          36,
          39,
          39
         ],
         "yaxis": "y"
        },
        {
         "alignmentgroup": "True",
         "hovertemplate": "Publisher=Electronic Arts<br>Release Year=%{x}<br>count=%{y}<extra></extra>",
         "legendgroup": "Electronic Arts",
         "marker": {
          "color": "#FF97FF",
          "pattern": {
           "shape": ""
          }
         },
         "name": "Electronic Arts",
         "offsetgroup": "Electronic Arts",
         "orientation": "v",
         "showlegend": true,
         "textposition": "auto",
         "type": "bar",
         "x": [
          2009,
          2010,
          2011
         ],
         "xaxis": "x",
         "y": [
          41,
          37,
          40
         ],
         "yaxis": "y"
        },
        {
         "alignmentgroup": "True",
         "hovertemplate": "Publisher=Square Enix<br>Release Year=%{x}<br>count=%{y}<extra></extra>",
         "legendgroup": "Square Enix",
         "marker": {
          "color": "#FECB52",
          "pattern": {
           "shape": ""
          }
         },
         "name": "Square Enix",
         "offsetgroup": "Square Enix",
         "orientation": "v",
         "showlegend": true,
         "textposition": "auto",
         "type": "bar",
         "x": [
          2021,
          2022
         ],
         "xaxis": "x",
         "y": [
          24,
          22
         ],
         "yaxis": "y"
        },
        {
         "alignmentgroup": "True",
         "hovertemplate": "Publisher=Sega<br>Release Year=%{x}<br>count=%{y}<extra></extra>",
         "legendgroup": "Sega",
         "marker": {
          "color": "#636efa",
          "pattern": {
           "shape": ""
          }
         },
         "name": "Sega",
         "offsetgroup": "Sega",
         "orientation": "v",
         "showlegend": true,
         "textposition": "auto",
         "type": "bar",
         "x": [
          2024
         ],
         "xaxis": "x",
         "y": [
          2
         ],
         "yaxis": "y"
        }
       ],
       "layout": {
        "barmode": "relative",
        "legend": {
         "title": {
          "text": "Publisher"
         },
         "tracegroupgap": 0
        },
        "template": {
         "data": {
          "bar": [
           {
            "error_x": {
             "color": "#2a3f5f"
            },
            "error_y": {
             "color": "#2a3f5f"
            },
            "marker": {
             "line": {
              "color": "#E5ECF6",
              "width": 0.5
             },
             "pattern": {
              "fillmode": "overlay",
              "size": 10,
              "solidity": 0.2
             }
            },
            "type": "bar"
           }
          ],
          "barpolar": [
           {
            "marker": {
             "line": {
              "color": "#E5ECF6",
              "width": 0.5
             },
             "pattern": {
              "fillmode": "overlay",
              "size": 10,
              "solidity": 0.2
             }
            },
            "type": "barpolar"
           }
          ],
          "carpet": [
           {
            "aaxis": {
             "endlinecolor": "#2a3f5f",
             "gridcolor": "white",
             "linecolor": "white",
             "minorgridcolor": "white",
             "startlinecolor": "#2a3f5f"
            },
            "baxis": {
             "endlinecolor": "#2a3f5f",
             "gridcolor": "white",
             "linecolor": "white",
             "minorgridcolor": "white",
             "startlinecolor": "#2a3f5f"
            },
            "type": "carpet"
           }
          ],
          "choropleth": [
           {
            "colorbar": {
             "outlinewidth": 0,
             "ticks": ""
            },
            "type": "choropleth"
           }
          ],
          "contour": [
           {
            "colorbar": {
             "outlinewidth": 0,
             "ticks": ""
            },
            "colorscale": [
             [
              0,
              "#0d0887"
             ],
             [
              0.1111111111111111,
              "#46039f"
             ],
             [
              0.2222222222222222,
              "#7201a8"
             ],
             [
              0.3333333333333333,
              "#9c179e"
             ],
             [
              0.4444444444444444,
              "#bd3786"
             ],
             [
              0.5555555555555556,
              "#d8576b"
             ],
             [
              0.6666666666666666,
              "#ed7953"
             ],
             [
              0.7777777777777778,
              "#fb9f3a"
             ],
             [
              0.8888888888888888,
              "#fdca26"
             ],
             [
              1,
              "#f0f921"
             ]
            ],
            "type": "contour"
           }
          ],
          "contourcarpet": [
           {
            "colorbar": {
             "outlinewidth": 0,
             "ticks": ""
            },
            "type": "contourcarpet"
           }
          ],
          "heatmap": [
           {
            "colorbar": {
             "outlinewidth": 0,
             "ticks": ""
            },
            "colorscale": [
             [
              0,
              "#0d0887"
             ],
             [
              0.1111111111111111,
              "#46039f"
             ],
             [
              0.2222222222222222,
              "#7201a8"
             ],
             [
              0.3333333333333333,
              "#9c179e"
             ],
             [
              0.4444444444444444,
              "#bd3786"
             ],
             [
              0.5555555555555556,
              "#d8576b"
             ],
             [
              0.6666666666666666,
              "#ed7953"
             ],
             [
              0.7777777777777778,
              "#fb9f3a"
             ],
             [
              0.8888888888888888,
              "#fdca26"
             ],
             [
              1,
              "#f0f921"
             ]
            ],
            "type": "heatmap"
           }
          ],
          "heatmapgl": [
           {
            "colorbar": {
             "outlinewidth": 0,
             "ticks": ""
            },
            "colorscale": [
             [
              0,
              "#0d0887"
             ],
             [
              0.1111111111111111,
              "#46039f"
             ],
             [
              0.2222222222222222,
              "#7201a8"
             ],
             [
              0.3333333333333333,
              "#9c179e"
             ],
             [
              0.4444444444444444,
              "#bd3786"
             ],
             [
              0.5555555555555556,
              "#d8576b"
             ],
             [
              0.6666666666666666,
              "#ed7953"
             ],
             [
              0.7777777777777778,
              "#fb9f3a"
             ],
             [
              0.8888888888888888,
              "#fdca26"
             ],
             [
              1,
              "#f0f921"
             ]
            ],
            "type": "heatmapgl"
           }
          ],
          "histogram": [
           {
            "marker": {
             "pattern": {
              "fillmode": "overlay",
              "size": 10,
              "solidity": 0.2
             }
            },
            "type": "histogram"
           }
          ],
          "histogram2d": [
           {
            "colorbar": {
             "outlinewidth": 0,
             "ticks": ""
            },
            "colorscale": [
             [
              0,
              "#0d0887"
             ],
             [
              0.1111111111111111,
              "#46039f"
             ],
             [
              0.2222222222222222,
              "#7201a8"
             ],
             [
              0.3333333333333333,
              "#9c179e"
             ],
             [
              0.4444444444444444,
              "#bd3786"
             ],
             [
              0.5555555555555556,
              "#d8576b"
             ],
             [
              0.6666666666666666,
              "#ed7953"
             ],
             [
              0.7777777777777778,
              "#fb9f3a"
             ],
             [
              0.8888888888888888,
              "#fdca26"
             ],
             [
              1,
              "#f0f921"
             ]
            ],
            "type": "histogram2d"
           }
          ],
          "histogram2dcontour": [
           {
            "colorbar": {
             "outlinewidth": 0,
             "ticks": ""
            },
            "colorscale": [
             [
              0,
              "#0d0887"
             ],
             [
              0.1111111111111111,
              "#46039f"
             ],
             [
              0.2222222222222222,
              "#7201a8"
             ],
             [
              0.3333333333333333,
              "#9c179e"
             ],
             [
              0.4444444444444444,
              "#bd3786"
             ],
             [
              0.5555555555555556,
              "#d8576b"
             ],
             [
              0.6666666666666666,
              "#ed7953"
             ],
             [
              0.7777777777777778,
              "#fb9f3a"
             ],
             [
              0.8888888888888888,
              "#fdca26"
             ],
             [
              1,
              "#f0f921"
             ]
            ],
            "type": "histogram2dcontour"
           }
          ],
          "mesh3d": [
           {
            "colorbar": {
             "outlinewidth": 0,
             "ticks": ""
            },
            "type": "mesh3d"
           }
          ],
          "parcoords": [
           {
            "line": {
             "colorbar": {
              "outlinewidth": 0,
              "ticks": ""
             }
            },
            "type": "parcoords"
           }
          ],
          "pie": [
           {
            "automargin": true,
            "type": "pie"
           }
          ],
          "scatter": [
           {
            "fillpattern": {
             "fillmode": "overlay",
             "size": 10,
             "solidity": 0.2
            },
            "type": "scatter"
           }
          ],
          "scatter3d": [
           {
            "line": {
             "colorbar": {
              "outlinewidth": 0,
              "ticks": ""
             }
            },
            "marker": {
             "colorbar": {
              "outlinewidth": 0,
              "ticks": ""
             }
            },
            "type": "scatter3d"
           }
          ],
          "scattercarpet": [
           {
            "marker": {
             "colorbar": {
              "outlinewidth": 0,
              "ticks": ""
             }
            },
            "type": "scattercarpet"
           }
          ],
          "scattergeo": [
           {
            "marker": {
             "colorbar": {
              "outlinewidth": 0,
              "ticks": ""
             }
            },
            "type": "scattergeo"
           }
          ],
          "scattergl": [
           {
            "marker": {
             "colorbar": {
              "outlinewidth": 0,
              "ticks": ""
             }
            },
            "type": "scattergl"
           }
          ],
          "scattermapbox": [
           {
            "marker": {
             "colorbar": {
              "outlinewidth": 0,
              "ticks": ""
             }
            },
            "type": "scattermapbox"
           }
          ],
          "scatterpolar": [
           {
            "marker": {
             "colorbar": {
              "outlinewidth": 0,
              "ticks": ""
             }
            },
            "type": "scatterpolar"
           }
          ],
          "scatterpolargl": [
           {
            "marker": {
             "colorbar": {
              "outlinewidth": 0,
              "ticks": ""
             }
            },
            "type": "scatterpolargl"
           }
          ],
          "scatterternary": [
           {
            "marker": {
             "colorbar": {
              "outlinewidth": 0,
              "ticks": ""
             }
            },
            "type": "scatterternary"
           }
          ],
          "surface": [
           {
            "colorbar": {
             "outlinewidth": 0,
             "ticks": ""
            },
            "colorscale": [
             [
              0,
              "#0d0887"
             ],
             [
              0.1111111111111111,
              "#46039f"
             ],
             [
              0.2222222222222222,
              "#7201a8"
             ],
             [
              0.3333333333333333,
              "#9c179e"
             ],
             [
              0.4444444444444444,
              "#bd3786"
             ],
             [
              0.5555555555555556,
              "#d8576b"
             ],
             [
              0.6666666666666666,
              "#ed7953"
             ],
             [
              0.7777777777777778,
              "#fb9f3a"
             ],
             [
              0.8888888888888888,
              "#fdca26"
             ],
             [
              1,
              "#f0f921"
             ]
            ],
            "type": "surface"
           }
          ],
          "table": [
           {
            "cells": {
             "fill": {
              "color": "#EBF0F8"
             },
             "line": {
              "color": "white"
             }
            },
            "header": {
             "fill": {
              "color": "#C8D4E3"
             },
             "line": {
              "color": "white"
             }
            },
            "type": "table"
           }
          ]
         },
         "layout": {
          "annotationdefaults": {
           "arrowcolor": "#2a3f5f",
           "arrowhead": 0,
           "arrowwidth": 1
          },
          "autotypenumbers": "strict",
          "coloraxis": {
           "colorbar": {
            "outlinewidth": 0,
            "ticks": ""
           }
          },
          "colorscale": {
           "diverging": [
            [
             0,
             "#8e0152"
            ],
            [
             0.1,
             "#c51b7d"
            ],
            [
             0.2,
             "#de77ae"
            ],
            [
             0.3,
             "#f1b6da"
            ],
            [
             0.4,
             "#fde0ef"
            ],
            [
             0.5,
             "#f7f7f7"
            ],
            [
             0.6,
             "#e6f5d0"
            ],
            [
             0.7,
             "#b8e186"
            ],
            [
             0.8,
             "#7fbc41"
            ],
            [
             0.9,
             "#4d9221"
            ],
            [
             1,
             "#276419"
            ]
           ],
           "sequential": [
            [
             0,
             "#0d0887"
            ],
            [
             0.1111111111111111,
             "#46039f"
            ],
            [
             0.2222222222222222,
             "#7201a8"
            ],
            [
             0.3333333333333333,
             "#9c179e"
            ],
            [
             0.4444444444444444,
             "#bd3786"
            ],
            [
             0.5555555555555556,
             "#d8576b"
            ],
            [
             0.6666666666666666,
             "#ed7953"
            ],
            [
             0.7777777777777778,
             "#fb9f3a"
            ],
            [
             0.8888888888888888,
             "#fdca26"
            ],
            [
             1,
             "#f0f921"
            ]
           ],
           "sequentialminus": [
            [
             0,
             "#0d0887"
            ],
            [
             0.1111111111111111,
             "#46039f"
            ],
            [
             0.2222222222222222,
             "#7201a8"
            ],
            [
             0.3333333333333333,
             "#9c179e"
            ],
            [
             0.4444444444444444,
             "#bd3786"
            ],
            [
             0.5555555555555556,
             "#d8576b"
            ],
            [
             0.6666666666666666,
             "#ed7953"
            ],
            [
             0.7777777777777778,
             "#fb9f3a"
            ],
            [
             0.8888888888888888,
             "#fdca26"
            ],
            [
             1,
             "#f0f921"
            ]
           ]
          },
          "colorway": [
           "#636efa",
           "#EF553B",
           "#00cc96",
           "#ab63fa",
           "#FFA15A",
           "#19d3f3",
           "#FF6692",
           "#B6E880",
           "#FF97FF",
           "#FECB52"
          ],
          "font": {
           "color": "#2a3f5f"
          },
          "geo": {
           "bgcolor": "white",
           "lakecolor": "white",
           "landcolor": "#E5ECF6",
           "showlakes": true,
           "showland": true,
           "subunitcolor": "white"
          },
          "hoverlabel": {
           "align": "left"
          },
          "hovermode": "closest",
          "mapbox": {
           "style": "light"
          },
          "paper_bgcolor": "white",
          "plot_bgcolor": "#E5ECF6",
          "polar": {
           "angularaxis": {
            "gridcolor": "white",
            "linecolor": "white",
            "ticks": ""
           },
           "bgcolor": "#E5ECF6",
           "radialaxis": {
            "gridcolor": "white",
            "linecolor": "white",
            "ticks": ""
           }
          },
          "scene": {
           "xaxis": {
            "backgroundcolor": "#E5ECF6",
            "gridcolor": "white",
            "gridwidth": 2,
            "linecolor": "white",
            "showbackground": true,
            "ticks": "",
            "zerolinecolor": "white"
           },
           "yaxis": {
            "backgroundcolor": "#E5ECF6",
            "gridcolor": "white",
            "gridwidth": 2,
            "linecolor": "white",
            "showbackground": true,
            "ticks": "",
            "zerolinecolor": "white"
           },
           "zaxis": {
            "backgroundcolor": "#E5ECF6",
            "gridcolor": "white",
            "gridwidth": 2,
            "linecolor": "white",
            "showbackground": true,
            "ticks": "",
            "zerolinecolor": "white"
           }
          },
          "shapedefaults": {
           "line": {
            "color": "#2a3f5f"
           }
          },
          "ternary": {
           "aaxis": {
            "gridcolor": "white",
            "linecolor": "white",
            "ticks": ""
           },
           "baxis": {
            "gridcolor": "white",
            "linecolor": "white",
            "ticks": ""
           },
           "bgcolor": "#E5ECF6",
           "caxis": {
            "gridcolor": "white",
            "linecolor": "white",
            "ticks": ""
           }
          },
          "title": {
           "x": 0.05
          },
          "xaxis": {
           "automargin": true,
           "gridcolor": "white",
           "linecolor": "white",
           "ticks": "",
           "title": {
            "standoff": 15
           },
           "zerolinecolor": "white",
           "zerolinewidth": 2
          },
          "yaxis": {
           "automargin": true,
           "gridcolor": "white",
           "linecolor": "white",
           "ticks": "",
           "title": {
            "standoff": 15
           },
           "zerolinecolor": "white",
           "zerolinewidth": 2
          }
         }
        },
        "title": {
         "text": "Top Game Pubishers by Year"
        },
        "xaxis": {
         "anchor": "y",
         "domain": [
          0,
          1
         ],
         "tickmode": "linear",
         "title": {
          "text": "Release Year"
         }
        },
        "yaxis": {
         "anchor": "x",
         "domain": [
          0,
          1
         ],
         "title": {
          "text": "count"
         }
        }
       }
      }
     },
     "metadata": {},
     "output_type": "display_data"
    }
   ],
   "source": [
    "fig=px.bar(max_games_per_year_pub,x='Release Year',y='count',color='Publisher',title='Top Game Pubishers by Year')\n",
    "fig.update_layout(xaxis=dict(tickmode='linear'))\n",
    "fig.show(render='iframe')"
   ]
  },
  {
   "cell_type": "markdown",
   "id": "6ea30acf",
   "metadata": {
    "papermill": {
     "duration": 0.021757,
     "end_time": "2024-02-13T14:32:35.847711",
     "exception": false,
     "start_time": "2024-02-13T14:32:35.825954",
     "status": "completed"
    },
    "tags": []
   },
   "source": [
    "* Nintendo seems like the largest game publisher comapny in terms of number of game published"
   ]
  },
  {
   "cell_type": "code",
   "execution_count": 34,
   "id": "6caacb7e",
   "metadata": {
    "execution": {
     "iopub.execute_input": "2024-02-13T14:32:35.891359Z",
     "iopub.status.busy": "2024-02-13T14:32:35.890911Z",
     "iopub.status.idle": "2024-02-13T14:32:35.933309Z",
     "shell.execute_reply": "2024-02-13T14:32:35.931948Z"
    },
    "papermill": {
     "duration": 0.067965,
     "end_time": "2024-02-13T14:32:35.936626",
     "exception": false,
     "start_time": "2024-02-13T14:32:35.868661",
     "status": "completed"
    },
    "tags": []
   },
   "outputs": [
    {
     "data": {
      "text/html": [
       "<div>\n",
       "<style scoped>\n",
       "    .dataframe tbody tr th:only-of-type {\n",
       "        vertical-align: middle;\n",
       "    }\n",
       "\n",
       "    .dataframe tbody tr th {\n",
       "        vertical-align: top;\n",
       "    }\n",
       "\n",
       "    .dataframe thead th {\n",
       "        text-align: right;\n",
       "    }\n",
       "</style>\n",
       "<table border=\"1\" class=\"dataframe\">\n",
       "  <thead>\n",
       "    <tr style=\"text-align: right;\">\n",
       "      <th></th>\n",
       "      <th>Title</th>\n",
       "      <th>Release Date</th>\n",
       "      <th>Developer</th>\n",
       "      <th>Publisher</th>\n",
       "      <th>Genres</th>\n",
       "      <th>Genres Splitted</th>\n",
       "      <th>Product Rating</th>\n",
       "      <th>User Score</th>\n",
       "      <th>User Ratings Count</th>\n",
       "      <th>Platforms Info</th>\n",
       "      <th>Total rating</th>\n",
       "      <th>Release Year</th>\n",
       "    </tr>\n",
       "  </thead>\n",
       "  <tbody>\n",
       "    <tr>\n",
       "      <th>2209</th>\n",
       "      <td>Full Throttle</td>\n",
       "      <td>1995-04-30</td>\n",
       "      <td>LucasArts</td>\n",
       "      <td>LucasArts</td>\n",
       "      <td>Point-and-Click</td>\n",
       "      <td>['Point-and-Click']</td>\n",
       "      <td>Rated T For Teen</td>\n",
       "      <td>8.5</td>\n",
       "      <td>211.0</td>\n",
       "      <td>[{'Platform': 'PC', 'Platform Metascore': '86'...</td>\n",
       "      <td>1793.5</td>\n",
       "      <td>1995.0</td>\n",
       "    </tr>\n",
       "    <tr>\n",
       "      <th>11962</th>\n",
       "      <td>Resident Evil</td>\n",
       "      <td>1996-03-30</td>\n",
       "      <td>Capcom</td>\n",
       "      <td>Capcom</td>\n",
       "      <td>Survival</td>\n",
       "      <td>['Survival']</td>\n",
       "      <td>Rated M For Mature</td>\n",
       "      <td>9.4</td>\n",
       "      <td>1326.0</td>\n",
       "      <td>[{'Platform': 'PlayStation', 'Platform Metasco...</td>\n",
       "      <td>12464.4</td>\n",
       "      <td>1996.0</td>\n",
       "    </tr>\n",
       "    <tr>\n",
       "      <th>9886</th>\n",
       "      <td>Fallout</td>\n",
       "      <td>1997-10-09</td>\n",
       "      <td>Black Isle Studios</td>\n",
       "      <td>Interplay</td>\n",
       "      <td>Western RPG</td>\n",
       "      <td>['Western', 'RPG']</td>\n",
       "      <td>Rated M For Mature</td>\n",
       "      <td>8.8</td>\n",
       "      <td>1471.0</td>\n",
       "      <td>[{'Platform': 'PC', 'Platform Metascore': '89'...</td>\n",
       "      <td>12944.8</td>\n",
       "      <td>1997.0</td>\n",
       "    </tr>\n",
       "    <tr>\n",
       "      <th>6296</th>\n",
       "      <td>The Legend of Zelda: Ocarina of Time</td>\n",
       "      <td>1998-11-23</td>\n",
       "      <td>Nintendo</td>\n",
       "      <td>Nintendo</td>\n",
       "      <td>Open-World Action</td>\n",
       "      <td>['Open-World', 'Action']</td>\n",
       "      <td>Rated E For Everyone</td>\n",
       "      <td>9.1</td>\n",
       "      <td>8711.0</td>\n",
       "      <td>[{'Platform': 'Nintendo 64', 'Platform Metasco...</td>\n",
       "      <td>79270.1</td>\n",
       "      <td>1998.0</td>\n",
       "    </tr>\n",
       "    <tr>\n",
       "      <th>9502</th>\n",
       "      <td>Age of Empires II: The Age of Kings</td>\n",
       "      <td>1999-09-30</td>\n",
       "      <td>Ensemble Studios</td>\n",
       "      <td>Microsoft Game Studios</td>\n",
       "      <td>Command RTS</td>\n",
       "      <td>['Command', 'RTS']</td>\n",
       "      <td>Rated T For Teen</td>\n",
       "      <td>9.0</td>\n",
       "      <td>1416.0</td>\n",
       "      <td>[{'Platform': 'PC', 'Platform Metascore': '92'...</td>\n",
       "      <td>12744.0</td>\n",
       "      <td>1999.0</td>\n",
       "    </tr>\n",
       "    <tr>\n",
       "      <th>2535</th>\n",
       "      <td>The Legend of Zelda: Majora's Mask</td>\n",
       "      <td>2000-10-25</td>\n",
       "      <td>Nintendo</td>\n",
       "      <td>Nintendo</td>\n",
       "      <td>Open-World Action</td>\n",
       "      <td>['Open-World', 'Action']</td>\n",
       "      <td>Rated E For Everyone</td>\n",
       "      <td>9.1</td>\n",
       "      <td>1714.0</td>\n",
       "      <td>[{'Platform': 'Nintendo 64', 'Platform Metasco...</td>\n",
       "      <td>15597.4</td>\n",
       "      <td>2000.0</td>\n",
       "    </tr>\n",
       "    <tr>\n",
       "      <th>8016</th>\n",
       "      <td>Halo: Combat Evolved</td>\n",
       "      <td>2001-11-15</td>\n",
       "      <td>Bungie</td>\n",
       "      <td>Microsoft Game Studios</td>\n",
       "      <td>FPS</td>\n",
       "      <td>['FPS']</td>\n",
       "      <td>Rated M For Mature</td>\n",
       "      <td>8.7</td>\n",
       "      <td>2907.0</td>\n",
       "      <td>[{'Platform': 'PC', 'Platform Metascore': '83'...</td>\n",
       "      <td>25290.9</td>\n",
       "      <td>2001.0</td>\n",
       "    </tr>\n",
       "    <tr>\n",
       "      <th>2436</th>\n",
       "      <td>Warcraft III: Reign of Chaos</td>\n",
       "      <td>2002-07-03</td>\n",
       "      <td>Blizzard Entertainment</td>\n",
       "      <td>Blizzard Entertainment</td>\n",
       "      <td>Real-Time Strategy</td>\n",
       "      <td>['Real-Time', 'Strategy']</td>\n",
       "      <td>Rated T For Teen</td>\n",
       "      <td>9.2</td>\n",
       "      <td>2461.0</td>\n",
       "      <td>[{'Platform': 'PC', 'Platform Metascore': '92'...</td>\n",
       "      <td>22641.2</td>\n",
       "      <td>2002.0</td>\n",
       "    </tr>\n",
       "    <tr>\n",
       "      <th>4817</th>\n",
       "      <td>Warcraft III: The Frozen Throne</td>\n",
       "      <td>2003-07-01</td>\n",
       "      <td>Blizzard Entertainment</td>\n",
       "      <td>Blizzard Entertainment</td>\n",
       "      <td>Real-Time Strategy</td>\n",
       "      <td>['Real-Time', 'Strategy']</td>\n",
       "      <td>Rated T For Teen</td>\n",
       "      <td>9.2</td>\n",
       "      <td>1855.0</td>\n",
       "      <td>[{'Platform': 'PC', 'Platform Metascore': '88'...</td>\n",
       "      <td>17066.0</td>\n",
       "      <td>2003.0</td>\n",
       "    </tr>\n",
       "    <tr>\n",
       "      <th>6884</th>\n",
       "      <td>Half-Life 2</td>\n",
       "      <td>2004-11-16</td>\n",
       "      <td>Valve Software</td>\n",
       "      <td>VU Games</td>\n",
       "      <td>FPS</td>\n",
       "      <td>['FPS']</td>\n",
       "      <td>Rated M For Mature</td>\n",
       "      <td>9.1</td>\n",
       "      <td>9098.0</td>\n",
       "      <td>[{'Platform': 'PC', 'Platform Metascore': '96'...</td>\n",
       "      <td>82791.8</td>\n",
       "      <td>2004.0</td>\n",
       "    </tr>\n",
       "    <tr>\n",
       "      <th>3739</th>\n",
       "      <td>God of War (2005)</td>\n",
       "      <td>2005-03-22</td>\n",
       "      <td>SCE Santa Monica</td>\n",
       "      <td>SCEA</td>\n",
       "      <td>Linear Action Adventure</td>\n",
       "      <td>['Linear', 'Action', 'Adventure']</td>\n",
       "      <td>Rated M For Mature</td>\n",
       "      <td>8.9</td>\n",
       "      <td>2472.0</td>\n",
       "      <td>[{'Platform': 'PlayStation 2', 'Platform Metas...</td>\n",
       "      <td>22000.8</td>\n",
       "      <td>2005.0</td>\n",
       "    </tr>\n",
       "    <tr>\n",
       "      <th>334</th>\n",
       "      <td>The Legend of Zelda: Twilight Princess</td>\n",
       "      <td>2006-11-19</td>\n",
       "      <td>Nintendo</td>\n",
       "      <td>Nintendo</td>\n",
       "      <td>Open-World Action</td>\n",
       "      <td>['Open-World', 'Action']</td>\n",
       "      <td>Rated T For Teen</td>\n",
       "      <td>8.9</td>\n",
       "      <td>1815.0</td>\n",
       "      <td>[{'Platform': 'Wii', 'Platform Metascore': '95...</td>\n",
       "      <td>16153.5</td>\n",
       "      <td>2006.0</td>\n",
       "    </tr>\n",
       "    <tr>\n",
       "      <th>5262</th>\n",
       "      <td>Portal</td>\n",
       "      <td>2007-10-10</td>\n",
       "      <td>Valve Software</td>\n",
       "      <td>Valve Software</td>\n",
       "      <td>FPS</td>\n",
       "      <td>['FPS']</td>\n",
       "      <td>Rated T For Teen</td>\n",
       "      <td>8.9</td>\n",
       "      <td>4712.0</td>\n",
       "      <td>[{'Platform': 'PC', 'Platform Metascore': '90'...</td>\n",
       "      <td>41936.8</td>\n",
       "      <td>2007.0</td>\n",
       "    </tr>\n",
       "    <tr>\n",
       "      <th>4132</th>\n",
       "      <td>The Witcher: Enhanced Edition</td>\n",
       "      <td>2008-09-16</td>\n",
       "      <td>CD Projekt Red Studio</td>\n",
       "      <td>Atari SA</td>\n",
       "      <td>Action RPG</td>\n",
       "      <td>['Action', 'RPG']</td>\n",
       "      <td>Rated M For Mature</td>\n",
       "      <td>8.3</td>\n",
       "      <td>3273.0</td>\n",
       "      <td>[{'Platform': 'PC', 'Platform Metascore': '86'...</td>\n",
       "      <td>27165.9</td>\n",
       "      <td>2008.0</td>\n",
       "    </tr>\n",
       "    <tr>\n",
       "      <th>7726</th>\n",
       "      <td>Uncharted 2: Among Thieves</td>\n",
       "      <td>2009-10-13</td>\n",
       "      <td>Naughty Dog</td>\n",
       "      <td>SCEA</td>\n",
       "      <td>Linear Action Adventure</td>\n",
       "      <td>['Linear', 'Action', 'Adventure']</td>\n",
       "      <td>Rated T For Teen</td>\n",
       "      <td>8.8</td>\n",
       "      <td>6648.0</td>\n",
       "      <td>[{'Platform': 'PlayStation 3', 'Platform Metas...</td>\n",
       "      <td>58502.4</td>\n",
       "      <td>2009.0</td>\n",
       "    </tr>\n",
       "    <tr>\n",
       "      <th>5449</th>\n",
       "      <td>God of War III</td>\n",
       "      <td>2010-03-16</td>\n",
       "      <td>SCE Santa Monica</td>\n",
       "      <td>SCEA</td>\n",
       "      <td>Linear Action Adventure</td>\n",
       "      <td>['Linear', 'Action', 'Adventure']</td>\n",
       "      <td>Rated M For Mature</td>\n",
       "      <td>9.0</td>\n",
       "      <td>3187.0</td>\n",
       "      <td>[{'Platform': 'PlayStation 3', 'Platform Metas...</td>\n",
       "      <td>28683.0</td>\n",
       "      <td>2010.0</td>\n",
       "    </tr>\n",
       "    <tr>\n",
       "      <th>1713</th>\n",
       "      <td>Uncharted 3: Drake's Deception</td>\n",
       "      <td>2011-11-01</td>\n",
       "      <td>Naughty Dog</td>\n",
       "      <td>SCEA</td>\n",
       "      <td>Linear Action Adventure</td>\n",
       "      <td>['Linear', 'Action', 'Adventure']</td>\n",
       "      <td>Rated T For Teen</td>\n",
       "      <td>8.4</td>\n",
       "      <td>5642.0</td>\n",
       "      <td>[{'Platform': 'PlayStation 3', 'Platform Metas...</td>\n",
       "      <td>47392.8</td>\n",
       "      <td>2011.0</td>\n",
       "    </tr>\n",
       "    <tr>\n",
       "      <th>2682</th>\n",
       "      <td>Far Cry 3</td>\n",
       "      <td>2012-12-04</td>\n",
       "      <td>Ubisoft Montreal</td>\n",
       "      <td>Ubisoft</td>\n",
       "      <td>FPS</td>\n",
       "      <td>['FPS']</td>\n",
       "      <td>Rated M For Mature</td>\n",
       "      <td>8.4</td>\n",
       "      <td>5355.0</td>\n",
       "      <td>[{'Platform': 'PlayStation 3', 'Platform Metas...</td>\n",
       "      <td>44982.0</td>\n",
       "      <td>2012.0</td>\n",
       "    </tr>\n",
       "    <tr>\n",
       "      <th>8097</th>\n",
       "      <td>The Last of Us</td>\n",
       "      <td>2013-06-14</td>\n",
       "      <td>Naughty Dog</td>\n",
       "      <td>SCEA</td>\n",
       "      <td>Linear Action Adventure</td>\n",
       "      <td>['Linear', 'Action', 'Adventure']</td>\n",
       "      <td>Rated M For Mature</td>\n",
       "      <td>9.2</td>\n",
       "      <td>14920.0</td>\n",
       "      <td>[{'Platform': 'PlayStation 3', 'Platform Metas...</td>\n",
       "      <td>137264.0</td>\n",
       "      <td>2013.0</td>\n",
       "    </tr>\n",
       "    <tr>\n",
       "      <th>2930</th>\n",
       "      <td>The Last of Us Remastered</td>\n",
       "      <td>2014-07-29</td>\n",
       "      <td>Naughty Dog</td>\n",
       "      <td>SCEA</td>\n",
       "      <td>Linear Action Adventure</td>\n",
       "      <td>['Linear', 'Action', 'Adventure']</td>\n",
       "      <td>Rated M For Mature</td>\n",
       "      <td>9.2</td>\n",
       "      <td>20141.0</td>\n",
       "      <td>[{'Platform': 'PlayStation 4', 'Platform Metas...</td>\n",
       "      <td>185297.2</td>\n",
       "      <td>2014.0</td>\n",
       "    </tr>\n",
       "    <tr>\n",
       "      <th>7612</th>\n",
       "      <td>The Witcher 3: Wild Hunt</td>\n",
       "      <td>2015-05-19</td>\n",
       "      <td>CD Projekt Red Studio</td>\n",
       "      <td>Warner Bros. Interactive Entertainment</td>\n",
       "      <td>Action RPG</td>\n",
       "      <td>['Action', 'RPG']</td>\n",
       "      <td>Rated M For Mature</td>\n",
       "      <td>9.2</td>\n",
       "      <td>19581.0</td>\n",
       "      <td>[{'Platform': 'PC', 'Platform Metascore': '93'...</td>\n",
       "      <td>180145.2</td>\n",
       "      <td>2015.0</td>\n",
       "    </tr>\n",
       "    <tr>\n",
       "      <th>3368</th>\n",
       "      <td>Uncharted 4: A Thief's End</td>\n",
       "      <td>2016-05-10</td>\n",
       "      <td>Naughty Dog</td>\n",
       "      <td>Sony Interactive Entertainment</td>\n",
       "      <td>Linear Action Adventure</td>\n",
       "      <td>['Linear', 'Action', 'Adventure']</td>\n",
       "      <td>Rated T For Teen</td>\n",
       "      <td>8.8</td>\n",
       "      <td>17412.0</td>\n",
       "      <td>[{'Platform': 'PlayStation 4', 'Platform Metas...</td>\n",
       "      <td>153225.6</td>\n",
       "      <td>2016.0</td>\n",
       "    </tr>\n",
       "    <tr>\n",
       "      <th>6075</th>\n",
       "      <td>The Legend of Zelda: Breath of the Wild</td>\n",
       "      <td>2017-03-03</td>\n",
       "      <td>Nintendo</td>\n",
       "      <td>Nintendo</td>\n",
       "      <td>Open-World Action</td>\n",
       "      <td>['Open-World', 'Action']</td>\n",
       "      <td>Rated E +10 For Everyone +10</td>\n",
       "      <td>8.8</td>\n",
       "      <td>22216.0</td>\n",
       "      <td>[{'Platform': 'Wii U', 'Platform Metascore': '...</td>\n",
       "      <td>195500.8</td>\n",
       "      <td>2017.0</td>\n",
       "    </tr>\n",
       "    <tr>\n",
       "      <th>7377</th>\n",
       "      <td>God of War</td>\n",
       "      <td>2018-04-20</td>\n",
       "      <td>SCE Santa Monica</td>\n",
       "      <td>Sony Interactive Entertainment</td>\n",
       "      <td>Linear Action Adventure</td>\n",
       "      <td>['Linear', 'Action', 'Adventure']</td>\n",
       "      <td>Rated M For Mature</td>\n",
       "      <td>9.1</td>\n",
       "      <td>24855.0</td>\n",
       "      <td>[{'Platform': 'PlayStation 4', 'Platform Metas...</td>\n",
       "      <td>226180.5</td>\n",
       "      <td>2018.0</td>\n",
       "    </tr>\n",
       "    <tr>\n",
       "      <th>3212</th>\n",
       "      <td>Death Stranding</td>\n",
       "      <td>2019-11-08</td>\n",
       "      <td>Kojima Productions</td>\n",
       "      <td>Sony Interactive Entertainment</td>\n",
       "      <td>Open-World Action</td>\n",
       "      <td>['Open-World', 'Action']</td>\n",
       "      <td>Rated M For Mature</td>\n",
       "      <td>7.4</td>\n",
       "      <td>18746.0</td>\n",
       "      <td>[{'Platform': 'PlayStation 4', 'Platform Metas...</td>\n",
       "      <td>138720.4</td>\n",
       "      <td>2019.0</td>\n",
       "    </tr>\n",
       "    <tr>\n",
       "      <th>10941</th>\n",
       "      <td>The Last of Us Part II</td>\n",
       "      <td>2020-06-19</td>\n",
       "      <td>Naughty Dog</td>\n",
       "      <td>Sony Interactive Entertainment</td>\n",
       "      <td>Survival</td>\n",
       "      <td>['Survival']</td>\n",
       "      <td>Rated M For Mature</td>\n",
       "      <td>5.8</td>\n",
       "      <td>163419.0</td>\n",
       "      <td>[{'Platform': 'PlayStation 4', 'Platform Metas...</td>\n",
       "      <td>947830.2</td>\n",
       "      <td>2020.0</td>\n",
       "    </tr>\n",
       "    <tr>\n",
       "      <th>13152</th>\n",
       "      <td>Halo Infinite</td>\n",
       "      <td>2021-11-15</td>\n",
       "      <td>343 Industries</td>\n",
       "      <td>Xbox Game Studios</td>\n",
       "      <td>FPS</td>\n",
       "      <td>['FPS']</td>\n",
       "      <td>Rated T For Teen</td>\n",
       "      <td>7.8</td>\n",
       "      <td>5863.0</td>\n",
       "      <td>[{'Platform': 'PC', 'Platform Metascore': '80'...</td>\n",
       "      <td>45731.4</td>\n",
       "      <td>2021.0</td>\n",
       "    </tr>\n",
       "    <tr>\n",
       "      <th>6017</th>\n",
       "      <td>Elden Ring</td>\n",
       "      <td>2022-02-25</td>\n",
       "      <td>From Software</td>\n",
       "      <td>Bandai Namco Games</td>\n",
       "      <td>Action RPG</td>\n",
       "      <td>['Action', 'RPG']</td>\n",
       "      <td>Rated M For Mature</td>\n",
       "      <td>8.0</td>\n",
       "      <td>14265.0</td>\n",
       "      <td>[{'Platform': 'PC', 'Platform Metascore': '94'...</td>\n",
       "      <td>114120.0</td>\n",
       "      <td>2022.0</td>\n",
       "    </tr>\n",
       "    <tr>\n",
       "      <th>12387</th>\n",
       "      <td>Baldur's Gate 3</td>\n",
       "      <td>2023-08-03</td>\n",
       "      <td>Larian Studios Games</td>\n",
       "      <td>Larian Studios Games</td>\n",
       "      <td>Western RPG</td>\n",
       "      <td>['Western', 'RPG']</td>\n",
       "      <td>Rated M For Mature</td>\n",
       "      <td>8.9</td>\n",
       "      <td>15511.0</td>\n",
       "      <td>[{'Platform': 'PC', 'Platform Metascore': '96'...</td>\n",
       "      <td>138047.9</td>\n",
       "      <td>2023.0</td>\n",
       "    </tr>\n",
       "    <tr>\n",
       "      <th>7232</th>\n",
       "      <td>The Last of Us Part II Remastered</td>\n",
       "      <td>2024-01-19</td>\n",
       "      <td>Naughty Dog</td>\n",
       "      <td>Sony Interactive Entertainment</td>\n",
       "      <td>Survival</td>\n",
       "      <td>['Survival']</td>\n",
       "      <td>Rated M For Mature</td>\n",
       "      <td>8.4</td>\n",
       "      <td>774.0</td>\n",
       "      <td>[{'Platform': 'PlayStation 5', 'Platform Metas...</td>\n",
       "      <td>6501.6</td>\n",
       "      <td>2024.0</td>\n",
       "    </tr>\n",
       "  </tbody>\n",
       "</table>\n",
       "</div>"
      ],
      "text/plain": [
       "                                         Title Release Date  \\\n",
       "2209                             Full Throttle   1995-04-30   \n",
       "11962                            Resident Evil   1996-03-30   \n",
       "9886                                   Fallout   1997-10-09   \n",
       "6296      The Legend of Zelda: Ocarina of Time   1998-11-23   \n",
       "9502       Age of Empires II: The Age of Kings   1999-09-30   \n",
       "2535        The Legend of Zelda: Majora's Mask   2000-10-25   \n",
       "8016                      Halo: Combat Evolved   2001-11-15   \n",
       "2436              Warcraft III: Reign of Chaos   2002-07-03   \n",
       "4817           Warcraft III: The Frozen Throne   2003-07-01   \n",
       "6884                               Half-Life 2   2004-11-16   \n",
       "3739                         God of War (2005)   2005-03-22   \n",
       "334     The Legend of Zelda: Twilight Princess   2006-11-19   \n",
       "5262                                    Portal   2007-10-10   \n",
       "4132             The Witcher: Enhanced Edition   2008-09-16   \n",
       "7726                Uncharted 2: Among Thieves   2009-10-13   \n",
       "5449                            God of War III   2010-03-16   \n",
       "1713            Uncharted 3: Drake's Deception   2011-11-01   \n",
       "2682                                 Far Cry 3   2012-12-04   \n",
       "8097                            The Last of Us   2013-06-14   \n",
       "2930                 The Last of Us Remastered   2014-07-29   \n",
       "7612                  The Witcher 3: Wild Hunt   2015-05-19   \n",
       "3368                Uncharted 4: A Thief's End   2016-05-10   \n",
       "6075   The Legend of Zelda: Breath of the Wild   2017-03-03   \n",
       "7377                                God of War   2018-04-20   \n",
       "3212                           Death Stranding   2019-11-08   \n",
       "10941                   The Last of Us Part II   2020-06-19   \n",
       "13152                            Halo Infinite   2021-11-15   \n",
       "6017                                Elden Ring   2022-02-25   \n",
       "12387                          Baldur's Gate 3   2023-08-03   \n",
       "7232         The Last of Us Part II Remastered   2024-01-19   \n",
       "\n",
       "                    Developer                               Publisher  \\\n",
       "2209                LucasArts                               LucasArts   \n",
       "11962                  Capcom                                  Capcom   \n",
       "9886       Black Isle Studios                               Interplay   \n",
       "6296                 Nintendo                                Nintendo   \n",
       "9502         Ensemble Studios                  Microsoft Game Studios   \n",
       "2535                 Nintendo                                Nintendo   \n",
       "8016                   Bungie                  Microsoft Game Studios   \n",
       "2436   Blizzard Entertainment                  Blizzard Entertainment   \n",
       "4817   Blizzard Entertainment                  Blizzard Entertainment   \n",
       "6884           Valve Software                                VU Games   \n",
       "3739         SCE Santa Monica                                    SCEA   \n",
       "334                  Nintendo                                Nintendo   \n",
       "5262           Valve Software                          Valve Software   \n",
       "4132    CD Projekt Red Studio                                Atari SA   \n",
       "7726              Naughty Dog                                    SCEA   \n",
       "5449         SCE Santa Monica                                    SCEA   \n",
       "1713              Naughty Dog                                    SCEA   \n",
       "2682         Ubisoft Montreal                                 Ubisoft   \n",
       "8097              Naughty Dog                                    SCEA   \n",
       "2930              Naughty Dog                                    SCEA   \n",
       "7612    CD Projekt Red Studio  Warner Bros. Interactive Entertainment   \n",
       "3368              Naughty Dog          Sony Interactive Entertainment   \n",
       "6075                 Nintendo                                Nintendo   \n",
       "7377         SCE Santa Monica          Sony Interactive Entertainment   \n",
       "3212       Kojima Productions          Sony Interactive Entertainment   \n",
       "10941             Naughty Dog          Sony Interactive Entertainment   \n",
       "13152          343 Industries                       Xbox Game Studios   \n",
       "6017            From Software                      Bandai Namco Games   \n",
       "12387    Larian Studios Games                    Larian Studios Games   \n",
       "7232              Naughty Dog          Sony Interactive Entertainment   \n",
       "\n",
       "                        Genres                    Genres Splitted  \\\n",
       "2209           Point-and-Click                ['Point-and-Click']   \n",
       "11962                 Survival                       ['Survival']   \n",
       "9886               Western RPG                 ['Western', 'RPG']   \n",
       "6296         Open-World Action           ['Open-World', 'Action']   \n",
       "9502               Command RTS                 ['Command', 'RTS']   \n",
       "2535         Open-World Action           ['Open-World', 'Action']   \n",
       "8016                       FPS                            ['FPS']   \n",
       "2436        Real-Time Strategy          ['Real-Time', 'Strategy']   \n",
       "4817        Real-Time Strategy          ['Real-Time', 'Strategy']   \n",
       "6884                       FPS                            ['FPS']   \n",
       "3739   Linear Action Adventure  ['Linear', 'Action', 'Adventure']   \n",
       "334          Open-World Action           ['Open-World', 'Action']   \n",
       "5262                       FPS                            ['FPS']   \n",
       "4132                Action RPG                  ['Action', 'RPG']   \n",
       "7726   Linear Action Adventure  ['Linear', 'Action', 'Adventure']   \n",
       "5449   Linear Action Adventure  ['Linear', 'Action', 'Adventure']   \n",
       "1713   Linear Action Adventure  ['Linear', 'Action', 'Adventure']   \n",
       "2682                       FPS                            ['FPS']   \n",
       "8097   Linear Action Adventure  ['Linear', 'Action', 'Adventure']   \n",
       "2930   Linear Action Adventure  ['Linear', 'Action', 'Adventure']   \n",
       "7612                Action RPG                  ['Action', 'RPG']   \n",
       "3368   Linear Action Adventure  ['Linear', 'Action', 'Adventure']   \n",
       "6075         Open-World Action           ['Open-World', 'Action']   \n",
       "7377   Linear Action Adventure  ['Linear', 'Action', 'Adventure']   \n",
       "3212         Open-World Action           ['Open-World', 'Action']   \n",
       "10941                 Survival                       ['Survival']   \n",
       "13152                      FPS                            ['FPS']   \n",
       "6017                Action RPG                  ['Action', 'RPG']   \n",
       "12387              Western RPG                 ['Western', 'RPG']   \n",
       "7232                  Survival                       ['Survival']   \n",
       "\n",
       "                     Product Rating  User Score  User Ratings Count  \\\n",
       "2209               Rated T For Teen         8.5               211.0   \n",
       "11962            Rated M For Mature         9.4              1326.0   \n",
       "9886             Rated M For Mature         8.8              1471.0   \n",
       "6296           Rated E For Everyone         9.1              8711.0   \n",
       "9502               Rated T For Teen         9.0              1416.0   \n",
       "2535           Rated E For Everyone         9.1              1714.0   \n",
       "8016             Rated M For Mature         8.7              2907.0   \n",
       "2436               Rated T For Teen         9.2              2461.0   \n",
       "4817               Rated T For Teen         9.2              1855.0   \n",
       "6884             Rated M For Mature         9.1              9098.0   \n",
       "3739             Rated M For Mature         8.9              2472.0   \n",
       "334                Rated T For Teen         8.9              1815.0   \n",
       "5262               Rated T For Teen         8.9              4712.0   \n",
       "4132             Rated M For Mature         8.3              3273.0   \n",
       "7726               Rated T For Teen         8.8              6648.0   \n",
       "5449             Rated M For Mature         9.0              3187.0   \n",
       "1713               Rated T For Teen         8.4              5642.0   \n",
       "2682             Rated M For Mature         8.4              5355.0   \n",
       "8097             Rated M For Mature         9.2             14920.0   \n",
       "2930             Rated M For Mature         9.2             20141.0   \n",
       "7612             Rated M For Mature         9.2             19581.0   \n",
       "3368               Rated T For Teen         8.8             17412.0   \n",
       "6075   Rated E +10 For Everyone +10         8.8             22216.0   \n",
       "7377             Rated M For Mature         9.1             24855.0   \n",
       "3212             Rated M For Mature         7.4             18746.0   \n",
       "10941            Rated M For Mature         5.8            163419.0   \n",
       "13152              Rated T For Teen         7.8              5863.0   \n",
       "6017             Rated M For Mature         8.0             14265.0   \n",
       "12387            Rated M For Mature         8.9             15511.0   \n",
       "7232             Rated M For Mature         8.4               774.0   \n",
       "\n",
       "                                          Platforms Info  Total rating  \\\n",
       "2209   [{'Platform': 'PC', 'Platform Metascore': '86'...        1793.5   \n",
       "11962  [{'Platform': 'PlayStation', 'Platform Metasco...       12464.4   \n",
       "9886   [{'Platform': 'PC', 'Platform Metascore': '89'...       12944.8   \n",
       "6296   [{'Platform': 'Nintendo 64', 'Platform Metasco...       79270.1   \n",
       "9502   [{'Platform': 'PC', 'Platform Metascore': '92'...       12744.0   \n",
       "2535   [{'Platform': 'Nintendo 64', 'Platform Metasco...       15597.4   \n",
       "8016   [{'Platform': 'PC', 'Platform Metascore': '83'...       25290.9   \n",
       "2436   [{'Platform': 'PC', 'Platform Metascore': '92'...       22641.2   \n",
       "4817   [{'Platform': 'PC', 'Platform Metascore': '88'...       17066.0   \n",
       "6884   [{'Platform': 'PC', 'Platform Metascore': '96'...       82791.8   \n",
       "3739   [{'Platform': 'PlayStation 2', 'Platform Metas...       22000.8   \n",
       "334    [{'Platform': 'Wii', 'Platform Metascore': '95...       16153.5   \n",
       "5262   [{'Platform': 'PC', 'Platform Metascore': '90'...       41936.8   \n",
       "4132   [{'Platform': 'PC', 'Platform Metascore': '86'...       27165.9   \n",
       "7726   [{'Platform': 'PlayStation 3', 'Platform Metas...       58502.4   \n",
       "5449   [{'Platform': 'PlayStation 3', 'Platform Metas...       28683.0   \n",
       "1713   [{'Platform': 'PlayStation 3', 'Platform Metas...       47392.8   \n",
       "2682   [{'Platform': 'PlayStation 3', 'Platform Metas...       44982.0   \n",
       "8097   [{'Platform': 'PlayStation 3', 'Platform Metas...      137264.0   \n",
       "2930   [{'Platform': 'PlayStation 4', 'Platform Metas...      185297.2   \n",
       "7612   [{'Platform': 'PC', 'Platform Metascore': '93'...      180145.2   \n",
       "3368   [{'Platform': 'PlayStation 4', 'Platform Metas...      153225.6   \n",
       "6075   [{'Platform': 'Wii U', 'Platform Metascore': '...      195500.8   \n",
       "7377   [{'Platform': 'PlayStation 4', 'Platform Metas...      226180.5   \n",
       "3212   [{'Platform': 'PlayStation 4', 'Platform Metas...      138720.4   \n",
       "10941  [{'Platform': 'PlayStation 4', 'Platform Metas...      947830.2   \n",
       "13152  [{'Platform': 'PC', 'Platform Metascore': '80'...       45731.4   \n",
       "6017   [{'Platform': 'PC', 'Platform Metascore': '94'...      114120.0   \n",
       "12387  [{'Platform': 'PC', 'Platform Metascore': '96'...      138047.9   \n",
       "7232   [{'Platform': 'PlayStation 5', 'Platform Metas...        6501.6   \n",
       "\n",
       "       Release Year  \n",
       "2209         1995.0  \n",
       "11962        1996.0  \n",
       "9886         1997.0  \n",
       "6296         1998.0  \n",
       "9502         1999.0  \n",
       "2535         2000.0  \n",
       "8016         2001.0  \n",
       "2436         2002.0  \n",
       "4817         2003.0  \n",
       "6884         2004.0  \n",
       "3739         2005.0  \n",
       "334          2006.0  \n",
       "5262         2007.0  \n",
       "4132         2008.0  \n",
       "7726         2009.0  \n",
       "5449         2010.0  \n",
       "1713         2011.0  \n",
       "2682         2012.0  \n",
       "8097         2013.0  \n",
       "2930         2014.0  \n",
       "7612         2015.0  \n",
       "3368         2016.0  \n",
       "6075         2017.0  \n",
       "7377         2018.0  \n",
       "3212         2019.0  \n",
       "10941        2020.0  \n",
       "13152        2021.0  \n",
       "6017         2022.0  \n",
       "12387        2023.0  \n",
       "7232         2024.0  "
      ]
     },
     "execution_count": 34,
     "metadata": {},
     "output_type": "execute_result"
    }
   ],
   "source": [
    "Most_popular_game_each_Year=df.loc[df.groupby(by=['Release Year'])['Total rating'].idxmax()]\n",
    "Most_popular_game_each_Year"
   ]
  },
  {
   "cell_type": "code",
   "execution_count": 35,
   "id": "51fe06fc",
   "metadata": {
    "execution": {
     "iopub.execute_input": "2024-02-13T14:32:35.983241Z",
     "iopub.status.busy": "2024-02-13T14:32:35.982766Z",
     "iopub.status.idle": "2024-02-13T14:32:36.204136Z",
     "shell.execute_reply": "2024-02-13T14:32:36.202928Z"
    },
    "papermill": {
     "duration": 0.248389,
     "end_time": "2024-02-13T14:32:36.207261",
     "exception": false,
     "start_time": "2024-02-13T14:32:35.958872",
     "status": "completed"
    },
    "tags": []
   },
   "outputs": [
    {
     "data": {
      "application/vnd.plotly.v1+json": {
       "config": {
        "plotlyServerURL": "https://plot.ly"
       },
       "data": [
        {
         "alignmentgroup": "True",
         "hovertemplate": "Title=Full Throttle<br>Release Year=%{x}<br>Total rating=%{y}<extra></extra>",
         "legendgroup": "Full Throttle",
         "marker": {
          "color": "#636efa",
          "pattern": {
           "shape": ""
          }
         },
         "name": "Full Throttle",
         "offsetgroup": "Full Throttle",
         "orientation": "v",
         "showlegend": true,
         "textposition": "auto",
         "type": "bar",
         "x": [
          1995
         ],
         "xaxis": "x",
         "y": [
          1793.5
         ],
         "yaxis": "y"
        },
        {
         "alignmentgroup": "True",
         "hovertemplate": "Title=Resident Evil<br>Release Year=%{x}<br>Total rating=%{y}<extra></extra>",
         "legendgroup": "Resident Evil",
         "marker": {
          "color": "#EF553B",
          "pattern": {
           "shape": ""
          }
         },
         "name": "Resident Evil",
         "offsetgroup": "Resident Evil",
         "orientation": "v",
         "showlegend": true,
         "textposition": "auto",
         "type": "bar",
         "x": [
          1996
         ],
         "xaxis": "x",
         "y": [
          12464.4
         ],
         "yaxis": "y"
        },
        {
         "alignmentgroup": "True",
         "hovertemplate": "Title=Fallout<br>Release Year=%{x}<br>Total rating=%{y}<extra></extra>",
         "legendgroup": "Fallout",
         "marker": {
          "color": "#00cc96",
          "pattern": {
           "shape": ""
          }
         },
         "name": "Fallout",
         "offsetgroup": "Fallout",
         "orientation": "v",
         "showlegend": true,
         "textposition": "auto",
         "type": "bar",
         "x": [
          1997
         ],
         "xaxis": "x",
         "y": [
          12944.800000000001
         ],
         "yaxis": "y"
        },
        {
         "alignmentgroup": "True",
         "hovertemplate": "Title=The Legend of Zelda: Ocarina of Time<br>Release Year=%{x}<br>Total rating=%{y}<extra></extra>",
         "legendgroup": "The Legend of Zelda: Ocarina of Time",
         "marker": {
          "color": "#ab63fa",
          "pattern": {
           "shape": ""
          }
         },
         "name": "The Legend of Zelda: Ocarina of Time",
         "offsetgroup": "The Legend of Zelda: Ocarina of Time",
         "orientation": "v",
         "showlegend": true,
         "textposition": "auto",
         "type": "bar",
         "x": [
          1998
         ],
         "xaxis": "x",
         "y": [
          79270.09999999999
         ],
         "yaxis": "y"
        },
        {
         "alignmentgroup": "True",
         "hovertemplate": "Title=Age of Empires II: The Age of Kings<br>Release Year=%{x}<br>Total rating=%{y}<extra></extra>",
         "legendgroup": "Age of Empires II: The Age of Kings",
         "marker": {
          "color": "#FFA15A",
          "pattern": {
           "shape": ""
          }
         },
         "name": "Age of Empires II: The Age of Kings",
         "offsetgroup": "Age of Empires II: The Age of Kings",
         "orientation": "v",
         "showlegend": true,
         "textposition": "auto",
         "type": "bar",
         "x": [
          1999
         ],
         "xaxis": "x",
         "y": [
          12744
         ],
         "yaxis": "y"
        },
        {
         "alignmentgroup": "True",
         "hovertemplate": "Title=The Legend of Zelda: Majora's Mask<br>Release Year=%{x}<br>Total rating=%{y}<extra></extra>",
         "legendgroup": "The Legend of Zelda: Majora's Mask",
         "marker": {
          "color": "#19d3f3",
          "pattern": {
           "shape": ""
          }
         },
         "name": "The Legend of Zelda: Majora's Mask",
         "offsetgroup": "The Legend of Zelda: Majora's Mask",
         "orientation": "v",
         "showlegend": true,
         "textposition": "auto",
         "type": "bar",
         "x": [
          2000
         ],
         "xaxis": "x",
         "y": [
          15597.4
         ],
         "yaxis": "y"
        },
        {
         "alignmentgroup": "True",
         "hovertemplate": "Title=Halo: Combat Evolved<br>Release Year=%{x}<br>Total rating=%{y}<extra></extra>",
         "legendgroup": "Halo: Combat Evolved",
         "marker": {
          "color": "#FF6692",
          "pattern": {
           "shape": ""
          }
         },
         "name": "Halo: Combat Evolved",
         "offsetgroup": "Halo: Combat Evolved",
         "orientation": "v",
         "showlegend": true,
         "textposition": "auto",
         "type": "bar",
         "x": [
          2001
         ],
         "xaxis": "x",
         "y": [
          25290.899999999998
         ],
         "yaxis": "y"
        },
        {
         "alignmentgroup": "True",
         "hovertemplate": "Title=Warcraft III: Reign of Chaos<br>Release Year=%{x}<br>Total rating=%{y}<extra></extra>",
         "legendgroup": "Warcraft III: Reign of Chaos",
         "marker": {
          "color": "#B6E880",
          "pattern": {
           "shape": ""
          }
         },
         "name": "Warcraft III: Reign of Chaos",
         "offsetgroup": "Warcraft III: Reign of Chaos",
         "orientation": "v",
         "showlegend": true,
         "textposition": "auto",
         "type": "bar",
         "x": [
          2002
         ],
         "xaxis": "x",
         "y": [
          22641.199999999997
         ],
         "yaxis": "y"
        },
        {
         "alignmentgroup": "True",
         "hovertemplate": "Title=Warcraft III: The Frozen Throne<br>Release Year=%{x}<br>Total rating=%{y}<extra></extra>",
         "legendgroup": "Warcraft III: The Frozen Throne",
         "marker": {
          "color": "#FF97FF",
          "pattern": {
           "shape": ""
          }
         },
         "name": "Warcraft III: The Frozen Throne",
         "offsetgroup": "Warcraft III: The Frozen Throne",
         "orientation": "v",
         "showlegend": true,
         "textposition": "auto",
         "type": "bar",
         "x": [
          2003
         ],
         "xaxis": "x",
         "y": [
          17066
         ],
         "yaxis": "y"
        },
        {
         "alignmentgroup": "True",
         "hovertemplate": "Title=Half-Life 2<br>Release Year=%{x}<br>Total rating=%{y}<extra></extra>",
         "legendgroup": "Half-Life 2",
         "marker": {
          "color": "#FECB52",
          "pattern": {
           "shape": ""
          }
         },
         "name": "Half-Life 2",
         "offsetgroup": "Half-Life 2",
         "orientation": "v",
         "showlegend": true,
         "textposition": "auto",
         "type": "bar",
         "x": [
          2004
         ],
         "xaxis": "x",
         "y": [
          82791.8
         ],
         "yaxis": "y"
        },
        {
         "alignmentgroup": "True",
         "hovertemplate": "Title=God of War (2005)<br>Release Year=%{x}<br>Total rating=%{y}<extra></extra>",
         "legendgroup": "God of War (2005)",
         "marker": {
          "color": "#636efa",
          "pattern": {
           "shape": ""
          }
         },
         "name": "God of War (2005)",
         "offsetgroup": "God of War (2005)",
         "orientation": "v",
         "showlegend": true,
         "textposition": "auto",
         "type": "bar",
         "x": [
          2005
         ],
         "xaxis": "x",
         "y": [
          22000.8
         ],
         "yaxis": "y"
        },
        {
         "alignmentgroup": "True",
         "hovertemplate": "Title=The Legend of Zelda: Twilight Princess<br>Release Year=%{x}<br>Total rating=%{y}<extra></extra>",
         "legendgroup": "The Legend of Zelda: Twilight Princess",
         "marker": {
          "color": "#EF553B",
          "pattern": {
           "shape": ""
          }
         },
         "name": "The Legend of Zelda: Twilight Princess",
         "offsetgroup": "The Legend of Zelda: Twilight Princess",
         "orientation": "v",
         "showlegend": true,
         "textposition": "auto",
         "type": "bar",
         "x": [
          2006
         ],
         "xaxis": "x",
         "y": [
          16153.5
         ],
         "yaxis": "y"
        },
        {
         "alignmentgroup": "True",
         "hovertemplate": "Title=Portal<br>Release Year=%{x}<br>Total rating=%{y}<extra></extra>",
         "legendgroup": "Portal",
         "marker": {
          "color": "#00cc96",
          "pattern": {
           "shape": ""
          }
         },
         "name": "Portal",
         "offsetgroup": "Portal",
         "orientation": "v",
         "showlegend": true,
         "textposition": "auto",
         "type": "bar",
         "x": [
          2007
         ],
         "xaxis": "x",
         "y": [
          41936.8
         ],
         "yaxis": "y"
        },
        {
         "alignmentgroup": "True",
         "hovertemplate": "Title=The Witcher: Enhanced Edition<br>Release Year=%{x}<br>Total rating=%{y}<extra></extra>",
         "legendgroup": "The Witcher: Enhanced Edition",
         "marker": {
          "color": "#ab63fa",
          "pattern": {
           "shape": ""
          }
         },
         "name": "The Witcher: Enhanced Edition",
         "offsetgroup": "The Witcher: Enhanced Edition",
         "orientation": "v",
         "showlegend": true,
         "textposition": "auto",
         "type": "bar",
         "x": [
          2008
         ],
         "xaxis": "x",
         "y": [
          27165.9
         ],
         "yaxis": "y"
        },
        {
         "alignmentgroup": "True",
         "hovertemplate": "Title=Uncharted 2: Among Thieves<br>Release Year=%{x}<br>Total rating=%{y}<extra></extra>",
         "legendgroup": "Uncharted 2: Among Thieves",
         "marker": {
          "color": "#FFA15A",
          "pattern": {
           "shape": ""
          }
         },
         "name": "Uncharted 2: Among Thieves",
         "offsetgroup": "Uncharted 2: Among Thieves",
         "orientation": "v",
         "showlegend": true,
         "textposition": "auto",
         "type": "bar",
         "x": [
          2009
         ],
         "xaxis": "x",
         "y": [
          58502.4
         ],
         "yaxis": "y"
        },
        {
         "alignmentgroup": "True",
         "hovertemplate": "Title=God of War III<br>Release Year=%{x}<br>Total rating=%{y}<extra></extra>",
         "legendgroup": "God of War III",
         "marker": {
          "color": "#19d3f3",
          "pattern": {
           "shape": ""
          }
         },
         "name": "God of War III",
         "offsetgroup": "God of War III",
         "orientation": "v",
         "showlegend": true,
         "textposition": "auto",
         "type": "bar",
         "x": [
          2010
         ],
         "xaxis": "x",
         "y": [
          28683
         ],
         "yaxis": "y"
        },
        {
         "alignmentgroup": "True",
         "hovertemplate": "Title=Uncharted 3: Drake's Deception<br>Release Year=%{x}<br>Total rating=%{y}<extra></extra>",
         "legendgroup": "Uncharted 3: Drake's Deception",
         "marker": {
          "color": "#FF6692",
          "pattern": {
           "shape": ""
          }
         },
         "name": "Uncharted 3: Drake's Deception",
         "offsetgroup": "Uncharted 3: Drake's Deception",
         "orientation": "v",
         "showlegend": true,
         "textposition": "auto",
         "type": "bar",
         "x": [
          2011
         ],
         "xaxis": "x",
         "y": [
          47392.8
         ],
         "yaxis": "y"
        },
        {
         "alignmentgroup": "True",
         "hovertemplate": "Title=Far Cry 3<br>Release Year=%{x}<br>Total rating=%{y}<extra></extra>",
         "legendgroup": "Far Cry 3",
         "marker": {
          "color": "#B6E880",
          "pattern": {
           "shape": ""
          }
         },
         "name": "Far Cry 3",
         "offsetgroup": "Far Cry 3",
         "orientation": "v",
         "showlegend": true,
         "textposition": "auto",
         "type": "bar",
         "x": [
          2012
         ],
         "xaxis": "x",
         "y": [
          44982
         ],
         "yaxis": "y"
        },
        {
         "alignmentgroup": "True",
         "hovertemplate": "Title=The Last of Us<br>Release Year=%{x}<br>Total rating=%{y}<extra></extra>",
         "legendgroup": "The Last of Us",
         "marker": {
          "color": "#FF97FF",
          "pattern": {
           "shape": ""
          }
         },
         "name": "The Last of Us",
         "offsetgroup": "The Last of Us",
         "orientation": "v",
         "showlegend": true,
         "textposition": "auto",
         "type": "bar",
         "x": [
          2013
         ],
         "xaxis": "x",
         "y": [
          137264
         ],
         "yaxis": "y"
        },
        {
         "alignmentgroup": "True",
         "hovertemplate": "Title=The Last of Us Remastered<br>Release Year=%{x}<br>Total rating=%{y}<extra></extra>",
         "legendgroup": "The Last of Us Remastered",
         "marker": {
          "color": "#FECB52",
          "pattern": {
           "shape": ""
          }
         },
         "name": "The Last of Us Remastered",
         "offsetgroup": "The Last of Us Remastered",
         "orientation": "v",
         "showlegend": true,
         "textposition": "auto",
         "type": "bar",
         "x": [
          2014
         ],
         "xaxis": "x",
         "y": [
          185297.19999999998
         ],
         "yaxis": "y"
        },
        {
         "alignmentgroup": "True",
         "hovertemplate": "Title=The Witcher 3: Wild Hunt<br>Release Year=%{x}<br>Total rating=%{y}<extra></extra>",
         "legendgroup": "The Witcher 3: Wild Hunt",
         "marker": {
          "color": "#636efa",
          "pattern": {
           "shape": ""
          }
         },
         "name": "The Witcher 3: Wild Hunt",
         "offsetgroup": "The Witcher 3: Wild Hunt",
         "orientation": "v",
         "showlegend": true,
         "textposition": "auto",
         "type": "bar",
         "x": [
          2015
         ],
         "xaxis": "x",
         "y": [
          180145.19999999998
         ],
         "yaxis": "y"
        },
        {
         "alignmentgroup": "True",
         "hovertemplate": "Title=Uncharted 4: A Thief's End<br>Release Year=%{x}<br>Total rating=%{y}<extra></extra>",
         "legendgroup": "Uncharted 4: A Thief's End",
         "marker": {
          "color": "#EF553B",
          "pattern": {
           "shape": ""
          }
         },
         "name": "Uncharted 4: A Thief's End",
         "offsetgroup": "Uncharted 4: A Thief's End",
         "orientation": "v",
         "showlegend": true,
         "textposition": "auto",
         "type": "bar",
         "x": [
          2016
         ],
         "xaxis": "x",
         "y": [
          153225.6
         ],
         "yaxis": "y"
        },
        {
         "alignmentgroup": "True",
         "hovertemplate": "Title=The Legend of Zelda: Breath of the Wild<br>Release Year=%{x}<br>Total rating=%{y}<extra></extra>",
         "legendgroup": "The Legend of Zelda: Breath of the Wild",
         "marker": {
          "color": "#00cc96",
          "pattern": {
           "shape": ""
          }
         },
         "name": "The Legend of Zelda: Breath of the Wild",
         "offsetgroup": "The Legend of Zelda: Breath of the Wild",
         "orientation": "v",
         "showlegend": true,
         "textposition": "auto",
         "type": "bar",
         "x": [
          2017
         ],
         "xaxis": "x",
         "y": [
          195500.80000000002
         ],
         "yaxis": "y"
        },
        {
         "alignmentgroup": "True",
         "hovertemplate": "Title=God of War<br>Release Year=%{x}<br>Total rating=%{y}<extra></extra>",
         "legendgroup": "God of War",
         "marker": {
          "color": "#ab63fa",
          "pattern": {
           "shape": ""
          }
         },
         "name": "God of War",
         "offsetgroup": "God of War",
         "orientation": "v",
         "showlegend": true,
         "textposition": "auto",
         "type": "bar",
         "x": [
          2018
         ],
         "xaxis": "x",
         "y": [
          226180.5
         ],
         "yaxis": "y"
        },
        {
         "alignmentgroup": "True",
         "hovertemplate": "Title=Death Stranding<br>Release Year=%{x}<br>Total rating=%{y}<extra></extra>",
         "legendgroup": "Death Stranding",
         "marker": {
          "color": "#FFA15A",
          "pattern": {
           "shape": ""
          }
         },
         "name": "Death Stranding",
         "offsetgroup": "Death Stranding",
         "orientation": "v",
         "showlegend": true,
         "textposition": "auto",
         "type": "bar",
         "x": [
          2019
         ],
         "xaxis": "x",
         "y": [
          138720.4
         ],
         "yaxis": "y"
        },
        {
         "alignmentgroup": "True",
         "hovertemplate": "Title=The Last of Us Part II<br>Release Year=%{x}<br>Total rating=%{y}<extra></extra>",
         "legendgroup": "The Last of Us Part II",
         "marker": {
          "color": "#19d3f3",
          "pattern": {
           "shape": ""
          }
         },
         "name": "The Last of Us Part II",
         "offsetgroup": "The Last of Us Part II",
         "orientation": "v",
         "showlegend": true,
         "textposition": "auto",
         "type": "bar",
         "x": [
          2020
         ],
         "xaxis": "x",
         "y": [
          947830.2
         ],
         "yaxis": "y"
        },
        {
         "alignmentgroup": "True",
         "hovertemplate": "Title=Halo Infinite<br>Release Year=%{x}<br>Total rating=%{y}<extra></extra>",
         "legendgroup": "Halo Infinite",
         "marker": {
          "color": "#FF6692",
          "pattern": {
           "shape": ""
          }
         },
         "name": "Halo Infinite",
         "offsetgroup": "Halo Infinite",
         "orientation": "v",
         "showlegend": true,
         "textposition": "auto",
         "type": "bar",
         "x": [
          2021
         ],
         "xaxis": "x",
         "y": [
          45731.4
         ],
         "yaxis": "y"
        },
        {
         "alignmentgroup": "True",
         "hovertemplate": "Title=Elden Ring<br>Release Year=%{x}<br>Total rating=%{y}<extra></extra>",
         "legendgroup": "Elden Ring",
         "marker": {
          "color": "#B6E880",
          "pattern": {
           "shape": ""
          }
         },
         "name": "Elden Ring",
         "offsetgroup": "Elden Ring",
         "orientation": "v",
         "showlegend": true,
         "textposition": "auto",
         "type": "bar",
         "x": [
          2022
         ],
         "xaxis": "x",
         "y": [
          114120
         ],
         "yaxis": "y"
        },
        {
         "alignmentgroup": "True",
         "hovertemplate": "Title=Baldur's Gate 3<br>Release Year=%{x}<br>Total rating=%{y}<extra></extra>",
         "legendgroup": "Baldur's Gate 3",
         "marker": {
          "color": "#FF97FF",
          "pattern": {
           "shape": ""
          }
         },
         "name": "Baldur's Gate 3",
         "offsetgroup": "Baldur's Gate 3",
         "orientation": "v",
         "showlegend": true,
         "textposition": "auto",
         "type": "bar",
         "x": [
          2023
         ],
         "xaxis": "x",
         "y": [
          138047.9
         ],
         "yaxis": "y"
        },
        {
         "alignmentgroup": "True",
         "hovertemplate": "Title=The Last of Us Part II Remastered<br>Release Year=%{x}<br>Total rating=%{y}<extra></extra>",
         "legendgroup": "The Last of Us Part II Remastered",
         "marker": {
          "color": "#FECB52",
          "pattern": {
           "shape": ""
          }
         },
         "name": "The Last of Us Part II Remastered",
         "offsetgroup": "The Last of Us Part II Remastered",
         "orientation": "v",
         "showlegend": true,
         "textposition": "auto",
         "type": "bar",
         "x": [
          2024
         ],
         "xaxis": "x",
         "y": [
          6501.6
         ],
         "yaxis": "y"
        }
       ],
       "layout": {
        "barmode": "relative",
        "legend": {
         "title": {
          "text": "Title"
         },
         "tracegroupgap": 0
        },
        "template": {
         "data": {
          "bar": [
           {
            "error_x": {
             "color": "#2a3f5f"
            },
            "error_y": {
             "color": "#2a3f5f"
            },
            "marker": {
             "line": {
              "color": "#E5ECF6",
              "width": 0.5
             },
             "pattern": {
              "fillmode": "overlay",
              "size": 10,
              "solidity": 0.2
             }
            },
            "type": "bar"
           }
          ],
          "barpolar": [
           {
            "marker": {
             "line": {
              "color": "#E5ECF6",
              "width": 0.5
             },
             "pattern": {
              "fillmode": "overlay",
              "size": 10,
              "solidity": 0.2
             }
            },
            "type": "barpolar"
           }
          ],
          "carpet": [
           {
            "aaxis": {
             "endlinecolor": "#2a3f5f",
             "gridcolor": "white",
             "linecolor": "white",
             "minorgridcolor": "white",
             "startlinecolor": "#2a3f5f"
            },
            "baxis": {
             "endlinecolor": "#2a3f5f",
             "gridcolor": "white",
             "linecolor": "white",
             "minorgridcolor": "white",
             "startlinecolor": "#2a3f5f"
            },
            "type": "carpet"
           }
          ],
          "choropleth": [
           {
            "colorbar": {
             "outlinewidth": 0,
             "ticks": ""
            },
            "type": "choropleth"
           }
          ],
          "contour": [
           {
            "colorbar": {
             "outlinewidth": 0,
             "ticks": ""
            },
            "colorscale": [
             [
              0,
              "#0d0887"
             ],
             [
              0.1111111111111111,
              "#46039f"
             ],
             [
              0.2222222222222222,
              "#7201a8"
             ],
             [
              0.3333333333333333,
              "#9c179e"
             ],
             [
              0.4444444444444444,
              "#bd3786"
             ],
             [
              0.5555555555555556,
              "#d8576b"
             ],
             [
              0.6666666666666666,
              "#ed7953"
             ],
             [
              0.7777777777777778,
              "#fb9f3a"
             ],
             [
              0.8888888888888888,
              "#fdca26"
             ],
             [
              1,
              "#f0f921"
             ]
            ],
            "type": "contour"
           }
          ],
          "contourcarpet": [
           {
            "colorbar": {
             "outlinewidth": 0,
             "ticks": ""
            },
            "type": "contourcarpet"
           }
          ],
          "heatmap": [
           {
            "colorbar": {
             "outlinewidth": 0,
             "ticks": ""
            },
            "colorscale": [
             [
              0,
              "#0d0887"
             ],
             [
              0.1111111111111111,
              "#46039f"
             ],
             [
              0.2222222222222222,
              "#7201a8"
             ],
             [
              0.3333333333333333,
              "#9c179e"
             ],
             [
              0.4444444444444444,
              "#bd3786"
             ],
             [
              0.5555555555555556,
              "#d8576b"
             ],
             [
              0.6666666666666666,
              "#ed7953"
             ],
             [
              0.7777777777777778,
              "#fb9f3a"
             ],
             [
              0.8888888888888888,
              "#fdca26"
             ],
             [
              1,
              "#f0f921"
             ]
            ],
            "type": "heatmap"
           }
          ],
          "heatmapgl": [
           {
            "colorbar": {
             "outlinewidth": 0,
             "ticks": ""
            },
            "colorscale": [
             [
              0,
              "#0d0887"
             ],
             [
              0.1111111111111111,
              "#46039f"
             ],
             [
              0.2222222222222222,
              "#7201a8"
             ],
             [
              0.3333333333333333,
              "#9c179e"
             ],
             [
              0.4444444444444444,
              "#bd3786"
             ],
             [
              0.5555555555555556,
              "#d8576b"
             ],
             [
              0.6666666666666666,
              "#ed7953"
             ],
             [
              0.7777777777777778,
              "#fb9f3a"
             ],
             [
              0.8888888888888888,
              "#fdca26"
             ],
             [
              1,
              "#f0f921"
             ]
            ],
            "type": "heatmapgl"
           }
          ],
          "histogram": [
           {
            "marker": {
             "pattern": {
              "fillmode": "overlay",
              "size": 10,
              "solidity": 0.2
             }
            },
            "type": "histogram"
           }
          ],
          "histogram2d": [
           {
            "colorbar": {
             "outlinewidth": 0,
             "ticks": ""
            },
            "colorscale": [
             [
              0,
              "#0d0887"
             ],
             [
              0.1111111111111111,
              "#46039f"
             ],
             [
              0.2222222222222222,
              "#7201a8"
             ],
             [
              0.3333333333333333,
              "#9c179e"
             ],
             [
              0.4444444444444444,
              "#bd3786"
             ],
             [
              0.5555555555555556,
              "#d8576b"
             ],
             [
              0.6666666666666666,
              "#ed7953"
             ],
             [
              0.7777777777777778,
              "#fb9f3a"
             ],
             [
              0.8888888888888888,
              "#fdca26"
             ],
             [
              1,
              "#f0f921"
             ]
            ],
            "type": "histogram2d"
           }
          ],
          "histogram2dcontour": [
           {
            "colorbar": {
             "outlinewidth": 0,
             "ticks": ""
            },
            "colorscale": [
             [
              0,
              "#0d0887"
             ],
             [
              0.1111111111111111,
              "#46039f"
             ],
             [
              0.2222222222222222,
              "#7201a8"
             ],
             [
              0.3333333333333333,
              "#9c179e"
             ],
             [
              0.4444444444444444,
              "#bd3786"
             ],
             [
              0.5555555555555556,
              "#d8576b"
             ],
             [
              0.6666666666666666,
              "#ed7953"
             ],
             [
              0.7777777777777778,
              "#fb9f3a"
             ],
             [
              0.8888888888888888,
              "#fdca26"
             ],
             [
              1,
              "#f0f921"
             ]
            ],
            "type": "histogram2dcontour"
           }
          ],
          "mesh3d": [
           {
            "colorbar": {
             "outlinewidth": 0,
             "ticks": ""
            },
            "type": "mesh3d"
           }
          ],
          "parcoords": [
           {
            "line": {
             "colorbar": {
              "outlinewidth": 0,
              "ticks": ""
             }
            },
            "type": "parcoords"
           }
          ],
          "pie": [
           {
            "automargin": true,
            "type": "pie"
           }
          ],
          "scatter": [
           {
            "fillpattern": {
             "fillmode": "overlay",
             "size": 10,
             "solidity": 0.2
            },
            "type": "scatter"
           }
          ],
          "scatter3d": [
           {
            "line": {
             "colorbar": {
              "outlinewidth": 0,
              "ticks": ""
             }
            },
            "marker": {
             "colorbar": {
              "outlinewidth": 0,
              "ticks": ""
             }
            },
            "type": "scatter3d"
           }
          ],
          "scattercarpet": [
           {
            "marker": {
             "colorbar": {
              "outlinewidth": 0,
              "ticks": ""
             }
            },
            "type": "scattercarpet"
           }
          ],
          "scattergeo": [
           {
            "marker": {
             "colorbar": {
              "outlinewidth": 0,
              "ticks": ""
             }
            },
            "type": "scattergeo"
           }
          ],
          "scattergl": [
           {
            "marker": {
             "colorbar": {
              "outlinewidth": 0,
              "ticks": ""
             }
            },
            "type": "scattergl"
           }
          ],
          "scattermapbox": [
           {
            "marker": {
             "colorbar": {
              "outlinewidth": 0,
              "ticks": ""
             }
            },
            "type": "scattermapbox"
           }
          ],
          "scatterpolar": [
           {
            "marker": {
             "colorbar": {
              "outlinewidth": 0,
              "ticks": ""
             }
            },
            "type": "scatterpolar"
           }
          ],
          "scatterpolargl": [
           {
            "marker": {
             "colorbar": {
              "outlinewidth": 0,
              "ticks": ""
             }
            },
            "type": "scatterpolargl"
           }
          ],
          "scatterternary": [
           {
            "marker": {
             "colorbar": {
              "outlinewidth": 0,
              "ticks": ""
             }
            },
            "type": "scatterternary"
           }
          ],
          "surface": [
           {
            "colorbar": {
             "outlinewidth": 0,
             "ticks": ""
            },
            "colorscale": [
             [
              0,
              "#0d0887"
             ],
             [
              0.1111111111111111,
              "#46039f"
             ],
             [
              0.2222222222222222,
              "#7201a8"
             ],
             [
              0.3333333333333333,
              "#9c179e"
             ],
             [
              0.4444444444444444,
              "#bd3786"
             ],
             [
              0.5555555555555556,
              "#d8576b"
             ],
             [
              0.6666666666666666,
              "#ed7953"
             ],
             [
              0.7777777777777778,
              "#fb9f3a"
             ],
             [
              0.8888888888888888,
              "#fdca26"
             ],
             [
              1,
              "#f0f921"
             ]
            ],
            "type": "surface"
           }
          ],
          "table": [
           {
            "cells": {
             "fill": {
              "color": "#EBF0F8"
             },
             "line": {
              "color": "white"
             }
            },
            "header": {
             "fill": {
              "color": "#C8D4E3"
             },
             "line": {
              "color": "white"
             }
            },
            "type": "table"
           }
          ]
         },
         "layout": {
          "annotationdefaults": {
           "arrowcolor": "#2a3f5f",
           "arrowhead": 0,
           "arrowwidth": 1
          },
          "autotypenumbers": "strict",
          "coloraxis": {
           "colorbar": {
            "outlinewidth": 0,
            "ticks": ""
           }
          },
          "colorscale": {
           "diverging": [
            [
             0,
             "#8e0152"
            ],
            [
             0.1,
             "#c51b7d"
            ],
            [
             0.2,
             "#de77ae"
            ],
            [
             0.3,
             "#f1b6da"
            ],
            [
             0.4,
             "#fde0ef"
            ],
            [
             0.5,
             "#f7f7f7"
            ],
            [
             0.6,
             "#e6f5d0"
            ],
            [
             0.7,
             "#b8e186"
            ],
            [
             0.8,
             "#7fbc41"
            ],
            [
             0.9,
             "#4d9221"
            ],
            [
             1,
             "#276419"
            ]
           ],
           "sequential": [
            [
             0,
             "#0d0887"
            ],
            [
             0.1111111111111111,
             "#46039f"
            ],
            [
             0.2222222222222222,
             "#7201a8"
            ],
            [
             0.3333333333333333,
             "#9c179e"
            ],
            [
             0.4444444444444444,
             "#bd3786"
            ],
            [
             0.5555555555555556,
             "#d8576b"
            ],
            [
             0.6666666666666666,
             "#ed7953"
            ],
            [
             0.7777777777777778,
             "#fb9f3a"
            ],
            [
             0.8888888888888888,
             "#fdca26"
            ],
            [
             1,
             "#f0f921"
            ]
           ],
           "sequentialminus": [
            [
             0,
             "#0d0887"
            ],
            [
             0.1111111111111111,
             "#46039f"
            ],
            [
             0.2222222222222222,
             "#7201a8"
            ],
            [
             0.3333333333333333,
             "#9c179e"
            ],
            [
             0.4444444444444444,
             "#bd3786"
            ],
            [
             0.5555555555555556,
             "#d8576b"
            ],
            [
             0.6666666666666666,
             "#ed7953"
            ],
            [
             0.7777777777777778,
             "#fb9f3a"
            ],
            [
             0.8888888888888888,
             "#fdca26"
            ],
            [
             1,
             "#f0f921"
            ]
           ]
          },
          "colorway": [
           "#636efa",
           "#EF553B",
           "#00cc96",
           "#ab63fa",
           "#FFA15A",
           "#19d3f3",
           "#FF6692",
           "#B6E880",
           "#FF97FF",
           "#FECB52"
          ],
          "font": {
           "color": "#2a3f5f"
          },
          "geo": {
           "bgcolor": "white",
           "lakecolor": "white",
           "landcolor": "#E5ECF6",
           "showlakes": true,
           "showland": true,
           "subunitcolor": "white"
          },
          "hoverlabel": {
           "align": "left"
          },
          "hovermode": "closest",
          "mapbox": {
           "style": "light"
          },
          "paper_bgcolor": "white",
          "plot_bgcolor": "#E5ECF6",
          "polar": {
           "angularaxis": {
            "gridcolor": "white",
            "linecolor": "white",
            "ticks": ""
           },
           "bgcolor": "#E5ECF6",
           "radialaxis": {
            "gridcolor": "white",
            "linecolor": "white",
            "ticks": ""
           }
          },
          "scene": {
           "xaxis": {
            "backgroundcolor": "#E5ECF6",
            "gridcolor": "white",
            "gridwidth": 2,
            "linecolor": "white",
            "showbackground": true,
            "ticks": "",
            "zerolinecolor": "white"
           },
           "yaxis": {
            "backgroundcolor": "#E5ECF6",
            "gridcolor": "white",
            "gridwidth": 2,
            "linecolor": "white",
            "showbackground": true,
            "ticks": "",
            "zerolinecolor": "white"
           },
           "zaxis": {
            "backgroundcolor": "#E5ECF6",
            "gridcolor": "white",
            "gridwidth": 2,
            "linecolor": "white",
            "showbackground": true,
            "ticks": "",
            "zerolinecolor": "white"
           }
          },
          "shapedefaults": {
           "line": {
            "color": "#2a3f5f"
           }
          },
          "ternary": {
           "aaxis": {
            "gridcolor": "white",
            "linecolor": "white",
            "ticks": ""
           },
           "baxis": {
            "gridcolor": "white",
            "linecolor": "white",
            "ticks": ""
           },
           "bgcolor": "#E5ECF6",
           "caxis": {
            "gridcolor": "white",
            "linecolor": "white",
            "ticks": ""
           }
          },
          "title": {
           "x": 0.05
          },
          "xaxis": {
           "automargin": true,
           "gridcolor": "white",
           "linecolor": "white",
           "ticks": "",
           "title": {
            "standoff": 15
           },
           "zerolinecolor": "white",
           "zerolinewidth": 2
          },
          "yaxis": {
           "automargin": true,
           "gridcolor": "white",
           "linecolor": "white",
           "ticks": "",
           "title": {
            "standoff": 15
           },
           "zerolinecolor": "white",
           "zerolinewidth": 2
          }
         }
        },
        "title": {
         "text": "Most Popular Game over the Years"
        },
        "xaxis": {
         "anchor": "y",
         "domain": [
          0,
          1
         ],
         "tickmode": "linear",
         "title": {
          "text": "Release Year"
         }
        },
        "yaxis": {
         "anchor": "x",
         "domain": [
          0,
          1
         ],
         "title": {
          "text": "Total rating"
         }
        }
       }
      }
     },
     "metadata": {},
     "output_type": "display_data"
    }
   ],
   "source": [
    "fig=px.bar(Most_popular_game_each_Year,x='Release Year',y='Total rating',color='Title',title='Most Popular Game over the Years')\n",
    "fig.update_layout(xaxis=dict(tickmode='linear'))\n",
    "fig.show(render='iframe')"
   ]
  },
  {
   "cell_type": "code",
   "execution_count": 36,
   "id": "3fe1c296",
   "metadata": {
    "execution": {
     "iopub.execute_input": "2024-02-13T14:32:36.253715Z",
     "iopub.status.busy": "2024-02-13T14:32:36.253281Z",
     "iopub.status.idle": "2024-02-13T14:32:36.372567Z",
     "shell.execute_reply": "2024-02-13T14:32:36.371612Z"
    },
    "papermill": {
     "duration": 0.145416,
     "end_time": "2024-02-13T14:32:36.375014",
     "exception": false,
     "start_time": "2024-02-13T14:32:36.229598",
     "status": "completed"
    },
    "tags": []
   },
   "outputs": [
    {
     "data": {
      "application/vnd.plotly.v1+json": {
       "config": {
        "plotlyServerURL": "https://plot.ly"
       },
       "data": [
        {
         "hovertemplate": "<b>%{hovertext}</b><br><br>Genres=Point-and-Click<br>Release Year=%{x}<br>Total rating=%{marker.size}<extra></extra>",
         "hovertext": [
          "Full Throttle"
         ],
         "legendgroup": "Point-and-Click",
         "marker": {
          "color": "#636efa",
          "size": [
           1793.5
          ],
          "sizemode": "area",
          "sizeref": 263.28616666666665,
          "symbol": "circle"
         },
         "mode": "markers",
         "name": "Point-and-Click",
         "orientation": "v",
         "showlegend": true,
         "type": "scatter",
         "x": [
          1995
         ],
         "xaxis": "x",
         "y": [
          1793.5
         ],
         "yaxis": "y"
        },
        {
         "hovertemplate": "<b>%{hovertext}</b><br><br>Genres=Survival<br>Release Year=%{x}<br>Total rating=%{marker.size}<extra></extra>",
         "hovertext": [
          "Resident Evil",
          "The Last of Us Part II",
          "The Last of Us Part II Remastered"
         ],
         "legendgroup": "Survival",
         "marker": {
          "color": "#EF553B",
          "size": [
           12464.4,
           947830.2,
           6501.6
          ],
          "sizemode": "area",
          "sizeref": 263.28616666666665,
          "symbol": "circle"
         },
         "mode": "markers",
         "name": "Survival",
         "orientation": "v",
         "showlegend": true,
         "type": "scatter",
         "x": [
          1996,
          2020,
          2024
         ],
         "xaxis": "x",
         "y": [
          12464.4,
          947830.2,
          6501.6
         ],
         "yaxis": "y"
        },
        {
         "hovertemplate": "<b>%{hovertext}</b><br><br>Genres=Western RPG<br>Release Year=%{x}<br>Total rating=%{marker.size}<extra></extra>",
         "hovertext": [
          "Fallout",
          "Baldur's Gate 3"
         ],
         "legendgroup": "Western RPG",
         "marker": {
          "color": "#00cc96",
          "size": [
           12944.800000000001,
           138047.9
          ],
          "sizemode": "area",
          "sizeref": 263.28616666666665,
          "symbol": "circle"
         },
         "mode": "markers",
         "name": "Western RPG",
         "orientation": "v",
         "showlegend": true,
         "type": "scatter",
         "x": [
          1997,
          2023
         ],
         "xaxis": "x",
         "y": [
          12944.800000000001,
          138047.9
         ],
         "yaxis": "y"
        },
        {
         "hovertemplate": "<b>%{hovertext}</b><br><br>Genres=Open-World Action<br>Release Year=%{x}<br>Total rating=%{marker.size}<extra></extra>",
         "hovertext": [
          "The Legend of Zelda: Ocarina of Time",
          "The Legend of Zelda: Majora's Mask",
          "The Legend of Zelda: Twilight Princess",
          "The Legend of Zelda: Breath of the Wild",
          "Death Stranding"
         ],
         "legendgroup": "Open-World Action",
         "marker": {
          "color": "#ab63fa",
          "size": [
           79270.09999999999,
           15597.4,
           16153.5,
           195500.80000000002,
           138720.4
          ],
          "sizemode": "area",
          "sizeref": 263.28616666666665,
          "symbol": "circle"
         },
         "mode": "markers",
         "name": "Open-World Action",
         "orientation": "v",
         "showlegend": true,
         "type": "scatter",
         "x": [
          1998,
          2000,
          2006,
          2017,
          2019
         ],
         "xaxis": "x",
         "y": [
          79270.09999999999,
          15597.4,
          16153.5,
          195500.80000000002,
          138720.4
         ],
         "yaxis": "y"
        },
        {
         "hovertemplate": "<b>%{hovertext}</b><br><br>Genres=Command RTS<br>Release Year=%{x}<br>Total rating=%{marker.size}<extra></extra>",
         "hovertext": [
          "Age of Empires II: The Age of Kings"
         ],
         "legendgroup": "Command RTS",
         "marker": {
          "color": "#FFA15A",
          "size": [
           12744
          ],
          "sizemode": "area",
          "sizeref": 263.28616666666665,
          "symbol": "circle"
         },
         "mode": "markers",
         "name": "Command RTS",
         "orientation": "v",
         "showlegend": true,
         "type": "scatter",
         "x": [
          1999
         ],
         "xaxis": "x",
         "y": [
          12744
         ],
         "yaxis": "y"
        },
        {
         "hovertemplate": "<b>%{hovertext}</b><br><br>Genres=FPS<br>Release Year=%{x}<br>Total rating=%{marker.size}<extra></extra>",
         "hovertext": [
          "Halo: Combat Evolved",
          "Half-Life 2",
          "Portal",
          "Far Cry 3",
          "Halo Infinite"
         ],
         "legendgroup": "FPS",
         "marker": {
          "color": "#19d3f3",
          "size": [
           25290.899999999998,
           82791.8,
           41936.8,
           44982,
           45731.4
          ],
          "sizemode": "area",
          "sizeref": 263.28616666666665,
          "symbol": "circle"
         },
         "mode": "markers",
         "name": "FPS",
         "orientation": "v",
         "showlegend": true,
         "type": "scatter",
         "x": [
          2001,
          2004,
          2007,
          2012,
          2021
         ],
         "xaxis": "x",
         "y": [
          25290.899999999998,
          82791.8,
          41936.8,
          44982,
          45731.4
         ],
         "yaxis": "y"
        },
        {
         "hovertemplate": "<b>%{hovertext}</b><br><br>Genres=Real-Time Strategy<br>Release Year=%{x}<br>Total rating=%{marker.size}<extra></extra>",
         "hovertext": [
          "Warcraft III: Reign of Chaos",
          "Warcraft III: The Frozen Throne"
         ],
         "legendgroup": "Real-Time Strategy",
         "marker": {
          "color": "#FF6692",
          "size": [
           22641.199999999997,
           17066
          ],
          "sizemode": "area",
          "sizeref": 263.28616666666665,
          "symbol": "circle"
         },
         "mode": "markers",
         "name": "Real-Time Strategy",
         "orientation": "v",
         "showlegend": true,
         "type": "scatter",
         "x": [
          2002,
          2003
         ],
         "xaxis": "x",
         "y": [
          22641.199999999997,
          17066
         ],
         "yaxis": "y"
        },
        {
         "hovertemplate": "<b>%{hovertext}</b><br><br>Genres=Linear Action Adventure<br>Release Year=%{x}<br>Total rating=%{marker.size}<extra></extra>",
         "hovertext": [
          "God of War (2005)",
          "Uncharted 2: Among Thieves",
          "God of War III",
          "Uncharted 3: Drake's Deception",
          "The Last of Us",
          "The Last of Us Remastered",
          "Uncharted 4: A Thief's End",
          "God of War"
         ],
         "legendgroup": "Linear Action Adventure",
         "marker": {
          "color": "#B6E880",
          "size": [
           22000.8,
           58502.4,
           28683,
           47392.8,
           137264,
           185297.19999999998,
           153225.6,
           226180.5
          ],
          "sizemode": "area",
          "sizeref": 263.28616666666665,
          "symbol": "circle"
         },
         "mode": "markers",
         "name": "Linear Action Adventure",
         "orientation": "v",
         "showlegend": true,
         "type": "scatter",
         "x": [
          2005,
          2009,
          2010,
          2011,
          2013,
          2014,
          2016,
          2018
         ],
         "xaxis": "x",
         "y": [
          22000.8,
          58502.4,
          28683,
          47392.8,
          137264,
          185297.19999999998,
          153225.6,
          226180.5
         ],
         "yaxis": "y"
        },
        {
         "hovertemplate": "<b>%{hovertext}</b><br><br>Genres=Action RPG<br>Release Year=%{x}<br>Total rating=%{marker.size}<extra></extra>",
         "hovertext": [
          "The Witcher: Enhanced Edition",
          "The Witcher 3: Wild Hunt",
          "Elden Ring"
         ],
         "legendgroup": "Action RPG",
         "marker": {
          "color": "#FF97FF",
          "size": [
           27165.9,
           180145.19999999998,
           114120
          ],
          "sizemode": "area",
          "sizeref": 263.28616666666665,
          "symbol": "circle"
         },
         "mode": "markers",
         "name": "Action RPG",
         "orientation": "v",
         "showlegend": true,
         "type": "scatter",
         "x": [
          2008,
          2015,
          2022
         ],
         "xaxis": "x",
         "y": [
          27165.9,
          180145.19999999998,
          114120
         ],
         "yaxis": "y"
        }
       ],
       "layout": {
        "legend": {
         "itemsizing": "constant",
         "title": {
          "text": "Genres"
         },
         "tracegroupgap": 0
        },
        "template": {
         "data": {
          "bar": [
           {
            "error_x": {
             "color": "#2a3f5f"
            },
            "error_y": {
             "color": "#2a3f5f"
            },
            "marker": {
             "line": {
              "color": "#E5ECF6",
              "width": 0.5
             },
             "pattern": {
              "fillmode": "overlay",
              "size": 10,
              "solidity": 0.2
             }
            },
            "type": "bar"
           }
          ],
          "barpolar": [
           {
            "marker": {
             "line": {
              "color": "#E5ECF6",
              "width": 0.5
             },
             "pattern": {
              "fillmode": "overlay",
              "size": 10,
              "solidity": 0.2
             }
            },
            "type": "barpolar"
           }
          ],
          "carpet": [
           {
            "aaxis": {
             "endlinecolor": "#2a3f5f",
             "gridcolor": "white",
             "linecolor": "white",
             "minorgridcolor": "white",
             "startlinecolor": "#2a3f5f"
            },
            "baxis": {
             "endlinecolor": "#2a3f5f",
             "gridcolor": "white",
             "linecolor": "white",
             "minorgridcolor": "white",
             "startlinecolor": "#2a3f5f"
            },
            "type": "carpet"
           }
          ],
          "choropleth": [
           {
            "colorbar": {
             "outlinewidth": 0,
             "ticks": ""
            },
            "type": "choropleth"
           }
          ],
          "contour": [
           {
            "colorbar": {
             "outlinewidth": 0,
             "ticks": ""
            },
            "colorscale": [
             [
              0,
              "#0d0887"
             ],
             [
              0.1111111111111111,
              "#46039f"
             ],
             [
              0.2222222222222222,
              "#7201a8"
             ],
             [
              0.3333333333333333,
              "#9c179e"
             ],
             [
              0.4444444444444444,
              "#bd3786"
             ],
             [
              0.5555555555555556,
              "#d8576b"
             ],
             [
              0.6666666666666666,
              "#ed7953"
             ],
             [
              0.7777777777777778,
              "#fb9f3a"
             ],
             [
              0.8888888888888888,
              "#fdca26"
             ],
             [
              1,
              "#f0f921"
             ]
            ],
            "type": "contour"
           }
          ],
          "contourcarpet": [
           {
            "colorbar": {
             "outlinewidth": 0,
             "ticks": ""
            },
            "type": "contourcarpet"
           }
          ],
          "heatmap": [
           {
            "colorbar": {
             "outlinewidth": 0,
             "ticks": ""
            },
            "colorscale": [
             [
              0,
              "#0d0887"
             ],
             [
              0.1111111111111111,
              "#46039f"
             ],
             [
              0.2222222222222222,
              "#7201a8"
             ],
             [
              0.3333333333333333,
              "#9c179e"
             ],
             [
              0.4444444444444444,
              "#bd3786"
             ],
             [
              0.5555555555555556,
              "#d8576b"
             ],
             [
              0.6666666666666666,
              "#ed7953"
             ],
             [
              0.7777777777777778,
              "#fb9f3a"
             ],
             [
              0.8888888888888888,
              "#fdca26"
             ],
             [
              1,
              "#f0f921"
             ]
            ],
            "type": "heatmap"
           }
          ],
          "heatmapgl": [
           {
            "colorbar": {
             "outlinewidth": 0,
             "ticks": ""
            },
            "colorscale": [
             [
              0,
              "#0d0887"
             ],
             [
              0.1111111111111111,
              "#46039f"
             ],
             [
              0.2222222222222222,
              "#7201a8"
             ],
             [
              0.3333333333333333,
              "#9c179e"
             ],
             [
              0.4444444444444444,
              "#bd3786"
             ],
             [
              0.5555555555555556,
              "#d8576b"
             ],
             [
              0.6666666666666666,
              "#ed7953"
             ],
             [
              0.7777777777777778,
              "#fb9f3a"
             ],
             [
              0.8888888888888888,
              "#fdca26"
             ],
             [
              1,
              "#f0f921"
             ]
            ],
            "type": "heatmapgl"
           }
          ],
          "histogram": [
           {
            "marker": {
             "pattern": {
              "fillmode": "overlay",
              "size": 10,
              "solidity": 0.2
             }
            },
            "type": "histogram"
           }
          ],
          "histogram2d": [
           {
            "colorbar": {
             "outlinewidth": 0,
             "ticks": ""
            },
            "colorscale": [
             [
              0,
              "#0d0887"
             ],
             [
              0.1111111111111111,
              "#46039f"
             ],
             [
              0.2222222222222222,
              "#7201a8"
             ],
             [
              0.3333333333333333,
              "#9c179e"
             ],
             [
              0.4444444444444444,
              "#bd3786"
             ],
             [
              0.5555555555555556,
              "#d8576b"
             ],
             [
              0.6666666666666666,
              "#ed7953"
             ],
             [
              0.7777777777777778,
              "#fb9f3a"
             ],
             [
              0.8888888888888888,
              "#fdca26"
             ],
             [
              1,
              "#f0f921"
             ]
            ],
            "type": "histogram2d"
           }
          ],
          "histogram2dcontour": [
           {
            "colorbar": {
             "outlinewidth": 0,
             "ticks": ""
            },
            "colorscale": [
             [
              0,
              "#0d0887"
             ],
             [
              0.1111111111111111,
              "#46039f"
             ],
             [
              0.2222222222222222,
              "#7201a8"
             ],
             [
              0.3333333333333333,
              "#9c179e"
             ],
             [
              0.4444444444444444,
              "#bd3786"
             ],
             [
              0.5555555555555556,
              "#d8576b"
             ],
             [
              0.6666666666666666,
              "#ed7953"
             ],
             [
              0.7777777777777778,
              "#fb9f3a"
             ],
             [
              0.8888888888888888,
              "#fdca26"
             ],
             [
              1,
              "#f0f921"
             ]
            ],
            "type": "histogram2dcontour"
           }
          ],
          "mesh3d": [
           {
            "colorbar": {
             "outlinewidth": 0,
             "ticks": ""
            },
            "type": "mesh3d"
           }
          ],
          "parcoords": [
           {
            "line": {
             "colorbar": {
              "outlinewidth": 0,
              "ticks": ""
             }
            },
            "type": "parcoords"
           }
          ],
          "pie": [
           {
            "automargin": true,
            "type": "pie"
           }
          ],
          "scatter": [
           {
            "fillpattern": {
             "fillmode": "overlay",
             "size": 10,
             "solidity": 0.2
            },
            "type": "scatter"
           }
          ],
          "scatter3d": [
           {
            "line": {
             "colorbar": {
              "outlinewidth": 0,
              "ticks": ""
             }
            },
            "marker": {
             "colorbar": {
              "outlinewidth": 0,
              "ticks": ""
             }
            },
            "type": "scatter3d"
           }
          ],
          "scattercarpet": [
           {
            "marker": {
             "colorbar": {
              "outlinewidth": 0,
              "ticks": ""
             }
            },
            "type": "scattercarpet"
           }
          ],
          "scattergeo": [
           {
            "marker": {
             "colorbar": {
              "outlinewidth": 0,
              "ticks": ""
             }
            },
            "type": "scattergeo"
           }
          ],
          "scattergl": [
           {
            "marker": {
             "colorbar": {
              "outlinewidth": 0,
              "ticks": ""
             }
            },
            "type": "scattergl"
           }
          ],
          "scattermapbox": [
           {
            "marker": {
             "colorbar": {
              "outlinewidth": 0,
              "ticks": ""
             }
            },
            "type": "scattermapbox"
           }
          ],
          "scatterpolar": [
           {
            "marker": {
             "colorbar": {
              "outlinewidth": 0,
              "ticks": ""
             }
            },
            "type": "scatterpolar"
           }
          ],
          "scatterpolargl": [
           {
            "marker": {
             "colorbar": {
              "outlinewidth": 0,
              "ticks": ""
             }
            },
            "type": "scatterpolargl"
           }
          ],
          "scatterternary": [
           {
            "marker": {
             "colorbar": {
              "outlinewidth": 0,
              "ticks": ""
             }
            },
            "type": "scatterternary"
           }
          ],
          "surface": [
           {
            "colorbar": {
             "outlinewidth": 0,
             "ticks": ""
            },
            "colorscale": [
             [
              0,
              "#0d0887"
             ],
             [
              0.1111111111111111,
              "#46039f"
             ],
             [
              0.2222222222222222,
              "#7201a8"
             ],
             [
              0.3333333333333333,
              "#9c179e"
             ],
             [
              0.4444444444444444,
              "#bd3786"
             ],
             [
              0.5555555555555556,
              "#d8576b"
             ],
             [
              0.6666666666666666,
              "#ed7953"
             ],
             [
              0.7777777777777778,
              "#fb9f3a"
             ],
             [
              0.8888888888888888,
              "#fdca26"
             ],
             [
              1,
              "#f0f921"
             ]
            ],
            "type": "surface"
           }
          ],
          "table": [
           {
            "cells": {
             "fill": {
              "color": "#EBF0F8"
             },
             "line": {
              "color": "white"
             }
            },
            "header": {
             "fill": {
              "color": "#C8D4E3"
             },
             "line": {
              "color": "white"
             }
            },
            "type": "table"
           }
          ]
         },
         "layout": {
          "annotationdefaults": {
           "arrowcolor": "#2a3f5f",
           "arrowhead": 0,
           "arrowwidth": 1
          },
          "autotypenumbers": "strict",
          "coloraxis": {
           "colorbar": {
            "outlinewidth": 0,
            "ticks": ""
           }
          },
          "colorscale": {
           "diverging": [
            [
             0,
             "#8e0152"
            ],
            [
             0.1,
             "#c51b7d"
            ],
            [
             0.2,
             "#de77ae"
            ],
            [
             0.3,
             "#f1b6da"
            ],
            [
             0.4,
             "#fde0ef"
            ],
            [
             0.5,
             "#f7f7f7"
            ],
            [
             0.6,
             "#e6f5d0"
            ],
            [
             0.7,
             "#b8e186"
            ],
            [
             0.8,
             "#7fbc41"
            ],
            [
             0.9,
             "#4d9221"
            ],
            [
             1,
             "#276419"
            ]
           ],
           "sequential": [
            [
             0,
             "#0d0887"
            ],
            [
             0.1111111111111111,
             "#46039f"
            ],
            [
             0.2222222222222222,
             "#7201a8"
            ],
            [
             0.3333333333333333,
             "#9c179e"
            ],
            [
             0.4444444444444444,
             "#bd3786"
            ],
            [
             0.5555555555555556,
             "#d8576b"
            ],
            [
             0.6666666666666666,
             "#ed7953"
            ],
            [
             0.7777777777777778,
             "#fb9f3a"
            ],
            [
             0.8888888888888888,
             "#fdca26"
            ],
            [
             1,
             "#f0f921"
            ]
           ],
           "sequentialminus": [
            [
             0,
             "#0d0887"
            ],
            [
             0.1111111111111111,
             "#46039f"
            ],
            [
             0.2222222222222222,
             "#7201a8"
            ],
            [
             0.3333333333333333,
             "#9c179e"
            ],
            [
             0.4444444444444444,
             "#bd3786"
            ],
            [
             0.5555555555555556,
             "#d8576b"
            ],
            [
             0.6666666666666666,
             "#ed7953"
            ],
            [
             0.7777777777777778,
             "#fb9f3a"
            ],
            [
             0.8888888888888888,
             "#fdca26"
            ],
            [
             1,
             "#f0f921"
            ]
           ]
          },
          "colorway": [
           "#636efa",
           "#EF553B",
           "#00cc96",
           "#ab63fa",
           "#FFA15A",
           "#19d3f3",
           "#FF6692",
           "#B6E880",
           "#FF97FF",
           "#FECB52"
          ],
          "font": {
           "color": "#2a3f5f"
          },
          "geo": {
           "bgcolor": "white",
           "lakecolor": "white",
           "landcolor": "#E5ECF6",
           "showlakes": true,
           "showland": true,
           "subunitcolor": "white"
          },
          "hoverlabel": {
           "align": "left"
          },
          "hovermode": "closest",
          "mapbox": {
           "style": "light"
          },
          "paper_bgcolor": "white",
          "plot_bgcolor": "#E5ECF6",
          "polar": {
           "angularaxis": {
            "gridcolor": "white",
            "linecolor": "white",
            "ticks": ""
           },
           "bgcolor": "#E5ECF6",
           "radialaxis": {
            "gridcolor": "white",
            "linecolor": "white",
            "ticks": ""
           }
          },
          "scene": {
           "xaxis": {
            "backgroundcolor": "#E5ECF6",
            "gridcolor": "white",
            "gridwidth": 2,
            "linecolor": "white",
            "showbackground": true,
            "ticks": "",
            "zerolinecolor": "white"
           },
           "yaxis": {
            "backgroundcolor": "#E5ECF6",
            "gridcolor": "white",
            "gridwidth": 2,
            "linecolor": "white",
            "showbackground": true,
            "ticks": "",
            "zerolinecolor": "white"
           },
           "zaxis": {
            "backgroundcolor": "#E5ECF6",
            "gridcolor": "white",
            "gridwidth": 2,
            "linecolor": "white",
            "showbackground": true,
            "ticks": "",
            "zerolinecolor": "white"
           }
          },
          "shapedefaults": {
           "line": {
            "color": "#2a3f5f"
           }
          },
          "ternary": {
           "aaxis": {
            "gridcolor": "white",
            "linecolor": "white",
            "ticks": ""
           },
           "baxis": {
            "gridcolor": "white",
            "linecolor": "white",
            "ticks": ""
           },
           "bgcolor": "#E5ECF6",
           "caxis": {
            "gridcolor": "white",
            "linecolor": "white",
            "ticks": ""
           }
          },
          "title": {
           "x": 0.05
          },
          "xaxis": {
           "automargin": true,
           "gridcolor": "white",
           "linecolor": "white",
           "ticks": "",
           "title": {
            "standoff": 15
           },
           "zerolinecolor": "white",
           "zerolinewidth": 2
          },
          "yaxis": {
           "automargin": true,
           "gridcolor": "white",
           "linecolor": "white",
           "ticks": "",
           "title": {
            "standoff": 15
           },
           "zerolinecolor": "white",
           "zerolinewidth": 2
          }
         }
        },
        "title": {
         "text": "Most Popular Game and Genre over the years"
        },
        "xaxis": {
         "anchor": "y",
         "domain": [
          0,
          1
         ],
         "title": {
          "text": "Release Year"
         },
         "type": "log"
        },
        "yaxis": {
         "anchor": "x",
         "domain": [
          0,
          1
         ],
         "title": {
          "text": "Total rating"
         }
        }
       }
      }
     },
     "metadata": {},
     "output_type": "display_data"
    }
   ],
   "source": [
    "fig = px.scatter(Most_popular_game_each_Year, x='Release Year', y='Total rating',size=\"Total rating\", color='Genres', hover_name='Title', log_x=True, size_max=60,title='Most Popular Game and Genre over the years')\n",
    "fig.show(render='iframe')"
   ]
  },
  {
   "cell_type": "code",
   "execution_count": 37,
   "id": "e291a3d2",
   "metadata": {
    "execution": {
     "iopub.execute_input": "2024-02-13T14:32:36.487425Z",
     "iopub.status.busy": "2024-02-13T14:32:36.487004Z",
     "iopub.status.idle": "2024-02-13T14:32:36.513597Z",
     "shell.execute_reply": "2024-02-13T14:32:36.511932Z"
    },
    "papermill": {
     "duration": 0.118791,
     "end_time": "2024-02-13T14:32:36.516673",
     "exception": false,
     "start_time": "2024-02-13T14:32:36.397882",
     "status": "completed"
    },
    "tags": []
   },
   "outputs": [
    {
     "data": {
      "text/html": [
       "<style type=\"text/css\">\n",
       "#T_63170_row0_col1, #T_63170_row5_col1, #T_63170_row9_col1, #T_63170_row11_col1, #T_63170_row17_col1, #T_63170_row18_col1 {\n",
       "  background-color: #f7fbff;\n",
       "  color: #000000;\n",
       "}\n",
       "#T_63170_row1_col1, #T_63170_row2_col1, #T_63170_row12_col1, #T_63170_row13_col1 {\n",
       "  background-color: #d9e8f5;\n",
       "  color: #000000;\n",
       "}\n",
       "#T_63170_row3_col1 {\n",
       "  background-color: #3b8bc2;\n",
       "  color: #f1f1f1;\n",
       "}\n",
       "#T_63170_row4_col1, #T_63170_row14_col1, #T_63170_row15_col1, #T_63170_row16_col1 {\n",
       "  background-color: #eef5fc;\n",
       "  color: #000000;\n",
       "}\n",
       "#T_63170_row6_col1 {\n",
       "  background-color: #1764ab;\n",
       "  color: #f1f1f1;\n",
       "}\n",
       "#T_63170_row7_col1 {\n",
       "  background-color: #e3eef9;\n",
       "  color: #000000;\n",
       "}\n",
       "#T_63170_row8_col1 {\n",
       "  background-color: #94c4df;\n",
       "  color: #000000;\n",
       "}\n",
       "#T_63170_row10_col1 {\n",
       "  background-color: #08306b;\n",
       "  color: #f1f1f1;\n",
       "}\n",
       "#T_63170_row19_col1 {\n",
       "  background-color: #c6dbef;\n",
       "  color: #000000;\n",
       "}\n",
       "</style>\n",
       "<table id=\"T_63170\">\n",
       "  <thead>\n",
       "    <tr>\n",
       "      <th class=\"blank level0\" >&nbsp;</th>\n",
       "      <th id=\"T_63170_level0_col0\" class=\"col_heading level0 col0\" >Genres</th>\n",
       "      <th id=\"T_63170_level0_col1\" class=\"col_heading level0 col1\" >count</th>\n",
       "    </tr>\n",
       "  </thead>\n",
       "  <tbody>\n",
       "    <tr>\n",
       "      <th id=\"T_63170_level0_row0\" class=\"row_heading level0 row0\" >0</th>\n",
       "      <td id=\"T_63170_row0_col0\" class=\"data row0 col0\" >2D Fighting</td>\n",
       "      <td id=\"T_63170_row0_col1\" class=\"data row0 col1\" >1</td>\n",
       "    </tr>\n",
       "    <tr>\n",
       "      <th id=\"T_63170_level0_row1\" class=\"row_heading level0 row1\" >1</th>\n",
       "      <td id=\"T_63170_row1_col0\" class=\"data row1 col0\" >3D Platformer</td>\n",
       "      <td id=\"T_63170_row1_col1\" class=\"data row1 col1\" >4</td>\n",
       "    </tr>\n",
       "    <tr>\n",
       "      <th id=\"T_63170_level0_row2\" class=\"row_heading level0 row2\" >2</th>\n",
       "      <td id=\"T_63170_row2_col0\" class=\"data row2 col0\" >Action Adventure</td>\n",
       "      <td id=\"T_63170_row2_col1\" class=\"data row2 col1\" >4</td>\n",
       "    </tr>\n",
       "    <tr>\n",
       "      <th id=\"T_63170_level0_row3\" class=\"row_heading level0 row3\" >3</th>\n",
       "      <td id=\"T_63170_row3_col0\" class=\"data row3 col0\" >Action RPG</td>\n",
       "      <td id=\"T_63170_row3_col1\" class=\"data row3 col1\" >14</td>\n",
       "    </tr>\n",
       "    <tr>\n",
       "      <th id=\"T_63170_level0_row4\" class=\"row_heading level0 row4\" >4</th>\n",
       "      <td id=\"T_63170_row4_col0\" class=\"data row4 col0\" >Auto Racing Sim</td>\n",
       "      <td id=\"T_63170_row4_col1\" class=\"data row4 col1\" >2</td>\n",
       "    </tr>\n",
       "    <tr>\n",
       "      <th id=\"T_63170_level0_row5\" class=\"row_heading level0 row5\" >5</th>\n",
       "      <td id=\"T_63170_row5_col0\" class=\"data row5 col0\" >Compilation</td>\n",
       "      <td id=\"T_63170_row5_col1\" class=\"data row5 col1\" >1</td>\n",
       "    </tr>\n",
       "    <tr>\n",
       "      <th id=\"T_63170_level0_row6\" class=\"row_heading level0 row6\" >6</th>\n",
       "      <td id=\"T_63170_row6_col0\" class=\"data row6 col0\" >FPS</td>\n",
       "      <td id=\"T_63170_row6_col1\" class=\"data row6 col1\" >17</td>\n",
       "    </tr>\n",
       "    <tr>\n",
       "      <th id=\"T_63170_level0_row7\" class=\"row_heading level0 row7\" >7</th>\n",
       "      <td id=\"T_63170_row7_col0\" class=\"data row7 col0\" >JRPG</td>\n",
       "      <td id=\"T_63170_row7_col1\" class=\"data row7 col1\" >3</td>\n",
       "    </tr>\n",
       "    <tr>\n",
       "      <th id=\"T_63170_level0_row8\" class=\"row_heading level0 row8\" >8</th>\n",
       "      <td id=\"T_63170_row8_col0\" class=\"data row8 col0\" >Linear Action Adventure</td>\n",
       "      <td id=\"T_63170_row8_col1\" class=\"data row8 col1\" >9</td>\n",
       "    </tr>\n",
       "    <tr>\n",
       "      <th id=\"T_63170_level0_row9\" class=\"row_heading level0 row9\" >9</th>\n",
       "      <td id=\"T_63170_row9_col0\" class=\"data row9 col0\" >MOBA</td>\n",
       "      <td id=\"T_63170_row9_col1\" class=\"data row9 col1\" >1</td>\n",
       "    </tr>\n",
       "    <tr>\n",
       "      <th id=\"T_63170_level0_row10\" class=\"row_heading level0 row10\" >10</th>\n",
       "      <td id=\"T_63170_row10_col0\" class=\"data row10 col0\" >Open-World Action</td>\n",
       "      <td id=\"T_63170_row10_col1\" class=\"data row10 col1\" >21</td>\n",
       "    </tr>\n",
       "    <tr>\n",
       "      <th id=\"T_63170_level0_row11\" class=\"row_heading level0 row11\" >11</th>\n",
       "      <td id=\"T_63170_row11_col0\" class=\"data row11 col0\" >Point-and-Click</td>\n",
       "      <td id=\"T_63170_row11_col1\" class=\"data row11 col1\" >1</td>\n",
       "    </tr>\n",
       "    <tr>\n",
       "      <th id=\"T_63170_level0_row12\" class=\"row_heading level0 row12\" >12</th>\n",
       "      <td id=\"T_63170_row12_col0\" class=\"data row12 col0\" >Survival</td>\n",
       "      <td id=\"T_63170_row12_col1\" class=\"data row12 col1\" >4</td>\n",
       "    </tr>\n",
       "    <tr>\n",
       "      <th id=\"T_63170_level0_row13\" class=\"row_heading level0 row13\" >13</th>\n",
       "      <td id=\"T_63170_row13_col0\" class=\"data row13 col0\" >Tactical FPS</td>\n",
       "      <td id=\"T_63170_row13_col1\" class=\"data row13 col1\" >4</td>\n",
       "    </tr>\n",
       "    <tr>\n",
       "      <th id=\"T_63170_level0_row14\" class=\"row_heading level0 row14\" >14</th>\n",
       "      <td id=\"T_63170_row14_col0\" class=\"data row14 col0\" >Third Person Shooter</td>\n",
       "      <td id=\"T_63170_row14_col1\" class=\"data row14 col1\" >2</td>\n",
       "    </tr>\n",
       "    <tr>\n",
       "      <th id=\"T_63170_level0_row15\" class=\"row_heading level0 row15\" >15</th>\n",
       "      <td id=\"T_63170_row15_col0\" class=\"data row15 col0\" >Third-Person Adventure</td>\n",
       "      <td id=\"T_63170_row15_col1\" class=\"data row15 col1\" >2</td>\n",
       "    </tr>\n",
       "    <tr>\n",
       "      <th id=\"T_63170_level0_row16\" class=\"row_heading level0 row16\" >16</th>\n",
       "      <td id=\"T_63170_row16_col0\" class=\"data row16 col0\" >Trainer RPG</td>\n",
       "      <td id=\"T_63170_row16_col1\" class=\"data row16 col1\" >2</td>\n",
       "    </tr>\n",
       "    <tr>\n",
       "      <th id=\"T_63170_level0_row17\" class=\"row_heading level0 row17\" >17</th>\n",
       "      <td id=\"T_63170_row17_col0\" class=\"data row17 col0\" >Virtual Career</td>\n",
       "      <td id=\"T_63170_row17_col1\" class=\"data row17 col1\" >1</td>\n",
       "    </tr>\n",
       "    <tr>\n",
       "      <th id=\"T_63170_level0_row18\" class=\"row_heading level0 row18\" >18</th>\n",
       "      <td id=\"T_63170_row18_col0\" class=\"data row18 col0\" >Virtual Life</td>\n",
       "      <td id=\"T_63170_row18_col1\" class=\"data row18 col1\" >1</td>\n",
       "    </tr>\n",
       "    <tr>\n",
       "      <th id=\"T_63170_level0_row19\" class=\"row_heading level0 row19\" >19</th>\n",
       "      <td id=\"T_63170_row19_col0\" class=\"data row19 col0\" >Western RPG</td>\n",
       "      <td id=\"T_63170_row19_col1\" class=\"data row19 col1\" >6</td>\n",
       "    </tr>\n",
       "  </tbody>\n",
       "</table>\n"
      ],
      "text/plain": [
       "<pandas.io.formats.style.Styler at 0x1cf2ce1de50>"
      ]
     },
     "execution_count": 37,
     "metadata": {},
     "output_type": "execute_result"
    }
   ],
   "source": [
    "temp_df=df.sort_values(by='Total rating',ascending=False).head(100)\n",
    "Most_famous_Genres=temp_df.groupby(['Genres']).size().reset_index()\n",
    "Most_famous_Genres.rename(columns={0:'count'},inplace=True)\n",
    "Most_famous_Genres.style.background_gradient(cmap='Blues',subset='count')"
   ]
  },
  {
   "cell_type": "code",
   "execution_count": 38,
   "id": "c5373843",
   "metadata": {
    "execution": {
     "iopub.execute_input": "2024-02-13T14:32:36.565678Z",
     "iopub.status.busy": "2024-02-13T14:32:36.565220Z",
     "iopub.status.idle": "2024-02-13T14:32:36.627764Z",
     "shell.execute_reply": "2024-02-13T14:32:36.626578Z"
    },
    "papermill": {
     "duration": 0.090217,
     "end_time": "2024-02-13T14:32:36.630606",
     "exception": false,
     "start_time": "2024-02-13T14:32:36.540389",
     "status": "completed"
    },
    "tags": []
   },
   "outputs": [
    {
     "data": {
      "application/vnd.plotly.v1+json": {
       "config": {
        "plotlyServerURL": "https://plot.ly"
       },
       "data": [
        {
         "domain": {
          "x": [
           0,
           1
          ],
          "y": [
           0,
           1
          ]
         },
         "hole": 0.3,
         "hovertemplate": "Genres=%{label}<br>count=%{value}<extra></extra>",
         "labels": [
          "2D Fighting",
          "3D Platformer",
          "Action Adventure",
          "Action RPG",
          "Auto Racing Sim",
          "Compilation",
          "FPS",
          "JRPG",
          "Linear Action Adventure",
          "MOBA",
          "Open-World Action",
          "Point-and-Click",
          "Survival",
          "Tactical FPS",
          "Third Person Shooter",
          "Third-Person Adventure",
          "Trainer RPG",
          "Virtual Career",
          "Virtual Life",
          "Western RPG"
         ],
         "legendgroup": "",
         "name": "",
         "showlegend": true,
         "textposition": "inside",
         "type": "pie",
         "values": [
          1,
          4,
          4,
          14,
          2,
          1,
          17,
          3,
          9,
          1,
          21,
          1,
          4,
          4,
          2,
          2,
          2,
          1,
          1,
          6
         ]
        }
       ],
       "layout": {
        "legend": {
         "tracegroupgap": 0
        },
        "template": {
         "data": {
          "bar": [
           {
            "error_x": {
             "color": "#2a3f5f"
            },
            "error_y": {
             "color": "#2a3f5f"
            },
            "marker": {
             "line": {
              "color": "#E5ECF6",
              "width": 0.5
             },
             "pattern": {
              "fillmode": "overlay",
              "size": 10,
              "solidity": 0.2
             }
            },
            "type": "bar"
           }
          ],
          "barpolar": [
           {
            "marker": {
             "line": {
              "color": "#E5ECF6",
              "width": 0.5
             },
             "pattern": {
              "fillmode": "overlay",
              "size": 10,
              "solidity": 0.2
             }
            },
            "type": "barpolar"
           }
          ],
          "carpet": [
           {
            "aaxis": {
             "endlinecolor": "#2a3f5f",
             "gridcolor": "white",
             "linecolor": "white",
             "minorgridcolor": "white",
             "startlinecolor": "#2a3f5f"
            },
            "baxis": {
             "endlinecolor": "#2a3f5f",
             "gridcolor": "white",
             "linecolor": "white",
             "minorgridcolor": "white",
             "startlinecolor": "#2a3f5f"
            },
            "type": "carpet"
           }
          ],
          "choropleth": [
           {
            "colorbar": {
             "outlinewidth": 0,
             "ticks": ""
            },
            "type": "choropleth"
           }
          ],
          "contour": [
           {
            "colorbar": {
             "outlinewidth": 0,
             "ticks": ""
            },
            "colorscale": [
             [
              0,
              "#0d0887"
             ],
             [
              0.1111111111111111,
              "#46039f"
             ],
             [
              0.2222222222222222,
              "#7201a8"
             ],
             [
              0.3333333333333333,
              "#9c179e"
             ],
             [
              0.4444444444444444,
              "#bd3786"
             ],
             [
              0.5555555555555556,
              "#d8576b"
             ],
             [
              0.6666666666666666,
              "#ed7953"
             ],
             [
              0.7777777777777778,
              "#fb9f3a"
             ],
             [
              0.8888888888888888,
              "#fdca26"
             ],
             [
              1,
              "#f0f921"
             ]
            ],
            "type": "contour"
           }
          ],
          "contourcarpet": [
           {
            "colorbar": {
             "outlinewidth": 0,
             "ticks": ""
            },
            "type": "contourcarpet"
           }
          ],
          "heatmap": [
           {
            "colorbar": {
             "outlinewidth": 0,
             "ticks": ""
            },
            "colorscale": [
             [
              0,
              "#0d0887"
             ],
             [
              0.1111111111111111,
              "#46039f"
             ],
             [
              0.2222222222222222,
              "#7201a8"
             ],
             [
              0.3333333333333333,
              "#9c179e"
             ],
             [
              0.4444444444444444,
              "#bd3786"
             ],
             [
              0.5555555555555556,
              "#d8576b"
             ],
             [
              0.6666666666666666,
              "#ed7953"
             ],
             [
              0.7777777777777778,
              "#fb9f3a"
             ],
             [
              0.8888888888888888,
              "#fdca26"
             ],
             [
              1,
              "#f0f921"
             ]
            ],
            "type": "heatmap"
           }
          ],
          "heatmapgl": [
           {
            "colorbar": {
             "outlinewidth": 0,
             "ticks": ""
            },
            "colorscale": [
             [
              0,
              "#0d0887"
             ],
             [
              0.1111111111111111,
              "#46039f"
             ],
             [
              0.2222222222222222,
              "#7201a8"
             ],
             [
              0.3333333333333333,
              "#9c179e"
             ],
             [
              0.4444444444444444,
              "#bd3786"
             ],
             [
              0.5555555555555556,
              "#d8576b"
             ],
             [
              0.6666666666666666,
              "#ed7953"
             ],
             [
              0.7777777777777778,
              "#fb9f3a"
             ],
             [
              0.8888888888888888,
              "#fdca26"
             ],
             [
              1,
              "#f0f921"
             ]
            ],
            "type": "heatmapgl"
           }
          ],
          "histogram": [
           {
            "marker": {
             "pattern": {
              "fillmode": "overlay",
              "size": 10,
              "solidity": 0.2
             }
            },
            "type": "histogram"
           }
          ],
          "histogram2d": [
           {
            "colorbar": {
             "outlinewidth": 0,
             "ticks": ""
            },
            "colorscale": [
             [
              0,
              "#0d0887"
             ],
             [
              0.1111111111111111,
              "#46039f"
             ],
             [
              0.2222222222222222,
              "#7201a8"
             ],
             [
              0.3333333333333333,
              "#9c179e"
             ],
             [
              0.4444444444444444,
              "#bd3786"
             ],
             [
              0.5555555555555556,
              "#d8576b"
             ],
             [
              0.6666666666666666,
              "#ed7953"
             ],
             [
              0.7777777777777778,
              "#fb9f3a"
             ],
             [
              0.8888888888888888,
              "#fdca26"
             ],
             [
              1,
              "#f0f921"
             ]
            ],
            "type": "histogram2d"
           }
          ],
          "histogram2dcontour": [
           {
            "colorbar": {
             "outlinewidth": 0,
             "ticks": ""
            },
            "colorscale": [
             [
              0,
              "#0d0887"
             ],
             [
              0.1111111111111111,
              "#46039f"
             ],
             [
              0.2222222222222222,
              "#7201a8"
             ],
             [
              0.3333333333333333,
              "#9c179e"
             ],
             [
              0.4444444444444444,
              "#bd3786"
             ],
             [
              0.5555555555555556,
              "#d8576b"
             ],
             [
              0.6666666666666666,
              "#ed7953"
             ],
             [
              0.7777777777777778,
              "#fb9f3a"
             ],
             [
              0.8888888888888888,
              "#fdca26"
             ],
             [
              1,
              "#f0f921"
             ]
            ],
            "type": "histogram2dcontour"
           }
          ],
          "mesh3d": [
           {
            "colorbar": {
             "outlinewidth": 0,
             "ticks": ""
            },
            "type": "mesh3d"
           }
          ],
          "parcoords": [
           {
            "line": {
             "colorbar": {
              "outlinewidth": 0,
              "ticks": ""
             }
            },
            "type": "parcoords"
           }
          ],
          "pie": [
           {
            "automargin": true,
            "type": "pie"
           }
          ],
          "scatter": [
           {
            "fillpattern": {
             "fillmode": "overlay",
             "size": 10,
             "solidity": 0.2
            },
            "type": "scatter"
           }
          ],
          "scatter3d": [
           {
            "line": {
             "colorbar": {
              "outlinewidth": 0,
              "ticks": ""
             }
            },
            "marker": {
             "colorbar": {
              "outlinewidth": 0,
              "ticks": ""
             }
            },
            "type": "scatter3d"
           }
          ],
          "scattercarpet": [
           {
            "marker": {
             "colorbar": {
              "outlinewidth": 0,
              "ticks": ""
             }
            },
            "type": "scattercarpet"
           }
          ],
          "scattergeo": [
           {
            "marker": {
             "colorbar": {
              "outlinewidth": 0,
              "ticks": ""
             }
            },
            "type": "scattergeo"
           }
          ],
          "scattergl": [
           {
            "marker": {
             "colorbar": {
              "outlinewidth": 0,
              "ticks": ""
             }
            },
            "type": "scattergl"
           }
          ],
          "scattermapbox": [
           {
            "marker": {
             "colorbar": {
              "outlinewidth": 0,
              "ticks": ""
             }
            },
            "type": "scattermapbox"
           }
          ],
          "scatterpolar": [
           {
            "marker": {
             "colorbar": {
              "outlinewidth": 0,
              "ticks": ""
             }
            },
            "type": "scatterpolar"
           }
          ],
          "scatterpolargl": [
           {
            "marker": {
             "colorbar": {
              "outlinewidth": 0,
              "ticks": ""
             }
            },
            "type": "scatterpolargl"
           }
          ],
          "scatterternary": [
           {
            "marker": {
             "colorbar": {
              "outlinewidth": 0,
              "ticks": ""
             }
            },
            "type": "scatterternary"
           }
          ],
          "surface": [
           {
            "colorbar": {
             "outlinewidth": 0,
             "ticks": ""
            },
            "colorscale": [
             [
              0,
              "#0d0887"
             ],
             [
              0.1111111111111111,
              "#46039f"
             ],
             [
              0.2222222222222222,
              "#7201a8"
             ],
             [
              0.3333333333333333,
              "#9c179e"
             ],
             [
              0.4444444444444444,
              "#bd3786"
             ],
             [
              0.5555555555555556,
              "#d8576b"
             ],
             [
              0.6666666666666666,
              "#ed7953"
             ],
             [
              0.7777777777777778,
              "#fb9f3a"
             ],
             [
              0.8888888888888888,
              "#fdca26"
             ],
             [
              1,
              "#f0f921"
             ]
            ],
            "type": "surface"
           }
          ],
          "table": [
           {
            "cells": {
             "fill": {
              "color": "#EBF0F8"
             },
             "line": {
              "color": "white"
             }
            },
            "header": {
             "fill": {
              "color": "#C8D4E3"
             },
             "line": {
              "color": "white"
             }
            },
            "type": "table"
           }
          ]
         },
         "layout": {
          "annotationdefaults": {
           "arrowcolor": "#2a3f5f",
           "arrowhead": 0,
           "arrowwidth": 1
          },
          "autotypenumbers": "strict",
          "coloraxis": {
           "colorbar": {
            "outlinewidth": 0,
            "ticks": ""
           }
          },
          "colorscale": {
           "diverging": [
            [
             0,
             "#8e0152"
            ],
            [
             0.1,
             "#c51b7d"
            ],
            [
             0.2,
             "#de77ae"
            ],
            [
             0.3,
             "#f1b6da"
            ],
            [
             0.4,
             "#fde0ef"
            ],
            [
             0.5,
             "#f7f7f7"
            ],
            [
             0.6,
             "#e6f5d0"
            ],
            [
             0.7,
             "#b8e186"
            ],
            [
             0.8,
             "#7fbc41"
            ],
            [
             0.9,
             "#4d9221"
            ],
            [
             1,
             "#276419"
            ]
           ],
           "sequential": [
            [
             0,
             "#0d0887"
            ],
            [
             0.1111111111111111,
             "#46039f"
            ],
            [
             0.2222222222222222,
             "#7201a8"
            ],
            [
             0.3333333333333333,
             "#9c179e"
            ],
            [
             0.4444444444444444,
             "#bd3786"
            ],
            [
             0.5555555555555556,
             "#d8576b"
            ],
            [
             0.6666666666666666,
             "#ed7953"
            ],
            [
             0.7777777777777778,
             "#fb9f3a"
            ],
            [
             0.8888888888888888,
             "#fdca26"
            ],
            [
             1,
             "#f0f921"
            ]
           ],
           "sequentialminus": [
            [
             0,
             "#0d0887"
            ],
            [
             0.1111111111111111,
             "#46039f"
            ],
            [
             0.2222222222222222,
             "#7201a8"
            ],
            [
             0.3333333333333333,
             "#9c179e"
            ],
            [
             0.4444444444444444,
             "#bd3786"
            ],
            [
             0.5555555555555556,
             "#d8576b"
            ],
            [
             0.6666666666666666,
             "#ed7953"
            ],
            [
             0.7777777777777778,
             "#fb9f3a"
            ],
            [
             0.8888888888888888,
             "#fdca26"
            ],
            [
             1,
             "#f0f921"
            ]
           ]
          },
          "colorway": [
           "#636efa",
           "#EF553B",
           "#00cc96",
           "#ab63fa",
           "#FFA15A",
           "#19d3f3",
           "#FF6692",
           "#B6E880",
           "#FF97FF",
           "#FECB52"
          ],
          "font": {
           "color": "#2a3f5f"
          },
          "geo": {
           "bgcolor": "white",
           "lakecolor": "white",
           "landcolor": "#E5ECF6",
           "showlakes": true,
           "showland": true,
           "subunitcolor": "white"
          },
          "hoverlabel": {
           "align": "left"
          },
          "hovermode": "closest",
          "mapbox": {
           "style": "light"
          },
          "paper_bgcolor": "white",
          "plot_bgcolor": "#E5ECF6",
          "polar": {
           "angularaxis": {
            "gridcolor": "white",
            "linecolor": "white",
            "ticks": ""
           },
           "bgcolor": "#E5ECF6",
           "radialaxis": {
            "gridcolor": "white",
            "linecolor": "white",
            "ticks": ""
           }
          },
          "scene": {
           "xaxis": {
            "backgroundcolor": "#E5ECF6",
            "gridcolor": "white",
            "gridwidth": 2,
            "linecolor": "white",
            "showbackground": true,
            "ticks": "",
            "zerolinecolor": "white"
           },
           "yaxis": {
            "backgroundcolor": "#E5ECF6",
            "gridcolor": "white",
            "gridwidth": 2,
            "linecolor": "white",
            "showbackground": true,
            "ticks": "",
            "zerolinecolor": "white"
           },
           "zaxis": {
            "backgroundcolor": "#E5ECF6",
            "gridcolor": "white",
            "gridwidth": 2,
            "linecolor": "white",
            "showbackground": true,
            "ticks": "",
            "zerolinecolor": "white"
           }
          },
          "shapedefaults": {
           "line": {
            "color": "#2a3f5f"
           }
          },
          "ternary": {
           "aaxis": {
            "gridcolor": "white",
            "linecolor": "white",
            "ticks": ""
           },
           "baxis": {
            "gridcolor": "white",
            "linecolor": "white",
            "ticks": ""
           },
           "bgcolor": "#E5ECF6",
           "caxis": {
            "gridcolor": "white",
            "linecolor": "white",
            "ticks": ""
           }
          },
          "title": {
           "x": 0.05
          },
          "xaxis": {
           "automargin": true,
           "gridcolor": "white",
           "linecolor": "white",
           "ticks": "",
           "title": {
            "standoff": 15
           },
           "zerolinecolor": "white",
           "zerolinewidth": 2
          },
          "yaxis": {
           "automargin": true,
           "gridcolor": "white",
           "linecolor": "white",
           "ticks": "",
           "title": {
            "standoff": 15
           },
           "zerolinecolor": "white",
           "zerolinewidth": 2
          }
         }
        },
        "title": {
         "text": "Genre of the Most Famous Games "
        },
        "uniformtext": {
         "minsize": 12,
         "mode": "hide"
        }
       }
      }
     },
     "metadata": {},
     "output_type": "display_data"
    }
   ],
   "source": [
    "fig=px.pie(Most_famous_Genres,names='Genres',values='count',title='Genre of the Most Famous Games ',hole=0.3)\n",
    "fig.update_traces(textposition='inside')\n",
    "fig.update_layout(uniformtext_minsize=12, uniformtext_mode='hide')\n",
    "fig.show(render='iframe')"
   ]
  },
  {
   "cell_type": "markdown",
   "id": "5b88462b",
   "metadata": {},
   "source": [
    "# DONE :)"
   ]
  }
 ],
 "metadata": {
  "kaggle": {
   "accelerator": "none",
   "dataSources": [
    {
     "datasetId": 4423375,
     "sourceId": 7598995,
     "sourceType": "datasetVersion"
    }
   ],
   "dockerImageVersionId": 30646,
   "isGpuEnabled": false,
   "isInternetEnabled": true,
   "language": "python",
   "sourceType": "notebook"
  },
  "kernelspec": {
   "display_name": "Python 3",
   "language": "python",
   "name": "python3"
  },
  "language_info": {
   "codemirror_mode": {
    "name": "ipython",
    "version": 3
   },
   "file_extension": ".py",
   "mimetype": "text/x-python",
   "name": "python",
   "nbconvert_exporter": "python",
   "pygments_lexer": "ipython3",
   "version": "3.11.4"
  },
  "papermill": {
   "default_parameters": {},
   "duration": 13.392136,
   "end_time": "2024-02-13T14:32:37.523659",
   "environment_variables": {},
   "exception": null,
   "input_path": "__notebook__.ipynb",
   "output_path": "__notebook__.ipynb",
   "parameters": {},
   "start_time": "2024-02-13T14:32:24.131523",
   "version": "2.5.0"
  }
 },
 "nbformat": 4,
 "nbformat_minor": 5
}
